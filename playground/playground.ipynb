{
 "cells": [
  {
   "cell_type": "markdown",
   "metadata": {},
   "source": [
    "# Playground\n",
    "\n",
    "This notebook contains notes and examples of some of the different machine learning concepts I encounter when learning. Essentially, this is a space for me to keep them for future use, as well as try them in practice. This kind of practice and note-taking also helps me remember the methods and understand them better. Hope you learn something from this as well!\n",
    "\n",
    "Please note that this notebook **doesn't** reflect everything I know."
   ]
  },
  {
   "cell_type": "code",
   "execution_count": 11,
   "metadata": {},
   "outputs": [],
   "source": [
    "import pandas as pd\n",
    "import matplotlib.pyplot as plt\n",
    "import seaborn as sns\n",
    "import numpy as np\n",
    "import warnings\n",
    "from sklearn.model_selection import train_test_split\n",
    "warnings.filterwarnings(\"ignore\")\n",
    "\n",
    "# General helper functions:\n",
    "def score_model(model, X_train, y_train, X_test, y_test, accuracy_call):\n",
    "    model.fit(X_train, y_train)\n",
    "    predictions = model.predict(X_test)\n",
    "    return accuracy_call(predictions, y_test)"
   ]
  },
  {
   "cell_type": "markdown",
   "metadata": {},
   "source": [
    "## Feature Selection\n",
    "This section contains some of the methods which help pick features and understand their importance in predicting the target variable.\n",
    "\n",
    "### Mutual Information\n",
    "Mutual information (MI) is a great general-purpose metric and is especially useful at the start when you might not know what model you would like to use. MI between two quantities measures the extent to which knowledge about one quantity reduces uncertainity about the other. Uncertainty is measured using a quantity from information theory known as 'entropy'. The entropy of a variable roughly means: \"how many yes or no questions you would need to describe an occurrence of that variable, on average\". The more questions you have to ask, the more uncertain you are about the variable. Mutual information is how many questions you expect the feature to answer about the target. Least possible score is 0.0. In theory, there is no limit; in practice, it is rare to get a value about 2.0. MI is logarithmic, so its rate of increase is slow. \n",
    "\n",
    "| Pros | Cons |\n",
    "| ---- | ---- |\n",
    "| Easy to use and interpret | Univariate (can't detect interactions between features) |\n",
    "| Computationally efficient | Actual usefulnes still depends on the model. May need to transform a feature, as a result |\n",
    "| Theoretically well-founded | |\n",
    "| Resistant to overfitting | |\n",
    "| Can detect any kind of relationship | |\n",
    "\n",
    "Scikit-learn's implementation of MI treats discrete and continous variables differently. So, when using their implementation, make sure to specify which variables are discrete. This is done by passing a list argument in the `discrete` parameter of the function.\n",
    "\n",
    "Source: [Kaggle](https://www.kaggle.com/ryanholbrook/mutual-information)"
   ]
  },
  {
   "cell_type": "code",
   "execution_count": 93,
   "metadata": {},
   "outputs": [],
   "source": [
    "from sklearn.feature_selection import mutual_info_classif\n",
    "from sklearn.model_selection import train_test_split\n",
    "from xgboost import XGBClassifier\n",
    "from sklearn.metrics import accuracy_score"
   ]
  },
  {
   "cell_type": "code",
   "execution_count": 94,
   "metadata": {},
   "outputs": [
    {
     "data": {
      "text/html": [
       "<div>\n",
       "<style scoped>\n",
       "    .dataframe tbody tr th:only-of-type {\n",
       "        vertical-align: middle;\n",
       "    }\n",
       "\n",
       "    .dataframe tbody tr th {\n",
       "        vertical-align: top;\n",
       "    }\n",
       "\n",
       "    .dataframe thead th {\n",
       "        text-align: right;\n",
       "    }\n",
       "</style>\n",
       "<table border=\"1\" class=\"dataframe\">\n",
       "  <thead>\n",
       "    <tr style=\"text-align: right;\">\n",
       "      <th></th>\n",
       "      <th>aluminium</th>\n",
       "      <th>ammonia</th>\n",
       "      <th>arsenic</th>\n",
       "      <th>barium</th>\n",
       "      <th>cadmium</th>\n",
       "      <th>chloramine</th>\n",
       "      <th>chromium</th>\n",
       "      <th>copper</th>\n",
       "      <th>flouride</th>\n",
       "      <th>bacteria</th>\n",
       "      <th>...</th>\n",
       "      <th>lead</th>\n",
       "      <th>nitrates</th>\n",
       "      <th>nitrites</th>\n",
       "      <th>mercury</th>\n",
       "      <th>perchlorate</th>\n",
       "      <th>radium</th>\n",
       "      <th>selenium</th>\n",
       "      <th>silver</th>\n",
       "      <th>uranium</th>\n",
       "      <th>is_safe</th>\n",
       "    </tr>\n",
       "  </thead>\n",
       "  <tbody>\n",
       "    <tr>\n",
       "      <th>0</th>\n",
       "      <td>1.65</td>\n",
       "      <td>9.08</td>\n",
       "      <td>0.04</td>\n",
       "      <td>2.85</td>\n",
       "      <td>0.007</td>\n",
       "      <td>0.35</td>\n",
       "      <td>0.83</td>\n",
       "      <td>0.17</td>\n",
       "      <td>0.05</td>\n",
       "      <td>0.20</td>\n",
       "      <td>...</td>\n",
       "      <td>0.054</td>\n",
       "      <td>16.08</td>\n",
       "      <td>1.13</td>\n",
       "      <td>0.007</td>\n",
       "      <td>37.75</td>\n",
       "      <td>6.78</td>\n",
       "      <td>0.08</td>\n",
       "      <td>0.34</td>\n",
       "      <td>0.02</td>\n",
       "      <td>1</td>\n",
       "    </tr>\n",
       "    <tr>\n",
       "      <th>1</th>\n",
       "      <td>2.32</td>\n",
       "      <td>21.16</td>\n",
       "      <td>0.01</td>\n",
       "      <td>3.31</td>\n",
       "      <td>0.002</td>\n",
       "      <td>5.28</td>\n",
       "      <td>0.68</td>\n",
       "      <td>0.66</td>\n",
       "      <td>0.90</td>\n",
       "      <td>0.65</td>\n",
       "      <td>...</td>\n",
       "      <td>0.100</td>\n",
       "      <td>2.01</td>\n",
       "      <td>1.93</td>\n",
       "      <td>0.003</td>\n",
       "      <td>32.26</td>\n",
       "      <td>3.21</td>\n",
       "      <td>0.08</td>\n",
       "      <td>0.27</td>\n",
       "      <td>0.05</td>\n",
       "      <td>1</td>\n",
       "    </tr>\n",
       "    <tr>\n",
       "      <th>2</th>\n",
       "      <td>1.01</td>\n",
       "      <td>14.02</td>\n",
       "      <td>0.04</td>\n",
       "      <td>0.58</td>\n",
       "      <td>0.008</td>\n",
       "      <td>4.24</td>\n",
       "      <td>0.53</td>\n",
       "      <td>0.02</td>\n",
       "      <td>0.99</td>\n",
       "      <td>0.05</td>\n",
       "      <td>...</td>\n",
       "      <td>0.078</td>\n",
       "      <td>14.16</td>\n",
       "      <td>1.11</td>\n",
       "      <td>0.006</td>\n",
       "      <td>50.28</td>\n",
       "      <td>7.07</td>\n",
       "      <td>0.07</td>\n",
       "      <td>0.44</td>\n",
       "      <td>0.01</td>\n",
       "      <td>0</td>\n",
       "    </tr>\n",
       "    <tr>\n",
       "      <th>3</th>\n",
       "      <td>1.36</td>\n",
       "      <td>11.33</td>\n",
       "      <td>0.04</td>\n",
       "      <td>2.96</td>\n",
       "      <td>0.001</td>\n",
       "      <td>7.23</td>\n",
       "      <td>0.03</td>\n",
       "      <td>1.66</td>\n",
       "      <td>1.08</td>\n",
       "      <td>0.71</td>\n",
       "      <td>...</td>\n",
       "      <td>0.016</td>\n",
       "      <td>1.41</td>\n",
       "      <td>1.29</td>\n",
       "      <td>0.004</td>\n",
       "      <td>9.12</td>\n",
       "      <td>1.72</td>\n",
       "      <td>0.02</td>\n",
       "      <td>0.45</td>\n",
       "      <td>0.05</td>\n",
       "      <td>1</td>\n",
       "    </tr>\n",
       "    <tr>\n",
       "      <th>4</th>\n",
       "      <td>0.92</td>\n",
       "      <td>24.33</td>\n",
       "      <td>0.03</td>\n",
       "      <td>0.20</td>\n",
       "      <td>0.006</td>\n",
       "      <td>2.67</td>\n",
       "      <td>0.69</td>\n",
       "      <td>0.57</td>\n",
       "      <td>0.61</td>\n",
       "      <td>0.13</td>\n",
       "      <td>...</td>\n",
       "      <td>0.117</td>\n",
       "      <td>6.74</td>\n",
       "      <td>1.11</td>\n",
       "      <td>0.003</td>\n",
       "      <td>16.90</td>\n",
       "      <td>2.41</td>\n",
       "      <td>0.02</td>\n",
       "      <td>0.06</td>\n",
       "      <td>0.02</td>\n",
       "      <td>1</td>\n",
       "    </tr>\n",
       "  </tbody>\n",
       "</table>\n",
       "<p>5 rows × 21 columns</p>\n",
       "</div>"
      ],
      "text/plain": [
       "   aluminium  ammonia  arsenic  barium  cadmium  chloramine  chromium  copper  \\\n",
       "0       1.65     9.08     0.04    2.85    0.007        0.35      0.83    0.17   \n",
       "1       2.32    21.16     0.01    3.31    0.002        5.28      0.68    0.66   \n",
       "2       1.01    14.02     0.04    0.58    0.008        4.24      0.53    0.02   \n",
       "3       1.36    11.33     0.04    2.96    0.001        7.23      0.03    1.66   \n",
       "4       0.92    24.33     0.03    0.20    0.006        2.67      0.69    0.57   \n",
       "\n",
       "   flouride  bacteria  ...   lead  nitrates  nitrites  mercury  perchlorate  \\\n",
       "0      0.05      0.20  ...  0.054     16.08      1.13    0.007        37.75   \n",
       "1      0.90      0.65  ...  0.100      2.01      1.93    0.003        32.26   \n",
       "2      0.99      0.05  ...  0.078     14.16      1.11    0.006        50.28   \n",
       "3      1.08      0.71  ...  0.016      1.41      1.29    0.004         9.12   \n",
       "4      0.61      0.13  ...  0.117      6.74      1.11    0.003        16.90   \n",
       "\n",
       "   radium  selenium  silver  uranium  is_safe  \n",
       "0    6.78      0.08    0.34     0.02        1  \n",
       "1    3.21      0.08    0.27     0.05        1  \n",
       "2    7.07      0.07    0.44     0.01        0  \n",
       "3    1.72      0.02    0.45     0.05        1  \n",
       "4    2.41      0.02    0.06     0.02        1  \n",
       "\n",
       "[5 rows x 21 columns]"
      ]
     },
     "execution_count": 94,
     "metadata": {},
     "output_type": "execute_result"
    }
   ],
   "source": [
    "water_df = pd.read_csv(\"datasets/water_quality.csv\")\n",
    "water_df.head()"
   ]
  },
  {
   "cell_type": "code",
   "execution_count": 95,
   "metadata": {},
   "outputs": [],
   "source": [
    "X = water_df.copy()\n",
    "y = X.pop(\"is_safe\")\n",
    "X_train, X_test, y_train, y_test = train_test_split(X, y, test_size=0.2, random_state=0)"
   ]
  },
  {
   "cell_type": "code",
   "execution_count": 96,
   "metadata": {},
   "outputs": [
    {
     "name": "stdout",
     "output_type": "stream",
     "text": [
      "[11:27:25] WARNING: C:/Users/Administrator/workspace/xgboost-win64_release_1.4.0/src/learner.cc:1095: Starting in XGBoost 1.3.0, the default evaluation metric used with the objective 'binary:logistic' was changed from 'error' to 'logloss'. Explicitly set eval_metric if you'd like to restore the old behavior.\n"
     ]
    },
    {
     "data": {
      "text/plain": [
       "0.97"
      ]
     },
     "execution_count": 96,
     "metadata": {},
     "output_type": "execute_result"
    }
   ],
   "source": [
    "score_model(XGBClassifier(), X_train, y_train, X_test, y_test, accuracy_score)"
   ]
  },
  {
   "cell_type": "code",
   "execution_count": 13,
   "metadata": {},
   "outputs": [],
   "source": [
    "mi_scores = mutual_info_classif(X, y, random_state=0)\n",
    "mi_scores = pd.Series(mi_scores, name=\"MI Score\", index=X.columns)\n",
    "mi_scores.sort_values(ascending=True, inplace=True)"
   ]
  },
  {
   "cell_type": "code",
   "execution_count": 14,
   "metadata": {},
   "outputs": [
    {
     "data": {
      "image/png": "[encoded data removed]",
      "text/plain": [
       "<Figure size 432x288 with 1 Axes>"
      ]
     },
     "metadata": {
      "needs_background": "light"
     },
     "output_type": "display_data"
    }
   ],
   "source": [
    "width = np.arange(len(mi_scores))\n",
    "ticks = list(mi_scores.index)\n",
    "plt.barh(width, mi_scores)\n",
    "plt.yticks(width, ticks)\n",
    "plt.show()"
   ]
  },
  {
   "cell_type": "code",
   "execution_count": 15,
   "metadata": {},
   "outputs": [
    {
     "data": {
      "text/plain": [
       "<AxesSubplot:xlabel='is_safe', ylabel='cadmium'>"
      ]
     },
     "execution_count": 15,
     "metadata": {},
     "output_type": "execute_result"
    },
    {
     "data": {
      "image/png": "[encoded data removed]",
      "text/plain": [
       "<Figure size 432x288 with 1 Axes>"
      ]
     },
     "metadata": {
      "needs_background": "light"
     },
     "output_type": "display_data"
    }
   ],
   "source": [
    "sns.boxplot(x=\"is_safe\", y=\"cadmium\", data=water_df)"
   ]
  },
  {
   "cell_type": "code",
   "execution_count": 16,
   "metadata": {},
   "outputs": [
    {
     "data": {
      "text/plain": [
       "<AxesSubplot:xlabel='is_safe', ylabel='ammonia'>"
      ]
     },
     "execution_count": 16,
     "metadata": {},
     "output_type": "execute_result"
    },
    {
     "data": {
      "image/png": "[encoded data removed]",
      "text/plain": [
       "<Figure size 432x288 with 1 Axes>"
      ]
     },
     "metadata": {
      "needs_background": "light"
     },
     "output_type": "display_data"
    }
   ],
   "source": [
    "sns.boxplot(x=\"is_safe\", y=\"ammonia\", data=water_df)"
   ]
  },
  {
   "cell_type": "markdown",
   "metadata": {},
   "source": [
    "Note that ammonia may still be an interaction variable (valuable in combination with another variable), so it is good to investigate this during actual analysis. This may also be the case for all of the other variables."
   ]
  },
  {
   "cell_type": "code",
   "execution_count": 17,
   "metadata": {},
   "outputs": [],
   "source": [
    "new_features = mi_scores[mi_scores > 0].index.values.tolist()\n",
    "X_train_1 = X_train[new_features]\n",
    "X_test_1 = X_test[new_features]"
   ]
  },
  {
   "cell_type": "code",
   "execution_count": 18,
   "metadata": {},
   "outputs": [
    {
     "name": "stdout",
     "output_type": "stream",
     "text": [
      "[11:00:44] WARNING: C:/Users/Administrator/workspace/xgboost-win64_release_1.4.0/src/learner.cc:1095: Starting in XGBoost 1.3.0, the default evaluation metric used with the objective 'binary:logistic' was changed from 'error' to 'logloss'. Explicitly set eval_metric if you'd like to restore the old behavior.\n"
     ]
    },
    {
     "data": {
      "text/plain": [
       "0.95375"
      ]
     },
     "execution_count": 18,
     "metadata": {},
     "output_type": "execute_result"
    }
   ],
   "source": [
    "new_model = XGBClassifier()\n",
    "score_model(new_model, X_train_1, y_train, X_test_1, y_test, accuracy_score)"
   ]
  },
  {
   "cell_type": "markdown",
   "metadata": {},
   "source": [
    "The performance worsened, shows that there is interaction within the variables that we got rid of.\n",
    "\n",
    "If the target variable is continious, use `mutual_info_regression`"
   ]
  },
  {
   "cell_type": "markdown",
   "metadata": {},
   "source": [
    "### Chi-Square Test\n",
    "The Chi-Square Test is a statistical test which is used to test the independence of two events/variables. In feature selection, the test is only used with categorical targets. Like other statistical tests, we establish a null hypothesis and an alternative hypothesis. The higher is the Chi-Square value, the higher is the dependence of a variable on another variable. Another important value we get with the test is the p-value. Similarly to other statistical tests, it suggests how statistically significant the results are. \n",
    "\n",
    "There are two ways of feature selection using this method. The first method is selecting the top n features with the highest Chi-Square value. This method works best if you know how many features you would like to have in your model. Another method is to use the resulting p-values in order to determine whether the column is statistically significant or not. As usual, pick an alpha value and compare it to the p-value.\n",
    "\n",
    "| Pros | Cons |\n",
    "| ---- | ---- |\n",
    "| Relatively easy to use | Only works on categorical target variables|\n",
    "| Two easy methods for feature selection | Gets complicated with highly cardinal categorical features | \n",
    "| Theoretically well-founded | In case of categorical features, need to make sure each category has more than 5 values |\n",
    "| Makes no assumptions about the distribution of the data | | \n",
    "\n",
    "\n",
    "Sources: [Medium](https://towardsdatascience.com/categorical-feature-selection-via-chi-square-fc558b09de43)"
   ]
  },
  {
   "cell_type": "code",
   "execution_count": 19,
   "metadata": {},
   "outputs": [],
   "source": [
    "from sklearn.feature_selection import chi2\n",
    "from sklearn.model_selection import train_test_split\n",
    "from xgboost import XGBClassifier\n",
    "from sklearn.metrics import accuracy_score"
   ]
  },
  {
   "cell_type": "code",
   "execution_count": 20,
   "metadata": {},
   "outputs": [
    {
     "data": {
      "text/html": [
       "<div>\n",
       "<style scoped>\n",
       "    .dataframe tbody tr th:only-of-type {\n",
       "        vertical-align: middle;\n",
       "    }\n",
       "\n",
       "    .dataframe tbody tr th {\n",
       "        vertical-align: top;\n",
       "    }\n",
       "\n",
       "    .dataframe thead th {\n",
       "        text-align: right;\n",
       "    }\n",
       "</style>\n",
       "<table border=\"1\" class=\"dataframe\">\n",
       "  <thead>\n",
       "    <tr style=\"text-align: right;\">\n",
       "      <th></th>\n",
       "      <th>Gender</th>\n",
       "      <th>Married</th>\n",
       "      <th>Dependents</th>\n",
       "      <th>Education</th>\n",
       "      <th>Self_Employed</th>\n",
       "      <th>ApplicantIncome</th>\n",
       "      <th>CoapplicantIncome</th>\n",
       "      <th>LoanAmount</th>\n",
       "      <th>Loan_Amount_Term</th>\n",
       "      <th>Credit_History</th>\n",
       "      <th>Property_Area</th>\n",
       "      <th>Loan_Status</th>\n",
       "    </tr>\n",
       "    <tr>\n",
       "      <th>Loan_ID</th>\n",
       "      <th></th>\n",
       "      <th></th>\n",
       "      <th></th>\n",
       "      <th></th>\n",
       "      <th></th>\n",
       "      <th></th>\n",
       "      <th></th>\n",
       "      <th></th>\n",
       "      <th></th>\n",
       "      <th></th>\n",
       "      <th></th>\n",
       "      <th></th>\n",
       "    </tr>\n",
       "  </thead>\n",
       "  <tbody>\n",
       "    <tr>\n",
       "      <th>LP001003</th>\n",
       "      <td>Male</td>\n",
       "      <td>Yes</td>\n",
       "      <td>1</td>\n",
       "      <td>Graduate</td>\n",
       "      <td>No</td>\n",
       "      <td>4583</td>\n",
       "      <td>1508.0</td>\n",
       "      <td>128.0</td>\n",
       "      <td>360.0</td>\n",
       "      <td>1.0</td>\n",
       "      <td>Rural</td>\n",
       "      <td>N</td>\n",
       "    </tr>\n",
       "    <tr>\n",
       "      <th>LP001005</th>\n",
       "      <td>Male</td>\n",
       "      <td>Yes</td>\n",
       "      <td>0</td>\n",
       "      <td>Graduate</td>\n",
       "      <td>Yes</td>\n",
       "      <td>3000</td>\n",
       "      <td>0.0</td>\n",
       "      <td>66.0</td>\n",
       "      <td>360.0</td>\n",
       "      <td>1.0</td>\n",
       "      <td>Urban</td>\n",
       "      <td>Y</td>\n",
       "    </tr>\n",
       "    <tr>\n",
       "      <th>LP001006</th>\n",
       "      <td>Male</td>\n",
       "      <td>Yes</td>\n",
       "      <td>0</td>\n",
       "      <td>Not Graduate</td>\n",
       "      <td>No</td>\n",
       "      <td>2583</td>\n",
       "      <td>2358.0</td>\n",
       "      <td>120.0</td>\n",
       "      <td>360.0</td>\n",
       "      <td>1.0</td>\n",
       "      <td>Urban</td>\n",
       "      <td>Y</td>\n",
       "    </tr>\n",
       "    <tr>\n",
       "      <th>LP001008</th>\n",
       "      <td>Male</td>\n",
       "      <td>No</td>\n",
       "      <td>0</td>\n",
       "      <td>Graduate</td>\n",
       "      <td>No</td>\n",
       "      <td>6000</td>\n",
       "      <td>0.0</td>\n",
       "      <td>141.0</td>\n",
       "      <td>360.0</td>\n",
       "      <td>1.0</td>\n",
       "      <td>Urban</td>\n",
       "      <td>Y</td>\n",
       "    </tr>\n",
       "    <tr>\n",
       "      <th>LP001011</th>\n",
       "      <td>Male</td>\n",
       "      <td>Yes</td>\n",
       "      <td>2</td>\n",
       "      <td>Graduate</td>\n",
       "      <td>Yes</td>\n",
       "      <td>5417</td>\n",
       "      <td>4196.0</td>\n",
       "      <td>267.0</td>\n",
       "      <td>360.0</td>\n",
       "      <td>1.0</td>\n",
       "      <td>Urban</td>\n",
       "      <td>Y</td>\n",
       "    </tr>\n",
       "  </tbody>\n",
       "</table>\n",
       "</div>"
      ],
      "text/plain": [
       "         Gender Married Dependents     Education Self_Employed  \\\n",
       "Loan_ID                                                          \n",
       "LP001003   Male     Yes          1      Graduate            No   \n",
       "LP001005   Male     Yes          0      Graduate           Yes   \n",
       "LP001006   Male     Yes          0  Not Graduate            No   \n",
       "LP001008   Male      No          0      Graduate            No   \n",
       "LP001011   Male     Yes          2      Graduate           Yes   \n",
       "\n",
       "          ApplicantIncome  CoapplicantIncome  LoanAmount  Loan_Amount_Term  \\\n",
       "Loan_ID                                                                      \n",
       "LP001003             4583             1508.0       128.0             360.0   \n",
       "LP001005             3000                0.0        66.0             360.0   \n",
       "LP001006             2583             2358.0       120.0             360.0   \n",
       "LP001008             6000                0.0       141.0             360.0   \n",
       "LP001011             5417             4196.0       267.0             360.0   \n",
       "\n",
       "          Credit_History Property_Area Loan_Status  \n",
       "Loan_ID                                             \n",
       "LP001003             1.0         Rural           N  \n",
       "LP001005             1.0         Urban           Y  \n",
       "LP001006             1.0         Urban           Y  \n",
       "LP001008             1.0         Urban           Y  \n",
       "LP001011             1.0         Urban           Y  "
      ]
     },
     "execution_count": 20,
     "metadata": {},
     "output_type": "execute_result"
    }
   ],
   "source": [
    "loans = pd.read_csv(\"datasets/loan_data_set.csv\", index_col=0)\n",
    "loans.dropna(inplace=True)\n",
    "loans.head()"
   ]
  },
  {
   "cell_type": "code",
   "execution_count": 21,
   "metadata": {},
   "outputs": [],
   "source": [
    "X = loans.copy()\n",
    "y = X.pop(\"Loan_Status\")\n",
    "X[\"Gender\"] = (X[\"Gender\"] == \"Male\").astype(int)\n",
    "X[\"Married\"] = (X[\"Married\"] == \"Yes\").astype(int)\n",
    "y = (y == \"Y\").astype(int)\n",
    "X.drop([\"Education\", \"Self_Employed\", \"Property_Area\", \"Dependents\"], axis=1, inplace=True)"
   ]
  },
  {
   "cell_type": "code",
   "execution_count": 22,
   "metadata": {},
   "outputs": [],
   "source": [
    "X_train, X_test, y_train, y_test = train_test_split(X, y, test_size=0.2, random_state=0)"
   ]
  },
  {
   "cell_type": "code",
   "execution_count": 23,
   "metadata": {},
   "outputs": [
    {
     "name": "stdout",
     "output_type": "stream",
     "text": [
      "[11:06:46] WARNING: C:/Users/Administrator/workspace/xgboost-win64_release_1.4.0/src/learner.cc:1095: Starting in XGBoost 1.3.0, the default evaluation metric used with the objective 'binary:logistic' was changed from 'error' to 'logloss'. Explicitly set eval_metric if you'd like to restore the old behavior.\n"
     ]
    },
    {
     "data": {
      "text/plain": [
       "0.7083333333333334"
      ]
     },
     "execution_count": 23,
     "metadata": {},
     "output_type": "execute_result"
    }
   ],
   "source": [
    "score_model(XGBClassifier(), X_train, y_train, X_test, y_test, accuracy_score)"
   ]
  },
  {
   "cell_type": "code",
   "execution_count": 24,
   "metadata": {},
   "outputs": [],
   "source": [
    "chi2_values, p_values = chi2(X_train, y_train)"
   ]
  },
  {
   "cell_type": "code",
   "execution_count": 25,
   "metadata": {},
   "outputs": [
    {
     "data": {
      "text/plain": [
       "CoapplicantIncome    11874.263112\n",
       "ApplicantIncome        278.106943\n",
       "LoanAmount              25.039383\n",
       "Credit_History          16.256902\n",
       "Loan_Amount_Term         4.663135\n",
       "Married                  2.748794\n",
       "Gender                   0.337003\n",
       "dtype: float64"
      ]
     },
     "execution_count": 25,
     "metadata": {},
     "output_type": "execute_result"
    }
   ],
   "source": [
    "chi2_series = pd.Series(chi2_values, index=X.columns)\n",
    "chi2_series.sort_values(ascending=False)"
   ]
  },
  {
   "cell_type": "code",
   "execution_count": 26,
   "metadata": {},
   "outputs": [
    {
     "data": {
      "text/plain": [
       "Gender               5.615645e-01\n",
       "Married              9.732780e-02\n",
       "ApplicantIncome      1.941471e-62\n",
       "CoapplicantIncome    0.000000e+00\n",
       "LoanAmount           5.617121e-07\n",
       "Loan_Amount_Term     3.081688e-02\n",
       "Credit_History       5.530775e-05\n",
       "dtype: float64"
      ]
     },
     "execution_count": 26,
     "metadata": {},
     "output_type": "execute_result"
    }
   ],
   "source": [
    "p_series = pd.Series(p_values, index=X.columns)\n",
    "p_series"
   ]
  },
  {
   "cell_type": "markdown",
   "metadata": {},
   "source": [
    "Using p-values in order to determine which columns to use:"
   ]
  },
  {
   "cell_type": "code",
   "execution_count": 27,
   "metadata": {},
   "outputs": [],
   "source": [
    "ALPHA = 0.05\n",
    "new_features = p_series[p_series < ALPHA].index.values.tolist()\n",
    "X_train_1 = X_train[new_features]\n",
    "X_test_1 = X_test[new_features]"
   ]
  },
  {
   "cell_type": "code",
   "execution_count": 28,
   "metadata": {},
   "outputs": [
    {
     "data": {
      "text/plain": [
       "['ApplicantIncome',\n",
       " 'CoapplicantIncome',\n",
       " 'LoanAmount',\n",
       " 'Loan_Amount_Term',\n",
       " 'Credit_History']"
      ]
     },
     "execution_count": 28,
     "metadata": {},
     "output_type": "execute_result"
    }
   ],
   "source": [
    "new_features"
   ]
  },
  {
   "cell_type": "code",
   "execution_count": 30,
   "metadata": {},
   "outputs": [
    {
     "name": "stdout",
     "output_type": "stream",
     "text": [
      "[11:07:36] WARNING: C:/Users/Administrator/workspace/xgboost-win64_release_1.4.0/src/learner.cc:1095: Starting in XGBoost 1.3.0, the default evaluation metric used with the objective 'binary:logistic' was changed from 'error' to 'logloss'. Explicitly set eval_metric if you'd like to restore the old behavior.\n"
     ]
    },
    {
     "data": {
      "text/plain": [
       "0.71875"
      ]
     },
     "execution_count": 30,
     "metadata": {},
     "output_type": "execute_result"
    }
   ],
   "source": [
    "score_model(XGBClassifier(), X_train_1, y_train, X_test_1, y_test, accuracy_score)"
   ]
  },
  {
   "cell_type": "markdown",
   "metadata": {},
   "source": [
    "Yay, an improvement!\n",
    "\n",
    "In case you are using the first method for chi-square feature selection (top n features), it is more convinient to use sklearn's built in method `SelectKBest` in the `feature_selection` module."
   ]
  },
  {
   "cell_type": "code",
   "execution_count": 31,
   "metadata": {},
   "outputs": [],
   "source": [
    "from sklearn.feature_selection import SelectKBest"
   ]
  },
  {
   "cell_type": "code",
   "execution_count": 32,
   "metadata": {},
   "outputs": [],
   "source": [
    "chi2_selector = SelectKBest(chi2, k=3)\n",
    "X_2 = chi2_selector.fit_transform(X, y)"
   ]
  },
  {
   "cell_type": "code",
   "execution_count": 33,
   "metadata": {},
   "outputs": [],
   "source": [
    "new_features = X.columns[chi2_selector.get_support()]  # chi2_selectkr.get_support() gets a mask for the columns/features used\n",
    "X_train_2 = X_train[new_features]\n",
    "X_test_2 = X_test[new_features]"
   ]
  },
  {
   "cell_type": "code",
   "execution_count": 44,
   "metadata": {},
   "outputs": [
    {
     "name": "stdout",
     "output_type": "stream",
     "text": [
      "[11:08:23] WARNING: C:/Users/Administrator/workspace/xgboost-win64_release_1.4.0/src/learner.cc:1095: Starting in XGBoost 1.3.0, the default evaluation metric used with the objective 'binary:logistic' was changed from 'error' to 'logloss'. Explicitly set eval_metric if you'd like to restore the old behavior.\n"
     ]
    },
    {
     "data": {
      "text/plain": [
       "0.5520833333333334"
      ]
     },
     "execution_count": 44,
     "metadata": {},
     "output_type": "execute_result"
    }
   ],
   "source": [
    "score_model(XGBClassifier(), X_train_2, y_train, X_test_2, y_test, accuracy_score)"
   ]
  },
  {
   "cell_type": "markdown",
   "metadata": {},
   "source": [
    "Despite using top 3 features, the accuracy greatly decreased. Perhaps it is worth increasing the amount of features."
   ]
  },
  {
   "cell_type": "code",
   "execution_count": 45,
   "metadata": {},
   "outputs": [],
   "source": [
    "chi2_selector = SelectKBest(chi2, k=4)\n",
    "X_3 = chi2_selector.fit_transform(X, y)"
   ]
  },
  {
   "cell_type": "code",
   "execution_count": 46,
   "metadata": {},
   "outputs": [],
   "source": [
    "new_features = X.columns[chi2_selector.get_support()]  # chi2_selectkr.get_support() gets a mask for the columns/features used\n",
    "X_train_3 = X_train[new_features]\n",
    "X_test_3 = X_test[new_features]"
   ]
  },
  {
   "cell_type": "code",
   "execution_count": 50,
   "metadata": {},
   "outputs": [
    {
     "name": "stdout",
     "output_type": "stream",
     "text": [
      "[11:08:57] WARNING: C:/Users/Administrator/workspace/xgboost-win64_release_1.4.0/src/learner.cc:1095: Starting in XGBoost 1.3.0, the default evaluation metric used with the objective 'binary:logistic' was changed from 'error' to 'logloss'. Explicitly set eval_metric if you'd like to restore the old behavior.\n"
     ]
    },
    {
     "data": {
      "text/plain": [
       "0.6979166666666666"
      ]
     },
     "execution_count": 50,
     "metadata": {},
     "output_type": "execute_result"
    }
   ],
   "source": [
    "score_model(XGBClassifier(), X_train_3, y_train, X_test_3, y_test, accuracy_score)"
   ]
  },
  {
   "cell_type": "code",
   "execution_count": 51,
   "metadata": {},
   "outputs": [
    {
     "data": {
      "text/plain": [
       "Index(['ApplicantIncome', 'CoapplicantIncome', 'LoanAmount', 'Credit_History'], dtype='object')"
      ]
     },
     "execution_count": 51,
     "metadata": {},
     "output_type": "execute_result"
    }
   ],
   "source": [
    "new_features"
   ]
  },
  {
   "cell_type": "markdown",
   "metadata": {},
   "source": [
    "The performance increased drastically, but we still obtained a better result when we used the p-value method. I think when the amount of features is small, it makes more sense to use the p-value method; however, if there are thousands of features, it is better to instead use the SelectKBest method, because that will narrow down the amount of features, which will save time when training and testing the model."
   ]
  },
  {
   "cell_type": "markdown",
   "metadata": {},
   "source": [
    "## Feature Creation\n",
    "\n",
    "This section contains some techniques used in order to create new features based on old features.\n",
    "\n",
    "### Principal Component Analysis\n",
    "\n",
    "Principal Component Analysis (PCA) is an unsupervised learning technique used to surface the core patterns in the data. It creates new features by taking existing features and creating linear combinations of them. These new linear combinations are called principal components of the data. There will be as many principal components as there are features in the linear combinations. The weights used for the linear combinations are called loadings. They tell us what variation it expresses through its signs and magnitudes. PCA also tells us the amount of variation in each component. PCA makes this precise through each component's percent of explained variance. But there isn't necessarily a correlation between amount of variance explained and how useful of a feature it is. It is still good to use something like MI. \n",
    "\n",
    "The goal of Principal Component Analysis is to apply linear transformations to the data in order to minimize noise and redundancy. The result will reveal the most iportant characteristics about the data. After applying PCA, you'll have a set of principal components ranked according to how much variance they explain or how much they contribute to describing patterns in the data. PCA uses the covariance matrix to analyze the variance of each feature (relevant or pure noise), and the strength of linear relationships between pairs of features (helps to spot redundant features). \n",
    "\n",
    "There won't be a one-to-one relationship between features and principal components (most of the time). This is good, because it means that the principal component **encoded** the variation of only specific features and shows how those particular features interact with each other. That's the beauty of principal component analysis. Additionally, say we were able to encode the variation of 10 features in a single principal component analysis, that means that we were able to capture the information from 10 features into a single feature/component. This is a complex topic called [Factor Analysis](https://en.wikipedia.org/wiki/Factor_analysis). Need to look into it later. Although it's not always best to use only principal components, that's still really cool. Note that correlation and the loadings for each feature-pca pair will not necessarily be the same, will be different most-likely. \n",
    "\n",
    "There are two approaches to identify the principal components:\n",
    "1. Calculate the eigenvectors of the covariance matrix.\n",
    "2. Calculate the Singular Value Decomposition (SVD)\n",
    "\n",
    "`scikit-learn` only has SVD in its implementation, while a library like `statsmodels` has both the eigenvectors approach and the SVD.\n",
    "\n",
    "There are two ways to use PCA for feature engineering:\n",
    "\n",
    "1. Use it as a descriptive techniques. Since the component tells you about variation, you could compute the MI scores for the components and see what kind of variation is most predictive of the target. That could give you ideas, which features to multiply, or divide, etc. Could even try clustering on one or more of the high-scoring components. \n",
    "2. Use components themselves as features. Can often be more informative than the original features. Especially useful when:\n",
    "- The features are highly redundant (multicollinear), PCA will partition out the redundancy into one or more near-zero variance components. It does this by minimizing the covariance between pairs of features. \n",
    "- There's a lot of noise in the data. PCA will collect the signals and leave the noise, boosting the signal-to-noise ratio\n",
    "- There're highly-correlated features, and your ML algorithm doesn't work well with them. PCA transforms correlated features into uncorrelated components, which could be easier for certain alogorithms to work with. \n",
    "\n",
    "Best practices:\n",
    "- Only works with numeric features, like continious quantities or counts\n",
    "- PCA is sensetive to scale, so it's good practice to standardize the data, unless there's a good reason not to. This will make principal components linearly independent, as well as orthogonal (principal components will make a 90 degree angle with each other). \n",
    "- Remove or constrain outliers, since they can have an undue influence on the results. \n",
    "\n",
    "The trade-off with using PCA and not the actual features is interpretability. When plotting features against each other, it's easier to interpret the patterns. Since principal components encode several features, it's not clear what features each principal component encodes, and what proportion of each feature has more impact on the patterns we are seeing. \n",
    "\n",
    "Methods to pick which PCA's should replace actual features:\n",
    "1. Kaiser Criterion\n",
    "\n",
    "    With this criterion, pick only the principal components that have eigenvalues greater than 1. Each eigenvalue is associated with a single eigenvector, which is a principal component. \n",
    "    \n",
    "2. Explained variance\n",
    "    \n",
    "    With this method, you pick the total amount of variance in the dataset you want the components to encode. Usually, these cut-off values are 80% or 90%. So for instance, the cumilative explained variance will be 80% for the first 6 components, so you only use the first 6 components. Depends on the cut-off you establish, though. \n",
    "    \n",
    "3. Scree plot\n",
    "    \n",
    "    With this method, we pick the components in a more visual way. We plot the eigenvalue for each component and use the elbow method to determine the cut-off point. The idea is to see where the \"elbow\" is for the plot and make that the cut-off point. It is a less precise method since it is much more visual and seems more subjective. \n",
    "    \n",
    "Sources: [Kaggle](https://www.kaggle.com/ryanholbrook/principal-component-analysis), [Medium Article](https://towardsdatascience.com/principal-component-analysis-algorithm-in-real-life-discovering-patterns-in-a-real-estate-dataset-18134c57ffe7)"
   ]
  },
  {
   "cell_type": "code",
   "execution_count": 29,
   "metadata": {},
   "outputs": [],
   "source": [
    "from sklearn.decomposition import PCA\n",
    "from sklearn.feature_selection import mutual_info_regression\n",
    "from sklearn.metrics import mean_absolute_error\n",
    "from xgboost import XGBRegressor\n",
    "from statsmodels.multivariate.pca import PCA as sm_pca"
   ]
  },
  {
   "cell_type": "code",
   "execution_count": 30,
   "metadata": {},
   "outputs": [],
   "source": [
    "houses = pd.read_csv(\"datasets/houses_to_rent_v2.csv\")\n",
    "features = [\"area\", \"rooms\", \"bathroom\", \"parking spaces\"]\n",
    "X = (houses[features] - houses[features].mean(axis=0)) / houses[features].std(axis=0) # z-score normalization\n",
    "y = houses[\"total (R$)\"]"
   ]
  },
  {
   "cell_type": "code",
   "execution_count": 31,
   "metadata": {},
   "outputs": [],
   "source": [
    "X_train, X_test, y_train, y_test = train_test_split(X, y, test_size=0.2, random_state=0)"
   ]
  },
  {
   "cell_type": "code",
   "execution_count": 32,
   "metadata": {},
   "outputs": [
    {
     "data": {
      "text/plain": [
       "2189.371605201211"
      ]
     },
     "execution_count": 32,
     "metadata": {},
     "output_type": "execute_result"
    }
   ],
   "source": [
    "score_model(XGBRegressor(), X_train, y_train, X_test, y_test, mean_absolute_error)"
   ]
  },
  {
   "cell_type": "code",
   "execution_count": 33,
   "metadata": {},
   "outputs": [],
   "source": [
    "pca = PCA()"
   ]
  },
  {
   "cell_type": "code",
   "execution_count": 45,
   "metadata": {},
   "outputs": [],
   "source": [
    "X_pca = pca.fit_transform(X_train)\n",
    "component_names = [f\"PC{i+1}\" for i in range(X_pca.shape[1])]\n",
    "X_pca = pd.DataFrame(X_pca, columns=component_names, index=X_train.index)\n",
    "loadings = pd.DataFrame(pca.components_.T,  columns=component_names, index=X.columns)"
   ]
  },
  {
   "cell_type": "code",
   "execution_count": 46,
   "metadata": {},
   "outputs": [],
   "source": [
    "mi_scores = mutual_info_regression(X_pca, y_train, random_state=0)\n",
    "mi_scores = pd.Series(mi_scores, name=\"MI Score\", index=X_pca.columns)\n",
    "mi_scores.sort_values(ascending=True, inplace=True)"
   ]
  },
  {
   "cell_type": "code",
   "execution_count": 47,
   "metadata": {},
   "outputs": [
    {
     "data": {
      "image/png": "[encoded data removed]",
      "text/plain": [
       "<Figure size 432x288 with 1 Axes>"
      ]
     },
     "metadata": {
      "needs_background": "light"
     },
     "output_type": "display_data"
    }
   ],
   "source": [
    "width = np.arange(len(mi_scores))\n",
    "ticks = list(mi_scores.index)\n",
    "plt.barh(width, mi_scores)\n",
    "plt.yticks(width, ticks)\n",
    "plt.show()"
   ]
  },
  {
   "cell_type": "code",
   "execution_count": 48,
   "metadata": {},
   "outputs": [],
   "source": [
    "X_train_1 = X_train.merge(X_pca, left_index=True, right_index=True)\n",
    "X_test_1 = X_test.copy()\n",
    "component_names = [f\"PC{i+1}\" for i in range(X_pca.shape[1])]\n",
    "X_test_pca = pd.DataFrame(pca.transform(X_test_1), columns=component_names, index=X_test_1.index)\n",
    "X_test_1 = X_test_1.merge(X_test_pca, left_index=True, right_index=True)"
   ]
  },
  {
   "cell_type": "code",
   "execution_count": 49,
   "metadata": {},
   "outputs": [
    {
     "data": {
      "text/plain": [
       "2201.2308240607836"
      ]
     },
     "execution_count": 49,
     "metadata": {},
     "output_type": "execute_result"
    }
   ],
   "source": [
    "score_model(XGBRegressor(), X_train_1, y_train, X_test_1, y_test, mean_absolute_error)"
   ]
  },
  {
   "cell_type": "markdown",
   "metadata": {},
   "source": [
    "Performance has worsened! Let's try the second method."
   ]
  },
  {
   "cell_type": "code",
   "execution_count": 50,
   "metadata": {},
   "outputs": [
    {
     "data": {
      "text/html": [
       "<div>\n",
       "<style scoped>\n",
       "    .dataframe tbody tr th:only-of-type {\n",
       "        vertical-align: middle;\n",
       "    }\n",
       "\n",
       "    .dataframe tbody tr th {\n",
       "        vertical-align: top;\n",
       "    }\n",
       "\n",
       "    .dataframe thead th {\n",
       "        text-align: right;\n",
       "    }\n",
       "</style>\n",
       "<table border=\"1\" class=\"dataframe\">\n",
       "  <thead>\n",
       "    <tr style=\"text-align: right;\">\n",
       "      <th></th>\n",
       "      <th>PC1</th>\n",
       "      <th>PC2</th>\n",
       "      <th>PC3</th>\n",
       "      <th>PC4</th>\n",
       "    </tr>\n",
       "  </thead>\n",
       "  <tbody>\n",
       "    <tr>\n",
       "      <th>area</th>\n",
       "      <td>0.129898</td>\n",
       "      <td>-0.002398</td>\n",
       "      <td>0.028373</td>\n",
       "      <td>0.991118</td>\n",
       "    </tr>\n",
       "    <tr>\n",
       "      <th>rooms</th>\n",
       "      <td>0.572568</td>\n",
       "      <td>0.642498</td>\n",
       "      <td>-0.505847</td>\n",
       "      <td>-0.059006</td>\n",
       "    </tr>\n",
       "    <tr>\n",
       "      <th>bathroom</th>\n",
       "      <td>0.586195</td>\n",
       "      <td>0.096894</td>\n",
       "      <td>0.798184</td>\n",
       "      <td>-0.099443</td>\n",
       "    </tr>\n",
       "    <tr>\n",
       "      <th>parking spaces</th>\n",
       "      <td>0.558272</td>\n",
       "      <td>-0.760133</td>\n",
       "      <td>-0.325909</td>\n",
       "      <td>-0.065678</td>\n",
       "    </tr>\n",
       "  </tbody>\n",
       "</table>\n",
       "</div>"
      ],
      "text/plain": [
       "                     PC1       PC2       PC3       PC4\n",
       "area            0.129898 -0.002398  0.028373  0.991118\n",
       "rooms           0.572568  0.642498 -0.505847 -0.059006\n",
       "bathroom        0.586195  0.096894  0.798184 -0.099443\n",
       "parking spaces  0.558272 -0.760133 -0.325909 -0.065678"
      ]
     },
     "execution_count": 50,
     "metadata": {},
     "output_type": "execute_result"
    }
   ],
   "source": [
    "loadings"
   ]
  },
  {
   "cell_type": "code",
   "execution_count": 19,
   "metadata": {},
   "outputs": [],
   "source": [
    "X_train_2 = X_train.copy()\n",
    "X_test_2 = X_test.copy()\n",
    "X_train_2[\"rooms_parking_spaces_interaction\"] = X_train_2[\"rooms\"] / X_train_2[\"parking spaces\"]\n",
    "X_train_2[\"rooms_bathroom_interaction\"] = X_train_2[\"rooms\"] / X_train_2[\"bathroom\"]\n",
    "X_test_2[\"rooms_parking_spaces_interaction\"] = X_test_2[\"rooms\"] / X_test_2[\"parking spaces\"]\n",
    "X_test_2[\"rooms_bathroom_interaction\"] = X_test_2[\"rooms\"] / X_test_2[\"bathroom\"]"
   ]
  },
  {
   "cell_type": "code",
   "execution_count": 20,
   "metadata": {},
   "outputs": [
    {
     "data": {
      "text/plain": [
       "2210.1870969225724"
      ]
     },
     "execution_count": 20,
     "metadata": {},
     "output_type": "execute_result"
    }
   ],
   "source": [
    "score_model(XGBRegressor(), X_train_2, y_train, X_test_2, y_test, mean_absolute_error)"
   ]
  },
  {
   "cell_type": "markdown",
   "metadata": {},
   "source": [
    "Performance worsened by a decent amount. But this doesn't indicate that this isn't a good idea. Perhaps, this is the case for this specific dataset. Maybe we should also try using the `statsmodels` implementation, since the use of eigenvectors instead of SVD may help the performance of our model."
   ]
  },
  {
   "cell_type": "code",
   "execution_count": 63,
   "metadata": {},
   "outputs": [],
   "source": [
    "pca = sm_pca(X_train, standardize=True, method=\"eig\")\n",
    "X_pca_sm = pd.DataFrame(pca.transformed_data, columns=component_names, index=X_train.index)"
   ]
  },
  {
   "cell_type": "code",
   "execution_count": 85,
   "metadata": {},
   "outputs": [],
   "source": [
    "X_train_2 = X_train.merge(X_pca_sm, left_index=True, right_index=True)\n",
    "X_test_2 = X_test.copy()\n",
    "loadings = pca.loadings.transpose().values.tolist()\n",
    "for index, loadings in enumerate(loadings):\n",
    "    X_test_2[f\"PC{index+1}\"] = X_test_2[\"area\"] * loadings[0] + X_test_2[\"rooms\"] * loadings[1] + \\\n",
    "                                X_test_2[\"bathroom\"] * loadings[2] + X_test_2[\"parking spaces\"] * loadings[3]"
   ]
  },
  {
   "cell_type": "code",
   "execution_count": 86,
   "metadata": {},
   "outputs": [
    {
     "data": {
      "text/plain": [
       "2189.371605201211"
      ]
     },
     "execution_count": 86,
     "metadata": {},
     "output_type": "execute_result"
    }
   ],
   "source": [
    "score_model(XGBRegressor(), X_train_2, y_train, X_test_2, y_test, mean_absolute_error)"
   ]
  },
  {
   "cell_type": "markdown",
   "metadata": {},
   "source": [
    "Exact same result as with the default model. Perhaps, this suggests that the principal components perfectly captured the variance present in the default variables. It's still a bit weird that it's so perfect, so I'll need to double check later. Let's now try out the three methods of component selection.\n",
    "\n",
    "Kaiser Criterion"
   ]
  },
  {
   "cell_type": "code",
   "execution_count": 88,
   "metadata": {},
   "outputs": [
    {
     "data": {
      "text/plain": [
       "0    26354.375085\n",
       "1     3301.911874\n",
       "2     2505.344826\n",
       "3     2050.368215\n",
       "Name: eigenvals, dtype: float64"
      ]
     },
     "execution_count": 88,
     "metadata": {},
     "output_type": "execute_result"
    }
   ],
   "source": [
    "pca.eigenvals"
   ]
  },
  {
   "cell_type": "markdown",
   "metadata": {},
   "source": [
    "All components have an eigenvalue greater than 1, so they should all be used in the model.\n",
    "\n",
    "Explained Variance:"
   ]
  },
  {
   "cell_type": "code",
   "execution_count": 89,
   "metadata": {},
   "outputs": [
    {
     "data": {
      "text/plain": [
       "array([0.        , 0.77032547, 0.86683874, 0.94006874, 1.        ])"
      ]
     },
     "execution_count": 89,
     "metadata": {},
     "output_type": "execute_result"
    }
   ],
   "source": [
    "pca.rsquare.values"
   ]
  },
  {
   "cell_type": "markdown",
   "metadata": {},
   "source": [
    "If we set the threshold to 80%, it would be enough to just use the first two components. A lot of variance is explained in the first two components.\n",
    "\n",
    "Scree plot"
   ]
  },
  {
   "cell_type": "code",
   "execution_count": 91,
   "metadata": {},
   "outputs": [
    {
     "data": {
      "image/png": "[encoded data removed]",
      "text/plain": [
       "<Figure size 432x288 with 1 Axes>"
      ]
     },
     "metadata": {
      "needs_background": "light"
     },
     "output_type": "display_data"
    }
   ],
   "source": [
    "pca.plot_scree()\n",
    "plt.show()"
   ]
  },
  {
   "cell_type": "markdown",
   "metadata": {},
   "source": [
    "The elbow seems to be at the second component (1.0 mark), so it would make sense to only use the first two components using this method."
   ]
  },
  {
   "cell_type": "markdown",
   "metadata": {},
   "source": [
    "### Target Encoding\n",
    "\n",
    "Targer encoding replaces a category from a categorical feature with some number derived from the target, an aggregate value. This, however, presents certain problems. Firstly, certain categories that can appear in production or testing data can be not present in the training dataset. Secondly, when a category appears a few times within the feature, any statistics calculated based on the category is unlikely to be accurate, making overfitting more likely. A solution to this is to add smoothing. The idea is to blend-in the category average with the overall average. Rare categories get less weight on their category average, while missing categories just get the overall average. \n",
    "\n",
    "In pseudocode:\n",
    "\n",
    "`encoding = weight * in_category_average + (1 - weight) * overall_average`, where `weight` is a value between 0 and 1 calculated from category frequency. An easy way to calcualate the weight is by using an m-estimate:\n",
    "\n",
    "`weight = n / (n+m)`, where `n` is the total number of times a category appears in the feature, and `m` is the \"smoothing factor\". \n",
    "\n",
    "Larger values of `m` put more weight on the overall estimate. When choosing a value for `m`, consider how noisy you expect the categories to be. Does the target value vary greatly within the category? Would you need a lot of data to get good estimates? If so, pick a high value for `m`. \n",
    "\n",
    "This is great for:\n",
    "- High-cardinality features (a lot of categories)\n",
    "- Domain-driven features. You might suspect that a categorical feature should be important even if it scored poorly with a feature metric. A target encoding can help reveal a feature's true informativeness."
   ]
  },
  {
   "cell_type": "code",
   "execution_count": 70,
   "metadata": {},
   "outputs": [],
   "source": [
    "from category_encoders import MEstimateEncoder\n",
    "from sklearn.feature_selection import mutual_info_regression\n",
    "from sklearn.metrics import mean_absolute_error\n",
    "from xgboost import XGBRegressor\n",
    "from sklearn.preprocessing import OneHotEncoder"
   ]
  },
  {
   "cell_type": "code",
   "execution_count": 71,
   "metadata": {},
   "outputs": [],
   "source": [
    "df = pd.read_csv(\"datasets/houses_to_rent_v2.csv\")\n",
    "features = [\"city\", \"area\", \"rooms\", \"bathroom\", \"parking spaces\"]\n",
    "X = df[features]\n",
    "y = df[\"total (R$)\"]"
   ]
  },
  {
   "cell_type": "code",
   "execution_count": 72,
   "metadata": {},
   "outputs": [],
   "source": [
    "X_train, X_test, y_train, y_test = train_test_split(X, y, test_size = 0.2, random_state=0)"
   ]
  },
  {
   "cell_type": "code",
   "execution_count": 73,
   "metadata": {},
   "outputs": [],
   "source": [
    "old_X_train = X_train.copy()\n",
    "old_y_train = y_train.copy()\n",
    "old_X_test = X_test.copy()"
   ]
  },
  {
   "cell_type": "code",
   "execution_count": 74,
   "metadata": {},
   "outputs": [],
   "source": [
    "X_encode = X_train.sample(frac=0.25, random_state=0)\n",
    "y_encode = y_train[X_encode.index]"
   ]
  },
  {
   "cell_type": "code",
   "execution_count": 75,
   "metadata": {},
   "outputs": [],
   "source": [
    "X_train.drop(X_encode.index, inplace=True)\n",
    "y_train.drop(X_encode.index, inplace=True)"
   ]
  },
  {
   "cell_type": "code",
   "execution_count": 76,
   "metadata": {},
   "outputs": [],
   "source": [
    "encoder = MEstimateEncoder(cols=[\"city\"], m=1.0)\n",
    "encoder.fit(X_encode, y_encode)\n",
    "X_train = encoder.transform(X_train)"
   ]
  },
  {
   "cell_type": "code",
   "execution_count": 77,
   "metadata": {},
   "outputs": [],
   "source": [
    "X_test = encoder.transform(X_test)"
   ]
  },
  {
   "cell_type": "code",
   "execution_count": 78,
   "metadata": {},
   "outputs": [
    {
     "data": {
      "text/html": [
       "<div>\n",
       "<style scoped>\n",
       "    .dataframe tbody tr th:only-of-type {\n",
       "        vertical-align: middle;\n",
       "    }\n",
       "\n",
       "    .dataframe tbody tr th {\n",
       "        vertical-align: top;\n",
       "    }\n",
       "\n",
       "    .dataframe thead th {\n",
       "        text-align: right;\n",
       "    }\n",
       "</style>\n",
       "<table border=\"1\" class=\"dataframe\">\n",
       "  <thead>\n",
       "    <tr style=\"text-align: right;\">\n",
       "      <th></th>\n",
       "      <th>city</th>\n",
       "      <th>area</th>\n",
       "      <th>rooms</th>\n",
       "      <th>bathroom</th>\n",
       "      <th>parking spaces</th>\n",
       "    </tr>\n",
       "  </thead>\n",
       "  <tbody>\n",
       "    <tr>\n",
       "      <th>3083</th>\n",
       "      <td>3051.740514</td>\n",
       "      <td>70</td>\n",
       "      <td>1</td>\n",
       "      <td>1</td>\n",
       "      <td>2</td>\n",
       "    </tr>\n",
       "    <tr>\n",
       "      <th>508</th>\n",
       "      <td>6309.699087</td>\n",
       "      <td>40</td>\n",
       "      <td>1</td>\n",
       "      <td>1</td>\n",
       "      <td>1</td>\n",
       "    </tr>\n",
       "    <tr>\n",
       "      <th>3079</th>\n",
       "      <td>6309.699087</td>\n",
       "      <td>113</td>\n",
       "      <td>3</td>\n",
       "      <td>4</td>\n",
       "      <td>3</td>\n",
       "    </tr>\n",
       "    <tr>\n",
       "      <th>2036</th>\n",
       "      <td>2776.704732</td>\n",
       "      <td>40</td>\n",
       "      <td>2</td>\n",
       "      <td>1</td>\n",
       "      <td>1</td>\n",
       "    </tr>\n",
       "    <tr>\n",
       "      <th>49</th>\n",
       "      <td>3051.740514</td>\n",
       "      <td>48</td>\n",
       "      <td>1</td>\n",
       "      <td>1</td>\n",
       "      <td>1</td>\n",
       "    </tr>\n",
       "    <tr>\n",
       "      <th>...</th>\n",
       "      <td>...</td>\n",
       "      <td>...</td>\n",
       "      <td>...</td>\n",
       "      <td>...</td>\n",
       "      <td>...</td>\n",
       "    </tr>\n",
       "    <tr>\n",
       "      <th>7891</th>\n",
       "      <td>2776.704732</td>\n",
       "      <td>50</td>\n",
       "      <td>1</td>\n",
       "      <td>1</td>\n",
       "      <td>1</td>\n",
       "    </tr>\n",
       "    <tr>\n",
       "      <th>9225</th>\n",
       "      <td>5091.425623</td>\n",
       "      <td>90</td>\n",
       "      <td>3</td>\n",
       "      <td>2</td>\n",
       "      <td>1</td>\n",
       "    </tr>\n",
       "    <tr>\n",
       "      <th>4859</th>\n",
       "      <td>6309.699087</td>\n",
       "      <td>240</td>\n",
       "      <td>3</td>\n",
       "      <td>4</td>\n",
       "      <td>3</td>\n",
       "    </tr>\n",
       "    <tr>\n",
       "      <th>3264</th>\n",
       "      <td>5091.425623</td>\n",
       "      <td>106</td>\n",
       "      <td>2</td>\n",
       "      <td>2</td>\n",
       "      <td>1</td>\n",
       "    </tr>\n",
       "    <tr>\n",
       "      <th>9845</th>\n",
       "      <td>6309.699087</td>\n",
       "      <td>140</td>\n",
       "      <td>1</td>\n",
       "      <td>2</td>\n",
       "      <td>2</td>\n",
       "    </tr>\n",
       "  </tbody>\n",
       "</table>\n",
       "<p>6415 rows × 5 columns</p>\n",
       "</div>"
      ],
      "text/plain": [
       "             city  area  rooms  bathroom  parking spaces\n",
       "3083  3051.740514    70      1         1               2\n",
       "508   6309.699087    40      1         1               1\n",
       "3079  6309.699087   113      3         4               3\n",
       "2036  2776.704732    40      2         1               1\n",
       "49    3051.740514    48      1         1               1\n",
       "...           ...   ...    ...       ...             ...\n",
       "7891  2776.704732    50      1         1               1\n",
       "9225  5091.425623    90      3         2               1\n",
       "4859  6309.699087   240      3         4               3\n",
       "3264  5091.425623   106      2         2               1\n",
       "9845  6309.699087   140      1         2               2\n",
       "\n",
       "[6415 rows x 5 columns]"
      ]
     },
     "execution_count": 78,
     "metadata": {},
     "output_type": "execute_result"
    }
   ],
   "source": [
    "X_train"
   ]
  },
  {
   "cell_type": "code",
   "execution_count": 79,
   "metadata": {},
   "outputs": [],
   "source": [
    "mi_scores = mutual_info_regression(X_train, y_train, random_state=0)\n",
    "mi_scores = pd.Series(mi_scores, name=\"MI Score\", index=X.columns)\n",
    "mi_scores.sort_values(ascending=True, inplace=True)"
   ]
  },
  {
   "cell_type": "code",
   "execution_count": 80,
   "metadata": {},
   "outputs": [
    {
     "data": {
      "text/plain": [
       "city              0.110187\n",
       "rooms             0.301099\n",
       "parking spaces    0.322353\n",
       "bathroom          0.401508\n",
       "area              0.527688\n",
       "Name: MI Score, dtype: float64"
      ]
     },
     "execution_count": 80,
     "metadata": {},
     "output_type": "execute_result"
    }
   ],
   "source": [
    "mi_scores"
   ]
  },
  {
   "cell_type": "markdown",
   "metadata": {},
   "source": [
    "Not the most useful feature, but still decent"
   ]
  },
  {
   "cell_type": "code",
   "execution_count": 82,
   "metadata": {},
   "outputs": [
    {
     "data": {
      "text/plain": [
       "2213.5174530871063"
      ]
     },
     "execution_count": 82,
     "metadata": {},
     "output_type": "execute_result"
    }
   ],
   "source": [
    "old_features = [\"rooms\", \"parking spaces\", \"bathroom\", \"area\"]\n",
    "score_model(XGBRegressor(), X_train[old_features], y_train, X_test[old_features], y_test, mean_absolute_error)"
   ]
  },
  {
   "cell_type": "code",
   "execution_count": 83,
   "metadata": {},
   "outputs": [
    {
     "data": {
      "text/html": [
       "<div>\n",
       "<style scoped>\n",
       "    .dataframe tbody tr th:only-of-type {\n",
       "        vertical-align: middle;\n",
       "    }\n",
       "\n",
       "    .dataframe tbody tr th {\n",
       "        vertical-align: top;\n",
       "    }\n",
       "\n",
       "    .dataframe thead th {\n",
       "        text-align: right;\n",
       "    }\n",
       "</style>\n",
       "<table border=\"1\" class=\"dataframe\">\n",
       "  <thead>\n",
       "    <tr style=\"text-align: right;\">\n",
       "      <th></th>\n",
       "      <th>city</th>\n",
       "      <th>area</th>\n",
       "      <th>rooms</th>\n",
       "      <th>bathroom</th>\n",
       "      <th>parking spaces</th>\n",
       "    </tr>\n",
       "  </thead>\n",
       "  <tbody>\n",
       "    <tr>\n",
       "      <th>3083</th>\n",
       "      <td>3051.740514</td>\n",
       "      <td>70</td>\n",
       "      <td>1</td>\n",
       "      <td>1</td>\n",
       "      <td>2</td>\n",
       "    </tr>\n",
       "    <tr>\n",
       "      <th>508</th>\n",
       "      <td>6309.699087</td>\n",
       "      <td>40</td>\n",
       "      <td>1</td>\n",
       "      <td>1</td>\n",
       "      <td>1</td>\n",
       "    </tr>\n",
       "    <tr>\n",
       "      <th>3079</th>\n",
       "      <td>6309.699087</td>\n",
       "      <td>113</td>\n",
       "      <td>3</td>\n",
       "      <td>4</td>\n",
       "      <td>3</td>\n",
       "    </tr>\n",
       "    <tr>\n",
       "      <th>2036</th>\n",
       "      <td>2776.704732</td>\n",
       "      <td>40</td>\n",
       "      <td>2</td>\n",
       "      <td>1</td>\n",
       "      <td>1</td>\n",
       "    </tr>\n",
       "    <tr>\n",
       "      <th>49</th>\n",
       "      <td>3051.740514</td>\n",
       "      <td>48</td>\n",
       "      <td>1</td>\n",
       "      <td>1</td>\n",
       "      <td>1</td>\n",
       "    </tr>\n",
       "    <tr>\n",
       "      <th>...</th>\n",
       "      <td>...</td>\n",
       "      <td>...</td>\n",
       "      <td>...</td>\n",
       "      <td>...</td>\n",
       "      <td>...</td>\n",
       "    </tr>\n",
       "    <tr>\n",
       "      <th>7891</th>\n",
       "      <td>2776.704732</td>\n",
       "      <td>50</td>\n",
       "      <td>1</td>\n",
       "      <td>1</td>\n",
       "      <td>1</td>\n",
       "    </tr>\n",
       "    <tr>\n",
       "      <th>9225</th>\n",
       "      <td>5091.425623</td>\n",
       "      <td>90</td>\n",
       "      <td>3</td>\n",
       "      <td>2</td>\n",
       "      <td>1</td>\n",
       "    </tr>\n",
       "    <tr>\n",
       "      <th>4859</th>\n",
       "      <td>6309.699087</td>\n",
       "      <td>240</td>\n",
       "      <td>3</td>\n",
       "      <td>4</td>\n",
       "      <td>3</td>\n",
       "    </tr>\n",
       "    <tr>\n",
       "      <th>3264</th>\n",
       "      <td>5091.425623</td>\n",
       "      <td>106</td>\n",
       "      <td>2</td>\n",
       "      <td>2</td>\n",
       "      <td>1</td>\n",
       "    </tr>\n",
       "    <tr>\n",
       "      <th>9845</th>\n",
       "      <td>6309.699087</td>\n",
       "      <td>140</td>\n",
       "      <td>1</td>\n",
       "      <td>2</td>\n",
       "      <td>2</td>\n",
       "    </tr>\n",
       "  </tbody>\n",
       "</table>\n",
       "<p>6415 rows × 5 columns</p>\n",
       "</div>"
      ],
      "text/plain": [
       "             city  area  rooms  bathroom  parking spaces\n",
       "3083  3051.740514    70      1         1               2\n",
       "508   6309.699087    40      1         1               1\n",
       "3079  6309.699087   113      3         4               3\n",
       "2036  2776.704732    40      2         1               1\n",
       "49    3051.740514    48      1         1               1\n",
       "...           ...   ...    ...       ...             ...\n",
       "7891  2776.704732    50      1         1               1\n",
       "9225  5091.425623    90      3         2               1\n",
       "4859  6309.699087   240      3         4               3\n",
       "3264  5091.425623   106      2         2               1\n",
       "9845  6309.699087   140      1         2               2\n",
       "\n",
       "[6415 rows x 5 columns]"
      ]
     },
     "execution_count": 83,
     "metadata": {},
     "output_type": "execute_result"
    }
   ],
   "source": [
    "X_train"
   ]
  },
  {
   "cell_type": "code",
   "execution_count": 85,
   "metadata": {},
   "outputs": [
    {
     "data": {
      "text/plain": [
       "2062.925920669249"
      ]
     },
     "execution_count": 85,
     "metadata": {},
     "output_type": "execute_result"
    }
   ],
   "source": [
    "new_features = [\"city\", \"rooms\", \"parking spaces\", \"bathroom\", \"area\"]\n",
    "score_model(XGBRegressor(), X_train[new_features], y_train, X_test[new_features], y_test, mean_absolute_error)"
   ]
  },
  {
   "cell_type": "code",
   "execution_count": 87,
   "metadata": {},
   "outputs": [],
   "source": [
    "oh_encoder = OneHotEncoder(handle_unknown=\"ignore\", sparse=False)\n",
    "oh_cols_train = pd.DataFrame(oh_encoder.fit_transform(old_X_train[[\"city\"]]))\n",
    "oh_cols_test = pd.DataFrame(oh_encoder.transform(old_X_test[[\"city\"]]))\n",
    "oh_cols_train.index = old_X_train.index\n",
    "oh_cols_test.index = X_test.index"
   ]
  },
  {
   "cell_type": "code",
   "execution_count": 88,
   "metadata": {},
   "outputs": [],
   "source": [
    "old_X_train.drop(\"city\", axis=1, inplace=True)\n",
    "old_X_test.drop(\"city\", axis=1, inplace=True)"
   ]
  },
  {
   "cell_type": "code",
   "execution_count": 89,
   "metadata": {},
   "outputs": [],
   "source": [
    "old_X_train = old_X_train.merge(oh_cols_train, left_index=True, right_index=True)\n",
    "old_X_test = old_X_test.merge(oh_cols_test, left_index=True, right_index=True)"
   ]
  },
  {
   "cell_type": "code",
   "execution_count": 91,
   "metadata": {},
   "outputs": [
    {
     "data": {
      "text/plain": [
       "2079.358791699082"
      ]
     },
     "execution_count": 91,
     "metadata": {},
     "output_type": "execute_result"
    }
   ],
   "source": [
    "score_model(XGBRegressor(), old_X_train, old_y_train, old_X_test, y_test, mean_absolute_error)"
   ]
  },
  {
   "cell_type": "markdown",
   "metadata": {},
   "source": [
    "Since our accuracy was higher using target encoding, we can say that the extra information gained using target encoding made up for the loss of data used for the encoding."
   ]
  },
  {
   "cell_type": "markdown",
   "metadata": {},
   "source": [
    "### Discretization\n",
    "\n",
    "Discretization is the process through which we transform continious variables, models, or functions into a discrete form. We do this by creating a set of contiguous intervals (bins) that go across the range of our desire variable/model/function. Why use it?\n",
    "\n",
    "1. **It fits the problem statement.** It is often easier to understand continious data (such as height) when divided and stored into meaningful groups or categories. We can divide height into the following groups: under 1.5m (short), 1.5-1.85 (medium height), 1.85+ (tall). We would consider the structure useful if we see no objective difference between variables falling under the same height class. 1.6m and 1.7m convey the same information (medium height). Discretization helps make our dataset easier to understand if it fits the problem statement.\n",
    "2. **Interprets features.** Continious features have a smaller chance of correlating with the target variable due to infinite degrees of freedom and may have complex non-linear relationships. Thus, it may be harder to interpret such feature. After discretizing, groups corresponding to the target can be interpreted. \n",
    "3. **Incompatible with models/methods.** Certain models may not work well with continious features, such as a Random Forest Model, which works best with discrete features. Feature engineering methods, for example any entropy-based methods may not work with continious data, thus we would discretize variables to work with different models & methods. \n",
    "4. **Signal-to-noise ratio.** When we discretize a model, we are fitting it to bins and reducing the impact of small fluctuation in the data, which can be considered as noise. We can reduce this noise through discretization. Discretization smoothes the data, since each bin smoothes the fluctuations, reducing the noise in the data.\n",
    "\n",
    "There are several different techniques of feature discretization:\n",
    "\n",
    "- Supervised:\n",
    "    1. Equal Width\n",
    "    2. Equal Frequency\n",
    "    3. K-Means\n",
    "- Unsupervised:\n",
    "    1. Decision Trees\n",
    "\n",
    "\n",
    "Source: [Medium](https://towardsdatascience.com/an-introduction-to-discretization-in-data-science-55ef8c9775a2)\n",
    "\n",
    "Equal Width:\n",
    "\n",
    "Separates all possible values into `n` number of bins, each having the same width. To calculate interval width: `width = (max_value - min_value) / n`. \n",
    "\n",
    "- Can handle outliers"
   ]
  },
  {
   "cell_type": "code",
   "execution_count": 2,
   "metadata": {},
   "outputs": [],
   "source": [
    "from sklearn.preprocessing import KBinsDiscretizer"
   ]
  },
  {
   "cell_type": "code",
   "execution_count": 4,
   "metadata": {},
   "outputs": [],
   "source": [
    "walmart = pd.read_csv(\"datasets/walmart_sales_data.csv\")\n",
    "temperature = walmart[[\"Temperature\"]]"
   ]
  },
  {
   "cell_type": "code",
   "execution_count": 5,
   "metadata": {},
   "outputs": [],
   "source": [
    "equal_width_disc = KBinsDiscretizer(n_bins=3, encode=\"onehot\", strategy=\"uniform\")\n",
    "equal_width_transformed = equal_width_disc.fit_transform(temperature).toarray()"
   ]
  },
  {
   "cell_type": "code",
   "execution_count": 6,
   "metadata": {},
   "outputs": [],
   "source": [
    "columns = [\"low_temp\", \"medium_temp\", \"high_temp\"]"
   ]
  },
  {
   "cell_type": "code",
   "execution_count": 7,
   "metadata": {},
   "outputs": [],
   "source": [
    "equal_width_dataframe = pd.DataFrame(equal_width_transformed, columns=columns, index=temperature.index)"
   ]
  },
  {
   "cell_type": "code",
   "execution_count": 8,
   "metadata": {},
   "outputs": [
    {
     "data": {
      "text/html": [
       "<div>\n",
       "<style scoped>\n",
       "    .dataframe tbody tr th:only-of-type {\n",
       "        vertical-align: middle;\n",
       "    }\n",
       "\n",
       "    .dataframe tbody tr th {\n",
       "        vertical-align: top;\n",
       "    }\n",
       "\n",
       "    .dataframe thead th {\n",
       "        text-align: right;\n",
       "    }\n",
       "</style>\n",
       "<table border=\"1\" class=\"dataframe\">\n",
       "  <thead>\n",
       "    <tr style=\"text-align: right;\">\n",
       "      <th></th>\n",
       "      <th>low_temp</th>\n",
       "      <th>medium_temp</th>\n",
       "      <th>high_temp</th>\n",
       "    </tr>\n",
       "  </thead>\n",
       "  <tbody>\n",
       "    <tr>\n",
       "      <th>0</th>\n",
       "      <td>0.0</td>\n",
       "      <td>1.0</td>\n",
       "      <td>0.0</td>\n",
       "    </tr>\n",
       "    <tr>\n",
       "      <th>1</th>\n",
       "      <td>0.0</td>\n",
       "      <td>1.0</td>\n",
       "      <td>0.0</td>\n",
       "    </tr>\n",
       "    <tr>\n",
       "      <th>2</th>\n",
       "      <td>0.0</td>\n",
       "      <td>1.0</td>\n",
       "      <td>0.0</td>\n",
       "    </tr>\n",
       "    <tr>\n",
       "      <th>3</th>\n",
       "      <td>0.0</td>\n",
       "      <td>1.0</td>\n",
       "      <td>0.0</td>\n",
       "    </tr>\n",
       "    <tr>\n",
       "      <th>4</th>\n",
       "      <td>0.0</td>\n",
       "      <td>1.0</td>\n",
       "      <td>0.0</td>\n",
       "    </tr>\n",
       "    <tr>\n",
       "      <th>...</th>\n",
       "      <td>...</td>\n",
       "      <td>...</td>\n",
       "      <td>...</td>\n",
       "    </tr>\n",
       "    <tr>\n",
       "      <th>6430</th>\n",
       "      <td>0.0</td>\n",
       "      <td>1.0</td>\n",
       "      <td>0.0</td>\n",
       "    </tr>\n",
       "    <tr>\n",
       "      <th>6431</th>\n",
       "      <td>0.0</td>\n",
       "      <td>1.0</td>\n",
       "      <td>0.0</td>\n",
       "    </tr>\n",
       "    <tr>\n",
       "      <th>6432</th>\n",
       "      <td>0.0</td>\n",
       "      <td>1.0</td>\n",
       "      <td>0.0</td>\n",
       "    </tr>\n",
       "    <tr>\n",
       "      <th>6433</th>\n",
       "      <td>0.0</td>\n",
       "      <td>1.0</td>\n",
       "      <td>0.0</td>\n",
       "    </tr>\n",
       "    <tr>\n",
       "      <th>6434</th>\n",
       "      <td>0.0</td>\n",
       "      <td>1.0</td>\n",
       "      <td>0.0</td>\n",
       "    </tr>\n",
       "  </tbody>\n",
       "</table>\n",
       "<p>6435 rows × 3 columns</p>\n",
       "</div>"
      ],
      "text/plain": [
       "      low_temp  medium_temp  high_temp\n",
       "0          0.0          1.0        0.0\n",
       "1          0.0          1.0        0.0\n",
       "2          0.0          1.0        0.0\n",
       "3          0.0          1.0        0.0\n",
       "4          0.0          1.0        0.0\n",
       "...        ...          ...        ...\n",
       "6430       0.0          1.0        0.0\n",
       "6431       0.0          1.0        0.0\n",
       "6432       0.0          1.0        0.0\n",
       "6433       0.0          1.0        0.0\n",
       "6434       0.0          1.0        0.0\n",
       "\n",
       "[6435 rows x 3 columns]"
      ]
     },
     "execution_count": 8,
     "metadata": {},
     "output_type": "execute_result"
    }
   ],
   "source": [
    "equal_width_dataframe"
   ]
  },
  {
   "cell_type": "code",
   "execution_count": 9,
   "metadata": {},
   "outputs": [
    {
     "data": {
      "text/plain": [
       "array([3])"
      ]
     },
     "execution_count": 9,
     "metadata": {},
     "output_type": "execute_result"
    }
   ],
   "source": [
    "equal_width_disc.n_bins_"
   ]
  },
  {
   "cell_type": "code",
   "execution_count": 10,
   "metadata": {},
   "outputs": [
    {
     "data": {
      "text/plain": [
       "array([array([ -2.06      ,  32.00666667,  66.07333333, 100.14      ])],\n",
       "      dtype=object)"
      ]
     },
     "execution_count": 10,
     "metadata": {},
     "output_type": "execute_result"
    }
   ],
   "source": [
    "equal_width_disc.bin_edges_"
   ]
  },
  {
   "cell_type": "markdown",
   "metadata": {},
   "source": [
    "Equal Frequency:\n",
    "\n",
    "Separates all values into `n` number of bins, each with the same amount of observations. May correspond to quantile values as well.\n",
    "\n",
    "- Improves value spread\n",
    "- Can handle outliers"
   ]
  },
  {
   "cell_type": "code",
   "execution_count": 11,
   "metadata": {},
   "outputs": [],
   "source": [
    "equal_freq_disc = KBinsDiscretizer(n_bins=3, encode=\"onehot\", strategy=\"quantile\")\n",
    "equal_freq_transformed = equal_freq_disc.fit_transform(temperature).toarray()"
   ]
  },
  {
   "cell_type": "code",
   "execution_count": 12,
   "metadata": {},
   "outputs": [],
   "source": [
    "equal_freq_dataframe = pd.DataFrame(equal_freq_transformed, columns=columns, index=temperature.index)"
   ]
  },
  {
   "cell_type": "code",
   "execution_count": 13,
   "metadata": {},
   "outputs": [
    {
     "data": {
      "text/html": [
       "<div>\n",
       "<style scoped>\n",
       "    .dataframe tbody tr th:only-of-type {\n",
       "        vertical-align: middle;\n",
       "    }\n",
       "\n",
       "    .dataframe tbody tr th {\n",
       "        vertical-align: top;\n",
       "    }\n",
       "\n",
       "    .dataframe thead th {\n",
       "        text-align: right;\n",
       "    }\n",
       "</style>\n",
       "<table border=\"1\" class=\"dataframe\">\n",
       "  <thead>\n",
       "    <tr style=\"text-align: right;\">\n",
       "      <th></th>\n",
       "      <th>low_temp</th>\n",
       "      <th>medium_temp</th>\n",
       "      <th>high_temp</th>\n",
       "    </tr>\n",
       "  </thead>\n",
       "  <tbody>\n",
       "    <tr>\n",
       "      <th>0</th>\n",
       "      <td>1.0</td>\n",
       "      <td>0.0</td>\n",
       "      <td>0.0</td>\n",
       "    </tr>\n",
       "    <tr>\n",
       "      <th>1</th>\n",
       "      <td>1.0</td>\n",
       "      <td>0.0</td>\n",
       "      <td>0.0</td>\n",
       "    </tr>\n",
       "    <tr>\n",
       "      <th>2</th>\n",
       "      <td>1.0</td>\n",
       "      <td>0.0</td>\n",
       "      <td>0.0</td>\n",
       "    </tr>\n",
       "    <tr>\n",
       "      <th>3</th>\n",
       "      <td>1.0</td>\n",
       "      <td>0.0</td>\n",
       "      <td>0.0</td>\n",
       "    </tr>\n",
       "    <tr>\n",
       "      <th>4</th>\n",
       "      <td>1.0</td>\n",
       "      <td>0.0</td>\n",
       "      <td>0.0</td>\n",
       "    </tr>\n",
       "    <tr>\n",
       "      <th>...</th>\n",
       "      <td>...</td>\n",
       "      <td>...</td>\n",
       "      <td>...</td>\n",
       "    </tr>\n",
       "    <tr>\n",
       "      <th>6430</th>\n",
       "      <td>0.0</td>\n",
       "      <td>1.0</td>\n",
       "      <td>0.0</td>\n",
       "    </tr>\n",
       "    <tr>\n",
       "      <th>6431</th>\n",
       "      <td>0.0</td>\n",
       "      <td>1.0</td>\n",
       "      <td>0.0</td>\n",
       "    </tr>\n",
       "    <tr>\n",
       "      <th>6432</th>\n",
       "      <td>0.0</td>\n",
       "      <td>1.0</td>\n",
       "      <td>0.0</td>\n",
       "    </tr>\n",
       "    <tr>\n",
       "      <th>6433</th>\n",
       "      <td>0.0</td>\n",
       "      <td>1.0</td>\n",
       "      <td>0.0</td>\n",
       "    </tr>\n",
       "    <tr>\n",
       "      <th>6434</th>\n",
       "      <td>0.0</td>\n",
       "      <td>1.0</td>\n",
       "      <td>0.0</td>\n",
       "    </tr>\n",
       "  </tbody>\n",
       "</table>\n",
       "<p>6435 rows × 3 columns</p>\n",
       "</div>"
      ],
      "text/plain": [
       "      low_temp  medium_temp  high_temp\n",
       "0          1.0          0.0        0.0\n",
       "1          1.0          0.0        0.0\n",
       "2          1.0          0.0        0.0\n",
       "3          1.0          0.0        0.0\n",
       "4          1.0          0.0        0.0\n",
       "...        ...          ...        ...\n",
       "6430       0.0          1.0        0.0\n",
       "6431       0.0          1.0        0.0\n",
       "6432       0.0          1.0        0.0\n",
       "6433       0.0          1.0        0.0\n",
       "6434       0.0          1.0        0.0\n",
       "\n",
       "[6435 rows x 3 columns]"
      ]
     },
     "execution_count": 13,
     "metadata": {},
     "output_type": "execute_result"
    }
   ],
   "source": [
    "equal_freq_dataframe"
   ]
  },
  {
   "cell_type": "code",
   "execution_count": 14,
   "metadata": {},
   "outputs": [
    {
     "data": {
      "text/plain": [
       "array([array([ -2.06,  52.54,  70.71, 100.14])], dtype=object)"
      ]
     },
     "execution_count": 14,
     "metadata": {},
     "output_type": "execute_result"
    }
   ],
   "source": [
    "equal_freq_disc.bin_edges_"
   ]
  },
  {
   "cell_type": "markdown",
   "metadata": {},
   "source": [
    "Quiet different values and bin edges. \n",
    "\n",
    "K-Means Clustering:\n",
    "Separates observations using the K-Means clustering algorithm. \n",
    "\n",
    "- Can handle outliers, but a centroid bias may exist"
   ]
  },
  {
   "cell_type": "code",
   "execution_count": 15,
   "metadata": {},
   "outputs": [],
   "source": [
    "k_means_disc = KBinsDiscretizer(n_bins=3, encode=\"onehot\", strategy=\"kmeans\")\n",
    "k_means_transformed = k_means_disc.fit_transform(temperature).toarray()"
   ]
  },
  {
   "cell_type": "code",
   "execution_count": 16,
   "metadata": {},
   "outputs": [],
   "source": [
    "k_means_dataframe = pd.DataFrame(k_means_transformed, columns=columns, index=temperature.index)"
   ]
  },
  {
   "cell_type": "code",
   "execution_count": 17,
   "metadata": {},
   "outputs": [
    {
     "data": {
      "text/html": [
       "<div>\n",
       "<style scoped>\n",
       "    .dataframe tbody tr th:only-of-type {\n",
       "        vertical-align: middle;\n",
       "    }\n",
       "\n",
       "    .dataframe tbody tr th {\n",
       "        vertical-align: top;\n",
       "    }\n",
       "\n",
       "    .dataframe thead th {\n",
       "        text-align: right;\n",
       "    }\n",
       "</style>\n",
       "<table border=\"1\" class=\"dataframe\">\n",
       "  <thead>\n",
       "    <tr style=\"text-align: right;\">\n",
       "      <th></th>\n",
       "      <th>low_temp</th>\n",
       "      <th>medium_temp</th>\n",
       "      <th>high_temp</th>\n",
       "    </tr>\n",
       "  </thead>\n",
       "  <tbody>\n",
       "    <tr>\n",
       "      <th>0</th>\n",
       "      <td>1.0</td>\n",
       "      <td>0.0</td>\n",
       "      <td>0.0</td>\n",
       "    </tr>\n",
       "    <tr>\n",
       "      <th>1</th>\n",
       "      <td>1.0</td>\n",
       "      <td>0.0</td>\n",
       "      <td>0.0</td>\n",
       "    </tr>\n",
       "    <tr>\n",
       "      <th>2</th>\n",
       "      <td>1.0</td>\n",
       "      <td>0.0</td>\n",
       "      <td>0.0</td>\n",
       "    </tr>\n",
       "    <tr>\n",
       "      <th>3</th>\n",
       "      <td>0.0</td>\n",
       "      <td>1.0</td>\n",
       "      <td>0.0</td>\n",
       "    </tr>\n",
       "    <tr>\n",
       "      <th>4</th>\n",
       "      <td>0.0</td>\n",
       "      <td>1.0</td>\n",
       "      <td>0.0</td>\n",
       "    </tr>\n",
       "    <tr>\n",
       "      <th>...</th>\n",
       "      <td>...</td>\n",
       "      <td>...</td>\n",
       "      <td>...</td>\n",
       "    </tr>\n",
       "    <tr>\n",
       "      <th>6430</th>\n",
       "      <td>0.0</td>\n",
       "      <td>1.0</td>\n",
       "      <td>0.0</td>\n",
       "    </tr>\n",
       "    <tr>\n",
       "      <th>6431</th>\n",
       "      <td>0.0</td>\n",
       "      <td>1.0</td>\n",
       "      <td>0.0</td>\n",
       "    </tr>\n",
       "    <tr>\n",
       "      <th>6432</th>\n",
       "      <td>0.0</td>\n",
       "      <td>1.0</td>\n",
       "      <td>0.0</td>\n",
       "    </tr>\n",
       "    <tr>\n",
       "      <th>6433</th>\n",
       "      <td>0.0</td>\n",
       "      <td>1.0</td>\n",
       "      <td>0.0</td>\n",
       "    </tr>\n",
       "    <tr>\n",
       "      <th>6434</th>\n",
       "      <td>0.0</td>\n",
       "      <td>1.0</td>\n",
       "      <td>0.0</td>\n",
       "    </tr>\n",
       "  </tbody>\n",
       "</table>\n",
       "<p>6435 rows × 3 columns</p>\n",
       "</div>"
      ],
      "text/plain": [
       "      low_temp  medium_temp  high_temp\n",
       "0          1.0          0.0        0.0\n",
       "1          1.0          0.0        0.0\n",
       "2          1.0          0.0        0.0\n",
       "3          0.0          1.0        0.0\n",
       "4          0.0          1.0        0.0\n",
       "...        ...          ...        ...\n",
       "6430       0.0          1.0        0.0\n",
       "6431       0.0          1.0        0.0\n",
       "6432       0.0          1.0        0.0\n",
       "6433       0.0          1.0        0.0\n",
       "6434       0.0          1.0        0.0\n",
       "\n",
       "[6435 rows x 3 columns]"
      ]
     },
     "execution_count": 17,
     "metadata": {},
     "output_type": "execute_result"
    }
   ],
   "source": [
    "k_means_dataframe"
   ]
  },
  {
   "cell_type": "code",
   "execution_count": 18,
   "metadata": {},
   "outputs": [
    {
     "data": {
      "text/plain": [
       "array([array([ -2.06      ,  44.86965209,  67.15690969, 100.14      ])],\n",
       "      dtype=object)"
      ]
     },
     "execution_count": 18,
     "metadata": {},
     "output_type": "execute_result"
    }
   ],
   "source": [
    "k_means_disc.bin_edges_"
   ]
  },
  {
   "cell_type": "markdown",
   "metadata": {},
   "source": [
    "Different bin edges again, showing how distinct the three methods are. I think to pick the 'best' method for a particular situation/varible, it is best to check bin edges and see if they suit your criteria.\n",
    "\n",
    "Decision Trees:\n",
    "We use this method if we want the algorithm to identify the optimal number of bins. "
   ]
  },
  {
   "cell_type": "code",
   "execution_count": 22,
   "metadata": {},
   "outputs": [],
   "source": [
    "from feature_engine.discretisation import DecisionTreeDiscretiser"
   ]
  },
  {
   "cell_type": "code",
   "execution_count": 33,
   "metadata": {},
   "outputs": [],
   "source": [
    "temperature_X = temperature.copy()\n",
    "temperature_y = pd.DataFrame()\n",
    "temperature_y[\"target\"] = walmart[\"Weekly_Sales\"]"
   ]
  },
  {
   "cell_type": "code",
   "execution_count": 40,
   "metadata": {},
   "outputs": [],
   "source": [
    "disc = DecisionTreeDiscretiser(cv=3,\n",
    "                               scoring='neg_mean_squared_error',\n",
    "                               variables=['Temperature'],\n",
    "                               regression=True, random_state=0)\n",
    "decision_tree_dataframe = disc.fit_transform(temperature_X, temperature_y)"
   ]
  },
  {
   "cell_type": "code",
   "execution_count": 41,
   "metadata": {},
   "outputs": [
    {
     "data": {
      "text/html": [
       "<div>\n",
       "<style scoped>\n",
       "    .dataframe tbody tr th:only-of-type {\n",
       "        vertical-align: middle;\n",
       "    }\n",
       "\n",
       "    .dataframe tbody tr th {\n",
       "        vertical-align: top;\n",
       "    }\n",
       "\n",
       "    .dataframe thead th {\n",
       "        text-align: right;\n",
       "    }\n",
       "</style>\n",
       "<table border=\"1\" class=\"dataframe\">\n",
       "  <thead>\n",
       "    <tr style=\"text-align: right;\">\n",
       "      <th></th>\n",
       "      <th>Temperature</th>\n",
       "      <th>target</th>\n",
       "    </tr>\n",
       "  </thead>\n",
       "  <tbody>\n",
       "    <tr>\n",
       "      <th>0</th>\n",
       "      <td>1.068871e+06</td>\n",
       "      <td>1643690.90</td>\n",
       "    </tr>\n",
       "    <tr>\n",
       "      <th>1</th>\n",
       "      <td>1.068871e+06</td>\n",
       "      <td>1641957.44</td>\n",
       "    </tr>\n",
       "    <tr>\n",
       "      <th>2</th>\n",
       "      <td>1.068871e+06</td>\n",
       "      <td>1611968.17</td>\n",
       "    </tr>\n",
       "    <tr>\n",
       "      <th>3</th>\n",
       "      <td>1.068871e+06</td>\n",
       "      <td>1409727.59</td>\n",
       "    </tr>\n",
       "    <tr>\n",
       "      <th>4</th>\n",
       "      <td>1.068871e+06</td>\n",
       "      <td>1554806.68</td>\n",
       "    </tr>\n",
       "    <tr>\n",
       "      <th>...</th>\n",
       "      <td>...</td>\n",
       "      <td>...</td>\n",
       "    </tr>\n",
       "    <tr>\n",
       "      <th>6430</th>\n",
       "      <td>1.068871e+06</td>\n",
       "      <td>713173.95</td>\n",
       "    </tr>\n",
       "    <tr>\n",
       "      <th>6431</th>\n",
       "      <td>1.068871e+06</td>\n",
       "      <td>733455.07</td>\n",
       "    </tr>\n",
       "    <tr>\n",
       "      <th>6432</th>\n",
       "      <td>1.068871e+06</td>\n",
       "      <td>734464.36</td>\n",
       "    </tr>\n",
       "    <tr>\n",
       "      <th>6433</th>\n",
       "      <td>1.068871e+06</td>\n",
       "      <td>718125.53</td>\n",
       "    </tr>\n",
       "    <tr>\n",
       "      <th>6434</th>\n",
       "      <td>1.068871e+06</td>\n",
       "      <td>760281.43</td>\n",
       "    </tr>\n",
       "  </tbody>\n",
       "</table>\n",
       "<p>6435 rows × 2 columns</p>\n",
       "</div>"
      ],
      "text/plain": [
       "       Temperature      target\n",
       "0     1.068871e+06  1643690.90\n",
       "1     1.068871e+06  1641957.44\n",
       "2     1.068871e+06  1611968.17\n",
       "3     1.068871e+06  1409727.59\n",
       "4     1.068871e+06  1554806.68\n",
       "...            ...         ...\n",
       "6430  1.068871e+06   713173.95\n",
       "6431  1.068871e+06   733455.07\n",
       "6432  1.068871e+06   734464.36\n",
       "6433  1.068871e+06   718125.53\n",
       "6434  1.068871e+06   760281.43\n",
       "\n",
       "[6435 rows x 2 columns]"
      ]
     },
     "execution_count": 41,
     "metadata": {},
     "output_type": "execute_result"
    }
   ],
   "source": [
    "decision_tree_dataframe"
   ]
  },
  {
   "cell_type": "code",
   "execution_count": 42,
   "metadata": {},
   "outputs": [
    {
     "data": {
      "text/plain": [
       "array([1068871.05802707,  938067.62011457,  650155.25988506,\n",
       "        865423.98123967])"
      ]
     },
     "execution_count": 42,
     "metadata": {},
     "output_type": "execute_result"
    }
   ],
   "source": [
    "decision_tree_dataframe[\"Temperature\"].unique()"
   ]
  },
  {
   "cell_type": "code",
   "execution_count": 32,
   "metadata": {},
   "outputs": [
    {
     "data": {
      "text/plain": [
       "{'Temperature': GridSearchCV(cv=3, estimator=DecisionTreeRegressor(),\n",
       "              param_grid={'max_depth': [1, 2, 3, 4]},\n",
       "              scoring='neg_mean_squared_error')}"
      ]
     },
     "execution_count": 32,
     "metadata": {},
     "output_type": "execute_result"
    }
   ],
   "source": [
    "disc.binner_dict_"
   ]
  },
  {
   "cell_type": "markdown",
   "metadata": {},
   "source": [
    "It is unclear how the values were obtained, need to look more into this. Why does the temperature column have such high values now?\n",
    "\n",
    "Also need to implement evaluation later on."
   ]
  },
  {
   "cell_type": "markdown",
   "metadata": {},
   "source": [
    "## Models and Other"
   ]
  },
  {
   "cell_type": "markdown",
   "metadata": {},
   "source": [
    "### Stochastic Gradient Descent\n",
    "\n",
    "Stochastic Gradient Descent is a stochastic/probabilitic variation of gradient descent. So, what is gradient descent? Gradient descent is one of the most popular methods of model optimization. This method minimizes the loss/cost function. The idea behind this is to find an efficient way of reaching the minimum of a function. The assumption is that the cost function needs to be a differentiable convex function. \n",
    "\n",
    "The algorithm starts off by picking a value at random as a starting point. While the gradient hasn't converged / isn't 0, the algorithm will compute the slope at the random value and then go in the opposite of the direction of the gradient (down). It will update the point and repeat the steps. The way this works in machine learning is that the algorithm picks the parameters for the model at random and then modifies them in order to achieve the minimum of the given cost function. \n",
    "\n",
    "There are two parameters you can use with Gradient Descent. First one is the learning rate. This determines how far the algorithm steps when modifying the parameters for the model. The second one is convergence threshold; if the new gradient point hasn't changed more than the convergence threshold, the algorithm considers the minimum to be found and stops iterating. \n",
    "\n",
    "Sometimes, the learning rate might be too high or too small. A good indicator of a high learning rate is if the gradient is not decreasing at every step. A good indicator of a low learning rate is if the algorithm takes a long time to run. \n",
    "\n",
    "There are two issues with gradient descent:\n",
    "\n",
    "1. Calculating derivatives for the entire dataset is time consuming. \n",
    "2. Memory required is proportional to the size of the dataset.\n",
    "\n",
    "In order to avoid these issues, we use Stochastic Gradient Descent (SGD). SGD is a probabilistic approximation of gradient descent. It is an approximation because at each iteration, the algorithm calculates the gradient for one observation picked at random, instead of calculating the gradient for the entire dataset. This provides us with significant improvement, especially when the dataset contains a lot of observations. The only condition in SGD is that the expected value of the observation picked at random is a subgradient of the function. \n",
    "\n",
    "The trade-off is that the updates have a higher variance, making the convergence much harder. New variations of SGD have developed to tackle these issues, like mini-batch SGD. Instead of only taking one point, the algorithm calculates the derivative for a batch of data. Additionally, SGD is sensetive to feature scaling.\n",
    "\n",
    "With sklearn's implementation, you have to import a `SGDClassifier` or `SGDRegressor` and then set the parameters correctly in order to get the model you want. Here's the list below:\n",
    "\n",
    "For `SGDRegressor`:\n",
    "- loss=\"squared_loss\" - ordinary least squares linear regression\n",
    "- loss=\"huber\" - huber loss for robust regression\n",
    "- loss=\"epsilon_insensitive\" - linear Support Vector Regression\n",
    "\n",
    "For `SGDClassifier`:\n",
    "- loss=\"hinge\" - gives a soft-margin linear Support Vector Machine\n",
    "- loss=\"modified_huber\" - smoothed hinge loss\n",
    "- loss=\"log\" - logistic regression\n",
    "- all of the options for `SGDRegressor`. The algorithm will treat the problem like a regression problem and encodes the classes as -1 and 1. \n",
    "\n",
    "Why use this class and not the standard classes like `SVC` or `LinearRegression`? Those specific implementations in `sklearn` use different optimization techniques, not SGD. So, if you want to use SGD for a particular problem, it's only possible to do so through this class.\n",
    "\n",
    "Sources: [Medium](https://towardsdatascience.com/stochastic-gradient-descent-explained-in-real-life-predicting-your-pizzas-cooking-time-b7639d5e6a32), [Scikit-Learn](https://scikit-learn.org/stable/modules/sgd.html)"
   ]
  },
  {
   "cell_type": "code",
   "execution_count": 70,
   "metadata": {},
   "outputs": [],
   "source": [
    "from sklearn.linear_model import SGDClassifier\n",
    "from sklearn.metrics import accuracy_score\n",
    "from sklearn.linear_model import LogisticRegression"
   ]
  },
  {
   "cell_type": "code",
   "execution_count": 26,
   "metadata": {},
   "outputs": [
    {
     "data": {
      "text/html": [
       "<div>\n",
       "<style scoped>\n",
       "    .dataframe tbody tr th:only-of-type {\n",
       "        vertical-align: middle;\n",
       "    }\n",
       "\n",
       "    .dataframe tbody tr th {\n",
       "        vertical-align: top;\n",
       "    }\n",
       "\n",
       "    .dataframe thead th {\n",
       "        text-align: right;\n",
       "    }\n",
       "</style>\n",
       "<table border=\"1\" class=\"dataframe\">\n",
       "  <thead>\n",
       "    <tr style=\"text-align: right;\">\n",
       "      <th></th>\n",
       "      <th>clump_thickness</th>\n",
       "      <th>uniform_cell_size</th>\n",
       "      <th>uniform_cell_shape</th>\n",
       "      <th>marginal_adhesion</th>\n",
       "      <th>single_epi_cell_size</th>\n",
       "      <th>bare_nuclei</th>\n",
       "      <th>bland_chromation</th>\n",
       "      <th>normal_nucleoli</th>\n",
       "      <th>mitoses</th>\n",
       "      <th>class</th>\n",
       "    </tr>\n",
       "    <tr>\n",
       "      <th>id</th>\n",
       "      <th></th>\n",
       "      <th></th>\n",
       "      <th></th>\n",
       "      <th></th>\n",
       "      <th></th>\n",
       "      <th></th>\n",
       "      <th></th>\n",
       "      <th></th>\n",
       "      <th></th>\n",
       "      <th></th>\n",
       "    </tr>\n",
       "  </thead>\n",
       "  <tbody>\n",
       "    <tr>\n",
       "      <th>1000025</th>\n",
       "      <td>5</td>\n",
       "      <td>1</td>\n",
       "      <td>1</td>\n",
       "      <td>1</td>\n",
       "      <td>2</td>\n",
       "      <td>1</td>\n",
       "      <td>3</td>\n",
       "      <td>1</td>\n",
       "      <td>1</td>\n",
       "      <td>2</td>\n",
       "    </tr>\n",
       "    <tr>\n",
       "      <th>1002945</th>\n",
       "      <td>5</td>\n",
       "      <td>4</td>\n",
       "      <td>4</td>\n",
       "      <td>5</td>\n",
       "      <td>7</td>\n",
       "      <td>10</td>\n",
       "      <td>3</td>\n",
       "      <td>2</td>\n",
       "      <td>1</td>\n",
       "      <td>2</td>\n",
       "    </tr>\n",
       "    <tr>\n",
       "      <th>1015425</th>\n",
       "      <td>3</td>\n",
       "      <td>1</td>\n",
       "      <td>1</td>\n",
       "      <td>1</td>\n",
       "      <td>2</td>\n",
       "      <td>2</td>\n",
       "      <td>3</td>\n",
       "      <td>1</td>\n",
       "      <td>1</td>\n",
       "      <td>2</td>\n",
       "    </tr>\n",
       "    <tr>\n",
       "      <th>1016277</th>\n",
       "      <td>6</td>\n",
       "      <td>8</td>\n",
       "      <td>8</td>\n",
       "      <td>1</td>\n",
       "      <td>3</td>\n",
       "      <td>4</td>\n",
       "      <td>3</td>\n",
       "      <td>7</td>\n",
       "      <td>1</td>\n",
       "      <td>2</td>\n",
       "    </tr>\n",
       "    <tr>\n",
       "      <th>1017023</th>\n",
       "      <td>4</td>\n",
       "      <td>1</td>\n",
       "      <td>1</td>\n",
       "      <td>3</td>\n",
       "      <td>2</td>\n",
       "      <td>1</td>\n",
       "      <td>3</td>\n",
       "      <td>1</td>\n",
       "      <td>1</td>\n",
       "      <td>2</td>\n",
       "    </tr>\n",
       "  </tbody>\n",
       "</table>\n",
       "</div>"
      ],
      "text/plain": [
       "         clump_thickness  uniform_cell_size  uniform_cell_shape  \\\n",
       "id                                                                \n",
       "1000025                5                  1                   1   \n",
       "1002945                5                  4                   4   \n",
       "1015425                3                  1                   1   \n",
       "1016277                6                  8                   8   \n",
       "1017023                4                  1                   1   \n",
       "\n",
       "         marginal_adhesion  single_epi_cell_size bare_nuclei  \\\n",
       "id                                                             \n",
       "1000025                  1                     2           1   \n",
       "1002945                  5                     7          10   \n",
       "1015425                  1                     2           2   \n",
       "1016277                  1                     3           4   \n",
       "1017023                  3                     2           1   \n",
       "\n",
       "         bland_chromation  normal_nucleoli  mitoses  class  \n",
       "id                                                          \n",
       "1000025                 3                1        1      2  \n",
       "1002945                 3                2        1      2  \n",
       "1015425                 3                1        1      2  \n",
       "1016277                 3                7        1      2  \n",
       "1017023                 3                1        1      2  "
      ]
     },
     "execution_count": 26,
     "metadata": {},
     "output_type": "execute_result"
    }
   ],
   "source": [
    "columns = [\"id\", \"clump_thickness\", \"uniform_cell_size\", \"uniform_cell_shape\", \"marginal_adhesion\", \"single_epi_cell_size\",\n",
    "           \"bare_nuclei\",\"bland_chromation\", \"normal_nucleoli\", \"mitoses\", \"class\"]\n",
    "cancer = pd.read_csv(\"datasets/breast-cancer-wisconsin.csv\", names=columns, index_col=0)\n",
    "cancer.replace('?',-99999, inplace=True)\n",
    "cancer.head()"
   ]
  },
  {
   "cell_type": "code",
   "execution_count": 28,
   "metadata": {},
   "outputs": [],
   "source": [
    "X = cancer.drop(\"class\", axis=1)\n",
    "y = cancer[\"class\"]"
   ]
  },
  {
   "cell_type": "code",
   "execution_count": 29,
   "metadata": {},
   "outputs": [],
   "source": [
    "X_train, X_test, y_train, y_test = train_test_split(X, y, test_size=0.2, random_state=0)"
   ]
  },
  {
   "cell_type": "markdown",
   "metadata": {},
   "source": [
    "To predict the class, we are going to be using Logistic Regression, so we are going to set the loss to \"log\". Note, that this may not be the best model for this task, but I am just trying things out and want to set non-default parameters. We will play around with different learning rate parameters. Let's start off with the default - \"optimal\". "
   ]
  },
  {
   "cell_type": "code",
   "execution_count": 44,
   "metadata": {},
   "outputs": [],
   "source": [
    "sgd_clf = SGDClassifier(loss=\"log\", learning_rate=\"optimal\", random_state=0)"
   ]
  },
  {
   "cell_type": "code",
   "execution_count": 45,
   "metadata": {},
   "outputs": [
    {
     "data": {
      "text/plain": [
       "SGDClassifier(loss='log', random_state=0)"
      ]
     },
     "execution_count": 45,
     "metadata": {},
     "output_type": "execute_result"
    }
   ],
   "source": [
    "sgd_clf.fit(X_train, y_train)"
   ]
  },
  {
   "cell_type": "code",
   "execution_count": 46,
   "metadata": {},
   "outputs": [
    {
     "data": {
      "text/plain": [
       "9"
      ]
     },
     "execution_count": 46,
     "metadata": {},
     "output_type": "execute_result"
    }
   ],
   "source": [
    "sgd_clf.n_iter_"
   ]
  },
  {
   "cell_type": "markdown",
   "metadata": {},
   "source": [
    "Using the above learning rate, we completed 9 iterations, let's now check the performance of our model."
   ]
  },
  {
   "cell_type": "code",
   "execution_count": 47,
   "metadata": {},
   "outputs": [
    {
     "data": {
      "text/plain": [
       "0.9428571428571428"
      ]
     },
     "execution_count": 47,
     "metadata": {},
     "output_type": "execute_result"
    }
   ],
   "source": [
    "predictions = sgd_clf.predict(X_test)\n",
    "accuracy_score(y_test, predictions)"
   ]
  },
  {
   "cell_type": "markdown",
   "metadata": {},
   "source": [
    "Let's now check other learning rate options"
   ]
  },
  {
   "cell_type": "code",
   "execution_count": 64,
   "metadata": {},
   "outputs": [],
   "source": [
    "sgd_clf = SGDClassifier(loss=\"log\", learning_rate=\"adaptive\", random_state=0, eta0=0.2)"
   ]
  },
  {
   "cell_type": "code",
   "execution_count": 66,
   "metadata": {},
   "outputs": [
    {
     "data": {
      "text/plain": [
       "SGDClassifier(eta0=0.2, learning_rate='adaptive', loss='log', random_state=0)"
      ]
     },
     "execution_count": 66,
     "metadata": {},
     "output_type": "execute_result"
    }
   ],
   "source": [
    "sgd_clf.fit(X_train, y_train)"
   ]
  },
  {
   "cell_type": "code",
   "execution_count": 67,
   "metadata": {},
   "outputs": [
    {
     "data": {
      "text/plain": [
       "83"
      ]
     },
     "execution_count": 67,
     "metadata": {},
     "output_type": "execute_result"
    }
   ],
   "source": [
    "sgd_clf.n_iter_"
   ]
  },
  {
   "cell_type": "markdown",
   "metadata": {},
   "source": [
    "Using this learning rate method, we have more iterations. Maybe, this comes as a cost to better accuracy?"
   ]
  },
  {
   "cell_type": "code",
   "execution_count": 68,
   "metadata": {},
   "outputs": [
    {
     "data": {
      "text/plain": [
       "0.8357142857142857"
      ]
     },
     "execution_count": 68,
     "metadata": {},
     "output_type": "execute_result"
    }
   ],
   "source": [
    "predictions = sgd_clf.predict(X_test)\n",
    "accuracy_score(y_test, predictions)"
   ]
  },
  {
   "cell_type": "markdown",
   "metadata": {},
   "source": [
    "No, even our accuracy has went down. \n",
    "\n",
    "Let's now try using the default implementation of `LogisticRegression` in `sklearn`. The default solver for this model is the Limited-memory BFGS. However, since our dataset is quite small, we will use the \"liblinear\" optimization method. "
   ]
  },
  {
   "cell_type": "code",
   "execution_count": 78,
   "metadata": {},
   "outputs": [],
   "source": [
    "lr_clf = LogisticRegression(solver='liblinear')"
   ]
  },
  {
   "cell_type": "code",
   "execution_count": 79,
   "metadata": {},
   "outputs": [
    {
     "data": {
      "text/plain": [
       "LogisticRegression(solver='liblinear')"
      ]
     },
     "execution_count": 79,
     "metadata": {},
     "output_type": "execute_result"
    }
   ],
   "source": [
    "lr_clf.fit(X_train, y_train)"
   ]
  },
  {
   "cell_type": "code",
   "execution_count": 80,
   "metadata": {},
   "outputs": [
    {
     "data": {
      "text/plain": [
       "array([32], dtype=int32)"
      ]
     },
     "execution_count": 80,
     "metadata": {},
     "output_type": "execute_result"
    }
   ],
   "source": [
    "lr_clf.n_iter_"
   ]
  },
  {
   "cell_type": "code",
   "execution_count": 81,
   "metadata": {},
   "outputs": [
    {
     "data": {
      "text/plain": [
       "0.9642857142857143"
      ]
     },
     "execution_count": 81,
     "metadata": {},
     "output_type": "execute_result"
    }
   ],
   "source": [
    "predictions = lr_clf.predict(X_test)\n",
    "accuracy_score(y_test, predictions)"
   ]
  },
  {
   "cell_type": "markdown",
   "metadata": {},
   "source": [
    "Wow! The implementation with the liblinear optimization method has performed better. It could be because the SGD is not a good optimization method for small datasets, might be more useful with larger datasets. Need to test this theory later."
   ]
  }
 ],
 "metadata": {
  "kernelspec": {
   "display_name": "venv",
   "language": "python",
   "name": "venv"
  },
  "language_info": {
   "codemirror_mode": {
    "name": "ipython",
    "version": 3
   },
   "file_extension": ".py",
   "mimetype": "text/x-python",
   "name": "python",
   "nbconvert_exporter": "python",
   "pygments_lexer": "ipython3",
   "version": "3.9.0"
  }
 },
 "nbformat": 4,
 "nbformat_minor": 4
}
