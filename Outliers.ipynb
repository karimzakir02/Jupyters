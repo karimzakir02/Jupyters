{
 "cells": [
  {
   "cell_type": "markdown",
   "metadata": {},
   "source": [
    "# Working with Outliers\n",
    "## By: Karim Zakir\n",
    "\n",
    "### Introduction\n",
    "Datasets can often have outliers, points which are incredibly far or unlike most of the data. There are several reasons such points can appear in the dataset. Those points could represent anomalies, unusual observations, or just data-entries. Either way, they can greatly affect the accuracy of a machine learning model or any statistical analaysis in general. As such, during data preprocessing, one of the objectives is to detect and remove all of the outliers in the dataset as possible. This can prove challenging, since every dataset has different data distributions, and outliers can often be overlooked when going through the data; thus, it is essential to know a variety of outlier detection techniques. In this notebook, we will focus on four techniques: numeric outlier technique, Cook's Distance, Mahalanobis Distance, and Density-Based Spatial Clustering of Applications with Noise (DBSCAN). These four method are quite different from each other (technically wise), and should provide us with a good toolset to detect outliers in the future. Note that all of these methods are non-parametric methods of outlier detection, since I won't make any assumptions about the distribution of the data.\n",
    "\n",
    "For this notebook, I will use the [Brazilian Houses To Rent](https://www.kaggle.com/dataset/0fc2c2957155f98e380a0e5e7db219aff29962b37b13e6ac5a569389cfe26e83/version/1) dataset obtained from Kaggle. This dataset is perfect for this notebook, since it contains data-entry errors, while also containing data which can throw off the techniques, as we will see later in the notebook. \n",
    "\n",
    "In order to understand how effective each of the methods are, we will take a closer look at the observations that were identified as outliers. \n",
    "\n",
    "In order to understand how effective each of the methods are, we will compare the accuracy of the model trained using filtered datasets to the accuracy of the model trained using the entire dataset with unfiltered outliers. The model we are going to use will be an ordinary least squares Linear Regression model from scikit-learn, since it is incredibly sensetive to outliers. Our accuracy metric is going to be mean absolute error, since it is quite appropriate for our model and dataset choices. Additionally, we will take a closer look at the observations which the methods will identify as outliers, since they will provide us with an insight into how the techniques work and allow us to asses the accuracy of the detection techniques further. \n",
    "\n",
    "Throughout this notebook, I will make certain decisions, which are not directly related to outlier detection techniques, such as feature choice. These decision are not going to be explained within this notebook; however, they are explained in the \"Working with Outliers Extras\" notebook.\n",
    "\n",
    "Let's start by importing all of the necessary libraries and taking a quick look at the dataset!\n",
    "\n",
    "**Make sure to mention that you will be removing the observations right away and then taking a closer look at them**\n",
    "**Or you could also just change your method work and stuff, maybe all of this modelling stuff is quite useless**\n",
    "**You'll be able to show off these skills in the late notebooks, maybe focus on just outliers now**"
   ]
  },
  {
   "cell_type": "code",
   "execution_count": 1,
   "metadata": {},
   "outputs": [],
   "source": [
    "import pandas as pd\n",
    "import numpy as np\n",
    "from sklearn.linear_model import LinearRegression\n",
    "from sklearn.model_selection import train_test_split\n",
    "from sklearn.metrics import mean_absolute_error\n",
    "from sklearn.metrics import mean_squared_error\n",
    "from sklearn.preprocessing import LabelEncoder, OneHotEncoder\n",
    "import statsmodels.api as sm\n",
    "from scipy.spatial.distance import mahalanobis\n",
    "from scipy.stats import chi2\n",
    "from sklearn.cluster import DBSCAN\n",
    "import warnings\n",
    "import seaborn as sns\n",
    "import matplotlib.pyplot as plt\n",
    "warnings.filterwarnings(\"ignore\")"
   ]
  },
  {
   "cell_type": "code",
   "execution_count": 2,
   "metadata": {},
   "outputs": [
    {
     "data": {
      "text/html": [
       "<div>\n",
       "<style scoped>\n",
       "    .dataframe tbody tr th:only-of-type {\n",
       "        vertical-align: middle;\n",
       "    }\n",
       "\n",
       "    .dataframe tbody tr th {\n",
       "        vertical-align: top;\n",
       "    }\n",
       "\n",
       "    .dataframe thead th {\n",
       "        text-align: right;\n",
       "    }\n",
       "</style>\n",
       "<table border=\"1\" class=\"dataframe\">\n",
       "  <thead>\n",
       "    <tr style=\"text-align: right;\">\n",
       "      <th></th>\n",
       "      <th>city</th>\n",
       "      <th>area</th>\n",
       "      <th>rooms</th>\n",
       "      <th>bathroom</th>\n",
       "      <th>parking spaces</th>\n",
       "      <th>floor</th>\n",
       "      <th>animal</th>\n",
       "      <th>furniture</th>\n",
       "      <th>hoa (R$)</th>\n",
       "      <th>rent amount (R$)</th>\n",
       "      <th>property tax (R$)</th>\n",
       "      <th>fire insurance (R$)</th>\n",
       "      <th>total (R$)</th>\n",
       "    </tr>\n",
       "  </thead>\n",
       "  <tbody>\n",
       "    <tr>\n",
       "      <th>0</th>\n",
       "      <td>São Paulo</td>\n",
       "      <td>70</td>\n",
       "      <td>2</td>\n",
       "      <td>1</td>\n",
       "      <td>1</td>\n",
       "      <td>7</td>\n",
       "      <td>acept</td>\n",
       "      <td>furnished</td>\n",
       "      <td>2065</td>\n",
       "      <td>3300</td>\n",
       "      <td>211</td>\n",
       "      <td>42</td>\n",
       "      <td>5618</td>\n",
       "    </tr>\n",
       "    <tr>\n",
       "      <th>1</th>\n",
       "      <td>São Paulo</td>\n",
       "      <td>320</td>\n",
       "      <td>4</td>\n",
       "      <td>4</td>\n",
       "      <td>0</td>\n",
       "      <td>20</td>\n",
       "      <td>acept</td>\n",
       "      <td>not furnished</td>\n",
       "      <td>1200</td>\n",
       "      <td>4960</td>\n",
       "      <td>1750</td>\n",
       "      <td>63</td>\n",
       "      <td>7973</td>\n",
       "    </tr>\n",
       "    <tr>\n",
       "      <th>2</th>\n",
       "      <td>Porto Alegre</td>\n",
       "      <td>80</td>\n",
       "      <td>1</td>\n",
       "      <td>1</td>\n",
       "      <td>1</td>\n",
       "      <td>6</td>\n",
       "      <td>acept</td>\n",
       "      <td>not furnished</td>\n",
       "      <td>1000</td>\n",
       "      <td>2800</td>\n",
       "      <td>0</td>\n",
       "      <td>41</td>\n",
       "      <td>3841</td>\n",
       "    </tr>\n",
       "    <tr>\n",
       "      <th>3</th>\n",
       "      <td>Porto Alegre</td>\n",
       "      <td>51</td>\n",
       "      <td>2</td>\n",
       "      <td>1</td>\n",
       "      <td>0</td>\n",
       "      <td>2</td>\n",
       "      <td>acept</td>\n",
       "      <td>not furnished</td>\n",
       "      <td>270</td>\n",
       "      <td>1112</td>\n",
       "      <td>22</td>\n",
       "      <td>17</td>\n",
       "      <td>1421</td>\n",
       "    </tr>\n",
       "    <tr>\n",
       "      <th>4</th>\n",
       "      <td>São Paulo</td>\n",
       "      <td>25</td>\n",
       "      <td>1</td>\n",
       "      <td>1</td>\n",
       "      <td>0</td>\n",
       "      <td>1</td>\n",
       "      <td>not acept</td>\n",
       "      <td>not furnished</td>\n",
       "      <td>0</td>\n",
       "      <td>800</td>\n",
       "      <td>25</td>\n",
       "      <td>11</td>\n",
       "      <td>836</td>\n",
       "    </tr>\n",
       "  </tbody>\n",
       "</table>\n",
       "</div>"
      ],
      "text/plain": [
       "           city  area  rooms  bathroom  parking spaces floor     animal  \\\n",
       "0     São Paulo    70      2         1               1     7      acept   \n",
       "1     São Paulo   320      4         4               0    20      acept   \n",
       "2  Porto Alegre    80      1         1               1     6      acept   \n",
       "3  Porto Alegre    51      2         1               0     2      acept   \n",
       "4     São Paulo    25      1         1               0     1  not acept   \n",
       "\n",
       "       furniture  hoa (R$)  rent amount (R$)  property tax (R$)  \\\n",
       "0      furnished      2065              3300                211   \n",
       "1  not furnished      1200              4960               1750   \n",
       "2  not furnished      1000              2800                  0   \n",
       "3  not furnished       270              1112                 22   \n",
       "4  not furnished         0               800                 25   \n",
       "\n",
       "   fire insurance (R$)  total (R$)  \n",
       "0                   42        5618  \n",
       "1                   63        7973  \n",
       "2                   41        3841  \n",
       "3                   17        1421  \n",
       "4                   11         836  "
      ]
     },
     "execution_count": 2,
     "metadata": {},
     "output_type": "execute_result"
    }
   ],
   "source": [
    "houses = pd.read_csv(\"houses_to_rent_v2.csv\")\n",
    "houses.head()"
   ]
  },
  {
   "cell_type": "markdown",
   "metadata": {},
   "source": [
    "## Initial Model\n",
    "Our first objective during this investigation is to train a model with the unfiltered dataset and measure its accuracy using mean absolute error. This score will be our baseline score, to which we will compare our future accuracy measurements from models trained with filtered data. Additionally, when preparing the data, we will use the same imputation methods throughout the whole investigation to reduce any confounding variables.\n",
    "\n",
    "In order to stay consistent when measuring accuracy, we will first split the data into training and test data, and only modify/work on traning data, while test data will be exclu\n",
    "sively used for testing. This allows us to test the model without potential overfitting and also allows us to minimize any confounding variables during testing.\n",
    "\n",
    "For the features, we will use the following columns: city, area, rooms, bathroom, parking spaces, floor, animal, and furniture. Our target is going to be total (R$). We will not be using other columns, since they are unlikely to be available when applying the data on new apartments/houses."
   ]
  },
  {
   "cell_type": "code",
   "execution_count": 3,
   "metadata": {},
   "outputs": [],
   "source": [
    "# Defining the features/target and splitting the data\n",
    "features = [\"city\", \"area\", \"rooms\", \"bathroom\", \"parking spaces\", \"floor\", \"animal\", \"furniture\"]\n",
    "target = [\"total (R$)\"]\n",
    "X = houses[features]\n",
    "y = houses[target]\n",
    "X_train, X_test, y_train, y_test = train_test_split(X, y, random_state=10)"
   ]
  },
  {
   "cell_type": "code",
   "execution_count": 4,
   "metadata": {},
   "outputs": [],
   "source": [
    "# Preparing categorical data with One Hot Encoding\n",
    "cat_cols = [\"city\", \"animal\", \"furniture\"]\n",
    "city_encoder = OneHotEncoder(handle_unknown=\"ignore\", sparse=False)\n",
    "\n",
    "oh_city_train = pd.DataFrame(city_encoder.fit_transform(X_train[cat_cols]))\n",
    "oh_city_test = pd.DataFrame(city_encoder.transform(X_test[cat_cols]))\n",
    "\n",
    "oh_city_train.index = X_train.index\n",
    "oh_city_test.index = X_test.index\n",
    "\n",
    "X_train.drop(cat_cols, axis=1, inplace=True)\n",
    "X_test.drop(cat_cols, axis=1, inplace=True)\n",
    "\n",
    "X_train = X_train.merge(oh_city_train, left_index=True, right_index=True)\n",
    "X_test = X_test.merge(oh_city_test, left_index=True, right_index=True)"
   ]
  },
  {
   "cell_type": "code",
   "execution_count": 5,
   "metadata": {},
   "outputs": [],
   "source": [
    "# Floor has some non-numerical values ('-'), these will be replaced by 0, since I am assuming there are no floors, and the data is not missing\n",
    "X_train.replace({\"-\": 0}, inplace=True)\n",
    "X_test.replace({\"-\": 0}, inplace=True)\n",
    "X_train[\"floor\"] = X_train[\"floor\"].astype(int)\n",
    "X_test[\"floor\"] = X_test[\"floor\"].astype(int)\n",
    "# Apart from this, there is no other potentially missing data in the dataset"
   ]
  },
  {
   "cell_type": "code",
   "execution_count": 6,
   "metadata": {},
   "outputs": [
    {
     "data": {
      "text/plain": [
       "2677.2151506422433"
      ]
     },
     "execution_count": 6,
     "metadata": {},
     "output_type": "execute_result"
    }
   ],
   "source": [
    "default_model = LinearRegression()\n",
    "default_model.fit(X_train, y_train)\n",
    "default_predictions = default_model.predict(X_test)\n",
    "baseline_mae = mean_absolute_error(default_predictions, y_test)\n",
    "baseline_mae"
   ]
  },
  {
   "cell_type": "code",
   "execution_count": 7,
   "metadata": {},
   "outputs": [
    {
     "data": {
      "text/plain": [
       "total (R$)    5490.487\n",
       "dtype: float64"
      ]
     },
     "execution_count": 7,
     "metadata": {},
     "output_type": "execute_result"
    }
   ],
   "source": [
    "houses[target].mean()"
   ]
  },
  {
   "cell_type": "markdown",
   "metadata": {},
   "source": [
    "2677.215... will be our baseline score, which we will use to compare our other models. This is a definitely suboptimal score, considering that the average of our target is 5490.487; however, the objective currently is not to create an accurate model. The objective is to improve our model by identifying and removing outliers. So, let's dive into some of the outlier detection techniques!"
   ]
  },
  {
   "cell_type": "markdown",
   "metadata": {},
   "source": [
    "## Numeric Outlier Technique\n",
    "The Numeric Outlier Technique will arguably be the simplest method within this notebook. For this non-parametric method, we need to calculate the first and third quartiles, as well as the interquartile range. We then calculate the upper and lower 'bounds'. The upper bound is calculated by adding the interquartile range multipled typically by 1.5 to the third quartile. Similarly, the lower bound is calculated by subtracting the interquartile range multipled by 1.5 from the first quartile. Any point that lies below or above the lower bound and the upper bound respectively is considered an outlier. By having the interquartile range multiplier equal to 1.5, the upper and lower bounds will correspond to the upper and lower whiskers in a boxplot. Here is the formula visualized:\n",
    "<p align=\"center\">\n",
    "    <img src=\"https://www.kdnuggets.com/wp-content/uploads/ouotlier-detection-eq1.jpg\" alt=\"Numeric Outlier Formula\">\n",
    "</p>\n",
    "\n",
    "Since this method only works on a one dimensional space, we will apply this method to each feature and target individually.\n",
    "\n",
    "To save time and processing power, we will only apply this method to a select number of columns, since it does not make sense to apply this method to the encoded columns where the values are only 0 and 1."
   ]
  },
  {
   "cell_type": "code",
   "execution_count": 8,
   "metadata": {},
   "outputs": [],
   "source": [
    "applicable_cols = [\"area\", \"rooms\", \"bathroom\", \"floor\", \"total (R$)\"]\n",
    "k = 1.5\n",
    "num_out_train = X_train.merge(y_train, left_index=True, right_index=True)\n",
    "to_remove = {}\n",
    "for col in applicable_cols:\n",
    "    quantiles = num_out_train[[col]].quantile([0.25, 0.75])\n",
    "    q1 = quantiles.iloc[0, 0]\n",
    "    q3 = quantiles.iloc[1, 0]\n",
    "    iqr = q3 - q1\n",
    "    lower_bound = q1 - k*iqr\n",
    "    upper_bound = q3 + k*iqr\n",
    "    records_to_remove = num_out_train[(num_out_train[col] > upper_bound) | (num_out_train[col] < lower_bound)].index\n",
    "    to_remove[col] = set(records_to_remove)"
   ]
  },
  {
   "cell_type": "code",
   "execution_count": 9,
   "metadata": {},
   "outputs": [
    {
     "name": "stdout",
     "output_type": "stream",
     "text": [
      "Removed: 1161\n"
     ]
    },
    {
     "data": {
      "text/plain": [
       "14.47811447811448"
      ]
     },
     "execution_count": 9,
     "metadata": {},
     "output_type": "execute_result"
    }
   ],
   "source": [
    "combined = set()\n",
    "for indexes in to_remove.values():\n",
    "    combined.update(indexes)\n",
    "print(\"Removed:\", len(combined))\n",
    "len(combined) / len(X_train) * 100"
   ]
  },
  {
   "cell_type": "code",
   "execution_count": 10,
   "metadata": {},
   "outputs": [
    {
     "data": {
      "text/plain": [
       "2356.5500035298232"
      ]
     },
     "execution_count": 10,
     "metadata": {},
     "output_type": "execute_result"
    }
   ],
   "source": [
    "num_out_X_train = X_train.drop(list(combined), axis=0)\n",
    "num_out_y_train = y_train.drop(list(combined), axis=0)\n",
    "num_out_regress = LinearRegression()\n",
    "num_out_regress.fit(num_out_X_train, num_out_y_train)\n",
    "num_out_predictions = num_out_regress.predict(X_test)\n",
    "num_out_mae = mean_absolute_error(num_out_predictions ,y_test)\n",
    "num_out_mae"
   ]
  },
  {
   "cell_type": "code",
   "execution_count": 11,
   "metadata": {},
   "outputs": [
    {
     "data": {
      "text/plain": [
       "320.6651471124201"
      ]
     },
     "execution_count": 11,
     "metadata": {},
     "output_type": "execute_result"
    }
   ],
   "source": [
    "baseline_mae - num_out_mae"
   ]
  },
  {
   "cell_type": "markdown",
   "metadata": {},
   "source": [
    "Using the numeric outlier technique of outlier detection, we saw an increase in our model's performance. On average, it now estimates the value of the house better by approximately 320.67 R$. However, using this method, we have removed 1161 observations, which is about 14.5% of our training dataset. This is a sizable chunk of the training data, which could possibly mean that we have also removed valid records from the training data, since it is hard to consider almost 15% of the data to be outliers. Finally, it is worth tinkering around with the scaling factor, k, when using this technique to possibly find the most optimal value. Both of these inquiries will be looked into in more detail in the later section"
   ]
  },
  {
   "cell_type": "markdown",
   "metadata": {},
   "source": [
    "### Numeric Outlier In Detail\n",
    "We will begin the detailed analysis by looking closer at the records we have originally removed to see whether it would have been better to actually keep them or not"
   ]
  },
  {
   "cell_type": "code",
   "execution_count": 12,
   "metadata": {},
   "outputs": [],
   "source": [
    "num_out_dropped = num_out_train.loc[list(combined)]\n",
    "custom_groups = {}\n",
    "for key, values in to_remove.items():\n",
    "    removed_obsv = num_out_dropped.loc[values]\n",
    "    custom_groups[key] = removed_obsv"
   ]
  },
  {
   "cell_type": "code",
   "execution_count": 13,
   "metadata": {},
   "outputs": [],
   "source": [
    "summary_table = pd.DataFrame([\"mean\", \"count\", \"min\", \"max\", \"std\"], columns=[\"metric\"])\n",
    "summary_table.set_index(\"metric\", inplace=True)\n",
    "for key in custom_groups.keys():\n",
    "    summary_table[key] = np.NaN"
   ]
  },
  {
   "cell_type": "code",
   "execution_count": 14,
   "metadata": {},
   "outputs": [
    {
     "data": {
      "text/html": [
       "<div>\n",
       "<style scoped>\n",
       "    .dataframe tbody tr th:only-of-type {\n",
       "        vertical-align: middle;\n",
       "    }\n",
       "\n",
       "    .dataframe tbody tr th {\n",
       "        vertical-align: top;\n",
       "    }\n",
       "\n",
       "    .dataframe thead th {\n",
       "        text-align: right;\n",
       "    }\n",
       "</style>\n",
       "<table border=\"1\" class=\"dataframe\">\n",
       "  <thead>\n",
       "    <tr style=\"text-align: right;\">\n",
       "      <th></th>\n",
       "      <th>area</th>\n",
       "      <th>rooms</th>\n",
       "      <th>bathroom</th>\n",
       "      <th>floor</th>\n",
       "      <th>total (R$)</th>\n",
       "    </tr>\n",
       "    <tr>\n",
       "      <th>metric</th>\n",
       "      <th></th>\n",
       "      <th></th>\n",
       "      <th></th>\n",
       "      <th></th>\n",
       "      <th></th>\n",
       "    </tr>\n",
       "  </thead>\n",
       "  <tbody>\n",
       "    <tr>\n",
       "      <th>mean</th>\n",
       "      <td>688.397260</td>\n",
       "      <td>5.501548</td>\n",
       "      <td>7.282051</td>\n",
       "      <td>23.855814</td>\n",
       "      <td>2.014214e+04</td>\n",
       "    </tr>\n",
       "    <tr>\n",
       "      <th>count</th>\n",
       "      <td>511.000000</td>\n",
       "      <td>323.000000</td>\n",
       "      <td>78.000000</td>\n",
       "      <td>215.000000</td>\n",
       "      <td>5.270000e+02</td>\n",
       "    </tr>\n",
       "    <tr>\n",
       "      <th>min</th>\n",
       "      <td>372.000000</td>\n",
       "      <td>5.000000</td>\n",
       "      <td>7.000000</td>\n",
       "      <td>19.000000</td>\n",
       "      <td>1.398000e+04</td>\n",
       "    </tr>\n",
       "    <tr>\n",
       "      <th>max</th>\n",
       "      <td>46335.000000</td>\n",
       "      <td>13.000000</td>\n",
       "      <td>10.000000</td>\n",
       "      <td>301.000000</td>\n",
       "      <td>1.120000e+06</td>\n",
       "    </tr>\n",
       "    <tr>\n",
       "      <th>std</th>\n",
       "      <td>2356.372676</td>\n",
       "      <td>0.950236</td>\n",
       "      <td>0.681813</td>\n",
       "      <td>19.384517</td>\n",
       "      <td>4.903646e+04</td>\n",
       "    </tr>\n",
       "  </tbody>\n",
       "</table>\n",
       "</div>"
      ],
      "text/plain": [
       "                area       rooms   bathroom       floor    total (R$)\n",
       "metric                                                               \n",
       "mean      688.397260    5.501548   7.282051   23.855814  2.014214e+04\n",
       "count     511.000000  323.000000  78.000000  215.000000  5.270000e+02\n",
       "min       372.000000    5.000000   7.000000   19.000000  1.398000e+04\n",
       "max     46335.000000   13.000000  10.000000  301.000000  1.120000e+06\n",
       "std      2356.372676    0.950236   0.681813   19.384517  4.903646e+04"
      ]
     },
     "execution_count": 14,
     "metadata": {},
     "output_type": "execute_result"
    }
   ],
   "source": [
    "for key, group in custom_groups.items():\n",
    "    summary_table.loc[\"mean\", key] = group[key].mean()\n",
    "    summary_table.loc[\"count\", key] = group[key].count()\n",
    "    summary_table.loc[\"min\", key] = group[key].min()\n",
    "    summary_table.loc[\"max\", key] = group[key].max()\n",
    "    summary_table.loc[\"std\", key] = group[key].std()\n",
    "summary_table"
   ]
  },
  {
   "cell_type": "markdown",
   "metadata": {},
   "source": [
    "The statistical summary above provides us with a good picture of whether the outliers we have removed were valid entries or not. Based on the maximum for 'area' and 'floor', we have removed some entries, whcih were most likely invalid. However, the minimum and the mean results for each of the columns possibly suggests that a majority of the entries we have removed were possibly valid entries, which should have been considered as part of the training data. This is especially the case if we look at the 'rooms' column, where the average is quite low and shows a plausible amount of rooms for a house. Based on this, we can say that most of the outliers that we have removed using the numeric outlier method were likely high-class houses, which are just not as frequent in the Brazilian house market. This suggests that we should increase the upper bound by increasing our scaling factor to include the more expensive houses within our dataset.\n",
    "\n",
    "Additionally, since the minimum values are quite high for each column, we know that the lower bound is fine and does not need to be focused on or modified."
   ]
  },
  {
   "cell_type": "markdown",
   "metadata": {},
   "source": [
    "### Numeric Outlier Conclusion"
   ]
  },
  {
   "cell_type": "markdown",
   "metadata": {},
   "source": [
    "Numeric Outlier was an incredibly simple method for detecting outliers, where we only had to calculate the upper and lower quartiles to use this method. Definitely, one of its disadvantages was that we had to apply this method to each column individually, meaning that the feature columns and the target were not considered collectively. \n",
    "\n",
    "Using this method, we have removed a large chunk of the training dataset - approximately 15% of the training dataset. Using the statistical summary, we saw that while we have removed the 'true' outliers, which were most likely data errors, we have also removed a majority of proper data for upper-class housing, which could make our model incredibly ineffective for those kind of houses. In general, I think this was an ineffective method for this particular dataset, since we lost a big chunk of useful data, and our model is likely ineffective for an entire segment of the house market. Perhaps, this method could be more useful if the data was more evenly spread out, meaning that there were just as many high-class houses as there were middle to lower-class houses in the dataset."
   ]
  },
  {
   "cell_type": "markdown",
   "metadata": {},
   "source": [
    "## Cook's Distance\n",
    "Cook's Distance is a really appropriate method for outlier detection in this case, since we are using Linear Regression and are attempting to improve our model by getting rid of outliers.\n",
    "\n",
    "To find Cook's distance, we will use the statsmodels library, which can automatically find Cook's distance."
   ]
  },
  {
   "cell_type": "code",
   "execution_count": 15,
   "metadata": {},
   "outputs": [],
   "source": [
    "# Check that this is actually how you're supposed to do it\n",
    "sm_model = sm.OLS(y_train, X_train).fit()\n",
    "influence = sm_model.get_influence()\n",
    "cooks = influence.cooks_distance[0]\n",
    "cooks_df = pd.DataFrame(cooks, columns=[\"cooks\"])\n",
    "cooks_df.index = X_train.index\n",
    "X_train_cooks = X_train.merge(cooks_df, left_index=True, right_index=True)"
   ]
  },
  {
   "cell_type": "code",
   "execution_count": 16,
   "metadata": {},
   "outputs": [],
   "source": [
    "cooks_threshold = 4/len(X_train_cooks)\n",
    "X_train_cooks_filtered = X_train_cooks[X_train_cooks[\"cooks\"] < cooks_threshold]\n",
    "y_train_cooks_filtered = y_train.loc[X_train_cooks_filtered.index]"
   ]
  },
  {
   "cell_type": "code",
   "execution_count": 17,
   "metadata": {},
   "outputs": [],
   "source": [
    "# Saving the removed observations for later analysis\n",
    "cooks_removed_X = X_train_cooks[X_train_cooks[\"cooks\"] >= cooks_threshold]\n",
    "cooks_removed_y = y_train.loc[cooks_removed_X.index]"
   ]
  },
  {
   "cell_type": "code",
   "execution_count": 18,
   "metadata": {},
   "outputs": [],
   "source": [
    "X_train_cooks_filtered.drop([\"cooks\"], axis=1, inplace=True)"
   ]
  },
  {
   "cell_type": "code",
   "execution_count": 19,
   "metadata": {},
   "outputs": [
    {
     "data": {
      "text/plain": [
       "2514.7279991582222"
      ]
     },
     "execution_count": 19,
     "metadata": {},
     "output_type": "execute_result"
    }
   ],
   "source": [
    "cooks_model = LinearRegression()\n",
    "cooks_model.fit(X_train_cooks_filtered, y_train_cooks_filtered)\n",
    "cooks_predictions = cooks_model.predict(X_test)\n",
    "cooks_mae = mean_absolute_error(cooks_predictions, y_test)\n",
    "cooks_mae"
   ]
  },
  {
   "cell_type": "code",
   "execution_count": 20,
   "metadata": {},
   "outputs": [
    {
     "data": {
      "text/plain": [
       "162.48715148402107"
      ]
     },
     "execution_count": 20,
     "metadata": {},
     "output_type": "execute_result"
    }
   ],
   "source": [
    "baseline_mae - cooks_mae"
   ]
  },
  {
   "cell_type": "code",
   "execution_count": 21,
   "metadata": {},
   "outputs": [
    {
     "data": {
      "text/plain": [
       "8"
      ]
     },
     "execution_count": 21,
     "metadata": {},
     "output_type": "execute_result"
    }
   ],
   "source": [
    "len(X_train_cooks) - len(X_train_cooks_filtered)"
   ]
  },
  {
   "cell_type": "markdown",
   "metadata": {},
   "source": [
    "By removing just 8 observations from the training dataset using Cook's distance, we have improved the accuracy of our model by ~162.49, which is a decent increase in the performance. This result shows how sensetive linear regression is to outliers, since we only removed 8 observations. We should look at those observations in more detail...\n",
    "\n",
    "### Cook's Distance in More Detail"
   ]
  },
  {
   "cell_type": "code",
   "execution_count": 22,
   "metadata": {},
   "outputs": [
    {
     "data": {
      "text/html": [
       "<div>\n",
       "<style scoped>\n",
       "    .dataframe tbody tr th:only-of-type {\n",
       "        vertical-align: middle;\n",
       "    }\n",
       "\n",
       "    .dataframe tbody tr th {\n",
       "        vertical-align: top;\n",
       "    }\n",
       "\n",
       "    .dataframe thead th {\n",
       "        text-align: right;\n",
       "    }\n",
       "</style>\n",
       "<table border=\"1\" class=\"dataframe\">\n",
       "  <thead>\n",
       "    <tr style=\"text-align: right;\">\n",
       "      <th></th>\n",
       "      <th>area</th>\n",
       "      <th>rooms</th>\n",
       "      <th>bathroom</th>\n",
       "      <th>parking spaces</th>\n",
       "      <th>floor</th>\n",
       "      <th>0</th>\n",
       "      <th>1</th>\n",
       "      <th>2</th>\n",
       "      <th>3</th>\n",
       "      <th>4</th>\n",
       "      <th>5</th>\n",
       "      <th>6</th>\n",
       "      <th>7</th>\n",
       "      <th>8</th>\n",
       "      <th>cooks</th>\n",
       "      <th>total (R$)</th>\n",
       "    </tr>\n",
       "  </thead>\n",
       "  <tbody>\n",
       "    <tr>\n",
       "      <th>6230</th>\n",
       "      <td>340</td>\n",
       "      <td>5</td>\n",
       "      <td>4</td>\n",
       "      <td>2</td>\n",
       "      <td>7</td>\n",
       "      <td>0.0</td>\n",
       "      <td>0.0</td>\n",
       "      <td>0.0</td>\n",
       "      <td>0.0</td>\n",
       "      <td>1.0</td>\n",
       "      <td>1.0</td>\n",
       "      <td>0.0</td>\n",
       "      <td>0.0</td>\n",
       "      <td>1.0</td>\n",
       "      <td>0.023421</td>\n",
       "      <td>233200</td>\n",
       "    </tr>\n",
       "    <tr>\n",
       "      <th>6947</th>\n",
       "      <td>486</td>\n",
       "      <td>8</td>\n",
       "      <td>4</td>\n",
       "      <td>6</td>\n",
       "      <td>0</td>\n",
       "      <td>0.0</td>\n",
       "      <td>0.0</td>\n",
       "      <td>0.0</td>\n",
       "      <td>0.0</td>\n",
       "      <td>1.0</td>\n",
       "      <td>1.0</td>\n",
       "      <td>0.0</td>\n",
       "      <td>0.0</td>\n",
       "      <td>1.0</td>\n",
       "      <td>0.000656</td>\n",
       "      <td>27580</td>\n",
       "    </tr>\n",
       "    <tr>\n",
       "      <th>5915</th>\n",
       "      <td>24606</td>\n",
       "      <td>5</td>\n",
       "      <td>4</td>\n",
       "      <td>4</td>\n",
       "      <td>12</td>\n",
       "      <td>0.0</td>\n",
       "      <td>0.0</td>\n",
       "      <td>0.0</td>\n",
       "      <td>0.0</td>\n",
       "      <td>1.0</td>\n",
       "      <td>1.0</td>\n",
       "      <td>0.0</td>\n",
       "      <td>0.0</td>\n",
       "      <td>1.0</td>\n",
       "      <td>0.003419</td>\n",
       "      <td>18320</td>\n",
       "    </tr>\n",
       "    <tr>\n",
       "      <th>2182</th>\n",
       "      <td>700</td>\n",
       "      <td>4</td>\n",
       "      <td>7</td>\n",
       "      <td>8</td>\n",
       "      <td>0</td>\n",
       "      <td>0.0</td>\n",
       "      <td>0.0</td>\n",
       "      <td>0.0</td>\n",
       "      <td>0.0</td>\n",
       "      <td>1.0</td>\n",
       "      <td>1.0</td>\n",
       "      <td>0.0</td>\n",
       "      <td>0.0</td>\n",
       "      <td>1.0</td>\n",
       "      <td>0.001899</td>\n",
       "      <td>54430</td>\n",
       "    </tr>\n",
       "    <tr>\n",
       "      <th>1444</th>\n",
       "      <td>42</td>\n",
       "      <td>1</td>\n",
       "      <td>1</td>\n",
       "      <td>0</td>\n",
       "      <td>10</td>\n",
       "      <td>0.0</td>\n",
       "      <td>0.0</td>\n",
       "      <td>1.0</td>\n",
       "      <td>0.0</td>\n",
       "      <td>0.0</td>\n",
       "      <td>1.0</td>\n",
       "      <td>0.0</td>\n",
       "      <td>0.0</td>\n",
       "      <td>1.0</td>\n",
       "      <td>0.000620</td>\n",
       "      <td>32750</td>\n",
       "    </tr>\n",
       "    <tr>\n",
       "      <th>2562</th>\n",
       "      <td>80</td>\n",
       "      <td>3</td>\n",
       "      <td>2</td>\n",
       "      <td>2</td>\n",
       "      <td>301</td>\n",
       "      <td>1.0</td>\n",
       "      <td>0.0</td>\n",
       "      <td>0.0</td>\n",
       "      <td>0.0</td>\n",
       "      <td>0.0</td>\n",
       "      <td>1.0</td>\n",
       "      <td>0.0</td>\n",
       "      <td>0.0</td>\n",
       "      <td>1.0</td>\n",
       "      <td>0.135276</td>\n",
       "      <td>3549</td>\n",
       "    </tr>\n",
       "    <tr>\n",
       "      <th>2397</th>\n",
       "      <td>46335</td>\n",
       "      <td>4</td>\n",
       "      <td>8</td>\n",
       "      <td>5</td>\n",
       "      <td>11</td>\n",
       "      <td>1.0</td>\n",
       "      <td>0.0</td>\n",
       "      <td>0.0</td>\n",
       "      <td>0.0</td>\n",
       "      <td>0.0</td>\n",
       "      <td>1.0</td>\n",
       "      <td>0.0</td>\n",
       "      <td>1.0</td>\n",
       "      <td>0.0</td>\n",
       "      <td>1.006456</td>\n",
       "      <td>10220</td>\n",
       "    </tr>\n",
       "    <tr>\n",
       "      <th>255</th>\n",
       "      <td>155</td>\n",
       "      <td>1</td>\n",
       "      <td>4</td>\n",
       "      <td>0</td>\n",
       "      <td>4</td>\n",
       "      <td>1.0</td>\n",
       "      <td>0.0</td>\n",
       "      <td>0.0</td>\n",
       "      <td>0.0</td>\n",
       "      <td>0.0</td>\n",
       "      <td>0.0</td>\n",
       "      <td>1.0</td>\n",
       "      <td>0.0</td>\n",
       "      <td>1.0</td>\n",
       "      <td>2.100990</td>\n",
       "      <td>1120000</td>\n",
       "    </tr>\n",
       "  </tbody>\n",
       "</table>\n",
       "</div>"
      ],
      "text/plain": [
       "       area  rooms  bathroom  parking spaces  floor    0    1    2    3    4  \\\n",
       "6230    340      5         4               2      7  0.0  0.0  0.0  0.0  1.0   \n",
       "6947    486      8         4               6      0  0.0  0.0  0.0  0.0  1.0   \n",
       "5915  24606      5         4               4     12  0.0  0.0  0.0  0.0  1.0   \n",
       "2182    700      4         7               8      0  0.0  0.0  0.0  0.0  1.0   \n",
       "1444     42      1         1               0     10  0.0  0.0  1.0  0.0  0.0   \n",
       "2562     80      3         2               2    301  1.0  0.0  0.0  0.0  0.0   \n",
       "2397  46335      4         8               5     11  1.0  0.0  0.0  0.0  0.0   \n",
       "255     155      1         4               0      4  1.0  0.0  0.0  0.0  0.0   \n",
       "\n",
       "        5    6    7    8     cooks  total (R$)  \n",
       "6230  1.0  0.0  0.0  1.0  0.023421      233200  \n",
       "6947  1.0  0.0  0.0  1.0  0.000656       27580  \n",
       "5915  1.0  0.0  0.0  1.0  0.003419       18320  \n",
       "2182  1.0  0.0  0.0  1.0  0.001899       54430  \n",
       "1444  1.0  0.0  0.0  1.0  0.000620       32750  \n",
       "2562  1.0  0.0  0.0  1.0  0.135276        3549  \n",
       "2397  1.0  0.0  1.0  0.0  1.006456       10220  \n",
       "255   0.0  1.0  0.0  1.0  2.100990     1120000  "
      ]
     },
     "execution_count": 22,
     "metadata": {},
     "output_type": "execute_result"
    }
   ],
   "source": [
    "cooks_removed_X.merge(cooks_removed_y, left_index=True, right_index=True)"
   ]
  },
  {
   "cell_type": "markdown",
   "metadata": {},
   "source": [
    "As we can see, some of these records are clearly entry errors, such as records 2562 or 2397. Additionally, using the method, we have also removed  records such as 1444 or 6947, where there is nothing outright wrong with them at first. However, since Cook's Distance considers the data collectively, we managed to spot the records where the target was too high for housing with those features. Those could be 'true' observations; however, as shown by Cook's Distance, they are incredibly unlikely and are most likely errors in data entry. This is especially useful, since I do not have much knowledge about the Brazilian house market nor are these entries immediately recognizable in a large dataset."
   ]
  },
  {
   "cell_type": "markdown",
   "metadata": {},
   "source": [
    "### Cook's Distance Conclusion"
   ]
  },
  {
   "cell_type": "markdown",
   "metadata": {},
   "source": [
    "Although we have not seen such an increase in performance by using Cook's Distance when compared to numeric outliers, we can be confident that the records we have removed were most-likely data entry errors. \n",
    "\n",
    "Using this dataset, we saw that Cook's Distance can be quite powerful and effective. It is especially useful if you are not knowledgable about the data or its context. The disadvantage of this method is that it is more mathematically difficult than numeric outliers method for instance. It also requires you to import the statsmodel library, but this, in my opinion, is not a significant drawback. Some might argue that since we have not seen such a large increase in the performance, this method is not that effective; however, we have only removed 8 outliers, but have still seen a relatively significant increase in the model. Furthermore, the dataset contains housing from different segments, which handicaps linear regression quite a bit, so the lack of strong performance is not necessarily the fault of Cook's Distance."
   ]
  },
  {
   "cell_type": "markdown",
   "metadata": {},
   "source": [
    "## Mahalanobis Distance\n",
    "Mahalanobis Distance is another useful method for detecting outliers in multivariate data. "
   ]
  },
  {
   "cell_type": "code",
   "execution_count": 23,
   "metadata": {},
   "outputs": [],
   "source": [
    "mahalanobis_train = X_train.merge(y_train, left_index=True, right_index=True)\n",
    "inv_covmat = np.linalg.pinv(mahalanobis_train.cov())\n",
    "# I have used pseudo-inverse, since the np library throws a Singular Matrix error when using the standard inverse\n",
    "mean = np.mean(mahalanobis_train)\n",
    "mahalanobis_train[\"mahalanobis_distance\"] = np.NaN"
   ]
  },
  {
   "cell_type": "code",
   "execution_count": 24,
   "metadata": {},
   "outputs": [],
   "source": [
    "for index, values in mahalanobis_train.iterrows():\n",
    "    values = values[0:15]\n",
    "    mahalanobis_train.loc[index, \"mahalanobis_distance\"] = mahalanobis(values, mean, inv_covmat)"
   ]
  },
  {
   "cell_type": "code",
   "execution_count": 25,
   "metadata": {},
   "outputs": [],
   "source": [
    "mahalanobis_threshold = chi2.ppf(0.95, mahalanobis_train.shape[1] - 1)\n",
    "mahalanobis_filtered = mahalanobis_train[mahalanobis_train[\"mahalanobis_distance\"] < mahalanobis_threshold]\n",
    "mahalanobis_removed = mahalanobis_train[mahalanobis_train[\"mahalanobis_distance\"] >= mahalanobis_threshold]"
   ]
  },
  {
   "cell_type": "code",
   "execution_count": 26,
   "metadata": {},
   "outputs": [
    {
     "data": {
      "text/plain": [
       "2523.9343585030283"
      ]
     },
     "execution_count": 26,
     "metadata": {},
     "output_type": "execute_result"
    }
   ],
   "source": [
    "mahalanobis_X_test = mahalanobis_filtered.iloc[:,0:14]\n",
    "mahalanobis_y_test = mahalanobis_filtered.iloc[:, 14]\n",
    "mahalanobis_model = LinearRegression()\n",
    "mahalanobis_model.fit(mahalanobis_X_test, mahalanobis_y_test)\n",
    "mahalanobis_predictions = mahalanobis_model.predict(X_test)\n",
    "mahalanobis_mae = mean_absolute_error(mahalanobis_predictions, y_test)\n",
    "mahalanobis_mae"
   ]
  },
  {
   "cell_type": "code",
   "execution_count": 27,
   "metadata": {},
   "outputs": [
    {
     "data": {
      "text/plain": [
       "153.280792139215"
      ]
     },
     "execution_count": 27,
     "metadata": {},
     "output_type": "execute_result"
    }
   ],
   "source": [
    "baseline_mae - mahalanobis_mae"
   ]
  },
  {
   "cell_type": "code",
   "execution_count": 28,
   "metadata": {},
   "outputs": [
    {
     "data": {
      "text/plain": [
       "9.20635934480606"
      ]
     },
     "execution_count": 28,
     "metadata": {},
     "output_type": "execute_result"
    }
   ],
   "source": [
    "mahalanobis_mae - cooks_mae"
   ]
  },
  {
   "cell_type": "code",
   "execution_count": 29,
   "metadata": {},
   "outputs": [
    {
     "data": {
      "text/plain": [
       "4"
      ]
     },
     "execution_count": 29,
     "metadata": {},
     "output_type": "execute_result"
    }
   ],
   "source": [
    "len(mahalanobis_removed)"
   ]
  },
  {
   "cell_type": "markdown",
   "metadata": {},
   "source": [
    "This time, we have only removed 4 records; however, we still saw a substantial increase in the performance of the model. Indeed, the Cook's Distance method performed better only by ~9.21 R$ on average, despite removing 4 more records. This could suggest two things:\n",
    "- the records that we have just removed contributed to the performance significantly more than the records we haven't removed\n",
    "- we have removed different observations from the dataset\n",
    "\n",
    "We are going to investigate this in the next section\n",
    "\n",
    "### Mahalanobis's Distance In Detail"
   ]
  },
  {
   "cell_type": "code",
   "execution_count": 30,
   "metadata": {},
   "outputs": [
    {
     "data": {
      "text/html": [
       "<div>\n",
       "<style scoped>\n",
       "    .dataframe tbody tr th:only-of-type {\n",
       "        vertical-align: middle;\n",
       "    }\n",
       "\n",
       "    .dataframe tbody tr th {\n",
       "        vertical-align: top;\n",
       "    }\n",
       "\n",
       "    .dataframe thead th {\n",
       "        text-align: right;\n",
       "    }\n",
       "</style>\n",
       "<table border=\"1\" class=\"dataframe\">\n",
       "  <thead>\n",
       "    <tr style=\"text-align: right;\">\n",
       "      <th></th>\n",
       "      <th>area</th>\n",
       "      <th>rooms</th>\n",
       "      <th>bathroom</th>\n",
       "      <th>parking spaces</th>\n",
       "      <th>floor</th>\n",
       "      <th>0</th>\n",
       "      <th>1</th>\n",
       "      <th>2</th>\n",
       "      <th>3</th>\n",
       "      <th>4</th>\n",
       "      <th>5</th>\n",
       "      <th>6</th>\n",
       "      <th>7</th>\n",
       "      <th>8</th>\n",
       "      <th>total (R$)</th>\n",
       "      <th>mahalanobis_distance</th>\n",
       "    </tr>\n",
       "  </thead>\n",
       "  <tbody>\n",
       "    <tr>\n",
       "      <th>5915</th>\n",
       "      <td>24606</td>\n",
       "      <td>5</td>\n",
       "      <td>4</td>\n",
       "      <td>4</td>\n",
       "      <td>12</td>\n",
       "      <td>0.0</td>\n",
       "      <td>0.0</td>\n",
       "      <td>0.0</td>\n",
       "      <td>0.0</td>\n",
       "      <td>1.0</td>\n",
       "      <td>1.0</td>\n",
       "      <td>0.0</td>\n",
       "      <td>0.0</td>\n",
       "      <td>1.0</td>\n",
       "      <td>18320</td>\n",
       "      <td>40.483562</td>\n",
       "    </tr>\n",
       "    <tr>\n",
       "      <th>2562</th>\n",
       "      <td>80</td>\n",
       "      <td>3</td>\n",
       "      <td>2</td>\n",
       "      <td>2</td>\n",
       "      <td>301</td>\n",
       "      <td>1.0</td>\n",
       "      <td>0.0</td>\n",
       "      <td>0.0</td>\n",
       "      <td>0.0</td>\n",
       "      <td>0.0</td>\n",
       "      <td>1.0</td>\n",
       "      <td>0.0</td>\n",
       "      <td>0.0</td>\n",
       "      <td>1.0</td>\n",
       "      <td>3549</td>\n",
       "      <td>47.864910</td>\n",
       "    </tr>\n",
       "    <tr>\n",
       "      <th>2397</th>\n",
       "      <td>46335</td>\n",
       "      <td>4</td>\n",
       "      <td>8</td>\n",
       "      <td>5</td>\n",
       "      <td>11</td>\n",
       "      <td>1.0</td>\n",
       "      <td>0.0</td>\n",
       "      <td>0.0</td>\n",
       "      <td>0.0</td>\n",
       "      <td>0.0</td>\n",
       "      <td>1.0</td>\n",
       "      <td>0.0</td>\n",
       "      <td>1.0</td>\n",
       "      <td>0.0</td>\n",
       "      <td>10220</td>\n",
       "      <td>76.215416</td>\n",
       "    </tr>\n",
       "    <tr>\n",
       "      <th>255</th>\n",
       "      <td>155</td>\n",
       "      <td>1</td>\n",
       "      <td>4</td>\n",
       "      <td>0</td>\n",
       "      <td>4</td>\n",
       "      <td>1.0</td>\n",
       "      <td>0.0</td>\n",
       "      <td>0.0</td>\n",
       "      <td>0.0</td>\n",
       "      <td>0.0</td>\n",
       "      <td>0.0</td>\n",
       "      <td>1.0</td>\n",
       "      <td>0.0</td>\n",
       "      <td>1.0</td>\n",
       "      <td>1120000</td>\n",
       "      <td>85.500535</td>\n",
       "    </tr>\n",
       "  </tbody>\n",
       "</table>\n",
       "</div>"
      ],
      "text/plain": [
       "       area  rooms  bathroom  parking spaces  floor    0    1    2    3    4  \\\n",
       "5915  24606      5         4               4     12  0.0  0.0  0.0  0.0  1.0   \n",
       "2562     80      3         2               2    301  1.0  0.0  0.0  0.0  0.0   \n",
       "2397  46335      4         8               5     11  1.0  0.0  0.0  0.0  0.0   \n",
       "255     155      1         4               0      4  1.0  0.0  0.0  0.0  0.0   \n",
       "\n",
       "        5    6    7    8  total (R$)  mahalanobis_distance  \n",
       "5915  1.0  0.0  0.0  1.0       18320             40.483562  \n",
       "2562  1.0  0.0  0.0  1.0        3549             47.864910  \n",
       "2397  1.0  0.0  1.0  0.0       10220             76.215416  \n",
       "255   0.0  1.0  0.0  1.0     1120000             85.500535  "
      ]
     },
     "execution_count": 30,
     "metadata": {},
     "output_type": "execute_result"
    }
   ],
   "source": [
    "mahalanobis_removed"
   ]
  },
  {
   "cell_type": "markdown",
   "metadata": {},
   "source": [
    "As we can see, Mahalanobis Distance removed half of the records that Cook's Distance has removed. These are the records, where data entry is quite clearly incorrect. We did not, however, remove the 4 records, which seemed fine, but were most likely incorrect or did not make sense collectively. Perhaps, if we expanded the margin those records would be included."
   ]
  },
  {
   "cell_type": "code",
   "execution_count": 35,
   "metadata": {},
   "outputs": [
    {
     "data": {
      "text/html": [
       "<div>\n",
       "<style scoped>\n",
       "    .dataframe tbody tr th:only-of-type {\n",
       "        vertical-align: middle;\n",
       "    }\n",
       "\n",
       "    .dataframe tbody tr th {\n",
       "        vertical-align: top;\n",
       "    }\n",
       "\n",
       "    .dataframe thead th {\n",
       "        text-align: right;\n",
       "    }\n",
       "</style>\n",
       "<table border=\"1\" class=\"dataframe\">\n",
       "  <thead>\n",
       "    <tr style=\"text-align: right;\">\n",
       "      <th></th>\n",
       "      <th>area</th>\n",
       "      <th>rooms</th>\n",
       "      <th>bathroom</th>\n",
       "      <th>parking spaces</th>\n",
       "      <th>floor</th>\n",
       "      <th>0</th>\n",
       "      <th>1</th>\n",
       "      <th>2</th>\n",
       "      <th>3</th>\n",
       "      <th>4</th>\n",
       "      <th>5</th>\n",
       "      <th>6</th>\n",
       "      <th>7</th>\n",
       "      <th>8</th>\n",
       "      <th>total (R$)</th>\n",
       "      <th>mahalanobis_distance</th>\n",
       "    </tr>\n",
       "  </thead>\n",
       "  <tbody>\n",
       "    <tr>\n",
       "      <th>5915</th>\n",
       "      <td>24606</td>\n",
       "      <td>5</td>\n",
       "      <td>4</td>\n",
       "      <td>4</td>\n",
       "      <td>12</td>\n",
       "      <td>0.0</td>\n",
       "      <td>0.0</td>\n",
       "      <td>0.0</td>\n",
       "      <td>0.0</td>\n",
       "      <td>1.0</td>\n",
       "      <td>1.0</td>\n",
       "      <td>0.0</td>\n",
       "      <td>0.0</td>\n",
       "      <td>1.0</td>\n",
       "      <td>18320</td>\n",
       "      <td>40.483562</td>\n",
       "    </tr>\n",
       "    <tr>\n",
       "      <th>2562</th>\n",
       "      <td>80</td>\n",
       "      <td>3</td>\n",
       "      <td>2</td>\n",
       "      <td>2</td>\n",
       "      <td>301</td>\n",
       "      <td>1.0</td>\n",
       "      <td>0.0</td>\n",
       "      <td>0.0</td>\n",
       "      <td>0.0</td>\n",
       "      <td>0.0</td>\n",
       "      <td>1.0</td>\n",
       "      <td>0.0</td>\n",
       "      <td>0.0</td>\n",
       "      <td>1.0</td>\n",
       "      <td>3549</td>\n",
       "      <td>47.864910</td>\n",
       "    </tr>\n",
       "    <tr>\n",
       "      <th>9241</th>\n",
       "      <td>12732</td>\n",
       "      <td>3</td>\n",
       "      <td>2</td>\n",
       "      <td>0</td>\n",
       "      <td>3</td>\n",
       "      <td>0.0</td>\n",
       "      <td>1.0</td>\n",
       "      <td>0.0</td>\n",
       "      <td>0.0</td>\n",
       "      <td>0.0</td>\n",
       "      <td>1.0</td>\n",
       "      <td>0.0</td>\n",
       "      <td>0.0</td>\n",
       "      <td>1.0</td>\n",
       "      <td>2417</td>\n",
       "      <td>21.333782</td>\n",
       "    </tr>\n",
       "    <tr>\n",
       "      <th>2397</th>\n",
       "      <td>46335</td>\n",
       "      <td>4</td>\n",
       "      <td>8</td>\n",
       "      <td>5</td>\n",
       "      <td>11</td>\n",
       "      <td>1.0</td>\n",
       "      <td>0.0</td>\n",
       "      <td>0.0</td>\n",
       "      <td>0.0</td>\n",
       "      <td>0.0</td>\n",
       "      <td>1.0</td>\n",
       "      <td>0.0</td>\n",
       "      <td>1.0</td>\n",
       "      <td>0.0</td>\n",
       "      <td>10220</td>\n",
       "      <td>76.215416</td>\n",
       "    </tr>\n",
       "    <tr>\n",
       "      <th>255</th>\n",
       "      <td>155</td>\n",
       "      <td>1</td>\n",
       "      <td>4</td>\n",
       "      <td>0</td>\n",
       "      <td>4</td>\n",
       "      <td>1.0</td>\n",
       "      <td>0.0</td>\n",
       "      <td>0.0</td>\n",
       "      <td>0.0</td>\n",
       "      <td>0.0</td>\n",
       "      <td>0.0</td>\n",
       "      <td>1.0</td>\n",
       "      <td>0.0</td>\n",
       "      <td>1.0</td>\n",
       "      <td>1120000</td>\n",
       "      <td>85.500535</td>\n",
       "    </tr>\n",
       "  </tbody>\n",
       "</table>\n",
       "</div>"
      ],
      "text/plain": [
       "       area  rooms  bathroom  parking spaces  floor    0    1    2    3    4  \\\n",
       "5915  24606      5         4               4     12  0.0  0.0  0.0  0.0  1.0   \n",
       "2562     80      3         2               2    301  1.0  0.0  0.0  0.0  0.0   \n",
       "9241  12732      3         2               0      3  0.0  1.0  0.0  0.0  0.0   \n",
       "2397  46335      4         8               5     11  1.0  0.0  0.0  0.0  0.0   \n",
       "255     155      1         4               0      4  1.0  0.0  0.0  0.0  0.0   \n",
       "\n",
       "        5    6    7    8  total (R$)  mahalanobis_distance  \n",
       "5915  1.0  0.0  0.0  1.0       18320             40.483562  \n",
       "2562  1.0  0.0  0.0  1.0        3549             47.864910  \n",
       "9241  1.0  0.0  0.0  1.0        2417             21.333782  \n",
       "2397  1.0  0.0  1.0  0.0       10220             76.215416  \n",
       "255   0.0  1.0  0.0  1.0     1120000             85.500535  "
      ]
     },
     "execution_count": 35,
     "metadata": {},
     "output_type": "execute_result"
    }
   ],
   "source": [
    "mahalanobis_threshold_80 = chi2.ppf(0.8, mahalanobis_train.shape[1] - 1)\n",
    "mahalanobis_train_80_removed = mahalanobis_train[mahalanobis_train[\"mahalanobis_distance\"] >= mahalanobis_threshold_80]\n",
    "mahalanobis_train_80_removed"
   ]
  },
  {
   "cell_type": "markdown",
   "metadata": {},
   "source": [
    "Interestingly, although we expanded the two-tailed margin by quite a bit, we have only obtained one additional observation with the index 9241. This observation was not spotted by Cook's Distance, although it is most likely an error in data-entry, since it has incredibly huge area. This puts Cook's Distance effectiveness into question, since it has not spotted this particular outlier. We should check whether it affects the performance of the model or not."
   ]
  },
  {
   "cell_type": "code",
   "execution_count": 124,
   "metadata": {},
   "outputs": [
    {
     "data": {
      "text/plain": [
       "2428.638517498439"
      ]
     },
     "execution_count": 124,
     "metadata": {},
     "output_type": "execute_result"
    }
   ],
   "source": [
    "mahalanobis_train_80 = mahalanobis_train[mahalanobis_train[\"mahalanobis_distance\"] < mahalanobis_threshold_80]\n",
    "mahalanobis_X_test_80 = mahalanobis_train_80.iloc[:,0:14]\n",
    "mahalanobis_y_test_80 = mahalanobis_train_80.iloc[:, 14]\n",
    "mahalanobis_model_80 = LinearRegression()\n",
    "mahalanobis_model_80.fit(mahalanobis_X_test_80, mahalanobis_y_test_80)\n",
    "mahalanobis_predictions_80 = mahalanobis_model_80.predict(X_test)\n",
    "mahalanobis_mae_80 = mean_absolute_error(mahalanobis_predictions_80, y_test)\n",
    "mahalanobis_mae_80"
   ]
  },
  {
   "cell_type": "markdown",
   "metadata": {},
   "source": [
    "As you can see, by filtering out the observation 1492, we have increased the performance of our model substantilly, despite removing only one record. Perhaps it is worth expanding the range in order to remove as many outliers as possible; however, this comes with a risk of removing valid data entries. Thus, the process will need to be monitored closely to ensure that no valid records are removed from the training dataset."
   ]
  },
  {
   "cell_type": "markdown",
   "metadata": {},
   "source": [
    "### Mahalanobis's Distance Conclusion\n",
    "Despite being a similar method to Cook's Distance, Mahalanobis's Distance is capable of detecting different outliers, as we saw previously, when we expanded the range. Additionally, we saw that, even when the range was relatively limited, the method detected the most influential outliers, making it quite effective and efficient. However, I think it is still quite important to play around with this method to ensure that all of the outliers are removed. Additionally, Mahalanobis Distance could be used in combination with Cook's Distance, since, as we saw previosuly, they can spot different outliers, which have a strong impact on the model. Also, by finding the same outliers, we gain more confidence to remove them.\n",
    "\n",
    "Finally, as stated in the previous section, it is worth playing around with this method when analyzing datasets by expanding the detection range. However, this can only work properly when you're able to check the validity of the observations yourself to ensure that no 'true' records are removed."
   ]
  },
  {
   "cell_type": "markdown",
   "metadata": {},
   "source": [
    "## DBSCAN (Density Based Spatial Clustering of Applications with Noise)"
   ]
  },
  {
   "cell_type": "code",
   "execution_count": 37,
   "metadata": {},
   "outputs": [
    {
     "data": {
      "text/plain": [
       "DBSCAN()"
      ]
     },
     "execution_count": 37,
     "metadata": {},
     "output_type": "execute_result"
    }
   ],
   "source": [
    "dbscan_train = X_train.merge(y_train, left_index=True, right_index=True)\n",
    "dbscan = DBSCAN(eps=0.5, min_samples=5)\n",
    "dbscan.fit(dbscan_train)"
   ]
  },
  {
   "cell_type": "code",
   "execution_count": 38,
   "metadata": {},
   "outputs": [
    {
     "data": {
      "text/plain": [
       "7955"
      ]
     },
     "execution_count": 38,
     "metadata": {},
     "output_type": "execute_result"
    }
   ],
   "source": [
    "unique = []\n",
    "outlier_count = 0\n",
    "for value in dbscan.labels_:\n",
    "    if value not in unique:\n",
    "        unique.append(value)\n",
    "    if value == -1:\n",
    "        outlier_count += 1\n",
    "outlier_count"
   ]
  },
  {
   "cell_type": "code",
   "execution_count": 39,
   "metadata": {},
   "outputs": [
    {
     "data": {
      "text/plain": [
       "99.20189549819179"
      ]
     },
     "execution_count": 39,
     "metadata": {},
     "output_type": "execute_result"
    }
   ],
   "source": [
    "outlier_count / len(X_train) * 100"
   ]
  },
  {
   "cell_type": "markdown",
   "metadata": {},
   "source": [
    "One of the main issues with using DBSCAN is having to be careful by setting your own parameters. As you can see, if we keep the epsilon at its default value, then we get 7955 outliers, which is over 99% of our training dataset. It is not immediately clear what the epsilon value should be, so we will run an experiment to attempt to determine the best epsilon value for this dataset. We will increment the epsilon value by 0.5, starting from 0.5, and measure the MAE for new training datasets to determine the most optimal epsilon value."
   ]
  },
  {
   "cell_type": "code",
   "execution_count": 40,
   "metadata": {},
   "outputs": [],
   "source": [
    "eps_list = [i for i in np.arange(0.5, 200.5, 1)]\n",
    "mae_list = []\n",
    "removed_list = []\n",
    "for eps in eps_list:\n",
    "    dbscan = DBSCAN(eps=eps)\n",
    "    dbscan.fit(dbscan_train)\n",
    "    labels_df = pd.DataFrame(dbscan.labels_, columns=[\"labels\"])\n",
    "    labels_df.index = dbscan_train.index\n",
    "    current_copy = dbscan_train.copy()\n",
    "    current_copy = current_copy.merge(labels_df, right_index=True, left_index=True)\n",
    "    removed = len(current_copy[current_copy[\"labels\"] == -1])\n",
    "    removed_list.append(removed)\n",
    "    current_copy = current_copy[current_copy[\"labels\"] >= 0]\n",
    "    dbscan_X = current_copy.iloc[:, :14]\n",
    "    dbscan_y = current_copy.iloc[:, 14]\n",
    "    dbscan_regress = LinearRegression()\n",
    "    dbscan_regress.fit(dbscan_X, dbscan_y)\n",
    "    dbscan_predictions = dbscan_regress.predict(X_test)\n",
    "    dbscan_mae = mean_absolute_error(dbscan_predictions, y_test)\n",
    "    mae_list.append(dbscan_mae)    "
   ]
  },
  {
   "cell_type": "code",
   "execution_count": 30,
   "metadata": {},
   "outputs": [
    {
     "data": {
      "text/plain": [
       "<AxesSubplot:title={'center':'Amount of Observations Removed'}>"
      ]
     },
     "execution_count": 30,
     "metadata": {},
     "output_type": "execute_result"
    },
    {
     "data": {
      "image/png": "[encoded data removed]",
      "text/plain": [
       "<Figure size 864x576 with 2 Axes>"
      ]
     },
     "metadata": {
      "needs_background": "light"
     },
     "output_type": "display_data"
    }
   ],
   "source": [
    "fig, ax = plt.subplots(1, 2, figsize=(12,8))\n",
    "fig.suptitle(\"DBSCAN Testing\")\n",
    "ax[0].set_title(\"Linear Regression MAE\")\n",
    "ax[1].set_title(\"Amount of Observations Removed\")\n",
    "sns.lineplot(x=eps_list, y=mae_list, ax=ax[0])\n",
    "sns.scatterplot(x=eps_list, y=removed_list, ax=ax[1])"
   ]
  },
  {
   "cell_type": "markdown",
   "metadata": {},
   "source": [
    "As can be seen from the plots above, when we begin to increase the epsilon value, the model's MAE begins to decrease rapdily, until it levels off at around 50, and begins to increase after 60. The amount of observations that we remove also rapdily decreases and continues to do so as we increase our epsilon value. \n",
    "\n",
    "Interestingly, this method has removed the most observations from the record. At its lowest MAE, DBSCAN has deemed just less than 1000 observations as outliers, a lot more than what we got using Cook's Distance or Mahalanobis's Distance. This doesn't necessarily suggest that these observations were outliers. It is best to look into these observations in more detail in order to understand why the algorithm classified them as outliers.\n",
    "\n",
    "### DBSCAN In More Detail"
   ]
  },
  {
   "cell_type": "code",
   "execution_count": 44,
   "metadata": {},
   "outputs": [
    {
     "data": {
      "text/plain": [
       "1027"
      ]
     },
     "execution_count": 44,
     "metadata": {},
     "output_type": "execute_result"
    }
   ],
   "source": [
    "eps = 50.5\n",
    "dbscan_50 = DBSCAN(eps=eps)\n",
    "dbscan_50.fit(dbscan_train)\n",
    "labels_df_50 = pd.DataFrame(dbscan_50.labels_, columns=[\"labels\"])\n",
    "labels_df_50.index = dbscan_train.index\n",
    "outliers_index = labels_df_50[labels_df_50[\"labels\"] == -1].index\n",
    "outliers_dbscan = dbscan_train.loc[outliers_index]\n",
    "len(outliers_dbscan)"
   ]
  },
  {
   "cell_type": "markdown",
   "metadata": {},
   "source": [
    "Due to the large amount of observations removed, we will instead look at the summary statistics for these observations, as well as a few samples from the removed data "
   ]
  },
  {
   "cell_type": "code",
   "execution_count": 45,
   "metadata": {},
   "outputs": [
    {
     "data": {
      "text/html": [
       "<div>\n",
       "<style scoped>\n",
       "    .dataframe tbody tr th:only-of-type {\n",
       "        vertical-align: middle;\n",
       "    }\n",
       "\n",
       "    .dataframe tbody tr th {\n",
       "        vertical-align: top;\n",
       "    }\n",
       "\n",
       "    .dataframe thead th {\n",
       "        text-align: right;\n",
       "    }\n",
       "</style>\n",
       "<table border=\"1\" class=\"dataframe\">\n",
       "  <thead>\n",
       "    <tr style=\"text-align: right;\">\n",
       "      <th></th>\n",
       "      <th>area</th>\n",
       "      <th>rooms</th>\n",
       "      <th>bathroom</th>\n",
       "      <th>parking spaces</th>\n",
       "      <th>floor</th>\n",
       "      <th>0</th>\n",
       "      <th>1</th>\n",
       "      <th>2</th>\n",
       "      <th>3</th>\n",
       "      <th>4</th>\n",
       "      <th>5</th>\n",
       "      <th>6</th>\n",
       "      <th>7</th>\n",
       "      <th>8</th>\n",
       "      <th>total (R$)</th>\n",
       "    </tr>\n",
       "  </thead>\n",
       "  <tbody>\n",
       "    <tr>\n",
       "      <th>count</th>\n",
       "      <td>1027.000000</td>\n",
       "      <td>1027.000000</td>\n",
       "      <td>1027.000000</td>\n",
       "      <td>1027.000000</td>\n",
       "      <td>1027.000000</td>\n",
       "      <td>1027.000000</td>\n",
       "      <td>1027.000000</td>\n",
       "      <td>1027.000000</td>\n",
       "      <td>1027.000000</td>\n",
       "      <td>1027.000000</td>\n",
       "      <td>1027.000000</td>\n",
       "      <td>1027.000000</td>\n",
       "      <td>1027.000000</td>\n",
       "      <td>1027.000000</td>\n",
       "      <td>1.027000e+03</td>\n",
       "    </tr>\n",
       "    <tr>\n",
       "      <th>mean</th>\n",
       "      <td>459.561831</td>\n",
       "      <td>3.766310</td>\n",
       "      <td>4.145083</td>\n",
       "      <td>3.579357</td>\n",
       "      <td>5.388510</td>\n",
       "      <td>0.133398</td>\n",
       "      <td>0.047712</td>\n",
       "      <td>0.043817</td>\n",
       "      <td>0.081792</td>\n",
       "      <td>0.693281</td>\n",
       "      <td>0.843233</td>\n",
       "      <td>0.156767</td>\n",
       "      <td>0.327167</td>\n",
       "      <td>0.672833</td>\n",
       "      <td>1.439482e+04</td>\n",
       "    </tr>\n",
       "    <tr>\n",
       "      <th>std</th>\n",
       "      <td>1677.794661</td>\n",
       "      <td>1.173918</td>\n",
       "      <td>1.529879</td>\n",
       "      <td>1.951728</td>\n",
       "      <td>11.316809</td>\n",
       "      <td>0.340170</td>\n",
       "      <td>0.213260</td>\n",
       "      <td>0.204787</td>\n",
       "      <td>0.274181</td>\n",
       "      <td>0.461356</td>\n",
       "      <td>0.363758</td>\n",
       "      <td>0.363758</td>\n",
       "      <td>0.469407</td>\n",
       "      <td>0.469407</td>\n",
       "      <td>3.565462e+04</td>\n",
       "    </tr>\n",
       "    <tr>\n",
       "      <th>min</th>\n",
       "      <td>30.000000</td>\n",
       "      <td>1.000000</td>\n",
       "      <td>1.000000</td>\n",
       "      <td>0.000000</td>\n",
       "      <td>0.000000</td>\n",
       "      <td>0.000000</td>\n",
       "      <td>0.000000</td>\n",
       "      <td>0.000000</td>\n",
       "      <td>0.000000</td>\n",
       "      <td>0.000000</td>\n",
       "      <td>0.000000</td>\n",
       "      <td>0.000000</td>\n",
       "      <td>0.000000</td>\n",
       "      <td>0.000000</td>\n",
       "      <td>9.000000e+02</td>\n",
       "    </tr>\n",
       "    <tr>\n",
       "      <th>25%</th>\n",
       "      <td>254.000000</td>\n",
       "      <td>3.000000</td>\n",
       "      <td>3.000000</td>\n",
       "      <td>2.000000</td>\n",
       "      <td>0.000000</td>\n",
       "      <td>0.000000</td>\n",
       "      <td>0.000000</td>\n",
       "      <td>0.000000</td>\n",
       "      <td>0.000000</td>\n",
       "      <td>0.000000</td>\n",
       "      <td>1.000000</td>\n",
       "      <td>0.000000</td>\n",
       "      <td>0.000000</td>\n",
       "      <td>0.000000</td>\n",
       "      <td>9.532500e+03</td>\n",
       "    </tr>\n",
       "    <tr>\n",
       "      <th>50%</th>\n",
       "      <td>350.000000</td>\n",
       "      <td>4.000000</td>\n",
       "      <td>4.000000</td>\n",
       "      <td>4.000000</td>\n",
       "      <td>2.000000</td>\n",
       "      <td>0.000000</td>\n",
       "      <td>0.000000</td>\n",
       "      <td>0.000000</td>\n",
       "      <td>0.000000</td>\n",
       "      <td>1.000000</td>\n",
       "      <td>1.000000</td>\n",
       "      <td>0.000000</td>\n",
       "      <td>0.000000</td>\n",
       "      <td>1.000000</td>\n",
       "      <td>1.327000e+04</td>\n",
       "    </tr>\n",
       "    <tr>\n",
       "      <th>75%</th>\n",
       "      <td>470.000000</td>\n",
       "      <td>4.000000</td>\n",
       "      <td>5.000000</td>\n",
       "      <td>5.000000</td>\n",
       "      <td>9.000000</td>\n",
       "      <td>0.000000</td>\n",
       "      <td>0.000000</td>\n",
       "      <td>0.000000</td>\n",
       "      <td>0.000000</td>\n",
       "      <td>1.000000</td>\n",
       "      <td>1.000000</td>\n",
       "      <td>0.000000</td>\n",
       "      <td>1.000000</td>\n",
       "      <td>1.000000</td>\n",
       "      <td>1.676000e+04</td>\n",
       "    </tr>\n",
       "    <tr>\n",
       "      <th>max</th>\n",
       "      <td>46335.000000</td>\n",
       "      <td>13.000000</td>\n",
       "      <td>10.000000</td>\n",
       "      <td>12.000000</td>\n",
       "      <td>301.000000</td>\n",
       "      <td>1.000000</td>\n",
       "      <td>1.000000</td>\n",
       "      <td>1.000000</td>\n",
       "      <td>1.000000</td>\n",
       "      <td>1.000000</td>\n",
       "      <td>1.000000</td>\n",
       "      <td>1.000000</td>\n",
       "      <td>1.000000</td>\n",
       "      <td>1.000000</td>\n",
       "      <td>1.120000e+06</td>\n",
       "    </tr>\n",
       "  </tbody>\n",
       "</table>\n",
       "</div>"
      ],
      "text/plain": [
       "               area        rooms     bathroom  parking spaces        floor  \\\n",
       "count   1027.000000  1027.000000  1027.000000     1027.000000  1027.000000   \n",
       "mean     459.561831     3.766310     4.145083        3.579357     5.388510   \n",
       "std     1677.794661     1.173918     1.529879        1.951728    11.316809   \n",
       "min       30.000000     1.000000     1.000000        0.000000     0.000000   \n",
       "25%      254.000000     3.000000     3.000000        2.000000     0.000000   \n",
       "50%      350.000000     4.000000     4.000000        4.000000     2.000000   \n",
       "75%      470.000000     4.000000     5.000000        5.000000     9.000000   \n",
       "max    46335.000000    13.000000    10.000000       12.000000   301.000000   \n",
       "\n",
       "                 0            1            2            3            4  \\\n",
       "count  1027.000000  1027.000000  1027.000000  1027.000000  1027.000000   \n",
       "mean      0.133398     0.047712     0.043817     0.081792     0.693281   \n",
       "std       0.340170     0.213260     0.204787     0.274181     0.461356   \n",
       "min       0.000000     0.000000     0.000000     0.000000     0.000000   \n",
       "25%       0.000000     0.000000     0.000000     0.000000     0.000000   \n",
       "50%       0.000000     0.000000     0.000000     0.000000     1.000000   \n",
       "75%       0.000000     0.000000     0.000000     0.000000     1.000000   \n",
       "max       1.000000     1.000000     1.000000     1.000000     1.000000   \n",
       "\n",
       "                 5            6            7            8    total (R$)  \n",
       "count  1027.000000  1027.000000  1027.000000  1027.000000  1.027000e+03  \n",
       "mean      0.843233     0.156767     0.327167     0.672833  1.439482e+04  \n",
       "std       0.363758     0.363758     0.469407     0.469407  3.565462e+04  \n",
       "min       0.000000     0.000000     0.000000     0.000000  9.000000e+02  \n",
       "25%       1.000000     0.000000     0.000000     0.000000  9.532500e+03  \n",
       "50%       1.000000     0.000000     0.000000     1.000000  1.327000e+04  \n",
       "75%       1.000000     0.000000     1.000000     1.000000  1.676000e+04  \n",
       "max       1.000000     1.000000     1.000000     1.000000  1.120000e+06  "
      ]
     },
     "execution_count": 45,
     "metadata": {},
     "output_type": "execute_result"
    }
   ],
   "source": [
    "outliers_dbscan.describe()"
   ]
  },
  {
   "cell_type": "markdown",
   "metadata": {},
   "source": [
    "As evident by the maximum values, DBSCAN spotted the outliers that (most-likely) contain data error entries. However, it has also removed some records that we have never seen before, such as the observation with the value 30 in its area column. Let's consider this observation in more detail."
   ]
  },
  {
   "cell_type": "code",
   "execution_count": 46,
   "metadata": {},
   "outputs": [
    {
     "data": {
      "text/html": [
       "<div>\n",
       "<style scoped>\n",
       "    .dataframe tbody tr th:only-of-type {\n",
       "        vertical-align: middle;\n",
       "    }\n",
       "\n",
       "    .dataframe tbody tr th {\n",
       "        vertical-align: top;\n",
       "    }\n",
       "\n",
       "    .dataframe thead th {\n",
       "        text-align: right;\n",
       "    }\n",
       "</style>\n",
       "<table border=\"1\" class=\"dataframe\">\n",
       "  <thead>\n",
       "    <tr style=\"text-align: right;\">\n",
       "      <th></th>\n",
       "      <th>area</th>\n",
       "      <th>rooms</th>\n",
       "      <th>bathroom</th>\n",
       "      <th>parking spaces</th>\n",
       "      <th>floor</th>\n",
       "      <th>0</th>\n",
       "      <th>1</th>\n",
       "      <th>2</th>\n",
       "      <th>3</th>\n",
       "      <th>4</th>\n",
       "      <th>5</th>\n",
       "      <th>6</th>\n",
       "      <th>7</th>\n",
       "      <th>8</th>\n",
       "      <th>total (R$)</th>\n",
       "    </tr>\n",
       "  </thead>\n",
       "  <tbody>\n",
       "    <tr>\n",
       "      <th>7448</th>\n",
       "      <td>30</td>\n",
       "      <td>4</td>\n",
       "      <td>4</td>\n",
       "      <td>2</td>\n",
       "      <td>0</td>\n",
       "      <td>0.0</td>\n",
       "      <td>0.0</td>\n",
       "      <td>0.0</td>\n",
       "      <td>0.0</td>\n",
       "      <td>1.0</td>\n",
       "      <td>1.0</td>\n",
       "      <td>0.0</td>\n",
       "      <td>1.0</td>\n",
       "      <td>0.0</td>\n",
       "      <td>9323</td>\n",
       "    </tr>\n",
       "  </tbody>\n",
       "</table>\n",
       "</div>"
      ],
      "text/plain": [
       "      area  rooms  bathroom  parking spaces  floor    0    1    2    3    4  \\\n",
       "7448    30      4         4               2      0  0.0  0.0  0.0  0.0  1.0   \n",
       "\n",
       "        5    6    7    8  total (R$)  \n",
       "7448  1.0  0.0  1.0  0.0        9323  "
      ]
     },
     "execution_count": 46,
     "metadata": {},
     "output_type": "execute_result"
    }
   ],
   "source": [
    "outliers_dbscan[outliers_dbscan[\"area\"] == 30]"
   ]
  },
  {
   "cell_type": "markdown",
   "metadata": {},
   "source": [
    "To be honest, it is not immediately clear whether this record is an outlier or not. It was probably removed, due to its unusually low area, considering the price and the amount of rooms in this particular house. However, it is hard to be sure whether this is a data-error entry or a 'true' record. Either way, it could be considered an outlier, since this is a highly unusual record. Let's now consider a couple of other samples from the data"
   ]
  },
  {
   "cell_type": "code",
   "execution_count": 47,
   "metadata": {},
   "outputs": [
    {
     "data": {
      "text/html": [
       "<div>\n",
       "<style scoped>\n",
       "    .dataframe tbody tr th:only-of-type {\n",
       "        vertical-align: middle;\n",
       "    }\n",
       "\n",
       "    .dataframe tbody tr th {\n",
       "        vertical-align: top;\n",
       "    }\n",
       "\n",
       "    .dataframe thead th {\n",
       "        text-align: right;\n",
       "    }\n",
       "</style>\n",
       "<table border=\"1\" class=\"dataframe\">\n",
       "  <thead>\n",
       "    <tr style=\"text-align: right;\">\n",
       "      <th></th>\n",
       "      <th>area</th>\n",
       "      <th>rooms</th>\n",
       "      <th>bathroom</th>\n",
       "      <th>parking spaces</th>\n",
       "      <th>floor</th>\n",
       "      <th>0</th>\n",
       "      <th>1</th>\n",
       "      <th>2</th>\n",
       "      <th>3</th>\n",
       "      <th>4</th>\n",
       "      <th>5</th>\n",
       "      <th>6</th>\n",
       "      <th>7</th>\n",
       "      <th>8</th>\n",
       "      <th>total (R$)</th>\n",
       "    </tr>\n",
       "  </thead>\n",
       "  <tbody>\n",
       "    <tr>\n",
       "      <th>595</th>\n",
       "      <td>900</td>\n",
       "      <td>3</td>\n",
       "      <td>5</td>\n",
       "      <td>8</td>\n",
       "      <td>0</td>\n",
       "      <td>0.0</td>\n",
       "      <td>0.0</td>\n",
       "      <td>0.0</td>\n",
       "      <td>0.0</td>\n",
       "      <td>1.0</td>\n",
       "      <td>1.0</td>\n",
       "      <td>0.0</td>\n",
       "      <td>0.0</td>\n",
       "      <td>1.0</td>\n",
       "      <td>10370</td>\n",
       "    </tr>\n",
       "    <tr>\n",
       "      <th>653</th>\n",
       "      <td>280</td>\n",
       "      <td>3</td>\n",
       "      <td>2</td>\n",
       "      <td>2</td>\n",
       "      <td>10</td>\n",
       "      <td>0.0</td>\n",
       "      <td>0.0</td>\n",
       "      <td>0.0</td>\n",
       "      <td>1.0</td>\n",
       "      <td>0.0</td>\n",
       "      <td>1.0</td>\n",
       "      <td>0.0</td>\n",
       "      <td>1.0</td>\n",
       "      <td>0.0</td>\n",
       "      <td>12370</td>\n",
       "    </tr>\n",
       "    <tr>\n",
       "      <th>428</th>\n",
       "      <td>350</td>\n",
       "      <td>4</td>\n",
       "      <td>5</td>\n",
       "      <td>5</td>\n",
       "      <td>17</td>\n",
       "      <td>0.0</td>\n",
       "      <td>0.0</td>\n",
       "      <td>0.0</td>\n",
       "      <td>0.0</td>\n",
       "      <td>1.0</td>\n",
       "      <td>1.0</td>\n",
       "      <td>0.0</td>\n",
       "      <td>1.0</td>\n",
       "      <td>0.0</td>\n",
       "      <td>19990</td>\n",
       "    </tr>\n",
       "    <tr>\n",
       "      <th>9368</th>\n",
       "      <td>800</td>\n",
       "      <td>5</td>\n",
       "      <td>7</td>\n",
       "      <td>6</td>\n",
       "      <td>0</td>\n",
       "      <td>0.0</td>\n",
       "      <td>0.0</td>\n",
       "      <td>0.0</td>\n",
       "      <td>0.0</td>\n",
       "      <td>1.0</td>\n",
       "      <td>1.0</td>\n",
       "      <td>0.0</td>\n",
       "      <td>0.0</td>\n",
       "      <td>1.0</td>\n",
       "      <td>17280</td>\n",
       "    </tr>\n",
       "    <tr>\n",
       "      <th>9457</th>\n",
       "      <td>292</td>\n",
       "      <td>4</td>\n",
       "      <td>3</td>\n",
       "      <td>3</td>\n",
       "      <td>8</td>\n",
       "      <td>0.0</td>\n",
       "      <td>0.0</td>\n",
       "      <td>0.0</td>\n",
       "      <td>0.0</td>\n",
       "      <td>1.0</td>\n",
       "      <td>1.0</td>\n",
       "      <td>0.0</td>\n",
       "      <td>1.0</td>\n",
       "      <td>0.0</td>\n",
       "      <td>15030</td>\n",
       "    </tr>\n",
       "    <tr>\n",
       "      <th>3564</th>\n",
       "      <td>220</td>\n",
       "      <td>4</td>\n",
       "      <td>3</td>\n",
       "      <td>4</td>\n",
       "      <td>4</td>\n",
       "      <td>0.0</td>\n",
       "      <td>0.0</td>\n",
       "      <td>0.0</td>\n",
       "      <td>0.0</td>\n",
       "      <td>1.0</td>\n",
       "      <td>1.0</td>\n",
       "      <td>0.0</td>\n",
       "      <td>0.0</td>\n",
       "      <td>1.0</td>\n",
       "      <td>15340</td>\n",
       "    </tr>\n",
       "    <tr>\n",
       "      <th>8858</th>\n",
       "      <td>800</td>\n",
       "      <td>4</td>\n",
       "      <td>7</td>\n",
       "      <td>8</td>\n",
       "      <td>0</td>\n",
       "      <td>0.0</td>\n",
       "      <td>0.0</td>\n",
       "      <td>0.0</td>\n",
       "      <td>0.0</td>\n",
       "      <td>1.0</td>\n",
       "      <td>0.0</td>\n",
       "      <td>1.0</td>\n",
       "      <td>0.0</td>\n",
       "      <td>1.0</td>\n",
       "      <td>18840</td>\n",
       "    </tr>\n",
       "    <tr>\n",
       "      <th>6727</th>\n",
       "      <td>360</td>\n",
       "      <td>4</td>\n",
       "      <td>5</td>\n",
       "      <td>5</td>\n",
       "      <td>20</td>\n",
       "      <td>0.0</td>\n",
       "      <td>0.0</td>\n",
       "      <td>0.0</td>\n",
       "      <td>0.0</td>\n",
       "      <td>1.0</td>\n",
       "      <td>1.0</td>\n",
       "      <td>0.0</td>\n",
       "      <td>0.0</td>\n",
       "      <td>1.0</td>\n",
       "      <td>16690</td>\n",
       "    </tr>\n",
       "    <tr>\n",
       "      <th>10690</th>\n",
       "      <td>120</td>\n",
       "      <td>2</td>\n",
       "      <td>2</td>\n",
       "      <td>2</td>\n",
       "      <td>8</td>\n",
       "      <td>0.0</td>\n",
       "      <td>0.0</td>\n",
       "      <td>0.0</td>\n",
       "      <td>1.0</td>\n",
       "      <td>0.0</td>\n",
       "      <td>1.0</td>\n",
       "      <td>0.0</td>\n",
       "      <td>1.0</td>\n",
       "      <td>0.0</td>\n",
       "      <td>14020</td>\n",
       "    </tr>\n",
       "    <tr>\n",
       "      <th>2493</th>\n",
       "      <td>300</td>\n",
       "      <td>5</td>\n",
       "      <td>3</td>\n",
       "      <td>6</td>\n",
       "      <td>0</td>\n",
       "      <td>1.0</td>\n",
       "      <td>0.0</td>\n",
       "      <td>0.0</td>\n",
       "      <td>0.0</td>\n",
       "      <td>0.0</td>\n",
       "      <td>1.0</td>\n",
       "      <td>0.0</td>\n",
       "      <td>0.0</td>\n",
       "      <td>1.0</td>\n",
       "      <td>5620</td>\n",
       "    </tr>\n",
       "    <tr>\n",
       "      <th>5319</th>\n",
       "      <td>268</td>\n",
       "      <td>4</td>\n",
       "      <td>4</td>\n",
       "      <td>4</td>\n",
       "      <td>3</td>\n",
       "      <td>0.0</td>\n",
       "      <td>0.0</td>\n",
       "      <td>0.0</td>\n",
       "      <td>0.0</td>\n",
       "      <td>1.0</td>\n",
       "      <td>1.0</td>\n",
       "      <td>0.0</td>\n",
       "      <td>1.0</td>\n",
       "      <td>0.0</td>\n",
       "      <td>10290</td>\n",
       "    </tr>\n",
       "    <tr>\n",
       "      <th>9459</th>\n",
       "      <td>420</td>\n",
       "      <td>4</td>\n",
       "      <td>5</td>\n",
       "      <td>0</td>\n",
       "      <td>0</td>\n",
       "      <td>0.0</td>\n",
       "      <td>0.0</td>\n",
       "      <td>0.0</td>\n",
       "      <td>0.0</td>\n",
       "      <td>1.0</td>\n",
       "      <td>1.0</td>\n",
       "      <td>0.0</td>\n",
       "      <td>0.0</td>\n",
       "      <td>1.0</td>\n",
       "      <td>8038</td>\n",
       "    </tr>\n",
       "    <tr>\n",
       "      <th>1285</th>\n",
       "      <td>350</td>\n",
       "      <td>3</td>\n",
       "      <td>4</td>\n",
       "      <td>4</td>\n",
       "      <td>0</td>\n",
       "      <td>0.0</td>\n",
       "      <td>0.0</td>\n",
       "      <td>1.0</td>\n",
       "      <td>0.0</td>\n",
       "      <td>0.0</td>\n",
       "      <td>0.0</td>\n",
       "      <td>1.0</td>\n",
       "      <td>0.0</td>\n",
       "      <td>1.0</td>\n",
       "      <td>3730</td>\n",
       "    </tr>\n",
       "    <tr>\n",
       "      <th>4102</th>\n",
       "      <td>400</td>\n",
       "      <td>5</td>\n",
       "      <td>3</td>\n",
       "      <td>6</td>\n",
       "      <td>0</td>\n",
       "      <td>0.0</td>\n",
       "      <td>0.0</td>\n",
       "      <td>0.0</td>\n",
       "      <td>0.0</td>\n",
       "      <td>1.0</td>\n",
       "      <td>1.0</td>\n",
       "      <td>0.0</td>\n",
       "      <td>0.0</td>\n",
       "      <td>1.0</td>\n",
       "      <td>16040</td>\n",
       "    </tr>\n",
       "    <tr>\n",
       "      <th>4563</th>\n",
       "      <td>512</td>\n",
       "      <td>4</td>\n",
       "      <td>6</td>\n",
       "      <td>5</td>\n",
       "      <td>8</td>\n",
       "      <td>0.0</td>\n",
       "      <td>0.0</td>\n",
       "      <td>0.0</td>\n",
       "      <td>0.0</td>\n",
       "      <td>1.0</td>\n",
       "      <td>1.0</td>\n",
       "      <td>0.0</td>\n",
       "      <td>1.0</td>\n",
       "      <td>0.0</td>\n",
       "      <td>14140</td>\n",
       "    </tr>\n",
       "  </tbody>\n",
       "</table>\n",
       "</div>"
      ],
      "text/plain": [
       "       area  rooms  bathroom  parking spaces  floor    0    1    2    3    4  \\\n",
       "595     900      3         5               8      0  0.0  0.0  0.0  0.0  1.0   \n",
       "653     280      3         2               2     10  0.0  0.0  0.0  1.0  0.0   \n",
       "428     350      4         5               5     17  0.0  0.0  0.0  0.0  1.0   \n",
       "9368    800      5         7               6      0  0.0  0.0  0.0  0.0  1.0   \n",
       "9457    292      4         3               3      8  0.0  0.0  0.0  0.0  1.0   \n",
       "3564    220      4         3               4      4  0.0  0.0  0.0  0.0  1.0   \n",
       "8858    800      4         7               8      0  0.0  0.0  0.0  0.0  1.0   \n",
       "6727    360      4         5               5     20  0.0  0.0  0.0  0.0  1.0   \n",
       "10690   120      2         2               2      8  0.0  0.0  0.0  1.0  0.0   \n",
       "2493    300      5         3               6      0  1.0  0.0  0.0  0.0  0.0   \n",
       "5319    268      4         4               4      3  0.0  0.0  0.0  0.0  1.0   \n",
       "9459    420      4         5               0      0  0.0  0.0  0.0  0.0  1.0   \n",
       "1285    350      3         4               4      0  0.0  0.0  1.0  0.0  0.0   \n",
       "4102    400      5         3               6      0  0.0  0.0  0.0  0.0  1.0   \n",
       "4563    512      4         6               5      8  0.0  0.0  0.0  0.0  1.0   \n",
       "\n",
       "         5    6    7    8  total (R$)  \n",
       "595    1.0  0.0  0.0  1.0       10370  \n",
       "653    1.0  0.0  1.0  0.0       12370  \n",
       "428    1.0  0.0  1.0  0.0       19990  \n",
       "9368   1.0  0.0  0.0  1.0       17280  \n",
       "9457   1.0  0.0  1.0  0.0       15030  \n",
       "3564   1.0  0.0  0.0  1.0       15340  \n",
       "8858   0.0  1.0  0.0  1.0       18840  \n",
       "6727   1.0  0.0  0.0  1.0       16690  \n",
       "10690  1.0  0.0  1.0  0.0       14020  \n",
       "2493   1.0  0.0  0.0  1.0        5620  \n",
       "5319   1.0  0.0  1.0  0.0       10290  \n",
       "9459   1.0  0.0  0.0  1.0        8038  \n",
       "1285   0.0  1.0  0.0  1.0        3730  \n",
       "4102   1.0  0.0  0.0  1.0       16040  \n",
       "4563   1.0  0.0  1.0  0.0       14140  "
      ]
     },
     "execution_count": 47,
     "metadata": {},
     "output_type": "execute_result"
    }
   ],
   "source": [
    "outliers_dbscan.sample(15)"
   ]
  },
  {
   "cell_type": "markdown",
   "metadata": {},
   "source": [
    "As we can see above, we cannot immediately tell from these observations whether they are errors in data-entry, or whether they are accurate observations. Indeed, we cannot be confident whether they can be considered to be 'unusual' observations, as these make up approximately 12.5% of the training data. Perhaps, we need to increase the epsilon, and perhaps decrease the min_samples parameter to ensure we only get the most unusual points.\n",
    "\n",
    "**Increase the epsilon, reduce the min_samples**"
   ]
  },
  {
   "cell_type": "markdown",
   "metadata": {},
   "source": [
    "### Conclusion"
   ]
  }
 ],
 "metadata": {
  "kernelspec": {
   "display_name": "Python 3",
   "language": "python",
   "name": "python3"
  },
  "language_info": {
   "codemirror_mode": {
    "name": "ipython",
    "version": 3
   },
   "file_extension": ".py",
   "mimetype": "text/x-python",
   "name": "python",
   "nbconvert_exporter": "python",
   "pygments_lexer": "ipython3",
   "version": "3.9.0"
  }
 },
 "nbformat": 4,
 "nbformat_minor": 4
}
