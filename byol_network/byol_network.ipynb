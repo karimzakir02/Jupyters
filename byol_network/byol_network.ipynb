{
  "cells": [
    {
      "cell_type": "markdown",
      "metadata": {
        "id": "rwnX5scJ7kEw"
      },
      "source": [
        "# Bootstrap Your Own Latent (BYOL)\n",
        "## By: Karim Zakir\n",
        "BYOL is a representation learning method. The idea behind this method is that the same image with two different augmentations has the same \"essence\" and thus should have the same or similar embeddings. This method was originally published in [this paper](https://arxiv.org/abs/2006.07733v3) in January 2020. \n",
        "\n",
        "Contrastive learning is a deep learning technique in which we try to learn representations of different objects with the goal that embeddings of similar objects will also be similar. Most contrastive learning architectures/methods require \"negative pairs\", which make constrastive learning computationally expensive. Unlike those methods, BYOL does not require negative pairs, so it's a lot more efficient!\n",
        " \n",
        "In BYOL, we start off by taking an image and applying two different augmentations on it ($t$ and $t'$). These two images are fed to two different networks called online and target. Let's first focus on the online network. After applying augmentation $t$ on a given image, we feed it into the first part of the online network, which is an encoder, which could be any network that transforms an image to features. frf"
      ]
    },
    {
      "cell_type": "code",
      "execution_count": 24,
      "metadata": {
        "id": "xqUkPwJ47kEz"
      },
      "outputs": [],
      "source": [
        "import matplotlib.pyplot as plt\n",
        "import torch\n",
        "from torch import nn\n",
        "import torch.nn.functional as F\n",
        "from torch.utils.data import DataLoader\n",
        "import torchvision\n",
        "from torchvision import transforms\n",
        "\n",
        "from copy import deepcopy\n",
        "import math\n",
        "from tqdm import tqdm"
      ]
    },
    {
      "cell_type": "code",
      "execution_count": 2,
      "metadata": {
        "id": "YjFUPvK-7kE1"
      },
      "outputs": [],
      "source": [
        "def online_augmentation():\n",
        "    return transforms.Compose([\n",
        "        transforms.RandomResizedCrop((224, 224)),  # interpolation should be BICUBIC, but outputs NAN for some reason\n",
        "\n",
        "        transforms.RandomHorizontalFlip(),\n",
        "\n",
        "        transforms.RandomApply(\n",
        "            [transforms.ColorJitter(0.4, 0.4, 0.2, 0.1)], p=0.8\n",
        "        ),\n",
        "\n",
        "        transforms.RandomApply([transforms.Grayscale(num_output_channels=3)], p=0.2),\n",
        "\n",
        "        transforms.GaussianBlur((23, 23)),\n",
        "    ])\n",
        "\n",
        "\n",
        "def target_augmentation():\n",
        "    return transforms.Compose([\n",
        "        transforms.RandomResizedCrop((224, 224)),  # interpolation should be BICUBIC, but outputs NAN for some reason\n",
        "        \n",
        "        transforms.RandomHorizontalFlip(),\n",
        "\n",
        "        transforms.RandomApply(\n",
        "            [transforms.ColorJitter(0.4, 0.4, 0.2, 0.1)], p=0.8\n",
        "        ),\n",
        "\n",
        "        transforms.RandomApply([transforms.Grayscale(num_output_channels=3)], p=0.2),\n",
        "\n",
        "        transforms.RandomApply([transforms.GaussianBlur((23, 23))], p=0.1),\n",
        "\n",
        "        transforms.RandomSolarize(threshold=0.5, p=0.2)\n",
        "    ])"
      ]
    },
    {
      "cell_type": "code",
      "execution_count": 3,
      "metadata": {
        "id": "-uHIxj9v7kE3"
      },
      "outputs": [],
      "source": [
        "class BYOL(nn.Module):\n",
        "\n",
        "    def __init__(self, online_augmentation, target_augmentation, encoder_model):\n",
        "\n",
        "        super().__init__()\n",
        "\n",
        "        self.online_augmentation = online_augmentation\n",
        "        self.target_augmentation = target_augmentation\n",
        "    \n",
        "        self.encoder = encoder_model\n",
        "        self.encoder.fc = nn.Identity()\n",
        "\n",
        "        self.projector = nn.Sequential(\n",
        "            nn.Linear(2048, 4096),\n",
        "            nn.BatchNorm1d(4096),\n",
        "            nn.ReLU(inplace=True),\n",
        "            nn.Linear(4096, 256)\n",
        "        )\n",
        "\n",
        "        self.predictor = nn.Sequential(\n",
        "            nn.Linear(256, 4096),\n",
        "            nn.BatchNorm1d(4096),\n",
        "            nn.ReLU(inplace=True),\n",
        "            nn.Linear(4096, 256)\n",
        "        )\n",
        "\n",
        "        self.online_network = nn.Sequential(\n",
        "            self.encoder,\n",
        "            self.projector,\n",
        "            self.predictor\n",
        "        )\n",
        "\n",
        "        self.target_network = deepcopy(nn.Sequential(\n",
        "            self.encoder,\n",
        "            self.projector\n",
        "        ))\n",
        "\n",
        "        self.loss_fn = nn.MSELoss()\n",
        "        self.optimizer = torch.optim.Adam(self.online_network.parameters())\n",
        "        self.tau_base = 0.996\n",
        "        self.tau = self.tau_base\n",
        "\n",
        "    def fit(self, train_loader, val_loader, epochs=1000, verbose=True):\n",
        "\n",
        "        train_loss = []\n",
        "        val_loss = []\n",
        "\n",
        "        for epoch in tqdm(range(epochs)):\n",
        "            \n",
        "            self.train(train_loader)\n",
        "\n",
        "            self.tau += 1 - (1 - self.tau_base) * (math.cos(math.pi*(epoch + 1) / epochs) + 1)/2\n",
        "\n",
        "            train_loss.append(self.validate(train_loader))\n",
        "            val_loss.append(self.validate(val_loader))\n",
        "            print(f\"Epoch {epoch}\")\n",
        "            print(f\"Train Loss: {train_loss}\")\n",
        "            print(f\"Validation Loss: {val_loss}\")\n",
        "        \n",
        "        return train_loss, val_loss\n",
        "\n",
        "    def train(self, train_loader):\n",
        "\n",
        "        self.online_network.train()\n",
        "        self.target_network.train()\n",
        "\n",
        "        for batch_X, batch_y in tqdm(train_loader):\n",
        "            self.optimizer.zero_grad()\n",
        "\n",
        "            batch_loss = self.forward(batch_X)\n",
        "\n",
        "            batch_loss.backward()\n",
        "            self.optimizer.step()\n",
        "\n",
        "            # Update target's parameters\n",
        "            for target_param, online_param in zip(self.online_network.parameters(), self.target_network.parameters()):\n",
        "                target_param = self.tau * target_param + (1 - self.tau) * online_param\n",
        "            print(\"finished batch\")\n",
        "\n",
        "\n",
        "        self.online_network.eval()\n",
        "        self.target_network.eval()\n",
        "\n",
        "    def forward(self, batch):\n",
        "        view = self.online_augmentation(batch)\n",
        "        view_prime = self.target_augmentation(batch)\n",
        "\n",
        "        online_output, online_output_prime = self.online_network(view), self.online_network(view_prime)\n",
        "        online_output, online_output_prime = F.normalize(online_output), F.normalize(online_output_prime)\n",
        "\n",
        "        with torch.no_grad():\n",
        "            target_output, target_output_prime = self.target_network(view_prime), self.target_network(view)\n",
        "            target_output, target_output_prime = F.normalize(target_output), F.normalize(target_output_prime)\n",
        "\n",
        "        loss = self.loss_fn(online_output, target_output) + self.loss_fn(online_output_prime, target_output_prime)\n",
        "        return loss\n",
        "    \n",
        "    def validate(self, loader):\n",
        "        loss = 0\n",
        "        count = 0\n",
        "\n",
        "        for batch in loader:\n",
        "            with torch.no_grad():\n",
        "                loss += self.forward(batch)\n",
        "            count += len(batch)\n",
        "        \n",
        "        return loss / count"
      ]
    },
    {
      "cell_type": "code",
      "execution_count": 4,
      "metadata": {
        "id": "DQFeiDnK7kE4"
      },
      "outputs": [],
      "source": [
        "byol = BYOL(online_augmentation(), target_augmentation(), torchvision.models.resnet50())"
      ]
    },
    {
      "cell_type": "code",
      "execution_count": 5,
      "metadata": {
        "id": "NjYDK5RX7kE5",
        "outputId": "3693b874-1a96-46f6-b5e4-c4aa7cbd2ab2",
        "colab": {
          "base_uri": "https://localhost:8080/",
          "height": 118,
          "referenced_widgets": [
            "3ebc57bcb60044e8a54a86df54c21550",
            "6939b2e43eb74ce5923ac950621748e7",
            "35008c9645164e6595b12451de07a4c8",
            "321f1863dbc047bfb31e814ba7c265ee",
            "378b5633413643319474334dafa272ae",
            "06c8428cb1a147ef9bf9d7be687930a3",
            "6c31e57126ec4317a724a923e577283e",
            "066f910626c1483e924be57f97d81e99",
            "6f0704c6fd334d6d8a201e930b808c7c",
            "c6c31a3151474490903ff724ae8f56d6",
            "32651f88458a4313a4bc79c0be8a90e7"
          ]
        }
      },
      "outputs": [
        {
          "output_type": "stream",
          "name": "stdout",
          "text": [
            "Downloading http://ai.stanford.edu/~acoates/stl10/stl10_binary.tar.gz to ./stl10_binary.tar.gz\n"
          ]
        },
        {
          "output_type": "display_data",
          "data": {
            "text/plain": [
              "  0%|          | 0/2640397119 [00:00<?, ?it/s]"
            ],
            "application/vnd.jupyter.widget-view+json": {
              "version_major": 2,
              "version_minor": 0,
              "model_id": "3ebc57bcb60044e8a54a86df54c21550"
            }
          },
          "metadata": {}
        },
        {
          "output_type": "stream",
          "name": "stdout",
          "text": [
            "Extracting ./stl10_binary.tar.gz to .\n",
            "Files already downloaded and verified\n",
            "Files already downloaded and verified\n"
          ]
        }
      ],
      "source": [
        "train_labeled = torchvision.datasets.STL10(\".\", split=\"train\", download=True, transform=transforms.ToTensor())\n",
        "train_unlabeled = torchvision.datasets.STL10(\".\", split=\"unlabeled\", download=True, transform=transforms.ToTensor())\n",
        "test_labeled = torchvision.datasets.STL10(\".\", split=\"test\", download=True, transform=transforms.ToTensor())"
      ]
    },
    {
      "cell_type": "code",
      "execution_count": 6,
      "metadata": {
        "id": "lqxAHs0V7kE5"
      },
      "outputs": [],
      "source": [
        "BATCH_SIZE = 32\n",
        "\n",
        "train_ll = DataLoader(train_labeled, BATCH_SIZE, shuffle=True)\n",
        "train_ul = DataLoader(train_unlabeled, BATCH_SIZE, shuffle=True)\n",
        "test_ll = DataLoader(test_labeled, BATCH_SIZE, shuffle=True)"
      ]
    },
    {
      "cell_type": "code",
      "execution_count": 39,
      "metadata": {
        "id": "ViFkBOUE7kE6"
      },
      "outputs": [],
      "source": [
        "train_loss, val_loss = byol.fit(train_ul, train_ll, 1000)\n",
        "# Trained in Google Collab with a GPU"
      ]
    },
    {
      "cell_type": "code",
      "execution_count": 33,
      "metadata": {
        "id": "zpLgXztD7kE6"
      },
      "outputs": [],
      "source": [
        "semi_sup_encoder = torchvision.models.resnet50()\n",
        "semi_sup_encoder.fc = nn.Identity()\n",
        "semi_sup_encoder.load_state_dict(torch.load(\"./encoder_params.pt\", map_location=torch.device(\"cpu\")))\n",
        "semi_sup_encoder.fc = nn.Linear(2048, 10)"
      ]
    },
    {
      "cell_type": "code",
      "execution_count": 34,
      "metadata": {
        "id": "ui5rezlb7kE8"
      },
      "outputs": [],
      "source": [
        "class Supervised:\n",
        "\n",
        "    def __init__(self, model):\n",
        "        self.model = model.cuda()\n",
        "\n",
        "        self.optimiser = torch.optim.Adam(self.model.parameters())\n",
        "        self.loss_fn = nn.CrossEntropyLoss(reduction=\"mean\")\n",
        "\n",
        "\n",
        "    def fit(self, train_dl, val_dl, epochs=50):\n",
        "\n",
        "        results = {\"train_acc\": [], \"val_acc\": [], \"train_loss\": [], \"val_loss\": []}\n",
        "\n",
        "        self.model.eval()\n",
        "\n",
        "        train_loss, train_acc = self.validate(train_dl)\n",
        "        val_loss, val_acc = self.validate(val_dl)\n",
        "\n",
        "        for epoch in tqdm(range(epochs)):\n",
        "\n",
        "            self.train(train_dl)\n",
        "\n",
        "            train_loss, train_acc = self.validate(train_dl)\n",
        "            val_loss, val_acc = self.validate(val_dl)\n",
        "\n",
        "            results[\"train_loss\"].append(train_loss)\n",
        "            results[\"train_acc\"].append(train_acc)\n",
        "            results[\"val_loss\"].append(val_loss)\n",
        "            results[\"val_acc\"].append(val_acc)\n",
        "\n",
        "        return results\n",
        "    \n",
        "    def train(self, train_loader):\n",
        "\n",
        "        self.model.train()\n",
        "\n",
        "        for batch_X, batch_y in train_loader:\n",
        "\n",
        "            batch_X, batch_y = batch_X.cuda(), batch_y.cuda()\n",
        "\n",
        "            self.optimiser.zero_grad()\n",
        "            \n",
        "            pred = self.model(batch_X)\n",
        "            loss = self.loss_fn(pred, batch_y)\n",
        "\n",
        "            loss.backward()\n",
        "            self.optimiser.step()\n",
        "\n",
        "        self.model.eval()\n",
        "\n",
        "    def validate(self, loader):\n",
        "        loss = 0\n",
        "        correct = 0\n",
        "        count = 0\n",
        "\n",
        "        with torch.no_grad():\n",
        "            for batch_X, batch_y in loader:\n",
        "                batch_X, batch_y = batch_X.cuda(), batch_y.cuda()\n",
        "                count += len(batch_y)\n",
        "\n",
        "                pred = self.model(batch_X)\n",
        "                class_pred = torch.argmax(pred, dim=1)\n",
        "\n",
        "                loss += self.loss_fn(pred, batch_y)\n",
        "                correct += (class_pred == batch_y).sum()\n",
        "        return loss / count, correct / count\n",
        "    "
      ]
    },
    {
      "cell_type": "code",
      "execution_count": 35,
      "metadata": {
        "id": "I6Nr34En7kE9"
      },
      "outputs": [],
      "source": [
        "semi_sup = Supervised(semi_sup_encoder)"
      ]
    },
    {
      "cell_type": "code",
      "execution_count": 36,
      "metadata": {
        "id": "X9jx5nLn7kE-",
        "colab": {
          "base_uri": "https://localhost:8080/"
        },
        "outputId": "cac94794-8a36-40f8-a99c-8311880edd50"
      },
      "outputs": [
        {
          "output_type": "stream",
          "name": "stderr",
          "text": [
            "100%|██████████| 20/20 [07:15<00:00, 21.78s/it]\n"
          ]
        }
      ],
      "source": [
        "results = semi_sup.fit(train_ll, test_ll, 20)"
      ]
    },
    {
      "cell_type": "code",
      "source": [
        "plt.plot(list(range(1, 21)), [float(train_acc) for train_acc in results[\"train_acc\"]], label=\"Train Acc.\")\n",
        "plt.plot(list(range(1, 21)), [float(val_acc) for val_acc in results[\"val_acc\"]], label=\"Val. Acc.\")\n",
        "plt.legend()\n",
        "plt.show()"
      ],
      "metadata": {
        "colab": {
          "base_uri": "https://localhost:8080/",
          "height": 265
        },
        "id": "7U1e-kBFhz3B",
        "outputId": "50f50351-a3f7-43c2-89b1-ef5c0be18015"
      },
      "execution_count": 38,
      "outputs": [
        {
          "output_type": "display_data",
          "data": {
            "text/plain": [
              "<Figure size 432x288 with 1 Axes>"
            ],
            "image/png": "[encoded data removed]"
          },
          "metadata": {
            "needs_background": "light"
          }
        }
      ]
    },
    {
      "cell_type": "markdown",
      "source": [
        "Clearly, there's some overfit, especially after 12-15 epochs, where validation accuracy begins to flatten. However, a key result to notice is that the accuracy doesn't start from 0.10, which would correspond to the model picking a random class out of the 10 options; instead, the accuracy starts from 0.3 and above, indicating that even after just 1 epoch of training BYOL, it managed to learn the representations of the images. This indicates that it is an effective self-supervised technique for learning image representations."
      ],
      "metadata": {
        "id": "jgMAgzcMjAMQ"
      }
    }
  ],
  "metadata": {
    "kernelspec": {
      "display_name": "Python 3.9.0 64-bit",
      "language": "python",
      "name": "python3"
    },
    "language_info": {
      "codemirror_mode": {
        "name": "ipython",
        "version": 3
      },
      "file_extension": ".py",
      "mimetype": "text/x-python",
      "name": "python",
      "nbconvert_exporter": "python",
      "pygments_lexer": "ipython3",
      "version": "3.9.0"
    },
    "orig_nbformat": 4,
    "vscode": {
      "interpreter": {
        "hash": "836bca15fb3131664fa986416905c3f6b7c72a580a461949970047754da3200b"
      }
    },
    "colab": {
      "provenance": []
    },
    "accelerator": "GPU",
    "gpuClass": "standard",
    "widgets": {
      "application/vnd.jupyter.widget-state+json": {
        "3ebc57bcb60044e8a54a86df54c21550": {
          "model_module": "@jupyter-widgets/controls",
          "model_name": "HBoxModel",
          "model_module_version": "1.5.0",
          "state": {
            "_dom_classes": [],
            "_model_module": "@jupyter-widgets/controls",
            "_model_module_version": "1.5.0",
            "_model_name": "HBoxModel",
            "_view_count": null,
            "_view_module": "@jupyter-widgets/controls",
            "_view_module_version": "1.5.0",
            "_view_name": "HBoxView",
            "box_style": "",
            "children": [
              "IPY_MODEL_6939b2e43eb74ce5923ac950621748e7",
              "IPY_MODEL_35008c9645164e6595b12451de07a4c8",
              "IPY_MODEL_321f1863dbc047bfb31e814ba7c265ee"
            ],
            "layout": "IPY_MODEL_378b5633413643319474334dafa272ae"
          }
        },
        "6939b2e43eb74ce5923ac950621748e7": {
          "model_module": "@jupyter-widgets/controls",
          "model_name": "HTMLModel",
          "model_module_version": "1.5.0",
          "state": {
            "_dom_classes": [],
            "_model_module": "@jupyter-widgets/controls",
            "_model_module_version": "1.5.0",
            "_model_name": "HTMLModel",
            "_view_count": null,
            "_view_module": "@jupyter-widgets/controls",
            "_view_module_version": "1.5.0",
            "_view_name": "HTMLView",
            "description": "",
            "description_tooltip": null,
            "layout": "IPY_MODEL_06c8428cb1a147ef9bf9d7be687930a3",
            "placeholder": "​",
            "style": "IPY_MODEL_6c31e57126ec4317a724a923e577283e",
            "value": "100%"
          }
        },
        "35008c9645164e6595b12451de07a4c8": {
          "model_module": "@jupyter-widgets/controls",
          "model_name": "FloatProgressModel",
          "model_module_version": "1.5.0",
          "state": {
            "_dom_classes": [],
            "_model_module": "@jupyter-widgets/controls",
            "_model_module_version": "1.5.0",
            "_model_name": "FloatProgressModel",
            "_view_count": null,
            "_view_module": "@jupyter-widgets/controls",
            "_view_module_version": "1.5.0",
            "_view_name": "ProgressView",
            "bar_style": "success",
            "description": "",
            "description_tooltip": null,
            "layout": "IPY_MODEL_066f910626c1483e924be57f97d81e99",
            "max": 2640397119,
            "min": 0,
            "orientation": "horizontal",
            "style": "IPY_MODEL_6f0704c6fd334d6d8a201e930b808c7c",
            "value": 2640397119
          }
        },
        "321f1863dbc047bfb31e814ba7c265ee": {
          "model_module": "@jupyter-widgets/controls",
          "model_name": "HTMLModel",
          "model_module_version": "1.5.0",
          "state": {
            "_dom_classes": [],
            "_model_module": "@jupyter-widgets/controls",
            "_model_module_version": "1.5.0",
            "_model_name": "HTMLModel",
            "_view_count": null,
            "_view_module": "@jupyter-widgets/controls",
            "_view_module_version": "1.5.0",
            "_view_name": "HTMLView",
            "description": "",
            "description_tooltip": null,
            "layout": "IPY_MODEL_c6c31a3151474490903ff724ae8f56d6",
            "placeholder": "​",
            "style": "IPY_MODEL_32651f88458a4313a4bc79c0be8a90e7",
            "value": " 2640397119/2640397119 [03:23&lt;00:00, 3563600.67it/s]"
          }
        },
        "378b5633413643319474334dafa272ae": {
          "model_module": "@jupyter-widgets/base",
          "model_name": "LayoutModel",
          "model_module_version": "1.2.0",
          "state": {
            "_model_module": "@jupyter-widgets/base",
            "_model_module_version": "1.2.0",
            "_model_name": "LayoutModel",
            "_view_count": null,
            "_view_module": "@jupyter-widgets/base",
            "_view_module_version": "1.2.0",
            "_view_name": "LayoutView",
            "align_content": null,
            "align_items": null,
            "align_self": null,
            "border": null,
            "bottom": null,
            "display": null,
            "flex": null,
            "flex_flow": null,
            "grid_area": null,
            "grid_auto_columns": null,
            "grid_auto_flow": null,
            "grid_auto_rows": null,
            "grid_column": null,
            "grid_gap": null,
            "grid_row": null,
            "grid_template_areas": null,
            "grid_template_columns": null,
            "grid_template_rows": null,
            "height": null,
            "justify_content": null,
            "justify_items": null,
            "left": null,
            "margin": null,
            "max_height": null,
            "max_width": null,
            "min_height": null,
            "min_width": null,
            "object_fit": null,
            "object_position": null,
            "order": null,
            "overflow": null,
            "overflow_x": null,
            "overflow_y": null,
            "padding": null,
            "right": null,
            "top": null,
            "visibility": null,
            "width": null
          }
        },
        "06c8428cb1a147ef9bf9d7be687930a3": {
          "model_module": "@jupyter-widgets/base",
          "model_name": "LayoutModel",
          "model_module_version": "1.2.0",
          "state": {
            "_model_module": "@jupyter-widgets/base",
            "_model_module_version": "1.2.0",
            "_model_name": "LayoutModel",
            "_view_count": null,
            "_view_module": "@jupyter-widgets/base",
            "_view_module_version": "1.2.0",
            "_view_name": "LayoutView",
            "align_content": null,
            "align_items": null,
            "align_self": null,
            "border": null,
            "bottom": null,
            "display": null,
            "flex": null,
            "flex_flow": null,
            "grid_area": null,
            "grid_auto_columns": null,
            "grid_auto_flow": null,
            "grid_auto_rows": null,
            "grid_column": null,
            "grid_gap": null,
            "grid_row": null,
            "grid_template_areas": null,
            "grid_template_columns": null,
            "grid_template_rows": null,
            "height": null,
            "justify_content": null,
            "justify_items": null,
            "left": null,
            "margin": null,
            "max_height": null,
            "max_width": null,
            "min_height": null,
            "min_width": null,
            "object_fit": null,
            "object_position": null,
            "order": null,
            "overflow": null,
            "overflow_x": null,
            "overflow_y": null,
            "padding": null,
            "right": null,
            "top": null,
            "visibility": null,
            "width": null
          }
        },
        "6c31e57126ec4317a724a923e577283e": {
          "model_module": "@jupyter-widgets/controls",
          "model_name": "DescriptionStyleModel",
          "model_module_version": "1.5.0",
          "state": {
            "_model_module": "@jupyter-widgets/controls",
            "_model_module_version": "1.5.0",
            "_model_name": "DescriptionStyleModel",
            "_view_count": null,
            "_view_module": "@jupyter-widgets/base",
            "_view_module_version": "1.2.0",
            "_view_name": "StyleView",
            "description_width": ""
          }
        },
        "066f910626c1483e924be57f97d81e99": {
          "model_module": "@jupyter-widgets/base",
          "model_name": "LayoutModel",
          "model_module_version": "1.2.0",
          "state": {
            "_model_module": "@jupyter-widgets/base",
            "_model_module_version": "1.2.0",
            "_model_name": "LayoutModel",
            "_view_count": null,
            "_view_module": "@jupyter-widgets/base",
            "_view_module_version": "1.2.0",
            "_view_name": "LayoutView",
            "align_content": null,
            "align_items": null,
            "align_self": null,
            "border": null,
            "bottom": null,
            "display": null,
            "flex": null,
            "flex_flow": null,
            "grid_area": null,
            "grid_auto_columns": null,
            "grid_auto_flow": null,
            "grid_auto_rows": null,
            "grid_column": null,
            "grid_gap": null,
            "grid_row": null,
            "grid_template_areas": null,
            "grid_template_columns": null,
            "grid_template_rows": null,
            "height": null,
            "justify_content": null,
            "justify_items": null,
            "left": null,
            "margin": null,
            "max_height": null,
            "max_width": null,
            "min_height": null,
            "min_width": null,
            "object_fit": null,
            "object_position": null,
            "order": null,
            "overflow": null,
            "overflow_x": null,
            "overflow_y": null,
            "padding": null,
            "right": null,
            "top": null,
            "visibility": null,
            "width": null
          }
        },
        "6f0704c6fd334d6d8a201e930b808c7c": {
          "model_module": "@jupyter-widgets/controls",
          "model_name": "ProgressStyleModel",
          "model_module_version": "1.5.0",
          "state": {
            "_model_module": "@jupyter-widgets/controls",
            "_model_module_version": "1.5.0",
            "_model_name": "ProgressStyleModel",
            "_view_count": null,
            "_view_module": "@jupyter-widgets/base",
            "_view_module_version": "1.2.0",
            "_view_name": "StyleView",
            "bar_color": null,
            "description_width": ""
          }
        },
        "c6c31a3151474490903ff724ae8f56d6": {
          "model_module": "@jupyter-widgets/base",
          "model_name": "LayoutModel",
          "model_module_version": "1.2.0",
          "state": {
            "_model_module": "@jupyter-widgets/base",
            "_model_module_version": "1.2.0",
            "_model_name": "LayoutModel",
            "_view_count": null,
            "_view_module": "@jupyter-widgets/base",
            "_view_module_version": "1.2.0",
            "_view_name": "LayoutView",
            "align_content": null,
            "align_items": null,
            "align_self": null,
            "border": null,
            "bottom": null,
            "display": null,
            "flex": null,
            "flex_flow": null,
            "grid_area": null,
            "grid_auto_columns": null,
            "grid_auto_flow": null,
            "grid_auto_rows": null,
            "grid_column": null,
            "grid_gap": null,
            "grid_row": null,
            "grid_template_areas": null,
            "grid_template_columns": null,
            "grid_template_rows": null,
            "height": null,
            "justify_content": null,
            "justify_items": null,
            "left": null,
            "margin": null,
            "max_height": null,
            "max_width": null,
            "min_height": null,
            "min_width": null,
            "object_fit": null,
            "object_position": null,
            "order": null,
            "overflow": null,
            "overflow_x": null,
            "overflow_y": null,
            "padding": null,
            "right": null,
            "top": null,
            "visibility": null,
            "width": null
          }
        },
        "32651f88458a4313a4bc79c0be8a90e7": {
          "model_module": "@jupyter-widgets/controls",
          "model_name": "DescriptionStyleModel",
          "model_module_version": "1.5.0",
          "state": {
            "_model_module": "@jupyter-widgets/controls",
            "_model_module_version": "1.5.0",
            "_model_name": "DescriptionStyleModel",
            "_view_count": null,
            "_view_module": "@jupyter-widgets/base",
            "_view_module_version": "1.2.0",
            "_view_name": "StyleView",
            "description_width": ""
          }
        }
      }
    }
  },
  "nbformat": 4,
  "nbformat_minor": 0
}