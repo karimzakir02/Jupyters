{
 "cells": [
  {
   "cell_type": "markdown",
   "metadata": {},
   "source": [
    "# Lung Cancer Classification\n",
    "## By: Karim Zakir\n",
    "\n",
    "In this notebook, I will be building a classification model, which will help predict whether an individual has lung cancer or not. The dataset that I will be using was obtained from [Kaggle](https://www.kaggle.com/mysarahmadbhat/lung-cancer)."
   ]
  },
  {
   "cell_type": "code",
   "execution_count": 1,
   "metadata": {},
   "outputs": [],
   "source": [
    "import numpy as np\n",
    "import pandas as pd\n",
    "from sklearn.preprocessing import OneHotEncoder\n",
    "import matplotlib.pyplot as plt\n",
    "import seaborn as sns\n",
    "from sklearn.model_selection import train_test_split\n",
    "from sklearn.linear_model import LogisticRegression\n",
    "from sklearn.metrics import accuracy_score, classification_report\n",
    "from imblearn.over_sampling import SMOTE, ADASYN\n",
    "from sklearn.ensemble import RandomForestClassifier\n",
    "from sklearn.svm import SVC\n",
    "from sklearn.neighbors import KNeighborsClassifier\n",
    "from sklearn.neural_network import MLPClassifier\n",
    "from sklearn.naive_bayes import GaussianNB\n",
    "from sklearn.model_selection import GridSearchCV\n",
    "import warnings\n",
    "warnings.filterwarnings(\"ignore\")"
   ]
  },
  {
   "cell_type": "code",
   "execution_count": 2,
   "metadata": {},
   "outputs": [
    {
     "data": {
      "text/html": [
       "<div>\n",
       "<style scoped>\n",
       "    .dataframe tbody tr th:only-of-type {\n",
       "        vertical-align: middle;\n",
       "    }\n",
       "\n",
       "    .dataframe tbody tr th {\n",
       "        vertical-align: top;\n",
       "    }\n",
       "\n",
       "    .dataframe thead th {\n",
       "        text-align: right;\n",
       "    }\n",
       "</style>\n",
       "<table border=\"1\" class=\"dataframe\">\n",
       "  <thead>\n",
       "    <tr style=\"text-align: right;\">\n",
       "      <th></th>\n",
       "      <th>GENDER</th>\n",
       "      <th>AGE</th>\n",
       "      <th>SMOKING</th>\n",
       "      <th>YELLOW_FINGERS</th>\n",
       "      <th>ANXIETY</th>\n",
       "      <th>PEER_PRESSURE</th>\n",
       "      <th>CHRONIC DISEASE</th>\n",
       "      <th>FATIGUE</th>\n",
       "      <th>ALLERGY</th>\n",
       "      <th>WHEEZING</th>\n",
       "      <th>ALCOHOL CONSUMING</th>\n",
       "      <th>COUGHING</th>\n",
       "      <th>SHORTNESS OF BREATH</th>\n",
       "      <th>SWALLOWING DIFFICULTY</th>\n",
       "      <th>CHEST PAIN</th>\n",
       "      <th>LUNG_CANCER</th>\n",
       "    </tr>\n",
       "  </thead>\n",
       "  <tbody>\n",
       "    <tr>\n",
       "      <th>0</th>\n",
       "      <td>M</td>\n",
       "      <td>69</td>\n",
       "      <td>1</td>\n",
       "      <td>2</td>\n",
       "      <td>2</td>\n",
       "      <td>1</td>\n",
       "      <td>1</td>\n",
       "      <td>2</td>\n",
       "      <td>1</td>\n",
       "      <td>2</td>\n",
       "      <td>2</td>\n",
       "      <td>2</td>\n",
       "      <td>2</td>\n",
       "      <td>2</td>\n",
       "      <td>2</td>\n",
       "      <td>YES</td>\n",
       "    </tr>\n",
       "    <tr>\n",
       "      <th>1</th>\n",
       "      <td>M</td>\n",
       "      <td>74</td>\n",
       "      <td>2</td>\n",
       "      <td>1</td>\n",
       "      <td>1</td>\n",
       "      <td>1</td>\n",
       "      <td>2</td>\n",
       "      <td>2</td>\n",
       "      <td>2</td>\n",
       "      <td>1</td>\n",
       "      <td>1</td>\n",
       "      <td>1</td>\n",
       "      <td>2</td>\n",
       "      <td>2</td>\n",
       "      <td>2</td>\n",
       "      <td>YES</td>\n",
       "    </tr>\n",
       "    <tr>\n",
       "      <th>2</th>\n",
       "      <td>F</td>\n",
       "      <td>59</td>\n",
       "      <td>1</td>\n",
       "      <td>1</td>\n",
       "      <td>1</td>\n",
       "      <td>2</td>\n",
       "      <td>1</td>\n",
       "      <td>2</td>\n",
       "      <td>1</td>\n",
       "      <td>2</td>\n",
       "      <td>1</td>\n",
       "      <td>2</td>\n",
       "      <td>2</td>\n",
       "      <td>1</td>\n",
       "      <td>2</td>\n",
       "      <td>NO</td>\n",
       "    </tr>\n",
       "    <tr>\n",
       "      <th>3</th>\n",
       "      <td>M</td>\n",
       "      <td>63</td>\n",
       "      <td>2</td>\n",
       "      <td>2</td>\n",
       "      <td>2</td>\n",
       "      <td>1</td>\n",
       "      <td>1</td>\n",
       "      <td>1</td>\n",
       "      <td>1</td>\n",
       "      <td>1</td>\n",
       "      <td>2</td>\n",
       "      <td>1</td>\n",
       "      <td>1</td>\n",
       "      <td>2</td>\n",
       "      <td>2</td>\n",
       "      <td>NO</td>\n",
       "    </tr>\n",
       "    <tr>\n",
       "      <th>4</th>\n",
       "      <td>F</td>\n",
       "      <td>63</td>\n",
       "      <td>1</td>\n",
       "      <td>2</td>\n",
       "      <td>1</td>\n",
       "      <td>1</td>\n",
       "      <td>1</td>\n",
       "      <td>1</td>\n",
       "      <td>1</td>\n",
       "      <td>2</td>\n",
       "      <td>1</td>\n",
       "      <td>2</td>\n",
       "      <td>2</td>\n",
       "      <td>1</td>\n",
       "      <td>1</td>\n",
       "      <td>NO</td>\n",
       "    </tr>\n",
       "  </tbody>\n",
       "</table>\n",
       "</div>"
      ],
      "text/plain": [
       "  GENDER  AGE  SMOKING  YELLOW_FINGERS  ANXIETY  PEER_PRESSURE  \\\n",
       "0      M   69        1               2        2              1   \n",
       "1      M   74        2               1        1              1   \n",
       "2      F   59        1               1        1              2   \n",
       "3      M   63        2               2        2              1   \n",
       "4      F   63        1               2        1              1   \n",
       "\n",
       "   CHRONIC DISEASE  FATIGUE   ALLERGY   WHEEZING  ALCOHOL CONSUMING  COUGHING  \\\n",
       "0                1         2         1         2                  2         2   \n",
       "1                2         2         2         1                  1         1   \n",
       "2                1         2         1         2                  1         2   \n",
       "3                1         1         1         1                  2         1   \n",
       "4                1         1         1         2                  1         2   \n",
       "\n",
       "   SHORTNESS OF BREATH  SWALLOWING DIFFICULTY  CHEST PAIN LUNG_CANCER  \n",
       "0                    2                      2           2         YES  \n",
       "1                    2                      2           2         YES  \n",
       "2                    2                      1           2          NO  \n",
       "3                    1                      2           2          NO  \n",
       "4                    2                      1           1          NO  "
      ]
     },
     "execution_count": 2,
     "metadata": {},
     "output_type": "execute_result"
    }
   ],
   "source": [
    "cancer = pd.read_csv(\"datasets/lung_cancer.csv\")\n",
    "cancer.head()"
   ]
  },
  {
   "cell_type": "code",
   "execution_count": 3,
   "metadata": {},
   "outputs": [
    {
     "data": {
      "text/plain": [
       "(309, 16)"
      ]
     },
     "execution_count": 3,
     "metadata": {},
     "output_type": "execute_result"
    }
   ],
   "source": [
    "cancer.shape"
   ]
  },
  {
   "cell_type": "code",
   "execution_count": 4,
   "metadata": {},
   "outputs": [
    {
     "data": {
      "text/plain": [
       "GENDER                   object\n",
       "AGE                       int64\n",
       "SMOKING                   int64\n",
       "YELLOW_FINGERS            int64\n",
       "ANXIETY                   int64\n",
       "PEER_PRESSURE             int64\n",
       "CHRONIC DISEASE           int64\n",
       "FATIGUE                   int64\n",
       "ALLERGY                   int64\n",
       "WHEEZING                  int64\n",
       "ALCOHOL CONSUMING         int64\n",
       "COUGHING                  int64\n",
       "SHORTNESS OF BREATH       int64\n",
       "SWALLOWING DIFFICULTY     int64\n",
       "CHEST PAIN                int64\n",
       "LUNG_CANCER              object\n",
       "dtype: object"
      ]
     },
     "execution_count": 4,
     "metadata": {},
     "output_type": "execute_result"
    }
   ],
   "source": [
    "cancer.dtypes"
   ]
  },
  {
   "cell_type": "code",
   "execution_count": 5,
   "metadata": {},
   "outputs": [],
   "source": [
    "to_modify = cancer.columns[2:len(cancer.columns) - 1]\n",
    "cancer[to_modify] = cancer[to_modify] - 1"
   ]
  },
  {
   "cell_type": "code",
   "execution_count": 6,
   "metadata": {},
   "outputs": [],
   "source": [
    "target = \"LUNG_CANCER\"\n",
    "cancer[target] = (cancer[target] == \"YES\").astype(int)"
   ]
  },
  {
   "cell_type": "code",
   "execution_count": 7,
   "metadata": {},
   "outputs": [],
   "source": [
    "oh_encoder = OneHotEncoder()\n",
    "encoded_cols = pd.DataFrame(oh_encoder.fit_transform(cancer[[\"GENDER\"]]).toarray(), columns=[\"FEMALE\", \"MALE\"])\n",
    "encoded_cols.index = cancer.index\n",
    "cancer = pd.concat([encoded_cols, cancer], axis=1).drop(\"GENDER\", axis=1)"
   ]
  },
  {
   "cell_type": "code",
   "execution_count": 8,
   "metadata": {},
   "outputs": [
    {
     "data": {
      "text/plain": [
       "[]"
      ]
     },
     "execution_count": 8,
     "metadata": {},
     "output_type": "execute_result"
    }
   ],
   "source": [
    "cols_with_missing = [col for col in cancer.columns if cancer[col].isnull().any()]\n",
    "cols_with_missing"
   ]
  },
  {
   "cell_type": "code",
   "execution_count": 9,
   "metadata": {},
   "outputs": [
    {
     "data": {
      "text/plain": [
       "<AxesSubplot:xlabel='LUNG_CANCER', ylabel='count'>"
      ]
     },
     "execution_count": 9,
     "metadata": {},
     "output_type": "execute_result"
    },
    {
     "data": {
      "image/png": "[encoded data removed]",
      "text/plain": [
       "<Figure size 432x288 with 1 Axes>"
      ]
     },
     "metadata": {
      "needs_background": "light"
     },
     "output_type": "display_data"
    }
   ],
   "source": [
    "sns.countplot(x=\"LUNG_CANCER\", data=cancer)"
   ]
  },
  {
   "cell_type": "code",
   "execution_count": 10,
   "metadata": {},
   "outputs": [
    {
     "name": "stdout",
     "output_type": "stream",
     "text": [
      "Class 0: 12.62135922330097% of the dataset\n",
      "Class 1: 87.37864077669903% of the dataset\n"
     ]
    }
   ],
   "source": [
    "value_counts = cancer[\"LUNG_CANCER\"].value_counts()\n",
    "prop_0 = value_counts[0] / len(cancer)\n",
    "prop_1 = 1 - prop_0\n",
    "print(f\"Class 0: {prop_0 * 100}% of the dataset\")\n",
    "print(f\"Class 1: {prop_1 * 100}% of the dataset\")"
   ]
  },
  {
   "cell_type": "markdown",
   "metadata": {},
   "source": [
    "Since our classes are quite imbalanced, we need to make sure we stratify our split when we split the data into training and testing data. Since we don't have too many observations (only 309), we won't be using a validation set. "
   ]
  },
  {
   "cell_type": "code",
   "execution_count": 11,
   "metadata": {},
   "outputs": [],
   "source": [
    "features = cancer.columns[0: len(cancer.columns) - 1]\n",
    "X = cancer[features]\n",
    "y = cancer[target]"
   ]
  },
  {
   "cell_type": "code",
   "execution_count": 12,
   "metadata": {},
   "outputs": [],
   "source": [
    "X_train, X_test, y_train, y_test = train_test_split(X, y, test_size=0.2, stratify=y, random_state=0)"
   ]
  },
  {
   "cell_type": "markdown",
   "metadata": {},
   "source": [
    "We will start off with a basic logistic regression classification model to get a baseline score and aim to improve on this score throughout the notebook. Note that, since our dataset is quite small, we will be using a liblinear solver, as recommended in [scikit-learn's documentation](https://scikit-learn.org/stable/modules/generated/sklearn.linear_model.LogisticRegression.html)."
   ]
  },
  {
   "cell_type": "code",
   "execution_count": 14,
   "metadata": {},
   "outputs": [
    {
     "data": {
      "text/plain": [
       "0.8709677419354839"
      ]
     },
     "execution_count": 14,
     "metadata": {},
     "output_type": "execute_result"
    }
   ],
   "source": [
    "lr_model = LogisticRegression(solver=\"liblinear\")\n",
    "lr_model.fit(X_train, y_train)\n",
    "predictions = lr_model.predict(X_test)\n",
    "accuracy_score(predictions, y_test)"
   ]
  },
  {
   "cell_type": "markdown",
   "metadata": {},
   "source": [
    "A decent result right off the bat, but since this is a classification task, we can't just rely on the raw accuracy score, so we will also measure the precision/recall for each of the classes to better understand the performance of our model."
   ]
  },
  {
   "cell_type": "code",
   "execution_count": 15,
   "metadata": {},
   "outputs": [
    {
     "name": "stdout",
     "output_type": "stream",
     "text": [
      "              precision    recall  f1-score   support\n",
      "\n",
      "           0       0.50      0.25      0.33         8\n",
      "           1       0.90      0.96      0.93        54\n",
      "\n",
      "    accuracy                           0.87        62\n",
      "   macro avg       0.70      0.61      0.63        62\n",
      "weighted avg       0.85      0.87      0.85        62\n",
      "\n"
     ]
    }
   ],
   "source": [
    "print(classification_report(y_test, predictions))"
   ]
  },
  {
   "cell_type": "markdown",
   "metadata": {},
   "source": [
    "As suspected, due to the imbalance that is present in our dataset, our recall rate for the 0th class is only 0.25, meaning only one in four observations in class 0 actually get labeled with class 0 by our model. Instead, our recall for class 1 is incredibly high, 0.96. In the real world, this would be a desired result, because, in this particular task, false positives are much less problematic than false negatives, because diagnosing someone cancerless when they don't have cancer is more \"safe\" than diagnosing someone as without cancer when they do have cancer. However, let's pretend (for the sake of practice) that a hospital that we are working for has incredibly limited capacity for patients with lung cancer. This will make us strive for higher precision in class 1 and higher recall in class 0. Likewise, we should also try and strive for high precision in class 0, since we don't want to miss any people who have cancer. Let's start by working with the data. In particular, we will try to fix the data imbalance in our training data using data augmentation.\n",
    "\n",
    "We could consider oversampling or undersampling in order to achieve a more balanced dataset; however, neither of these methods are appropriate in this situation in my opinion. Firstly, undersampling of class 1 will lead us to lose a lot of data; since we already don't have many observations in the training dataset, we will be risking a lot of valuable data, which most-likely will greatly decrease the performance of our model. Secondly, oversampling of class 0 will most-likely cause overfitting of our model, because of how large the imbalance is. This will lead to a worse performance in the testing dataset and the real-world in general. We could consider these options if the imbalance was about 60-40, but these methods are simply not viable options when our dataset has an imbalance of 88-12.\n",
    "\n",
    "Consequently, we will be using data augmentation to decrease the imbalance, meaning we will create new synthetic data points based on our existing data points. In particular, I will be using SMOTE and ADASYN and determine which method is better for our particular case. I will be using `imblearn`'s implemenation of these two algorithms.\n",
    "\n",
    "Note that the difference between SMOTE and ADASYN is that ADASYN augments points, which are 'harder' to classify i.e. they are close to the points from a different class. Based on these differences in the algorithms, one algorithm might be able to perform better than another."
   ]
  },
  {
   "cell_type": "code",
   "execution_count": 40,
   "metadata": {},
   "outputs": [],
   "source": [
    "sm = SMOTE(random_state=0)\n",
    "sm_X, sm_y = sm.fit_resample(X_train, y_train)"
   ]
  },
  {
   "cell_type": "code",
   "execution_count": 41,
   "metadata": {},
   "outputs": [],
   "source": [
    "ada = ADASYN(random_state=0)\n",
    "ada_X, ada_y = ada.fit_resample(X_train, y_train)"
   ]
  },
  {
   "cell_type": "code",
   "execution_count": 42,
   "metadata": {},
   "outputs": [
    {
     "data": {
      "text/plain": [
       "Text(0.5, 1.0, 'ADASYN')"
      ]
     },
     "execution_count": 42,
     "metadata": {},
     "output_type": "execute_result"
    },
    {
     "data": {
      "image/png": "[encoded data removed]",
      "text/plain": [
       "<Figure size 720x360 with 2 Axes>"
      ]
     },
     "metadata": {
      "needs_background": "light"
     },
     "output_type": "display_data"
    }
   ],
   "source": [
    "fig, axes = plt.subplots(1, 2, figsize=(10, 5))\n",
    "fig.suptitle(\"Class Count after Data Augmentation\")\n",
    "sns.countplot(ax=axes[0], x=sm_y).set_title(\"SMOTE\")\n",
    "sns.countplot(ax=axes[1], x=ada_y).set_title(\"ADASYN\")"
   ]
  },
  {
   "cell_type": "markdown",
   "metadata": {},
   "source": [
    "Now that our training dataset is balanced, we will see if that increases our performance by testing on the logistic regression model again."
   ]
  },
  {
   "cell_type": "code",
   "execution_count": 43,
   "metadata": {},
   "outputs": [
    {
     "name": "stdout",
     "output_type": "stream",
     "text": [
      "Accuracy: 0.9032258064516129\n",
      "              precision    recall  f1-score   support\n",
      "\n",
      "           0       0.67      0.50      0.57         8\n",
      "           1       0.93      0.96      0.95        54\n",
      "\n",
      "    accuracy                           0.90        62\n",
      "   macro avg       0.80      0.73      0.76        62\n",
      "weighted avg       0.89      0.90      0.90        62\n",
      "\n"
     ]
    }
   ],
   "source": [
    "sm_model = LogisticRegression(solver=\"liblinear\")\n",
    "sm_model.fit(sm_X, sm_y)\n",
    "predictions = sm_model.predict(X_test)\n",
    "print(f\"Accuracy: {accuracy_score(y_test, predictions)}\")\n",
    "print(classification_report(y_test, predictions))"
   ]
  },
  {
   "cell_type": "markdown",
   "metadata": {},
   "source": [
    "This is an excellent result! We increased our overall accuracy and precision in both the classes, and increased our recall in class 0, which is what we aimed for. Additionally, this increase in performance didn't come as a trade-off for recall in class 1, which is ideal! Let's now check if this is the case for ADASYN."
   ]
  },
  {
   "cell_type": "code",
   "execution_count": 49,
   "metadata": {},
   "outputs": [
    {
     "name": "stdout",
     "output_type": "stream",
     "text": [
      "Accuracy: 0.8870967741935484\n",
      "              precision    recall  f1-score   support\n",
      "\n",
      "           0       0.57      0.50      0.53         8\n",
      "           1       0.93      0.94      0.94        54\n",
      "\n",
      "    accuracy                           0.89        62\n",
      "   macro avg       0.75      0.72      0.73        62\n",
      "weighted avg       0.88      0.89      0.88        62\n",
      "\n"
     ]
    }
   ],
   "source": [
    "ada_model = LogisticRegression(solver=\"liblinear\")\n",
    "ada_model.fit(ada_X, ada_y)\n",
    "predictions = ada_model.predict(X_test)\n",
    "print(f\"Accuracy: {accuracy_score(y_test, predictions)}\")\n",
    "print(classification_report(y_test, predictions))"
   ]
  },
  {
   "cell_type": "markdown",
   "metadata": {},
   "source": [
    "With ADASYN, our model got closer to what we wanted, but, nevertheless, the precision of class 0 and recall for class 1 is higher when the model is trained with SMOTE and not ADASYN; this causes the overall accuracy to be higher for SMOTE. As such, we will continue to be using the dataset augmented using SMOTE within this notebook. \n",
    "\n",
    "Let's now move on to the next stage of our investigation and attempt to pick a set of classification models that we will hyperparameterize to improve the score further. We will use the following models at this stage:\n",
    "- Logistic Regression\n",
    "- RBF SVM\n",
    "- Linear SVM\n",
    "- KNearestNeighbors\n",
    "- RandomForest\n",
    "- MLPClassifier (Multi-Layers Percepetron Classifier)\n",
    "- Gaussian Naive Bayes\n",
    "\n",
    "Out of these 6 models, we will pick the top 3 and continue optimizing them"
   ]
  },
  {
   "cell_type": "code",
   "execution_count": 50,
   "metadata": {},
   "outputs": [
    {
     "name": "stdout",
     "output_type": "stream",
     "text": [
      "Linear Support Vector Machine: 0.9193548387096774\n",
      "Logistic Regression: 0.9032258064516129\n",
      "K-Nearest Neighbors: 0.9032258064516129\n"
     ]
    }
   ],
   "source": [
    "models_dict = {\"Logistic Regression\": LogisticRegression(solver=\"liblinear\"),\n",
    "               \"RBF Support Vector Machine\": SVC(),\n",
    "               \"Linear Support Vector Machine\": SVC(kernel=\"linear\"),\n",
    "               \"K-Nearest Neighbors\": KNeighborsClassifier(),\n",
    "               \"Random Forest\": RandomForestClassifier(random_state=0),\n",
    "               \"Multi-Layer Perceptron\": MLPClassifier(max_iter=500, random_state=0),\n",
    "               \"Gaussian Naive Bayes\": GaussianNB()}\n",
    "scores_dict = {}\n",
    "clf_reports = {}\n",
    "for name, model in models_dict.items():\n",
    "    model.fit(sm_X, sm_y)\n",
    "    predictions = model.predict(X_test)\n",
    "    scores_dict[name] = accuracy_score(y_test, predictions)\n",
    "    clf_reports[name] = classification_report(y_test, predictions, output_dict=True)\n",
    "\n",
    "scores = sorted(scores_dict.items(), key=lambda x: x[1], reverse=True)\n",
    "\n",
    "for name, score in scores[:3]:\n",
    "    print(f\"{name}: {score}\")"
   ]
  },
  {
   "cell_type": "markdown",
   "metadata": {},
   "source": [
    "We can see that our top three models are a Linear Support Vector Machine, Logistic Regression, and K-Nearest Neighbors. So, these are the three models that we will focus for the remainder of this investigation. Let's get more insight into the performance of these models by looking at their classification reports. To make the side-by-side comparison easier, we will visualize the reports."
   ]
  },
  {
   "cell_type": "code",
   "execution_count": 51,
   "metadata": {},
   "outputs": [],
   "source": [
    "lsvm_report = clf_reports[\"Linear Support Vector Machine\"]\n",
    "lr_report = clf_reports[\"Logistic Regression\"]\n",
    "knn_report = clf_reports[\"K-Nearest Neighbors\"]\n",
    "top_reports = [lsvm_report, lr_report, knn_report]"
   ]
  },
  {
   "cell_type": "code",
   "execution_count": 52,
   "metadata": {},
   "outputs": [],
   "source": [
    "class_0_precision = [report['0'][\"precision\"] for report in top_reports]\n",
    "class_0_recall = [report['0'][\"recall\"] for report in top_reports]\n",
    "class_1_precision = [report['1'][\"precision\"] for report in top_reports]\n",
    "class_1_recall = [report['1'][\"recall\"] for report in top_reports]"
   ]
  },
  {
   "cell_type": "code",
   "execution_count": 53,
   "metadata": {},
   "outputs": [
    {
     "data": {
      "image/png": "[encoded data removed]",
      "text/plain": [
       "<Figure size 1080x576 with 1 Axes>"
      ]
     },
     "metadata": {
      "needs_background": "light"
     },
     "output_type": "display_data"
    }
   ],
   "source": [
    "fig, ax = plt.subplots(figsize=(15, 8))\n",
    "width = 0.2\n",
    "length = np.arange(3)\n",
    "class_0_precision_bars = ax.bar(length-1.5*width, class_0_precision, width, label=\"Class 0: Precision\")\n",
    "class_0_recall_bars = ax.bar(length-width/2, class_0_recall, width, label=\"Class 0: Recall\")\n",
    "class_1_precision_bars = ax.bar(length+width/2, class_1_precision, width, label=\"Class 1: Precision\")\n",
    "class_1_recall_bars = ax.bar(length+1.5*width, class_1_recall, width, label=\"Class 1: Recall\")\n",
    "\n",
    "ax.set_xticks(length)\n",
    "ax.set_title('Precision and Recall for Each Class per Model')\n",
    "ax.set_xticklabels([\"LSVM\", \"LR\", \"KNN\"])\n",
    "ax.legend()\n",
    "\n",
    "ax.bar_label(class_0_precision_bars, padding=3)\n",
    "ax.bar_label(class_0_recall_bars, padding=3)\n",
    "ax.bar_label(class_1_precision_bars, padding=3)\n",
    "ax.bar_label(class_1_recall_bars, padding=3)\n",
    "\n",
    "\n",
    "fig.tight_layout()\n",
    "\n",
    "plt.show()"
   ]
  },
  {
   "cell_type": "markdown",
   "metadata": {},
   "source": [
    "In this task, we are striving for high class 0 recall and high class 1 precision. Based on the above plot, the model that is the best in these two objectives is the K-Nearest Neighbors model. Although it has lower overall accuracy than the Linear Support Vector Machine, it's currently the best model in terms of what we are looking for specifically. Nevertheless, now, we will hyperparameterize all three models in order to improve their performance further. "
   ]
  },
  {
   "cell_type": "code",
   "execution_count": 54,
   "metadata": {},
   "outputs": [],
   "source": [
    "def grid_search_model(model_class, params):\n",
    "    model = model_class()\n",
    "    model_grid = GridSearchCV(model, params)\n",
    "    model_grid.fit(sm_X, sm_y)\n",
    "    best_params = model_grid.best_params_\n",
    "    best_model = model_class(**best_params)\n",
    "    best_model.fit(sm_X, sm_y)\n",
    "    predictions = best_model.predict(X_test)\n",
    "    print(f\"The best parameters are: {best_params}\")\n",
    "    print(f\"Accuracy: {accuracy_score(y_test, predictions)}\")\n",
    "    print(classification_report(y_test, predictions))"
   ]
  },
  {
   "cell_type": "code",
   "execution_count": 55,
   "metadata": {},
   "outputs": [
    {
     "name": "stdout",
     "output_type": "stream",
     "text": [
      "The best parameters are: {'C': 0.5, 'kernel': 'linear', 'random_state': 0}\n",
      "Accuracy: 0.9032258064516129\n",
      "              precision    recall  f1-score   support\n",
      "\n",
      "           0       0.67      0.50      0.57         8\n",
      "           1       0.93      0.96      0.95        54\n",
      "\n",
      "    accuracy                           0.90        62\n",
      "   macro avg       0.80      0.73      0.76        62\n",
      "weighted avg       0.89      0.90      0.90        62\n",
      "\n"
     ]
    }
   ],
   "source": [
    "c_list = np.array(range(25, 200, 25)) / 100\n",
    "svc_params = {\"C\": c_list, \"random_state\": [0], \"kernel\":[\"linear\"]}\n",
    "grid_search_model(SVC, svc_params)"
   ]
  },
  {
   "cell_type": "markdown",
   "metadata": {},
   "source": [
    "With the best parameters as determined by our GridSearch, we can see that while our precision for class 0 has imrpoved, our precision and recall for class 1 have decreased, decreasing overall accuracy for our linear support vector machine model."
   ]
  },
  {
   "cell_type": "code",
   "execution_count": 57,
   "metadata": {},
   "outputs": [
    {
     "name": "stdout",
     "output_type": "stream",
     "text": [
      "The best parameters are: {'C': 0.5, 'penalty': 'l2'}\n",
      "Accuracy: 0.9193548387096774\n",
      "              precision    recall  f1-score   support\n",
      "\n",
      "           0       0.71      0.62      0.67         8\n",
      "           1       0.95      0.96      0.95        54\n",
      "\n",
      "    accuracy                           0.92        62\n",
      "   macro avg       0.83      0.79      0.81        62\n",
      "weighted avg       0.92      0.92      0.92        62\n",
      "\n"
     ]
    }
   ],
   "source": [
    "lr_params = {\"C\": c_list, \"penalty\": [\"l1\", \"l2\"]}\n",
    "grid_search_model(LogisticRegression, lr_params)"
   ]
  },
  {
   "cell_type": "markdown",
   "metadata": {},
   "source": [
    "This time around, we have actually improved the overall performance of our model. Additionally, we have pushed the recall of class 0 higher and improved the precision of class 1, which is what we were striving for in our investigation. This makes this model better for us than our previously best performing linear support vector machine, while having the same overall accuracy."
   ]
  },
  {
   "cell_type": "code",
   "execution_count": 58,
   "metadata": {},
   "outputs": [
    {
     "name": "stdout",
     "output_type": "stream",
     "text": [
      "The best parameters are: {'algorithm': 'ball_tree', 'leaf_size': 24, 'n_neighbors': 3, 'weights': 'distance'}\n",
      "Accuracy: 0.8870967741935484\n",
      "              precision    recall  f1-score   support\n",
      "\n",
      "           0       0.55      0.75      0.63         8\n",
      "           1       0.96      0.91      0.93        54\n",
      "\n",
      "    accuracy                           0.89        62\n",
      "   macro avg       0.75      0.83      0.78        62\n",
      "weighted avg       0.91      0.89      0.89        62\n",
      "\n"
     ]
    }
   ],
   "source": [
    "neighbors_list = np.array(range(3, 11))\n",
    "leaf_list = np.array(range(24, 42, 2))\n",
    "knn_params = {\"n_neighbors\": neighbors_list, \"weights\": [\"uniform\", \"distance\"], \"algorithm\": [\"ball_tree\", \"kd_tree\"],\n",
    "              \"leaf_size\": leaf_list}\n",
    "grid_search_model(KNeighborsClassifier, knn_params)"
   ]
  },
  {
   "cell_type": "markdown",
   "metadata": {},
   "source": [
    "Unfortunately, using GridSearchCV, we found a worse performing model than our original KNN model. Compared to our previous instance of KNN model, the newer model has slightly better recall of class 1, but has worse precision for both class 1 and 0 and worse recall for class 0, making it unsuitable for our investigation. \n",
    "\n",
    "Now, we have two models to choose from: our initial SVM-based model and the LR model we obtained from GridSearchCV. Let's plot their detailed accuracies to make comparison easier."
   ]
  },
  {
   "cell_type": "code",
   "execution_count": 59,
   "metadata": {},
   "outputs": [],
   "source": [
    "lr_params = {\"C\": 0.5, \"penalty\": \"l2\"}\n",
    "best_lr = LogisticRegression(**lr_params)\n",
    "best_lr.fit(sm_X, sm_y)\n",
    "predictions = best_lr.predict(X_test)\n",
    "lr_report = classification_report(y_test, predictions, output_dict=True)\n",
    "latest_reports = [lsvm_report, lr_report]"
   ]
  },
  {
   "cell_type": "code",
   "execution_count": 60,
   "metadata": {},
   "outputs": [],
   "source": [
    "class_0_precision = [report['0'][\"precision\"] for report in latest_reports]\n",
    "class_0_recall = [report['0'][\"recall\"] for report in latest_reports]\n",
    "class_1_precision = [report['1'][\"precision\"] for report in latest_reports]\n",
    "class_1_recall = [report['1'][\"recall\"] for report in latest_reports]"
   ]
  },
  {
   "cell_type": "code",
   "execution_count": 61,
   "metadata": {},
   "outputs": [
    {
     "data": {
      "image/png": "[encoded data removed]",
      "text/plain": [
       "<Figure size 1080x576 with 1 Axes>"
      ]
     },
     "metadata": {
      "needs_background": "light"
     },
     "output_type": "display_data"
    }
   ],
   "source": [
    "fig, ax = plt.subplots(figsize=(15, 8))\n",
    "width = 0.2\n",
    "length = np.arange(2)\n",
    "class_0_precision_bars = ax.bar(length-1.5*width, class_0_precision, width, label=\"Class 0: Precision\")\n",
    "class_0_recall_bars = ax.bar(length-width/2, class_0_recall, width, label=\"Class 0: Recall\")\n",
    "class_1_precision_bars = ax.bar(length+width/2, class_1_precision, width, label=\"Class 1: Precision\")\n",
    "class_1_recall_bars = ax.bar(length+1.5*width, class_1_recall, width, label=\"Class 1: Recall\")\n",
    "\n",
    "ax.set_xticks(length)\n",
    "ax.set_title('Precision and Recall for Each Class per Model')\n",
    "ax.set_xticklabels([\"LSVM\", \"LR\"])\n",
    "ax.legend()\n",
    "\n",
    "ax.bar_label(class_0_precision_bars, padding=3)\n",
    "ax.bar_label(class_0_recall_bars, padding=3)\n",
    "ax.bar_label(class_1_precision_bars, padding=3)\n",
    "ax.bar_label(class_1_recall_bars, padding=3)\n",
    "\n",
    "\n",
    "fig.tight_layout()\n",
    "\n",
    "plt.show()"
   ]
  },
  {
   "cell_type": "markdown",
   "metadata": {},
   "source": [
    "Our aim for this task is higher recall for class 0 and higher precision for class 1. Both of these metrics are better achieved by our logistic regression model, so that is the model I would recommend the hospital uses when trying to decide whether a patient has cancer or not. However, realistically, we know that false positives are less problematic than false negatives. So, in the real world, my recommendation would be to go with the model that has higher precision for class 0 and high recall for class 1, which in this case is the LSVM model.\n",
    "\n",
    "Thank you for taking the time to read through this notebook! Would love to hear your feedback. Feel free to open an issue on GitHub. Thanks!"
   ]
  }
 ],
 "metadata": {
  "kernelspec": {
   "display_name": "venv",
   "language": "python",
   "name": "venv"
  },
  "language_info": {
   "codemirror_mode": {
    "name": "ipython",
    "version": 3
   },
   "file_extension": ".py",
   "mimetype": "text/x-python",
   "name": "python",
   "nbconvert_exporter": "python",
   "pygments_lexer": "ipython3",
   "version": "3.9.0"
  }
 },
 "nbformat": 4,
 "nbformat_minor": 4
}
