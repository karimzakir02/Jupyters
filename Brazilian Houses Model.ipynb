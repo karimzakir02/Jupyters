{
 "cells": [
  {
   "cell_type": "markdown",
   "metadata": {
    "papermill": {
     "duration": 0.084992,
     "end_time": "2021-06-27T10:53:19.163416",
     "exception": false,
     "start_time": "2021-06-27T10:53:19.078424",
     "status": "completed"
    },
    "tags": []
   },
   "source": [
    "# Predicting Rent Prices for houses/apartments in the Brazilian Real Estate Market\n",
    "## By: Karim Zakir\n",
    "In this notebook, I will analyze and build a model from start to finish for the [Brazilian Houses To Rent](https://www.kaggle.com/rubenssjr/brasilian-houses-to-rent) dataset found on Kaggle. I will visualize the data, preprocess it for machine learning, create/optimize a machine learning model, and finally analyze the model's accuracy. Let's start by importing the necessary libraries and taking a glance at the dataset."
   ]
  },
  {
   "cell_type": "code",
   "execution_count": 5,
   "metadata": {
    "_cell_guid": "b1076dfc-b9ad-4769-8c92-a6c4dae69d19",
    "_uuid": "8f2839f25d086af736a60e9eeb907d3b93b6e0e5",
    "papermill": {
     "duration": 1.445184,
     "end_time": "2021-06-27T10:53:20.703764",
     "exception": false,
     "start_time": "2021-06-27T10:53:19.258580",
     "status": "completed"
    },
    "tags": []
   },
   "outputs": [],
   "source": [
    "import os\n",
    "for dirname, _, filenames in os.walk('/kaggle/input'):\n",
    "    for filename in filenames:\n",
    "        print(os.path.join(dirname, filename))\n",
    "\n",
    "import pandas as pd\n",
    "import numpy as np\n",
    "import matplotlib.pyplot as plt\n",
    "import seaborn as sns\n",
    "sns.set_theme(style=\"darkgrid\")\n",
    "from sklearn.model_selection import train_test_split\n",
    "from sklearn.preprocessing import OneHotEncoder\n",
    "from scipy.spatial.distance import mahalanobis\n",
    "from scipy.stats import chi2\n",
    "from sklearn.ensemble import RandomForestRegressor\n",
    "from sklearn.metrics import mean_absolute_error\n",
    "from sklearn.cluster import KMeans\n",
    "import warnings\n",
    "warnings.filterwarnings(\"ignore\")"
   ]
  },
  {
   "cell_type": "code",
   "execution_count": 6,
   "metadata": {
    "papermill": {
     "duration": 0.154055,
     "end_time": "2021-06-27T10:53:20.941286",
     "exception": false,
     "start_time": "2021-06-27T10:53:20.787231",
     "status": "completed"
    },
    "tags": []
   },
   "outputs": [
    {
     "data": {
      "text/html": [
       "<div>\n",
       "<style scoped>\n",
       "    .dataframe tbody tr th:only-of-type {\n",
       "        vertical-align: middle;\n",
       "    }\n",
       "\n",
       "    .dataframe tbody tr th {\n",
       "        vertical-align: top;\n",
       "    }\n",
       "\n",
       "    .dataframe thead th {\n",
       "        text-align: right;\n",
       "    }\n",
       "</style>\n",
       "<table border=\"1\" class=\"dataframe\">\n",
       "  <thead>\n",
       "    <tr style=\"text-align: right;\">\n",
       "      <th></th>\n",
       "      <th>city</th>\n",
       "      <th>area</th>\n",
       "      <th>rooms</th>\n",
       "      <th>bathroom</th>\n",
       "      <th>parking spaces</th>\n",
       "      <th>floor</th>\n",
       "      <th>animal</th>\n",
       "      <th>furniture</th>\n",
       "      <th>hoa (R$)</th>\n",
       "      <th>rent amount (R$)</th>\n",
       "      <th>property tax (R$)</th>\n",
       "      <th>fire insurance (R$)</th>\n",
       "      <th>total (R$)</th>\n",
       "    </tr>\n",
       "  </thead>\n",
       "  <tbody>\n",
       "    <tr>\n",
       "      <th>0</th>\n",
       "      <td>São Paulo</td>\n",
       "      <td>70</td>\n",
       "      <td>2</td>\n",
       "      <td>1</td>\n",
       "      <td>1</td>\n",
       "      <td>7</td>\n",
       "      <td>acept</td>\n",
       "      <td>furnished</td>\n",
       "      <td>2065</td>\n",
       "      <td>3300</td>\n",
       "      <td>211</td>\n",
       "      <td>42</td>\n",
       "      <td>5618</td>\n",
       "    </tr>\n",
       "    <tr>\n",
       "      <th>1</th>\n",
       "      <td>São Paulo</td>\n",
       "      <td>320</td>\n",
       "      <td>4</td>\n",
       "      <td>4</td>\n",
       "      <td>0</td>\n",
       "      <td>20</td>\n",
       "      <td>acept</td>\n",
       "      <td>not furnished</td>\n",
       "      <td>1200</td>\n",
       "      <td>4960</td>\n",
       "      <td>1750</td>\n",
       "      <td>63</td>\n",
       "      <td>7973</td>\n",
       "    </tr>\n",
       "    <tr>\n",
       "      <th>2</th>\n",
       "      <td>Porto Alegre</td>\n",
       "      <td>80</td>\n",
       "      <td>1</td>\n",
       "      <td>1</td>\n",
       "      <td>1</td>\n",
       "      <td>6</td>\n",
       "      <td>acept</td>\n",
       "      <td>not furnished</td>\n",
       "      <td>1000</td>\n",
       "      <td>2800</td>\n",
       "      <td>0</td>\n",
       "      <td>41</td>\n",
       "      <td>3841</td>\n",
       "    </tr>\n",
       "    <tr>\n",
       "      <th>3</th>\n",
       "      <td>Porto Alegre</td>\n",
       "      <td>51</td>\n",
       "      <td>2</td>\n",
       "      <td>1</td>\n",
       "      <td>0</td>\n",
       "      <td>2</td>\n",
       "      <td>acept</td>\n",
       "      <td>not furnished</td>\n",
       "      <td>270</td>\n",
       "      <td>1112</td>\n",
       "      <td>22</td>\n",
       "      <td>17</td>\n",
       "      <td>1421</td>\n",
       "    </tr>\n",
       "    <tr>\n",
       "      <th>4</th>\n",
       "      <td>São Paulo</td>\n",
       "      <td>25</td>\n",
       "      <td>1</td>\n",
       "      <td>1</td>\n",
       "      <td>0</td>\n",
       "      <td>1</td>\n",
       "      <td>not acept</td>\n",
       "      <td>not furnished</td>\n",
       "      <td>0</td>\n",
       "      <td>800</td>\n",
       "      <td>25</td>\n",
       "      <td>11</td>\n",
       "      <td>836</td>\n",
       "    </tr>\n",
       "  </tbody>\n",
       "</table>\n",
       "</div>"
      ],
      "text/plain": [
       "           city  area  rooms  bathroom  parking spaces floor     animal  \\\n",
       "0     São Paulo    70      2         1               1     7      acept   \n",
       "1     São Paulo   320      4         4               0    20      acept   \n",
       "2  Porto Alegre    80      1         1               1     6      acept   \n",
       "3  Porto Alegre    51      2         1               0     2      acept   \n",
       "4     São Paulo    25      1         1               0     1  not acept   \n",
       "\n",
       "       furniture  hoa (R$)  rent amount (R$)  property tax (R$)  \\\n",
       "0      furnished      2065              3300                211   \n",
       "1  not furnished      1200              4960               1750   \n",
       "2  not furnished      1000              2800                  0   \n",
       "3  not furnished       270              1112                 22   \n",
       "4  not furnished         0               800                 25   \n",
       "\n",
       "   fire insurance (R$)  total (R$)  \n",
       "0                   42        5618  \n",
       "1                   63        7973  \n",
       "2                   41        3841  \n",
       "3                   17        1421  \n",
       "4                   11         836  "
      ]
     },
     "execution_count": 6,
     "metadata": {},
     "output_type": "execute_result"
    }
   ],
   "source": [
    "houses = pd.read_csv(\"datasets/houses_to_rent_v2.csv\")\n",
    "houses.head()"
   ]
  },
  {
   "cell_type": "code",
   "execution_count": 7,
   "metadata": {
    "papermill": {
     "duration": 0.093229,
     "end_time": "2021-06-27T10:53:21.118774",
     "exception": false,
     "start_time": "2021-06-27T10:53:21.025545",
     "status": "completed"
    },
    "tags": []
   },
   "outputs": [
    {
     "data": {
      "text/plain": [
       "(10692, 13)"
      ]
     },
     "execution_count": 7,
     "metadata": {},
     "output_type": "execute_result"
    }
   ],
   "source": [
    "houses.shape"
   ]
  },
  {
   "cell_type": "markdown",
   "metadata": {
    "execution": {
     "iopub.execute_input": "2021-06-14T13:51:26.051443Z",
     "iopub.status.busy": "2021-06-14T13:51:26.050926Z",
     "iopub.status.idle": "2021-06-14T13:51:26.056847Z",
     "shell.execute_reply": "2021-06-14T13:51:26.055815Z",
     "shell.execute_reply.started": "2021-06-14T13:51:26.051409Z"
    },
    "papermill": {
     "duration": 0.112431,
     "end_time": "2021-06-27T10:53:21.315995",
     "exception": false,
     "start_time": "2021-06-27T10:53:21.203564",
     "status": "completed"
    },
    "tags": []
   },
   "source": [
    "As you can see, there are 10692 observations and 13 columns in the dataset. Most of the columns are (or seem to be) numerical, while some like 'city', 'animal', and 'furniture' are categorical. We will make sure to encode these columns later."
   ]
  },
  {
   "cell_type": "markdown",
   "metadata": {
    "papermill": {
     "duration": 0.084614,
     "end_time": "2021-06-27T10:53:21.487362",
     "exception": false,
     "start_time": "2021-06-27T10:53:21.402748",
     "status": "completed"
    },
    "tags": []
   },
   "source": [
    "### Data Analysis and Visualization\n",
    "\n",
    "The first main section of this notebook will focus Data Analysis and Visualization. In this section, we will get to know the data, analyze and visualize it, and select the target variable for our machine learning model.\n",
    "\n",
    "We will begin by looking at the data distribution for each of the numerical columns and analyzing them. "
   ]
  },
  {
   "cell_type": "code",
   "execution_count": 8,
   "metadata": {
    "papermill": {
     "duration": 0.094051,
     "end_time": "2021-06-27T10:53:21.666071",
     "exception": false,
     "start_time": "2021-06-27T10:53:21.572020",
     "status": "completed"
    },
    "tags": []
   },
   "outputs": [
    {
     "data": {
      "text/plain": [
       "['area',\n",
       " 'rooms',\n",
       " 'bathroom',\n",
       " 'parking spaces',\n",
       " 'hoa (R$)',\n",
       " 'rent amount (R$)',\n",
       " 'property tax (R$)',\n",
       " 'fire insurance (R$)',\n",
       " 'total (R$)']"
      ]
     },
     "execution_count": 8,
     "metadata": {},
     "output_type": "execute_result"
    }
   ],
   "source": [
    "num_cols = houses.select_dtypes(include=np.number).columns.tolist()\n",
    "num_cols"
   ]
  },
  {
   "cell_type": "markdown",
   "metadata": {
    "papermill": {
     "duration": 0.085276,
     "end_time": "2021-06-27T10:53:21.836119",
     "exception": false,
     "start_time": "2021-06-27T10:53:21.750843",
     "status": "completed"
    },
    "tags": []
   },
   "source": [
    "Although most of the numerical columns are present in the above list, it is missing the floor column, which, logically, should be numerical. Let's check the unique values for this column."
   ]
  },
  {
   "cell_type": "code",
   "execution_count": 9,
   "metadata": {
    "papermill": {
     "duration": 0.098393,
     "end_time": "2021-06-27T10:53:22.019830",
     "exception": false,
     "start_time": "2021-06-27T10:53:21.921437",
     "status": "completed"
    },
    "tags": []
   },
   "outputs": [
    {
     "data": {
      "text/plain": [
       "array(['7', '20', '6', '2', '1', '-', '4', '3', '10', '11', '24', '9',\n",
       "       '8', '17', '18', '5', '13', '15', '16', '14', '26', '12', '21',\n",
       "       '19', '22', '27', '23', '35', '25', '46', '28', '29', '301', '51',\n",
       "       '32'], dtype=object)"
      ]
     },
     "execution_count": 9,
     "metadata": {},
     "output_type": "execute_result"
    }
   ],
   "source": [
    "houses[\"floor\"].unique()"
   ]
  },
  {
   "cell_type": "markdown",
   "metadata": {
    "papermill": {
     "duration": 0.085991,
     "end_time": "2021-06-27T10:53:22.191726",
     "exception": false,
     "start_time": "2021-06-27T10:53:22.105735",
     "status": "completed"
    },
    "tags": []
   },
   "source": [
    "As you can see, this column's data type is object, because it contains the string value '-'. It is possible that this value can represent missing data; however, my initial instict was that this value represents houses or apartments on the ground floor. As [confirmed by the author](https://www.kaggle.com/rubenssjr/brasilian-houses-to-rent/discussion/161708), these values represent houses, so this allows us to have a clear distinction between apartments/houses in our dataset. As such, we will convert the floor column into a numerical column by replacing the '-' with 0."
   ]
  },
  {
   "cell_type": "code",
   "execution_count": 10,
   "metadata": {
    "papermill": {
     "duration": 0.09602,
     "end_time": "2021-06-27T10:53:22.375503",
     "exception": false,
     "start_time": "2021-06-27T10:53:22.279483",
     "status": "completed"
    },
    "tags": []
   },
   "outputs": [],
   "source": [
    "houses[\"floor\"] = houses[\"floor\"].replace({\"-\": \"0\"}).astype(int)"
   ]
  },
  {
   "cell_type": "code",
   "execution_count": 11,
   "metadata": {
    "papermill": {
     "duration": 48.970387,
     "end_time": "2021-06-27T10:54:11.431264",
     "exception": false,
     "start_time": "2021-06-27T10:53:22.460877",
     "status": "completed"
    },
    "tags": []
   },
   "outputs": [
    {
     "data": {
      "image/png": "[encoded data removed]",
      "text/plain": [
       "<Figure size 1440x720 with 10 Axes>"
      ]
     },
     "metadata": {},
     "output_type": "display_data"
    }
   ],
   "source": [
    "num_cols = houses.select_dtypes(include=np.number).columns.tolist()\n",
    "fig, axs = plt.subplots(2, 5, figsize=(20, 10))\n",
    "fig.suptitle(\"Data Distribution of Numerical Columns\")\n",
    "for index, col in enumerate(num_cols):\n",
    "    if index < 5:  \n",
    "        sns.histplot(ax=axs[0][index], data=houses, x=col)\n",
    "    else:\n",
    "        sns.histplot(ax=axs[1][index-5], data=houses, x=col)\n",
    "plt.show()"
   ]
  },
  {
   "cell_type": "markdown",
   "metadata": {
    "papermill": {
     "duration": 0.089332,
     "end_time": "2021-06-27T10:54:11.608146",
     "exception": false,
     "start_time": "2021-06-27T10:54:11.518814",
     "status": "completed"
    },
    "tags": []
   },
   "source": [
    "Based on the above plots, we can see that the distributions for the numeric columns are heavily skewed to the right, suggesting that there are more low to middle-class houses/apartments than high-class apartments/houses in the dataset. \n",
    "\n",
    "Some of the plots, such as the property tax or area plots, are not displayed as well as we would have hoped. This is because of the extreme values that occur at the end of the distributions. We will take a closer look at these observations in the later section. At the moment, we will set axis limits to the plots in order to take a better look at the majority of values in those columns."
   ]
  },
  {
   "cell_type": "code",
   "execution_count": 12,
   "metadata": {
    "papermill": {
     "duration": 46.575959,
     "end_time": "2021-06-27T10:54:58.322437",
     "exception": false,
     "start_time": "2021-06-27T10:54:11.746478",
     "status": "completed"
    },
    "tags": []
   },
   "outputs": [
    {
     "data": {
      "image/png": "[encoded data removed]",
      "text/plain": [
       "<Figure size 1440x576 with 5 Axes>"
      ]
     },
     "metadata": {},
     "output_type": "display_data"
    }
   ],
   "source": [
    "fig, axs = plt.subplots(1, 5, figsize=(20, 8))\n",
    "fig.suptitle(\"Data Distribution of Numerical Columns\")\n",
    "area_plot = sns.histplot(ax=axs[0], data=houses, x=\"area\")\n",
    "area_plot.set(xlim=(0, 1000))\n",
    "hoa_plot = sns.histplot(ax=axs[1], data=houses, x=\"hoa (R$)\")\n",
    "hoa_plot.set(xlim=(0, 6000))\n",
    "pt_plot = sns.histplot(ax=axs[2], data=houses, x=\"property tax (R$)\")\n",
    "pt_plot.set(xlim=(0, 2000))\n",
    "total_plot = sns.histplot(ax=axs[3], data=houses, x=\"total (R$)\")\n",
    "total_plot.set(xlim=(0, 30000))\n",
    "floor_plot = sns.histplot(ax=axs[4], data=houses, x=\"floor\")\n",
    "floor_plot.set(xlim=(0, 40))\n",
    "plt.show()"
   ]
  },
  {
   "cell_type": "markdown",
   "metadata": {
    "papermill": {
     "duration": 0.088635,
     "end_time": "2021-06-27T10:54:58.499570",
     "exception": false,
     "start_time": "2021-06-27T10:54:58.410935",
     "status": "completed"
    },
    "tags": []
   },
   "source": [
    "Similarly to previous data distributions, the data distributions above are heavily skewed to the right, reinforcing the idea that this dataset is mostly made up of low to middle-class housing.\n",
    "\n",
    "These data distributions can help us pick the target variable for our model. The first call would be to have the 'total' column be the target variable, since, in addition to reflecting the rent price, it also includes taxes/insurances that the tenant would have to pay; however the model would become unrealiable in my opinion, because of the inconsistencies present in the 'hoa' and the 'property tax' columns. For instance, the 'hoa' column represents the home owners association tax. As you can see within the plot above, a lot of the observations have home owners association tax equal to 0. It is not clear whether this indicates missing data or an exemption from the tax. This is also the case for the 'property tax' column. Additionally, as we saw previously, there are outliers in the hoa and the property tax columns, which cause the total column to also have outliers that we will have to deal with later. As such, it is best to use the rent amount column as the target variable, since it does not depend on inconsistent columns in the dataset or does not require background knowledge about the Brazilian taxation system. Additionally, another benefit of using the 'rent amount' column instead of the 'total' column is that the model will not be affected by the changes in the taxation system within Brazil, making our model more future-proof. \n",
    "\n",
    "Let's save our potential X and y dataframes and look at the categorical variables in the dataset. We are completely excluding columns like 'fire insurance', 'property tax', and 'total' from our X dataframe, because data from these columns will not be available to us when forecasting the rent price for new houses/apartments on the market. Other columns will be kept, and we will check whether they affect our target variable later in the notebook."
   ]
  },
  {
   "cell_type": "code",
   "execution_count": 48,
   "metadata": {
    "papermill": {
     "duration": 0.098436,
     "end_time": "2021-06-27T10:54:58.687130",
     "exception": false,
     "start_time": "2021-06-27T10:54:58.588694",
     "status": "completed"
    },
    "tags": []
   },
   "outputs": [],
   "source": [
    "potential_features = [\"city\", \"area\", \"rooms\", \"bathroom\", \"parking spaces\", \"floor\", \"animal\", \"furniture\"]\n",
    "target = [\"rent amount (R$)\"]\n",
    "\n",
    "X = houses[potential_features]\n",
    "y = houses[target]"
   ]
  },
  {
   "cell_type": "code",
   "execution_count": 49,
   "metadata": {
    "papermill": {
     "duration": 0.097629,
     "end_time": "2021-06-27T10:54:58.873724",
     "exception": false,
     "start_time": "2021-06-27T10:54:58.776095",
     "status": "completed"
    },
    "tags": []
   },
   "outputs": [],
   "source": [
    "cat_cols = houses.select_dtypes(exclude=np.number).columns.tolist()"
   ]
  },
  {
   "cell_type": "code",
   "execution_count": 50,
   "metadata": {
    "papermill": {
     "duration": 0.490199,
     "end_time": "2021-06-27T10:54:59.453849",
     "exception": false,
     "start_time": "2021-06-27T10:54:58.963650",
     "status": "completed"
    },
    "tags": []
   },
   "outputs": [
    {
     "data": {
      "image/png": "[encoded data removed]",
      "text/plain": [
       "<Figure size 1440x576 with 3 Axes>"
      ]
     },
     "metadata": {},
     "output_type": "display_data"
    }
   ],
   "source": [
    "fig, axs = plt.subplots(1, 3, figsize=(20, 8))\n",
    "fig.suptitle(\"Value Count for Each Categorical Column\")\n",
    "for index, col in enumerate(cat_cols):\n",
    "    sns.countplot(ax=axs[index], data=houses, x=col)\n",
    "plt.show()"
   ]
  },
  {
   "cell_type": "markdown",
   "metadata": {
    "papermill": {
     "duration": 0.089842,
     "end_time": "2021-06-27T10:54:59.634655",
     "exception": false,
     "start_time": "2021-06-27T10:54:59.544813",
     "status": "completed"
    },
    "tags": []
   },
   "source": [
    "From these plots, we can see that there are only two categories in both the 'animal' column and the 'furniture' column. This will make it quite easy to enocode the columns later on. This kind of strict binary indication can worsen the performance of our model, however. This is especially the case with the 'furniture' column, because the variable does not indicate how well the apartment is furnished. \n",
    "\n",
    "The dataset mostly contains houses/apartments located in Sao Paulo, which makes sense because Sao Paulo is the most popoulous city in Brazil. The fact that Sao Paulo is the most popoulous city can indicate that the 'city' column will most-likely affect the rent amount, due to the higher demand present in certain cities.\n",
    "\n",
    "Let's start preprocessing our data and selecting the features for our model."
   ]
  },
  {
   "cell_type": "markdown",
   "metadata": {
    "papermill": {
     "duration": 0.089706,
     "end_time": "2021-06-27T10:54:59.813798",
     "exception": false,
     "start_time": "2021-06-27T10:54:59.724092",
     "status": "completed"
    },
    "tags": []
   },
   "source": [
    "### Data Preprocessing and Feature Selection\n",
    "\n",
    "Now, we will prepare the dataset for machine learning. This will be done in several stages:\n",
    "1. Split the data into the training and testing datasets\n",
    "2. Check for missing data within the dataset and determine how to handle it\n",
    "3. Identify outliers in the dataset and determine whether to keep or remove them\n",
    "4. Select the best features for our model\n",
    "\n",
    "#### Splitting the Data\n",
    "\n",
    "We will split the data into two datasets in order to first train the data and then use the remaining data to test our model. It is essential to ensure that the data split is the first step of data preprocessing in order to avoid data leakage in our analysis. I will use the standard 80-20 split, since this is widely used in the data science industry."
   ]
  },
  {
   "cell_type": "code",
   "execution_count": 51,
   "metadata": {
    "papermill": {
     "duration": 0.104442,
     "end_time": "2021-06-27T10:55:00.007622",
     "exception": false,
     "start_time": "2021-06-27T10:54:59.903180",
     "status": "completed"
    },
    "tags": []
   },
   "outputs": [],
   "source": [
    "X_train, X_test, y_train, y_test = train_test_split(X, y, test_size=0.2, random_state=45)"
   ]
  },
  {
   "cell_type": "markdown",
   "metadata": {
    "papermill": {
     "duration": 0.090715,
     "end_time": "2021-06-27T10:55:00.187874",
     "exception": false,
     "start_time": "2021-06-27T10:55:00.097159",
     "status": "completed"
    },
    "tags": []
   },
   "source": [
    "#### Missing Data\n",
    "\n",
    "Our second step in datapreprocessing is to find any missing data within the dataset and decide how to handle it. I will approach this task by looking at the dataset as a whole and find the observations which contain np.NaN. Afterwards, I will take a look at each column individually to ensure that there are no values which could also indicate observations with missing values. "
   ]
  },
  {
   "cell_type": "code",
   "execution_count": 52,
   "metadata": {
    "papermill": {
     "duration": 0.110774,
     "end_time": "2021-06-27T10:55:00.411917",
     "exception": false,
     "start_time": "2021-06-27T10:55:00.301143",
     "status": "completed"
    },
    "tags": []
   },
   "outputs": [],
   "source": [
    "X_train_missing = [col for col in X_train.columns if X_train[col].isnull().any()]\n",
    "X_test_missing = [col for col in X_test.columns if X_test[col].isnull().any()]\n",
    "y_train_missing = [col for col in y_train.columns if y_train[col].isnull().any()]\n",
    "y_test_missing = [col for col in y_test.columns if y_test[col].isnull().any()]"
   ]
  },
  {
   "cell_type": "code",
   "execution_count": 53,
   "metadata": {
    "papermill": {
     "duration": 0.098193,
     "end_time": "2021-06-27T10:55:00.599932",
     "exception": false,
     "start_time": "2021-06-27T10:55:00.501739",
     "status": "completed"
    },
    "tags": []
   },
   "outputs": [
    {
     "name": "stdout",
     "output_type": "stream",
     "text": [
      "Columns with missing values in X_train: []\n",
      "Columns with missing values in X_test: []\n",
      "Columns with missing values in y_train: []\n",
      "Columns with missing values in y_test: []\n"
     ]
    }
   ],
   "source": [
    "print(\"Columns with missing values in X_train:\", X_train_missing)\n",
    "print(\"Columns with missing values in X_test:\", X_test_missing)\n",
    "print(\"Columns with missing values in y_train:\", y_train_missing)\n",
    "print(\"Columns with missing values in y_test:\", y_test_missing)"
   ]
  },
  {
   "cell_type": "markdown",
   "metadata": {
    "papermill": {
     "duration": 0.09001,
     "end_time": "2021-06-27T10:55:00.779544",
     "exception": false,
     "start_time": "2021-06-27T10:55:00.689534",
     "status": "completed"
    },
    "tags": []
   },
   "source": [
    "As you can see, no columns in any of the dataframes have any observations with np.NaN. This, however, does not necessarily confirm that there are no missing observations in the dataset, since they can be denoted by different values. So, let's take a look at each column individually and try to identify any missing values. \n",
    "\n",
    "As we saw previously in our barplots, there are no 'strange' values in our categorical columns, since all of the unique values make sense within the categorical columns. As such, we can confirm that these columns have no missing values, so we will instantly move on to the numerical columns.\n",
    "\n",
    "The most obvious way to represent missing values for variables like 'area', 'room', or 'bathroom' would be to use non-positive values, since zero or negative values would make no sense within those columns. Thus, we will attempt to find any observations with non-positive values in 'area', 'room', and 'bathroom' columns."
   ]
  },
  {
   "cell_type": "code",
   "execution_count": 54,
   "metadata": {
    "papermill": {
     "duration": 0.104701,
     "end_time": "2021-06-27T10:55:00.974954",
     "exception": false,
     "start_time": "2021-06-27T10:55:00.870253",
     "status": "completed"
    },
    "tags": []
   },
   "outputs": [
    {
     "data": {
      "text/html": [
       "<div>\n",
       "<style scoped>\n",
       "    .dataframe tbody tr th:only-of-type {\n",
       "        vertical-align: middle;\n",
       "    }\n",
       "\n",
       "    .dataframe tbody tr th {\n",
       "        vertical-align: top;\n",
       "    }\n",
       "\n",
       "    .dataframe thead th {\n",
       "        text-align: right;\n",
       "    }\n",
       "</style>\n",
       "<table border=\"1\" class=\"dataframe\">\n",
       "  <thead>\n",
       "    <tr style=\"text-align: right;\">\n",
       "      <th></th>\n",
       "      <th>city</th>\n",
       "      <th>area</th>\n",
       "      <th>rooms</th>\n",
       "      <th>bathroom</th>\n",
       "      <th>parking spaces</th>\n",
       "      <th>floor</th>\n",
       "      <th>animal</th>\n",
       "      <th>furniture</th>\n",
       "    </tr>\n",
       "  </thead>\n",
       "  <tbody>\n",
       "  </tbody>\n",
       "</table>\n",
       "</div>"
      ],
      "text/plain": [
       "Empty DataFrame\n",
       "Columns: [city, area, rooms, bathroom, parking spaces, floor, animal, furniture]\n",
       "Index: []"
      ]
     },
     "execution_count": 54,
     "metadata": {},
     "output_type": "execute_result"
    }
   ],
   "source": [
    "# Checking for potentially missing values in X_train\n",
    "X_train_area = X_train[\"area\"] <= 0\n",
    "X_train_rooms = X_train[\"rooms\"] <= 0\n",
    "X_train_bathroom = X_train[\"bathroom\"] <= 0\n",
    "X_train[(X_train_area) | (X_train_rooms) | (X_train_bathroom)]"
   ]
  },
  {
   "cell_type": "code",
   "execution_count": 55,
   "metadata": {
    "papermill": {
     "duration": 0.105808,
     "end_time": "2021-06-27T10:55:01.173012",
     "exception": false,
     "start_time": "2021-06-27T10:55:01.067204",
     "status": "completed"
    },
    "tags": []
   },
   "outputs": [
    {
     "data": {
      "text/html": [
       "<div>\n",
       "<style scoped>\n",
       "    .dataframe tbody tr th:only-of-type {\n",
       "        vertical-align: middle;\n",
       "    }\n",
       "\n",
       "    .dataframe tbody tr th {\n",
       "        vertical-align: top;\n",
       "    }\n",
       "\n",
       "    .dataframe thead th {\n",
       "        text-align: right;\n",
       "    }\n",
       "</style>\n",
       "<table border=\"1\" class=\"dataframe\">\n",
       "  <thead>\n",
       "    <tr style=\"text-align: right;\">\n",
       "      <th></th>\n",
       "      <th>city</th>\n",
       "      <th>area</th>\n",
       "      <th>rooms</th>\n",
       "      <th>bathroom</th>\n",
       "      <th>parking spaces</th>\n",
       "      <th>floor</th>\n",
       "      <th>animal</th>\n",
       "      <th>furniture</th>\n",
       "    </tr>\n",
       "  </thead>\n",
       "  <tbody>\n",
       "  </tbody>\n",
       "</table>\n",
       "</div>"
      ],
      "text/plain": [
       "Empty DataFrame\n",
       "Columns: [city, area, rooms, bathroom, parking spaces, floor, animal, furniture]\n",
       "Index: []"
      ]
     },
     "execution_count": 55,
     "metadata": {},
     "output_type": "execute_result"
    }
   ],
   "source": [
    "# Checking for potentially missing values in X_test \n",
    "X_test_area = X_test[\"area\"] <= 0\n",
    "X_test_rooms = X_test[\"rooms\"] <= 0\n",
    "X_test_bathroom = X_test[\"bathroom\"] <= 0\n",
    "X_test[(X_test_area) | (X_test_rooms) | (X_test_bathroom)]"
   ]
  },
  {
   "cell_type": "markdown",
   "metadata": {
    "papermill": {
     "duration": 0.090934,
     "end_time": "2021-06-27T10:55:01.354794",
     "exception": false,
     "start_time": "2021-06-27T10:55:01.263860",
     "status": "completed"
    },
    "tags": []
   },
   "source": [
    "As you can see above, no observation contains a non-positive value in the 'area', 'rooms', and 'bathroom' columns in both the training and the testing data. This allows us to confirm that these columns do not have any missing values.\n",
    "\n",
    "Now, we should take a closer look at the 'parking spaces' column. First, we will filter for strictly negative values, since it's possible that certain houses or apartments come with no parking spaces; however, we will still take a look at the observations that contain zero in the 'parking spaces' column and take a closer look at those values."
   ]
  },
  {
   "cell_type": "code",
   "execution_count": 56,
   "metadata": {
    "papermill": {
     "duration": 0.102167,
     "end_time": "2021-06-27T10:55:01.547773",
     "exception": false,
     "start_time": "2021-06-27T10:55:01.445606",
     "status": "completed"
    },
    "tags": []
   },
   "outputs": [
    {
     "data": {
      "text/html": [
       "<div>\n",
       "<style scoped>\n",
       "    .dataframe tbody tr th:only-of-type {\n",
       "        vertical-align: middle;\n",
       "    }\n",
       "\n",
       "    .dataframe tbody tr th {\n",
       "        vertical-align: top;\n",
       "    }\n",
       "\n",
       "    .dataframe thead th {\n",
       "        text-align: right;\n",
       "    }\n",
       "</style>\n",
       "<table border=\"1\" class=\"dataframe\">\n",
       "  <thead>\n",
       "    <tr style=\"text-align: right;\">\n",
       "      <th></th>\n",
       "      <th>city</th>\n",
       "      <th>area</th>\n",
       "      <th>rooms</th>\n",
       "      <th>bathroom</th>\n",
       "      <th>parking spaces</th>\n",
       "      <th>floor</th>\n",
       "      <th>animal</th>\n",
       "      <th>furniture</th>\n",
       "    </tr>\n",
       "  </thead>\n",
       "  <tbody>\n",
       "  </tbody>\n",
       "</table>\n",
       "</div>"
      ],
      "text/plain": [
       "Empty DataFrame\n",
       "Columns: [city, area, rooms, bathroom, parking spaces, floor, animal, furniture]\n",
       "Index: []"
      ]
     },
     "execution_count": 56,
     "metadata": {},
     "output_type": "execute_result"
    }
   ],
   "source": [
    "X_train[X_train[\"parking spaces\"] < 0]"
   ]
  },
  {
   "cell_type": "code",
   "execution_count": 57,
   "metadata": {
    "papermill": {
     "duration": 0.102443,
     "end_time": "2021-06-27T10:55:01.740799",
     "exception": false,
     "start_time": "2021-06-27T10:55:01.638356",
     "status": "completed"
    },
    "tags": []
   },
   "outputs": [
    {
     "data": {
      "text/html": [
       "<div>\n",
       "<style scoped>\n",
       "    .dataframe tbody tr th:only-of-type {\n",
       "        vertical-align: middle;\n",
       "    }\n",
       "\n",
       "    .dataframe tbody tr th {\n",
       "        vertical-align: top;\n",
       "    }\n",
       "\n",
       "    .dataframe thead th {\n",
       "        text-align: right;\n",
       "    }\n",
       "</style>\n",
       "<table border=\"1\" class=\"dataframe\">\n",
       "  <thead>\n",
       "    <tr style=\"text-align: right;\">\n",
       "      <th></th>\n",
       "      <th>city</th>\n",
       "      <th>area</th>\n",
       "      <th>rooms</th>\n",
       "      <th>bathroom</th>\n",
       "      <th>parking spaces</th>\n",
       "      <th>floor</th>\n",
       "      <th>animal</th>\n",
       "      <th>furniture</th>\n",
       "    </tr>\n",
       "  </thead>\n",
       "  <tbody>\n",
       "  </tbody>\n",
       "</table>\n",
       "</div>"
      ],
      "text/plain": [
       "Empty DataFrame\n",
       "Columns: [city, area, rooms, bathroom, parking spaces, floor, animal, furniture]\n",
       "Index: []"
      ]
     },
     "execution_count": 57,
     "metadata": {},
     "output_type": "execute_result"
    }
   ],
   "source": [
    "X_test[X_test[\"parking spaces\"] < 0]"
   ]
  },
  {
   "cell_type": "markdown",
   "metadata": {
    "papermill": {
     "duration": 0.090893,
     "end_time": "2021-06-27T10:55:01.922694",
     "exception": false,
     "start_time": "2021-06-27T10:55:01.831801",
     "status": "completed"
    },
    "tags": []
   },
   "source": [
    "As you can see, there are no strictly negative values in the 'parking spaces' column in neither the training nor the testing dataset, so let's move on to the observations, which contain no parking spaces and create a statistical summary for those records."
   ]
  },
  {
   "cell_type": "code",
   "execution_count": 58,
   "metadata": {
    "papermill": {
     "duration": 0.122248,
     "end_time": "2021-06-27T10:55:02.137906",
     "exception": false,
     "start_time": "2021-06-27T10:55:02.015658",
     "status": "completed"
    },
    "tags": []
   },
   "outputs": [
    {
     "data": {
      "text/html": [
       "<div>\n",
       "<style scoped>\n",
       "    .dataframe tbody tr th:only-of-type {\n",
       "        vertical-align: middle;\n",
       "    }\n",
       "\n",
       "    .dataframe tbody tr th {\n",
       "        vertical-align: top;\n",
       "    }\n",
       "\n",
       "    .dataframe thead th {\n",
       "        text-align: right;\n",
       "    }\n",
       "</style>\n",
       "<table border=\"1\" class=\"dataframe\">\n",
       "  <thead>\n",
       "    <tr style=\"text-align: right;\">\n",
       "      <th></th>\n",
       "      <th>area</th>\n",
       "      <th>rooms</th>\n",
       "      <th>bathroom</th>\n",
       "      <th>parking spaces</th>\n",
       "      <th>floor</th>\n",
       "    </tr>\n",
       "  </thead>\n",
       "  <tbody>\n",
       "    <tr>\n",
       "      <th>count</th>\n",
       "      <td>2156.000000</td>\n",
       "      <td>2156.000000</td>\n",
       "      <td>2156.000000</td>\n",
       "      <td>2156.0</td>\n",
       "      <td>2156.000000</td>\n",
       "    </tr>\n",
       "    <tr>\n",
       "      <th>mean</th>\n",
       "      <td>78.349258</td>\n",
       "      <td>1.713358</td>\n",
       "      <td>1.352505</td>\n",
       "      <td>0.0</td>\n",
       "      <td>4.094620</td>\n",
       "    </tr>\n",
       "    <tr>\n",
       "      <th>std</th>\n",
       "      <td>280.720335</td>\n",
       "      <td>0.926750</td>\n",
       "      <td>0.787989</td>\n",
       "      <td>0.0</td>\n",
       "      <td>4.715906</td>\n",
       "    </tr>\n",
       "    <tr>\n",
       "      <th>min</th>\n",
       "      <td>11.000000</td>\n",
       "      <td>1.000000</td>\n",
       "      <td>1.000000</td>\n",
       "      <td>0.0</td>\n",
       "      <td>0.000000</td>\n",
       "    </tr>\n",
       "    <tr>\n",
       "      <th>25%</th>\n",
       "      <td>36.000000</td>\n",
       "      <td>1.000000</td>\n",
       "      <td>1.000000</td>\n",
       "      <td>0.0</td>\n",
       "      <td>1.000000</td>\n",
       "    </tr>\n",
       "    <tr>\n",
       "      <th>50%</th>\n",
       "      <td>52.000000</td>\n",
       "      <td>1.000000</td>\n",
       "      <td>1.000000</td>\n",
       "      <td>0.0</td>\n",
       "      <td>3.000000</td>\n",
       "    </tr>\n",
       "    <tr>\n",
       "      <th>75%</th>\n",
       "      <td>80.000000</td>\n",
       "      <td>2.000000</td>\n",
       "      <td>1.000000</td>\n",
       "      <td>0.0</td>\n",
       "      <td>6.000000</td>\n",
       "    </tr>\n",
       "    <tr>\n",
       "      <th>max</th>\n",
       "      <td>12732.000000</td>\n",
       "      <td>8.000000</td>\n",
       "      <td>7.000000</td>\n",
       "      <td>0.0</td>\n",
       "      <td>32.000000</td>\n",
       "    </tr>\n",
       "  </tbody>\n",
       "</table>\n",
       "</div>"
      ],
      "text/plain": [
       "               area        rooms     bathroom  parking spaces        floor\n",
       "count   2156.000000  2156.000000  2156.000000          2156.0  2156.000000\n",
       "mean      78.349258     1.713358     1.352505             0.0     4.094620\n",
       "std      280.720335     0.926750     0.787989             0.0     4.715906\n",
       "min       11.000000     1.000000     1.000000             0.0     0.000000\n",
       "25%       36.000000     1.000000     1.000000             0.0     1.000000\n",
       "50%       52.000000     1.000000     1.000000             0.0     3.000000\n",
       "75%       80.000000     2.000000     1.000000             0.0     6.000000\n",
       "max    12732.000000     8.000000     7.000000             0.0    32.000000"
      ]
     },
     "execution_count": 58,
     "metadata": {},
     "output_type": "execute_result"
    }
   ],
   "source": [
    "X_train[X_train[\"parking spaces\"] == 0].describe()"
   ]
  },
  {
   "cell_type": "code",
   "execution_count": 59,
   "metadata": {
    "papermill": {
     "duration": 0.121659,
     "end_time": "2021-06-27T10:55:02.351433",
     "exception": false,
     "start_time": "2021-06-27T10:55:02.229774",
     "status": "completed"
    },
    "tags": []
   },
   "outputs": [
    {
     "data": {
      "text/html": [
       "<div>\n",
       "<style scoped>\n",
       "    .dataframe tbody tr th:only-of-type {\n",
       "        vertical-align: middle;\n",
       "    }\n",
       "\n",
       "    .dataframe tbody tr th {\n",
       "        vertical-align: top;\n",
       "    }\n",
       "\n",
       "    .dataframe thead th {\n",
       "        text-align: right;\n",
       "    }\n",
       "</style>\n",
       "<table border=\"1\" class=\"dataframe\">\n",
       "  <thead>\n",
       "    <tr style=\"text-align: right;\">\n",
       "      <th></th>\n",
       "      <th>area</th>\n",
       "      <th>rooms</th>\n",
       "      <th>bathroom</th>\n",
       "      <th>parking spaces</th>\n",
       "      <th>floor</th>\n",
       "    </tr>\n",
       "  </thead>\n",
       "  <tbody>\n",
       "    <tr>\n",
       "      <th>count</th>\n",
       "      <td>527.000000</td>\n",
       "      <td>527.000000</td>\n",
       "      <td>527.000000</td>\n",
       "      <td>527.0</td>\n",
       "      <td>527.000000</td>\n",
       "    </tr>\n",
       "    <tr>\n",
       "      <th>mean</th>\n",
       "      <td>81.586338</td>\n",
       "      <td>1.781784</td>\n",
       "      <td>1.472486</td>\n",
       "      <td>0.0</td>\n",
       "      <td>4.060721</td>\n",
       "    </tr>\n",
       "    <tr>\n",
       "      <th>std</th>\n",
       "      <td>82.480990</td>\n",
       "      <td>0.949189</td>\n",
       "      <td>1.001283</td>\n",
       "      <td>0.0</td>\n",
       "      <td>4.824300</td>\n",
       "    </tr>\n",
       "    <tr>\n",
       "      <th>min</th>\n",
       "      <td>15.000000</td>\n",
       "      <td>1.000000</td>\n",
       "      <td>1.000000</td>\n",
       "      <td>0.0</td>\n",
       "      <td>0.000000</td>\n",
       "    </tr>\n",
       "    <tr>\n",
       "      <th>25%</th>\n",
       "      <td>39.500000</td>\n",
       "      <td>1.000000</td>\n",
       "      <td>1.000000</td>\n",
       "      <td>0.0</td>\n",
       "      <td>1.000000</td>\n",
       "    </tr>\n",
       "    <tr>\n",
       "      <th>50%</th>\n",
       "      <td>56.000000</td>\n",
       "      <td>1.000000</td>\n",
       "      <td>1.000000</td>\n",
       "      <td>0.0</td>\n",
       "      <td>2.000000</td>\n",
       "    </tr>\n",
       "    <tr>\n",
       "      <th>75%</th>\n",
       "      <td>90.000000</td>\n",
       "      <td>2.000000</td>\n",
       "      <td>2.000000</td>\n",
       "      <td>0.0</td>\n",
       "      <td>6.000000</td>\n",
       "    </tr>\n",
       "    <tr>\n",
       "      <th>max</th>\n",
       "      <td>700.000000</td>\n",
       "      <td>7.000000</td>\n",
       "      <td>10.000000</td>\n",
       "      <td>0.0</td>\n",
       "      <td>25.000000</td>\n",
       "    </tr>\n",
       "  </tbody>\n",
       "</table>\n",
       "</div>"
      ],
      "text/plain": [
       "             area       rooms    bathroom  parking spaces       floor\n",
       "count  527.000000  527.000000  527.000000           527.0  527.000000\n",
       "mean    81.586338    1.781784    1.472486             0.0    4.060721\n",
       "std     82.480990    0.949189    1.001283             0.0    4.824300\n",
       "min     15.000000    1.000000    1.000000             0.0    0.000000\n",
       "25%     39.500000    1.000000    1.000000             0.0    1.000000\n",
       "50%     56.000000    1.000000    1.000000             0.0    2.000000\n",
       "75%     90.000000    2.000000    2.000000             0.0    6.000000\n",
       "max    700.000000    7.000000   10.000000             0.0   25.000000"
      ]
     },
     "execution_count": 59,
     "metadata": {},
     "output_type": "execute_result"
    }
   ],
   "source": [
    "X_test[X_test[\"parking spaces\"] == 0].describe()"
   ]
  },
  {
   "cell_type": "markdown",
   "metadata": {
    "execution": {
     "iopub.execute_input": "2021-06-17T18:40:50.014917Z",
     "iopub.status.busy": "2021-06-17T18:40:50.014541Z",
     "iopub.status.idle": "2021-06-17T18:40:50.030495Z",
     "shell.execute_reply": "2021-06-17T18:40:50.029497Z",
     "shell.execute_reply.started": "2021-06-17T18:40:50.014887Z"
    },
    "papermill": {
     "duration": 0.090162,
     "end_time": "2021-06-27T10:55:02.534965",
     "exception": false,
     "start_time": "2021-06-27T10:55:02.444803",
     "status": "completed"
    },
    "tags": []
   },
   "source": [
    "2156 observations in the training dataset have no parking spaces. Based on the mean value, as well as the median and the first and third quartile values, it seems plausible that such observations would contain no parking spaces, since they represent relatively small houses/apartments, which would not necessarily come with parking spaces. If we take a closer look at the maximum values, however, we can see that those values represent large houses/apartments, and it does not make sense for them to have no parking spaces due to their size. This is also the case for the testing dataset, which mostly consists of small houses/apartments, but also has large houses/apartments, which most-likely would have parking spaces. Based on this statistical summary, we can conclude that the parking spaces column most-likely contains missing values.\n",
    "\n",
    "We can deal with this missing data in the following ways: remove it, impute it, or interpolate it. Whichever method we pick, it does not make sense to apply this to all of the observations with the value of zero in the parking spaces column. If we choose to remove all of those values, we would lose a large chunk of the training dataset, which is something we cannot afford. If we choose to impute all of the values, we would get rid of the missing data, but we would also invalidate a lot of observations with most-likely accurate values, possibly negatively affecting the accuracy of our model. Finally, if we choose to interpolate all of the observations, we could not only invalidate certain records, but we would also need to ensure there's a solid relationship between the 'parking spaces' variable and other variables in the dataset in order to accurately interpolate the missing values. As such, we need to apply one of the above methods to only certain observations in order to maintain a high degree of accuracy in our dataset.\n",
    "\n",
    "Now, we need to determine which observations we will apply the method to. For this, I am going to be using the numeric outlier technique. Although this is an outlier detection technique, I think it could be used here appropriately to identify observations that are the likeliest to contain missing values in the 'parking spaces' column. I am going to filter the training dataset to find only observations with no parking spaces. Then, I will look at the distribution of the 'rooms' column, since it is, intuitively, most closely connected to the 'parking spaces' variable. I will calculate the 'upper bound' for the 'rooms' column using the formula $q_3 + IQR*1.5$; this value corresponds to the top whisker in a boxplot. Any observation which contains a value above the upper bound in the 'rooms' column will be deemed an outlier, indicating that it most-likely contains missing data.\n",
    "\n",
    "Before we put this method to use, let's take a look at the dat distribution of the 'area' column to confirm that this method makes sense."
   ]
  },
  {
   "cell_type": "code",
   "execution_count": 60,
   "metadata": {
    "papermill": {
     "duration": 0.200374,
     "end_time": "2021-06-27T10:55:02.826321",
     "exception": false,
     "start_time": "2021-06-27T10:55:02.625947",
     "status": "completed"
    },
    "tags": []
   },
   "outputs": [
    {
     "data": {
      "text/plain": [
       "[Text(0.5, 1.0, \"Boxplot of the 'area' column\")]"
      ]
     },
     "execution_count": 60,
     "metadata": {},
     "output_type": "execute_result"
    },
    {
     "data": {
      "image/png": "[encoded data removed]",
      "text/plain": [
       "<Figure size 432x288 with 1 Axes>"
      ]
     },
     "metadata": {},
     "output_type": "display_data"
    }
   ],
   "source": [
    "no_parking_train = X_train[X_train[\"parking spaces\"] == 0]\n",
    "sns.boxplot(y=\"rooms\", data=no_parking_train).set(title=\"Boxplot of the 'area' column\")"
   ]
  },
  {
   "cell_type": "markdown",
   "metadata": {
    "papermill": {
     "duration": 0.095858,
     "end_time": "2021-06-27T10:55:03.017606",
     "exception": false,
     "start_time": "2021-06-27T10:55:02.921748",
     "status": "completed"
    },
    "tags": []
   },
   "source": [
    "The above boxplot shows that this method makes sense, since a lot of observations with relatively high amount of rooms, which contain no parking spaces, however, were identified as outliers. Let's apply this method to our dataset and decide how to handle those values in the dataset."
   ]
  },
  {
   "cell_type": "code",
   "execution_count": 61,
   "metadata": {
    "papermill": {
     "duration": 0.105684,
     "end_time": "2021-06-27T10:55:03.218216",
     "exception": false,
     "start_time": "2021-06-27T10:55:03.112532",
     "status": "completed"
    },
    "tags": []
   },
   "outputs": [
    {
     "data": {
      "text/plain": [
       "1.052262364082778"
      ]
     },
     "execution_count": 61,
     "metadata": {},
     "output_type": "execute_result"
    }
   ],
   "source": [
    "k = 1.5\n",
    "q1 = no_parking_train[\"rooms\"].quantile(0.25)\n",
    "q3 = no_parking_train[\"rooms\"].quantile(0.75)\n",
    "iqr = q3 - q1\n",
    "threshold = q3 + k*iqr\n",
    "above_threshold_train = no_parking_train[no_parking_train[\"rooms\"] > threshold]\n",
    "len(above_threshold_train) / len(X_train) * 100"
   ]
  },
  {
   "cell_type": "markdown",
   "metadata": {
    "papermill": {
     "duration": 0.09253,
     "end_time": "2021-06-27T10:55:03.405790",
     "exception": false,
     "start_time": "2021-06-27T10:55:03.313260",
     "status": "completed"
    },
    "tags": []
   },
   "source": [
    "As you can see, approximately 1.05% of our training dataset most-likely contains missing values in the \"parking spaces\" column. We should also check how many similar observations are present in the testing dataset using the same threshold. The reason why I am using the same threshold is to avoid data leakage in our analysis. "
   ]
  },
  {
   "cell_type": "code",
   "execution_count": 62,
   "metadata": {
    "papermill": {
     "duration": 0.103858,
     "end_time": "2021-06-27T10:55:03.604006",
     "exception": false,
     "start_time": "2021-06-27T10:55:03.500148",
     "status": "completed"
    },
    "tags": []
   },
   "outputs": [
    {
     "data": {
      "text/plain": [
       "1.3557737260402059"
      ]
     },
     "execution_count": 62,
     "metadata": {},
     "output_type": "execute_result"
    }
   ],
   "source": [
    "no_parking_test = X_test[X_test[\"parking spaces\"] == 0]\n",
    "above_threshold_test = no_parking_test[no_parking_test[\"rooms\"] > threshold]\n",
    "len(above_threshold_test) / len(X_test) * 100"
   ]
  },
  {
   "cell_type": "markdown",
   "metadata": {
    "papermill": {
     "duration": 0.093123,
     "end_time": "2021-06-27T10:55:03.790541",
     "exception": false,
     "start_time": "2021-06-27T10:55:03.697418",
     "status": "completed"
    },
    "tags": []
   },
   "source": [
    "Similarly to the training dataset, approximately 1.35% of observations most-likely contain missing values in the \"parking spaces\" column. I don't think imputing makes sense in this case, because the distribution of the 'rooms' column is quite wide, as we saw in the boxplot, whcih means imputation will probably lead to incorrect data. We could trying to interpolate the column, but first we need to check how strong the relationship is between the 'parking spaces' column and other features, specifically the 'area' and 'rooms' variables. "
   ]
  },
  {
   "cell_type": "code",
   "execution_count": 63,
   "metadata": {
    "papermill": {
     "duration": 0.109586,
     "end_time": "2021-06-27T10:55:03.999654",
     "exception": false,
     "start_time": "2021-06-27T10:55:03.890068",
     "status": "completed"
    },
    "tags": []
   },
   "outputs": [
    {
     "data": {
      "text/html": [
       "<div>\n",
       "<style scoped>\n",
       "    .dataframe tbody tr th:only-of-type {\n",
       "        vertical-align: middle;\n",
       "    }\n",
       "\n",
       "    .dataframe tbody tr th {\n",
       "        vertical-align: top;\n",
       "    }\n",
       "\n",
       "    .dataframe thead th {\n",
       "        text-align: right;\n",
       "    }\n",
       "</style>\n",
       "<table border=\"1\" class=\"dataframe\">\n",
       "  <thead>\n",
       "    <tr style=\"text-align: right;\">\n",
       "      <th></th>\n",
       "      <th>area</th>\n",
       "      <th>rooms</th>\n",
       "      <th>parking spaces</th>\n",
       "    </tr>\n",
       "  </thead>\n",
       "  <tbody>\n",
       "    <tr>\n",
       "      <th>area</th>\n",
       "      <td>1.000000</td>\n",
       "      <td>0.177574</td>\n",
       "      <td>0.178443</td>\n",
       "    </tr>\n",
       "    <tr>\n",
       "      <th>rooms</th>\n",
       "      <td>0.177574</td>\n",
       "      <td>1.000000</td>\n",
       "      <td>0.623027</td>\n",
       "    </tr>\n",
       "    <tr>\n",
       "      <th>parking spaces</th>\n",
       "      <td>0.178443</td>\n",
       "      <td>0.623027</td>\n",
       "      <td>1.000000</td>\n",
       "    </tr>\n",
       "  </tbody>\n",
       "</table>\n",
       "</div>"
      ],
      "text/plain": [
       "                    area     rooms  parking spaces\n",
       "area            1.000000  0.177574        0.178443\n",
       "rooms           0.177574  1.000000        0.623027\n",
       "parking spaces  0.178443  0.623027        1.000000"
      ]
     },
     "execution_count": 63,
     "metadata": {},
     "output_type": "execute_result"
    }
   ],
   "source": [
    "X_train[[\"area\", \"rooms\", \"parking spaces\"]].corr()"
   ]
  },
  {
   "cell_type": "markdown",
   "metadata": {
    "papermill": {
     "duration": 0.096266,
     "end_time": "2021-06-27T10:55:04.191926",
     "exception": false,
     "start_time": "2021-06-27T10:55:04.095660",
     "status": "completed"
    },
    "tags": []
   },
   "source": [
    "The relationship between the 'area' and 'parking spaces' columns is quite weak, so we cannot use the 'area' column for interpolation. The relationship between the 'rooms' and 'parking spaces' columns is moderately strong, but I don't think a single column is enough to guarantee accurate interpolation. As such, I think it is best to simply remove the observations we detected above, since we can afford to lose just over 1% of both the training and testing datasets."
   ]
  },
  {
   "cell_type": "code",
   "execution_count": 64,
   "metadata": {
    "papermill": {
     "duration": 0.10622,
     "end_time": "2021-06-27T10:55:04.392147",
     "exception": false,
     "start_time": "2021-06-27T10:55:04.285927",
     "status": "completed"
    },
    "tags": []
   },
   "outputs": [],
   "source": [
    "X_train.drop(above_threshold_train.index, inplace=True)\n",
    "X_test.drop(above_threshold_test.index, inplace=True)"
   ]
  },
  {
   "cell_type": "code",
   "execution_count": 65,
   "metadata": {
    "papermill": {
     "duration": 0.102717,
     "end_time": "2021-06-27T10:55:04.587715",
     "exception": false,
     "start_time": "2021-06-27T10:55:04.484998",
     "status": "completed"
    },
    "tags": []
   },
   "outputs": [],
   "source": [
    "y_train.drop(above_threshold_train.index, inplace=True)\n",
    "y_test.drop(above_threshold_test.index, inplace=True)"
   ]
  },
  {
   "cell_type": "markdown",
   "metadata": {
    "papermill": {
     "duration": 0.093442,
     "end_time": "2021-06-27T10:55:04.774390",
     "exception": false,
     "start_time": "2021-06-27T10:55:04.680948",
     "status": "completed"
    },
    "tags": []
   },
   "source": [
    "Finally, let's check our target column for any missing data. Similarly to the previous analysis, we will look for non-positive values, since they make no sense in the 'rent amount' variable. "
   ]
  },
  {
   "cell_type": "code",
   "execution_count": 66,
   "metadata": {
    "papermill": {
     "duration": 0.106606,
     "end_time": "2021-06-27T10:55:04.976920",
     "exception": false,
     "start_time": "2021-06-27T10:55:04.870314",
     "status": "completed"
    },
    "tags": []
   },
   "outputs": [
    {
     "data": {
      "text/html": [
       "<div>\n",
       "<style scoped>\n",
       "    .dataframe tbody tr th:only-of-type {\n",
       "        vertical-align: middle;\n",
       "    }\n",
       "\n",
       "    .dataframe tbody tr th {\n",
       "        vertical-align: top;\n",
       "    }\n",
       "\n",
       "    .dataframe thead th {\n",
       "        text-align: right;\n",
       "    }\n",
       "</style>\n",
       "<table border=\"1\" class=\"dataframe\">\n",
       "  <thead>\n",
       "    <tr style=\"text-align: right;\">\n",
       "      <th></th>\n",
       "      <th>rent amount (R$)</th>\n",
       "    </tr>\n",
       "  </thead>\n",
       "  <tbody>\n",
       "  </tbody>\n",
       "</table>\n",
       "</div>"
      ],
      "text/plain": [
       "Empty DataFrame\n",
       "Columns: [rent amount (R$)]\n",
       "Index: []"
      ]
     },
     "execution_count": 66,
     "metadata": {},
     "output_type": "execute_result"
    }
   ],
   "source": [
    "y_train[y_train[\"rent amount (R$)\"] < 1]"
   ]
  },
  {
   "cell_type": "code",
   "execution_count": 67,
   "metadata": {
    "papermill": {
     "duration": 0.105543,
     "end_time": "2021-06-27T10:55:05.178020",
     "exception": false,
     "start_time": "2021-06-27T10:55:05.072477",
     "status": "completed"
    },
    "tags": []
   },
   "outputs": [
    {
     "data": {
      "text/html": [
       "<div>\n",
       "<style scoped>\n",
       "    .dataframe tbody tr th:only-of-type {\n",
       "        vertical-align: middle;\n",
       "    }\n",
       "\n",
       "    .dataframe tbody tr th {\n",
       "        vertical-align: top;\n",
       "    }\n",
       "\n",
       "    .dataframe thead th {\n",
       "        text-align: right;\n",
       "    }\n",
       "</style>\n",
       "<table border=\"1\" class=\"dataframe\">\n",
       "  <thead>\n",
       "    <tr style=\"text-align: right;\">\n",
       "      <th></th>\n",
       "      <th>rent amount (R$)</th>\n",
       "    </tr>\n",
       "  </thead>\n",
       "  <tbody>\n",
       "  </tbody>\n",
       "</table>\n",
       "</div>"
      ],
      "text/plain": [
       "Empty DataFrame\n",
       "Columns: [rent amount (R$)]\n",
       "Index: []"
      ]
     },
     "execution_count": 67,
     "metadata": {},
     "output_type": "execute_result"
    }
   ],
   "source": [
    "y_test[y_test[\"rent amount (R$)\"] < 1]"
   ]
  },
  {
   "cell_type": "markdown",
   "metadata": {
    "papermill": {
     "duration": 0.093679,
     "end_time": "2021-06-27T10:55:05.366007",
     "exception": false,
     "start_time": "2021-06-27T10:55:05.272328",
     "status": "completed"
    },
    "tags": []
   },
   "source": [
    "As you can see, there are no non-positive values in the target variable in both the training and testing dataset, and so we can confirm that the target variable contains no missing values.\n",
    "\n",
    "Now that we are done working with missing values, let's move on to encoding all of the categorical variables in our dataset."
   ]
  },
  {
   "cell_type": "markdown",
   "metadata": {
    "papermill": {
     "duration": 0.093287,
     "end_time": "2021-06-27T10:55:05.553472",
     "exception": false,
     "start_time": "2021-06-27T10:55:05.460185",
     "status": "completed"
    },
    "tags": []
   },
   "source": [
    "#### Categorically Encoding Data\n",
    "We will now move on to encoding the categorical variables in the dataset in order to prepare it for further preprocessing. Let's begin by looking at the categorical columns we will have to deal with and deciding how to encode."
   ]
  },
  {
   "cell_type": "code",
   "execution_count": 68,
   "metadata": {
    "papermill": {
     "duration": 0.104182,
     "end_time": "2021-06-27T10:55:05.751489",
     "exception": false,
     "start_time": "2021-06-27T10:55:05.647307",
     "status": "completed"
    },
    "tags": []
   },
   "outputs": [
    {
     "data": {
      "text/plain": [
       "['city', 'animal', 'furniture']"
      ]
     },
     "execution_count": 68,
     "metadata": {},
     "output_type": "execute_result"
    }
   ],
   "source": [
    "houses.select_dtypes(exclude=np.number).columns.tolist()"
   ]
  },
  {
   "cell_type": "markdown",
   "metadata": {
    "papermill": {
     "duration": 0.093535,
     "end_time": "2021-06-27T10:55:05.939129",
     "exception": false,
     "start_time": "2021-06-27T10:55:05.845594",
     "status": "completed"
    },
    "tags": []
   },
   "source": [
    "We will start by encoding the 'animal' and 'furniture' columns. As we saw previously, those columns only have two unique values. The 'animal' variable indicates whether the house/apartment accepts animals or not. Similarly, the 'furniture' column indicates if the house/apartment is furnished or not. As such, we will make the two columns binary. This means that if the apartment accepts animals or is furnished, it will contain a 1 in its respective column, and 0 otherwise."
   ]
  },
  {
   "cell_type": "code",
   "execution_count": 69,
   "metadata": {
    "papermill": {
     "duration": 0.105856,
     "end_time": "2021-06-27T10:55:06.140050",
     "exception": false,
     "start_time": "2021-06-27T10:55:06.034194",
     "status": "completed"
    },
    "tags": []
   },
   "outputs": [],
   "source": [
    "X_train[\"animal\"] = X_train[\"animal\"] == \"acept\"\n",
    "X_train[\"animal\"] = X_train[\"animal\"].astype(int)\n",
    "X_test[\"animal\"] = X_test[\"animal\"] == \"acept\"\n",
    "X_test[\"animal\"] = X_test[\"animal\"].astype(int)"
   ]
  },
  {
   "cell_type": "code",
   "execution_count": 70,
   "metadata": {
    "papermill": {
     "duration": 0.103945,
     "end_time": "2021-06-27T10:55:06.338455",
     "exception": false,
     "start_time": "2021-06-27T10:55:06.234510",
     "status": "completed"
    },
    "tags": []
   },
   "outputs": [],
   "source": [
    "X_train[\"furniture\"] = X_train[\"furniture\"] == \"furnished\"\n",
    "X_train[\"furniture\"] = X_train[\"furniture\"].astype(int)\n",
    "X_test[\"furniture\"] = X_test[\"furniture\"] == \"furnished\"\n",
    "X_test[\"furniture\"] = X_test[\"furniture\"].astype(int)"
   ]
  },
  {
   "cell_type": "markdown",
   "metadata": {
    "execution": {
     "iopub.execute_input": "2021-06-17T18:45:32.311439Z",
     "iopub.status.busy": "2021-06-17T18:45:32.310881Z",
     "iopub.status.idle": "2021-06-17T18:45:32.318407Z",
     "shell.execute_reply": "2021-06-17T18:45:32.317198Z",
     "shell.execute_reply.started": "2021-06-17T18:45:32.311401Z"
    },
    "papermill": {
     "duration": 0.093916,
     "end_time": "2021-06-27T10:55:06.527358",
     "exception": false,
     "start_time": "2021-06-27T10:55:06.433442",
     "status": "completed"
    },
    "tags": []
   },
   "source": [
    "Now, let's move on to the 'city' column. As we saw previously, the column contains 5 different Brazilian cities. Since there are only 5 of them and the data is not ordinal, we should encode the column using the One-Hot Encoding method. Since we are using this method, we should check that the 'city' column contains the same values for both the training and testing datasets."
   ]
  },
  {
   "cell_type": "code",
   "execution_count": 71,
   "metadata": {
    "papermill": {
     "duration": 0.103001,
     "end_time": "2021-06-27T10:55:06.725391",
     "exception": false,
     "start_time": "2021-06-27T10:55:06.622390",
     "status": "completed"
    },
    "tags": []
   },
   "outputs": [
    {
     "data": {
      "text/plain": [
       "True"
      ]
     },
     "execution_count": 71,
     "metadata": {},
     "output_type": "execute_result"
    }
   ],
   "source": [
    "len(X_train[\"city\"].unique()) == len(X_test[\"city\"].unique())"
   ]
  },
  {
   "cell_type": "markdown",
   "metadata": {
    "execution": {
     "iopub.execute_input": "2021-06-17T18:45:47.491895Z",
     "iopub.status.busy": "2021-06-17T18:45:47.491475Z",
     "iopub.status.idle": "2021-06-17T18:45:47.499461Z",
     "shell.execute_reply": "2021-06-17T18:45:47.497799Z",
     "shell.execute_reply.started": "2021-06-17T18:45:47.491862Z"
    },
    "papermill": {
     "duration": 0.09428,
     "end_time": "2021-06-27T10:55:06.914498",
     "exception": false,
     "start_time": "2021-06-27T10:55:06.820218",
     "status": "completed"
    },
    "tags": []
   },
   "source": [
    "The two unique lists are equal, so we don't need to focus on handling unknown values."
   ]
  },
  {
   "cell_type": "code",
   "execution_count": 72,
   "metadata": {
    "papermill": {
     "duration": 0.109311,
     "end_time": "2021-06-27T10:55:07.119070",
     "exception": false,
     "start_time": "2021-06-27T10:55:07.009759",
     "status": "completed"
    },
    "tags": []
   },
   "outputs": [],
   "source": [
    "oh_encoder = OneHotEncoder(sparse=False)\n",
    "ohe_city_train = pd.DataFrame(oh_encoder.fit_transform(X_train[[\"city\"]]))\n",
    "ohe_city_train.index = X_train.index\n",
    "ohe_city_test = pd.DataFrame(oh_encoder.transform(X_test[[\"city\"]]))\n",
    "ohe_city_test.index = X_test.index"
   ]
  },
  {
   "cell_type": "code",
   "execution_count": 73,
   "metadata": {
    "papermill": {
     "duration": 0.10431,
     "end_time": "2021-06-27T10:55:07.319390",
     "exception": false,
     "start_time": "2021-06-27T10:55:07.215080",
     "status": "completed"
    },
    "tags": []
   },
   "outputs": [],
   "source": [
    "X_train.drop(\"city\", inplace=True, axis=1)\n",
    "X_test.drop(\"city\", inplace=True, axis=1)"
   ]
  },
  {
   "cell_type": "code",
   "execution_count": 74,
   "metadata": {
    "papermill": {
     "duration": 0.107021,
     "end_time": "2021-06-27T10:55:07.521094",
     "exception": false,
     "start_time": "2021-06-27T10:55:07.414073",
     "status": "completed"
    },
    "tags": []
   },
   "outputs": [],
   "source": [
    "X_train = X_train.merge(ohe_city_train, right_index=True, left_index=True)\n",
    "X_test = X_test.merge(ohe_city_test, right_index=True, left_index=True)"
   ]
  },
  {
   "cell_type": "markdown",
   "metadata": {
    "papermill": {
     "duration": 0.093013,
     "end_time": "2021-06-27T10:55:07.707692",
     "exception": false,
     "start_time": "2021-06-27T10:55:07.614679",
     "status": "completed"
    },
    "tags": []
   },
   "source": [
    "#### Working with Outliers\n",
    "We will now move on to identifying outliers in our dataset. To do so, we are going to use Mahalanobis Distance. Mahalanobis Distance is a measure of distance between a point and its distribution. It uses the inverse of a covariance matrix of variables in the combination with the data's center to find the distance, which means that it detects outliers based on the pattern of data points. If you would like to find out more about Mahalanobis Distance or other outlier detection techniques, please check out my [Outlier Detection Techniques Notebook](https://www.kaggle.com/karimzakir02/outlier-detection-techniques), which talks about Mahalanobis Distance and three other outlier detection methods.\n",
    "\n",
    "Mahalanobis Distance is great for this dataset, since our data is multivariate. Additionally, Mahalanobis Distance will adapt to our data's \"wide\" distribution, making it a better alternative to other techniques like Euclidean Distance, which does not consider the distribution of the data. \n",
    "\n",
    "As a cut-off value, I am going to be using the Chi-Square distribution cut-off with the 0.01 significance value, since I am interested in finding the most extreme points in the dataset. To avoid data leakage, we are going to find the cut-off point for the training dataset only and then apply the same value for the testing dataset.\n",
    "\n",
    "After identifying the outliers in our dataset, we will develop a method in order to determine if those outliers should be removed or kept in the datasets."
   ]
  },
  {
   "cell_type": "code",
   "execution_count": 75,
   "metadata": {
    "papermill": {
     "duration": 0.121913,
     "end_time": "2021-06-27T10:55:07.923514",
     "exception": false,
     "start_time": "2021-06-27T10:55:07.801601",
     "status": "completed"
    },
    "tags": []
   },
   "outputs": [],
   "source": [
    "training_dataset = X_train.merge(y_train, left_index=True, right_index=True)\n",
    "inv_cov = np.linalg.matrix_power(training_dataset.cov(), -1)\n",
    "mean = np.mean(training_dataset)\n",
    "training_dataset[\"mahalanobis_distance\"] = np.NaN"
   ]
  },
  {
   "cell_type": "code",
   "execution_count": 76,
   "metadata": {
    "papermill": {
     "duration": 3.87609,
     "end_time": "2021-06-27T10:55:11.946933",
     "exception": false,
     "start_time": "2021-06-27T10:55:08.070843",
     "status": "completed"
    },
    "tags": []
   },
   "outputs": [],
   "source": [
    "for index, row in training_dataset.iterrows():\n",
    "    values = row[0:13]\n",
    "    training_dataset.loc[index, \"mahalanobis_distance\"] = mahalanobis(values, mean, inv_cov)**2"
   ]
  },
  {
   "cell_type": "code",
   "execution_count": 77,
   "metadata": {
    "papermill": {
     "duration": 0.108856,
     "end_time": "2021-06-27T10:55:12.152959",
     "exception": false,
     "start_time": "2021-06-27T10:55:12.044103",
     "status": "completed"
    },
    "tags": []
   },
   "outputs": [
    {
     "data": {
      "text/plain": [
       "206"
      ]
     },
     "execution_count": 77,
     "metadata": {},
     "output_type": "execute_result"
    }
   ],
   "source": [
    "mahalanobis_threshold = chi2.ppf(0.99, training_dataset.shape[1] - 1)\n",
    "mahalanobis_outliers = training_dataset[training_dataset[\"mahalanobis_distance\"] > mahalanobis_threshold]\n",
    "len(mahalanobis_outliers)"
   ]
  },
  {
   "cell_type": "markdown",
   "metadata": {
    "papermill": {
     "duration": 0.094679,
     "end_time": "2021-06-27T10:55:12.342587",
     "exception": false,
     "start_time": "2021-06-27T10:55:12.247908",
     "status": "completed"
    },
    "tags": []
   },
   "source": [
    "We have identified 204 outliers, which is quite a lot, especially if we have to go through them one by one. As such, we need to develop a systematic approach in order to determine whether we need to remove a particular outlier or not. Let's take a look at a few observations in order to determine what kind of approach we should adapt. "
   ]
  },
  {
   "cell_type": "code",
   "execution_count": 78,
   "metadata": {
    "papermill": {
     "duration": 0.121736,
     "end_time": "2021-06-27T10:55:12.558696",
     "exception": false,
     "start_time": "2021-06-27T10:55:12.436960",
     "status": "completed"
    },
    "tags": []
   },
   "outputs": [
    {
     "data": {
      "text/html": [
       "<div>\n",
       "<style scoped>\n",
       "    .dataframe tbody tr th:only-of-type {\n",
       "        vertical-align: middle;\n",
       "    }\n",
       "\n",
       "    .dataframe tbody tr th {\n",
       "        vertical-align: top;\n",
       "    }\n",
       "\n",
       "    .dataframe thead th {\n",
       "        text-align: right;\n",
       "    }\n",
       "</style>\n",
       "<table border=\"1\" class=\"dataframe\">\n",
       "  <thead>\n",
       "    <tr style=\"text-align: right;\">\n",
       "      <th></th>\n",
       "      <th>area</th>\n",
       "      <th>rooms</th>\n",
       "      <th>bathroom</th>\n",
       "      <th>parking spaces</th>\n",
       "      <th>floor</th>\n",
       "      <th>animal</th>\n",
       "      <th>furniture</th>\n",
       "      <th>0</th>\n",
       "      <th>1</th>\n",
       "      <th>2</th>\n",
       "      <th>3</th>\n",
       "      <th>4</th>\n",
       "      <th>rent amount (R$)</th>\n",
       "      <th>mahalanobis_distance</th>\n",
       "    </tr>\n",
       "  </thead>\n",
       "  <tbody>\n",
       "    <tr>\n",
       "      <th>6185</th>\n",
       "      <td>455</td>\n",
       "      <td>4</td>\n",
       "      <td>5</td>\n",
       "      <td>4</td>\n",
       "      <td>5</td>\n",
       "      <td>1</td>\n",
       "      <td>0</td>\n",
       "      <td>0.0</td>\n",
       "      <td>0.0</td>\n",
       "      <td>0.0</td>\n",
       "      <td>0.0</td>\n",
       "      <td>1.0</td>\n",
       "      <td>19500</td>\n",
       "      <td>28.067459</td>\n",
       "    </tr>\n",
       "    <tr>\n",
       "      <th>9833</th>\n",
       "      <td>200</td>\n",
       "      <td>3</td>\n",
       "      <td>2</td>\n",
       "      <td>2</td>\n",
       "      <td>3</td>\n",
       "      <td>1</td>\n",
       "      <td>0</td>\n",
       "      <td>0.0</td>\n",
       "      <td>0.0</td>\n",
       "      <td>0.0</td>\n",
       "      <td>1.0</td>\n",
       "      <td>0.0</td>\n",
       "      <td>15000</td>\n",
       "      <td>30.710426</td>\n",
       "    </tr>\n",
       "    <tr>\n",
       "      <th>6851</th>\n",
       "      <td>220</td>\n",
       "      <td>3</td>\n",
       "      <td>2</td>\n",
       "      <td>8</td>\n",
       "      <td>0</td>\n",
       "      <td>1</td>\n",
       "      <td>0</td>\n",
       "      <td>0.0</td>\n",
       "      <td>0.0</td>\n",
       "      <td>0.0</td>\n",
       "      <td>0.0</td>\n",
       "      <td>1.0</td>\n",
       "      <td>4335</td>\n",
       "      <td>39.170104</td>\n",
       "    </tr>\n",
       "    <tr>\n",
       "      <th>6132</th>\n",
       "      <td>500</td>\n",
       "      <td>3</td>\n",
       "      <td>6</td>\n",
       "      <td>0</td>\n",
       "      <td>0</td>\n",
       "      <td>1</td>\n",
       "      <td>0</td>\n",
       "      <td>0.0</td>\n",
       "      <td>0.0</td>\n",
       "      <td>0.0</td>\n",
       "      <td>0.0</td>\n",
       "      <td>1.0</td>\n",
       "      <td>6400</td>\n",
       "      <td>30.978099</td>\n",
       "    </tr>\n",
       "    <tr>\n",
       "      <th>5178</th>\n",
       "      <td>400</td>\n",
       "      <td>10</td>\n",
       "      <td>9</td>\n",
       "      <td>8</td>\n",
       "      <td>0</td>\n",
       "      <td>1</td>\n",
       "      <td>0</td>\n",
       "      <td>0.0</td>\n",
       "      <td>0.0</td>\n",
       "      <td>0.0</td>\n",
       "      <td>0.0</td>\n",
       "      <td>1.0</td>\n",
       "      <td>8330</td>\n",
       "      <td>56.213184</td>\n",
       "    </tr>\n",
       "    <tr>\n",
       "      <th>369</th>\n",
       "      <td>200</td>\n",
       "      <td>2</td>\n",
       "      <td>4</td>\n",
       "      <td>3</td>\n",
       "      <td>12</td>\n",
       "      <td>1</td>\n",
       "      <td>0</td>\n",
       "      <td>1.0</td>\n",
       "      <td>0.0</td>\n",
       "      <td>0.0</td>\n",
       "      <td>0.0</td>\n",
       "      <td>0.0</td>\n",
       "      <td>15000</td>\n",
       "      <td>34.187035</td>\n",
       "    </tr>\n",
       "    <tr>\n",
       "      <th>5904</th>\n",
       "      <td>163</td>\n",
       "      <td>3</td>\n",
       "      <td>5</td>\n",
       "      <td>3</td>\n",
       "      <td>20</td>\n",
       "      <td>1</td>\n",
       "      <td>0</td>\n",
       "      <td>0.0</td>\n",
       "      <td>1.0</td>\n",
       "      <td>0.0</td>\n",
       "      <td>0.0</td>\n",
       "      <td>0.0</td>\n",
       "      <td>9800</td>\n",
       "      <td>28.362840</td>\n",
       "    </tr>\n",
       "    <tr>\n",
       "      <th>752</th>\n",
       "      <td>341</td>\n",
       "      <td>10</td>\n",
       "      <td>6</td>\n",
       "      <td>7</td>\n",
       "      <td>0</td>\n",
       "      <td>1</td>\n",
       "      <td>0</td>\n",
       "      <td>1.0</td>\n",
       "      <td>0.0</td>\n",
       "      <td>0.0</td>\n",
       "      <td>0.0</td>\n",
       "      <td>0.0</td>\n",
       "      <td>5500</td>\n",
       "      <td>63.434045</td>\n",
       "    </tr>\n",
       "    <tr>\n",
       "      <th>3071</th>\n",
       "      <td>309</td>\n",
       "      <td>4</td>\n",
       "      <td>7</td>\n",
       "      <td>8</td>\n",
       "      <td>0</td>\n",
       "      <td>1</td>\n",
       "      <td>0</td>\n",
       "      <td>0.0</td>\n",
       "      <td>0.0</td>\n",
       "      <td>0.0</td>\n",
       "      <td>0.0</td>\n",
       "      <td>1.0</td>\n",
       "      <td>8000</td>\n",
       "      <td>28.260836</td>\n",
       "    </tr>\n",
       "    <tr>\n",
       "      <th>811</th>\n",
       "      <td>293</td>\n",
       "      <td>6</td>\n",
       "      <td>2</td>\n",
       "      <td>3</td>\n",
       "      <td>0</td>\n",
       "      <td>1</td>\n",
       "      <td>0</td>\n",
       "      <td>1.0</td>\n",
       "      <td>0.0</td>\n",
       "      <td>0.0</td>\n",
       "      <td>0.0</td>\n",
       "      <td>0.0</td>\n",
       "      <td>2600</td>\n",
       "      <td>27.721741</td>\n",
       "    </tr>\n",
       "    <tr>\n",
       "      <th>6423</th>\n",
       "      <td>98</td>\n",
       "      <td>3</td>\n",
       "      <td>1</td>\n",
       "      <td>0</td>\n",
       "      <td>1</td>\n",
       "      <td>0</td>\n",
       "      <td>0</td>\n",
       "      <td>0.0</td>\n",
       "      <td>0.0</td>\n",
       "      <td>1.0</td>\n",
       "      <td>0.0</td>\n",
       "      <td>0.0</td>\n",
       "      <td>12750</td>\n",
       "      <td>42.286459</td>\n",
       "    </tr>\n",
       "    <tr>\n",
       "      <th>4617</th>\n",
       "      <td>520</td>\n",
       "      <td>5</td>\n",
       "      <td>5</td>\n",
       "      <td>2</td>\n",
       "      <td>15</td>\n",
       "      <td>0</td>\n",
       "      <td>0</td>\n",
       "      <td>1.0</td>\n",
       "      <td>0.0</td>\n",
       "      <td>0.0</td>\n",
       "      <td>0.0</td>\n",
       "      <td>0.0</td>\n",
       "      <td>15000</td>\n",
       "      <td>35.910772</td>\n",
       "    </tr>\n",
       "    <tr>\n",
       "      <th>7433</th>\n",
       "      <td>457</td>\n",
       "      <td>6</td>\n",
       "      <td>6</td>\n",
       "      <td>2</td>\n",
       "      <td>0</td>\n",
       "      <td>1</td>\n",
       "      <td>1</td>\n",
       "      <td>0.0</td>\n",
       "      <td>0.0</td>\n",
       "      <td>1.0</td>\n",
       "      <td>0.0</td>\n",
       "      <td>0.0</td>\n",
       "      <td>8500</td>\n",
       "      <td>32.394706</td>\n",
       "    </tr>\n",
       "    <tr>\n",
       "      <th>640</th>\n",
       "      <td>1000</td>\n",
       "      <td>5</td>\n",
       "      <td>7</td>\n",
       "      <td>8</td>\n",
       "      <td>0</td>\n",
       "      <td>1</td>\n",
       "      <td>0</td>\n",
       "      <td>1.0</td>\n",
       "      <td>0.0</td>\n",
       "      <td>0.0</td>\n",
       "      <td>0.0</td>\n",
       "      <td>0.0</td>\n",
       "      <td>14980</td>\n",
       "      <td>29.683420</td>\n",
       "    </tr>\n",
       "    <tr>\n",
       "      <th>5293</th>\n",
       "      <td>850</td>\n",
       "      <td>5</td>\n",
       "      <td>7</td>\n",
       "      <td>8</td>\n",
       "      <td>1</td>\n",
       "      <td>0</td>\n",
       "      <td>0</td>\n",
       "      <td>0.0</td>\n",
       "      <td>0.0</td>\n",
       "      <td>0.0</td>\n",
       "      <td>0.0</td>\n",
       "      <td>1.0</td>\n",
       "      <td>4000</td>\n",
       "      <td>39.024450</td>\n",
       "    </tr>\n",
       "    <tr>\n",
       "      <th>5685</th>\n",
       "      <td>270</td>\n",
       "      <td>4</td>\n",
       "      <td>4</td>\n",
       "      <td>8</td>\n",
       "      <td>0</td>\n",
       "      <td>1</td>\n",
       "      <td>0</td>\n",
       "      <td>0.0</td>\n",
       "      <td>1.0</td>\n",
       "      <td>0.0</td>\n",
       "      <td>0.0</td>\n",
       "      <td>0.0</td>\n",
       "      <td>3200</td>\n",
       "      <td>39.289483</td>\n",
       "    </tr>\n",
       "    <tr>\n",
       "      <th>4634</th>\n",
       "      <td>156</td>\n",
       "      <td>7</td>\n",
       "      <td>2</td>\n",
       "      <td>1</td>\n",
       "      <td>3</td>\n",
       "      <td>1</td>\n",
       "      <td>0</td>\n",
       "      <td>1.0</td>\n",
       "      <td>0.0</td>\n",
       "      <td>0.0</td>\n",
       "      <td>0.0</td>\n",
       "      <td>0.0</td>\n",
       "      <td>2200</td>\n",
       "      <td>45.781211</td>\n",
       "    </tr>\n",
       "    <tr>\n",
       "      <th>4959</th>\n",
       "      <td>179</td>\n",
       "      <td>3</td>\n",
       "      <td>5</td>\n",
       "      <td>0</td>\n",
       "      <td>11</td>\n",
       "      <td>1</td>\n",
       "      <td>1</td>\n",
       "      <td>0.0</td>\n",
       "      <td>0.0</td>\n",
       "      <td>0.0</td>\n",
       "      <td>0.0</td>\n",
       "      <td>1.0</td>\n",
       "      <td>14500</td>\n",
       "      <td>31.146290</td>\n",
       "    </tr>\n",
       "    <tr>\n",
       "      <th>8587</th>\n",
       "      <td>193</td>\n",
       "      <td>3</td>\n",
       "      <td>3</td>\n",
       "      <td>1</td>\n",
       "      <td>0</td>\n",
       "      <td>1</td>\n",
       "      <td>0</td>\n",
       "      <td>1.0</td>\n",
       "      <td>0.0</td>\n",
       "      <td>0.0</td>\n",
       "      <td>0.0</td>\n",
       "      <td>0.0</td>\n",
       "      <td>13500</td>\n",
       "      <td>29.340249</td>\n",
       "    </tr>\n",
       "    <tr>\n",
       "      <th>676</th>\n",
       "      <td>200</td>\n",
       "      <td>3</td>\n",
       "      <td>4</td>\n",
       "      <td>8</td>\n",
       "      <td>0</td>\n",
       "      <td>1</td>\n",
       "      <td>0</td>\n",
       "      <td>0.0</td>\n",
       "      <td>0.0</td>\n",
       "      <td>0.0</td>\n",
       "      <td>0.0</td>\n",
       "      <td>1.0</td>\n",
       "      <td>7000</td>\n",
       "      <td>28.097940</td>\n",
       "    </tr>\n",
       "  </tbody>\n",
       "</table>\n",
       "</div>"
      ],
      "text/plain": [
       "      area  rooms  bathroom  parking spaces  floor  animal  furniture    0  \\\n",
       "6185   455      4         5               4      5       1          0  0.0   \n",
       "9833   200      3         2               2      3       1          0  0.0   \n",
       "6851   220      3         2               8      0       1          0  0.0   \n",
       "6132   500      3         6               0      0       1          0  0.0   \n",
       "5178   400     10         9               8      0       1          0  0.0   \n",
       "369    200      2         4               3     12       1          0  1.0   \n",
       "5904   163      3         5               3     20       1          0  0.0   \n",
       "752    341     10         6               7      0       1          0  1.0   \n",
       "3071   309      4         7               8      0       1          0  0.0   \n",
       "811    293      6         2               3      0       1          0  1.0   \n",
       "6423    98      3         1               0      1       0          0  0.0   \n",
       "4617   520      5         5               2     15       0          0  1.0   \n",
       "7433   457      6         6               2      0       1          1  0.0   \n",
       "640   1000      5         7               8      0       1          0  1.0   \n",
       "5293   850      5         7               8      1       0          0  0.0   \n",
       "5685   270      4         4               8      0       1          0  0.0   \n",
       "4634   156      7         2               1      3       1          0  1.0   \n",
       "4959   179      3         5               0     11       1          1  0.0   \n",
       "8587   193      3         3               1      0       1          0  1.0   \n",
       "676    200      3         4               8      0       1          0  0.0   \n",
       "\n",
       "        1    2    3    4  rent amount (R$)  mahalanobis_distance  \n",
       "6185  0.0  0.0  0.0  1.0             19500             28.067459  \n",
       "9833  0.0  0.0  1.0  0.0             15000             30.710426  \n",
       "6851  0.0  0.0  0.0  1.0              4335             39.170104  \n",
       "6132  0.0  0.0  0.0  1.0              6400             30.978099  \n",
       "5178  0.0  0.0  0.0  1.0              8330             56.213184  \n",
       "369   0.0  0.0  0.0  0.0             15000             34.187035  \n",
       "5904  1.0  0.0  0.0  0.0              9800             28.362840  \n",
       "752   0.0  0.0  0.0  0.0              5500             63.434045  \n",
       "3071  0.0  0.0  0.0  1.0              8000             28.260836  \n",
       "811   0.0  0.0  0.0  0.0              2600             27.721741  \n",
       "6423  0.0  1.0  0.0  0.0             12750             42.286459  \n",
       "4617  0.0  0.0  0.0  0.0             15000             35.910772  \n",
       "7433  0.0  1.0  0.0  0.0              8500             32.394706  \n",
       "640   0.0  0.0  0.0  0.0             14980             29.683420  \n",
       "5293  0.0  0.0  0.0  1.0              4000             39.024450  \n",
       "5685  1.0  0.0  0.0  0.0              3200             39.289483  \n",
       "4634  0.0  0.0  0.0  0.0              2200             45.781211  \n",
       "4959  0.0  0.0  0.0  1.0             14500             31.146290  \n",
       "8587  0.0  0.0  0.0  0.0             13500             29.340249  \n",
       "676   0.0  0.0  0.0  1.0              7000             28.097940  "
      ]
     },
     "execution_count": 78,
     "metadata": {},
     "output_type": "execute_result"
    }
   ],
   "source": [
    "mahalanobis_outliers.sample(n=20, random_state=45)"
   ]
  },
  {
   "cell_type": "markdown",
   "metadata": {
    "papermill": {
     "duration": 0.095745,
     "end_time": "2021-06-27T10:55:12.750460",
     "exception": false,
     "start_time": "2021-06-27T10:55:12.654715",
     "status": "completed"
    },
    "tags": []
   },
   "source": [
    "What we can see based on these outliers is that certain values do not make sense in the context of the observation. For instance, look at the observations 770 and 640 in the table. While they have drastically differing areas, they have the same 'rent amount (R$)' values. As such, it becomes unclear which observation contains a wrong value and which one should be removed. \n",
    "\n",
    "This suggests that we should take a look at observations with a similar value to an identified outlier in a particular variable and check whether all of the other variables are similar to the variables in our identified outlier. This will take a lot of time to do for over 200 observations. There's also the issue of deciding how similar should the variables be. As such, we need to develop a system, which can help us identify the most extreme observations in our dataset. \n",
    "\n",
    "We will go through each observation manually and take a quick glance at it to understand which variable caused the observation to have high Mahalanobis Distance; I will refer to this variable as the 'off' variable. We will record this information. While slow at first, the benefit of this is that we can instantly remove any observations which contain obvious data-entry errors. This will also allow me to ensure that applying this method makes sense for as many identified outliers as possible. Afterwards, we will get the mean values for the 'off' variable for similar observations, but not take into consideration the outlier itself. We will then determine whether value in the 'off' variable is a numeric outlier relative to the values in the variable of similar values, using the numeric outlier technique.\n",
    "\n",
    "I won't display all of the observations identified as outliers when finding the 'off' variable, because it will take too much space; I will show just the first few."
   ]
  },
  {
   "cell_type": "code",
   "execution_count": 79,
   "metadata": {
    "papermill": {
     "duration": 0.115164,
     "end_time": "2021-06-27T10:55:12.961020",
     "exception": false,
     "start_time": "2021-06-27T10:55:12.845856",
     "status": "completed"
    },
    "tags": []
   },
   "outputs": [
    {
     "data": {
      "text/html": [
       "<div>\n",
       "<style scoped>\n",
       "    .dataframe tbody tr th:only-of-type {\n",
       "        vertical-align: middle;\n",
       "    }\n",
       "\n",
       "    .dataframe tbody tr th {\n",
       "        vertical-align: top;\n",
       "    }\n",
       "\n",
       "    .dataframe thead th {\n",
       "        text-align: right;\n",
       "    }\n",
       "</style>\n",
       "<table border=\"1\" class=\"dataframe\">\n",
       "  <thead>\n",
       "    <tr style=\"text-align: right;\">\n",
       "      <th></th>\n",
       "      <th>area</th>\n",
       "      <th>rooms</th>\n",
       "      <th>bathroom</th>\n",
       "      <th>parking spaces</th>\n",
       "      <th>floor</th>\n",
       "      <th>animal</th>\n",
       "      <th>furniture</th>\n",
       "      <th>0</th>\n",
       "      <th>1</th>\n",
       "      <th>2</th>\n",
       "      <th>3</th>\n",
       "      <th>4</th>\n",
       "      <th>rent amount (R$)</th>\n",
       "      <th>mahalanobis_distance</th>\n",
       "    </tr>\n",
       "  </thead>\n",
       "  <tbody>\n",
       "    <tr>\n",
       "      <th>2397</th>\n",
       "      <td>46335</td>\n",
       "      <td>4</td>\n",
       "      <td>8</td>\n",
       "      <td>5</td>\n",
       "      <td>11</td>\n",
       "      <td>1</td>\n",
       "      <td>1</td>\n",
       "      <td>1.0</td>\n",
       "      <td>0.0</td>\n",
       "      <td>0.0</td>\n",
       "      <td>0.0</td>\n",
       "      <td>0.0</td>\n",
       "      <td>8500</td>\n",
       "      <td>6150.475733</td>\n",
       "    </tr>\n",
       "    <tr>\n",
       "      <th>2562</th>\n",
       "      <td>80</td>\n",
       "      <td>3</td>\n",
       "      <td>2</td>\n",
       "      <td>2</td>\n",
       "      <td>301</td>\n",
       "      <td>1</td>\n",
       "      <td>0</td>\n",
       "      <td>1.0</td>\n",
       "      <td>0.0</td>\n",
       "      <td>0.0</td>\n",
       "      <td>0.0</td>\n",
       "      <td>0.0</td>\n",
       "      <td>2600</td>\n",
       "      <td>2350.156938</td>\n",
       "    </tr>\n",
       "    <tr>\n",
       "      <th>5915</th>\n",
       "      <td>24606</td>\n",
       "      <td>5</td>\n",
       "      <td>4</td>\n",
       "      <td>4</td>\n",
       "      <td>12</td>\n",
       "      <td>1</td>\n",
       "      <td>0</td>\n",
       "      <td>0.0</td>\n",
       "      <td>0.0</td>\n",
       "      <td>0.0</td>\n",
       "      <td>0.0</td>\n",
       "      <td>1.0</td>\n",
       "      <td>8100</td>\n",
       "      <td>1733.764721</td>\n",
       "    </tr>\n",
       "    <tr>\n",
       "      <th>9241</th>\n",
       "      <td>12732</td>\n",
       "      <td>3</td>\n",
       "      <td>2</td>\n",
       "      <td>0</td>\n",
       "      <td>3</td>\n",
       "      <td>1</td>\n",
       "      <td>0</td>\n",
       "      <td>0.0</td>\n",
       "      <td>1.0</td>\n",
       "      <td>0.0</td>\n",
       "      <td>0.0</td>\n",
       "      <td>0.0</td>\n",
       "      <td>1600</td>\n",
       "      <td>481.464275</td>\n",
       "    </tr>\n",
       "    <tr>\n",
       "      <th>2182</th>\n",
       "      <td>700</td>\n",
       "      <td>4</td>\n",
       "      <td>7</td>\n",
       "      <td>8</td>\n",
       "      <td>0</td>\n",
       "      <td>1</td>\n",
       "      <td>0</td>\n",
       "      <td>0.0</td>\n",
       "      <td>0.0</td>\n",
       "      <td>0.0</td>\n",
       "      <td>0.0</td>\n",
       "      <td>1.0</td>\n",
       "      <td>45000</td>\n",
       "      <td>224.529723</td>\n",
       "    </tr>\n",
       "  </tbody>\n",
       "</table>\n",
       "</div>"
      ],
      "text/plain": [
       "       area  rooms  bathroom  parking spaces  floor  animal  furniture    0  \\\n",
       "2397  46335      4         8               5     11       1          1  1.0   \n",
       "2562     80      3         2               2    301       1          0  1.0   \n",
       "5915  24606      5         4               4     12       1          0  0.0   \n",
       "9241  12732      3         2               0      3       1          0  0.0   \n",
       "2182    700      4         7               8      0       1          0  0.0   \n",
       "\n",
       "        1    2    3    4  rent amount (R$)  mahalanobis_distance  \n",
       "2397  0.0  0.0  0.0  0.0              8500           6150.475733  \n",
       "2562  0.0  0.0  0.0  0.0              2600           2350.156938  \n",
       "5915  0.0  0.0  0.0  1.0              8100           1733.764721  \n",
       "9241  1.0  0.0  0.0  0.0              1600            481.464275  \n",
       "2182  0.0  0.0  0.0  1.0             45000            224.529723  "
      ]
     },
     "execution_count": 79,
     "metadata": {},
     "output_type": "execute_result"
    }
   ],
   "source": [
    "mahalanobis_outliers.sort_values(\"mahalanobis_distance\", ascending=False).head()"
   ]
  },
  {
   "cell_type": "code",
   "execution_count": 80,
   "metadata": {
    "papermill": {
     "duration": 0.113281,
     "end_time": "2021-06-27T10:55:13.172160",
     "exception": false,
     "start_time": "2021-06-27T10:55:13.058879",
     "status": "completed"
    },
    "tags": []
   },
   "outputs": [],
   "source": [
    "remove_instantly = [2397, 2562, 5915, 2182, 2619, 9012]\n",
    "outliers_dict = {6947: \"rent amount (R$)\", 5445: \"parking spaces\", 4813: \"rent amount (R$)\", 1639: \"rooms\",\n",
    "                 10619: \"rent amount (R$)\", 9565: \"rooms\", 1810: \"rent amount (R$)\", 752: \"rent amount (R$)\", 5178: \"rooms\", 1946: \"parking spaces\",\n",
    "                 4829: \"parking spaces\", 9464: \"parking spaces\", 9788: \"parking spaces\", 10125: \"parking spaces\", 2055: \"rooms\", 9857: \"parking spaces\",\n",
    "                 5525: \"rent amount (R$)\", 3066: \"bathroom\", 9989: \"rooms\", 5998: \"rent amount (R$)\", 9442: \"parking spaces\", 8380: \"bathroom\", \n",
    "                 1130: \"bathroom\", 9479: \"rent amount (R$)\", 1253: \"rent amount (R$)\", 1780: \"parking spaces\", 9568: \"parking spaces\",\n",
    "                 911: \"rent amount (R$)\", 6589: \"bathroom\", 6014: \"parking spaces\", 1334: \"parking spaces\", 2069: \"rent amount (R$)\", \n",
    "                 8943: \"parking spaces\", 2845: \"parking spaces\", 4634: \"rooms\", 4088: \"rent amount (R$)\", 2867: \"rooms\", 671: \"rent amount (R$)\",\n",
    "                 6423: \"rent amount (R$)\", 2398: \"rooms\", 3853: \"rent amount (R$)\", 5685: \"rent amount (R$)\", 2642: \"rent amount (R$)\",\n",
    "                 1764: \"rent amount (R$)\", 6384: \"parking spaces\", 10590: \"parking spaces\", 7226: \"rent amount (R$)\", 1138: \"rent amount (R$)\",\n",
    "                 6851: \"parking spaces\", 801: \"parking spaces\", 9822: \"parking spaces\", 5293: \"rent amount (R$)\", 10376: \"parking spaces\",\n",
    "                 4497: \"rent amount (R$)\", 7441: \"rent amount (R$)\", 4541: \"rent amount (R$)\", 2106: \"rent amount (R$)\", 1020: \"rent amount (R$)\",\n",
    "                 10353: \"rent amount (R$)\", 1571: \"rent amount (R$)\", 707: \"parking spaces\", 6954: \"parking spaces\", 10256: \"rent amount (R$)\",\n",
    "                 4027: \"rent amount (R$)\", 1838: \"parking spaces\", 7597: \"rent amount (R$)\", 510: \"parking spaces\", 3348: \"parking spaces\",\n",
    "                 8334: \"rooms\", 8399: \"rent amount (R$)\", 7886: \"parking spaces\", 4621: \"parking spaces\", 9995: \"parking spaces\",\n",
    "                 3926: \"rent amount (R$)\", 2414: \"rent amount (R$)\", 317: \"parking spaces\", 8435: \"rent amount (R$)\", 369: \"rent amount (R$)\",\n",
    "                 7192: \"rent amount (R$)\", 4617: \"parking spaces\", 5528: \"rent amount (R$)\", 1470: \"rent amount (R$)\", 1877: \"rent amount (R$)\",\n",
    "                 9749: \"parking spaces\", 531: \"rooms\", 952: \"parking spaces\", 1452: \"rent amount (R$)\", 8435: \"parking spaces\", 9856: \"rent amount (R$)\",\n",
    "                 7192: \"rent amount (R$)\", 531: \"rooms\", 1877: \"rent amount (R$)\", 831: \"parking spaces\", 2275: \"parking spaces\",\n",
    "                 534: \"rent amount (R$)\", 4547: \"rent amount (R$)\", 1470: \"rooms\", 863: \"parking spaces\", 816: \"rent amount (R$)\",\n",
    "                 9775: \"rent amount (R$)\", 6482: \"parking spaces\", 3485: \"parking spaces\", 6073: \"rooms\", 9663: \"rent amount (R$)\", \n",
    "                 9663: \"rent amount (R$)\", 7675: \"rent amount (R$)\", 8858: \"rent amount (R$)\", 10108: \"rent amount (R$)\", 6506: \"rent amount (R$)\",\n",
    "                 5002: \"rent amount (R$)\", 7433: \"parking spaces\", 1041: \"rent amount (R$)\", 9145: \"rent amount (R$)\", 4594: \"parking spaces\",\n",
    "                 1697: \"parking spaces\", 299: \"rooms\", 1568: \"parking spaces\", 6202: \"bathroom\", 10558: \"parking spaces\", 1159: \"parking spaces\", \n",
    "                 2627: \"rent amount (R$)\", 5288: \"rent amount (R$)\", 8356: \"rent amount (R$)\", 10082: \"rent amount (R$)\", 6219: \"rent amount (R$)\",\n",
    "                 1351: \"rooms\", 9363: \"rent amount (R$)\", 456: \"rooms\", 10558: \"rent amount (R$)\", 1159: \"parking spaces\", 2627: \"rent amount (R$)\",\n",
    "                 5288: \"rent amount (R$)\", 8356: \"rent amount (R$)\", 10082: \"rent amount (R$)\", 6219: \"rent amount (R$)\", 1351: \"rooms\",\n",
    "                 9363: \"rent amount (R$)\", 456: \"rooms\", 6996: \"rent amount (R$)\", 3416: \"rent amount (R$)\", 607: \"rent amount (R$)\", \n",
    "                 8080: \"rent amount (R$)\", 4170: \"rent amount (R$)\", 7907: \"rent amount (R$)\", 10225: \"rent amount (R$)\", 9948: \"parking spaces\",\n",
    "                 4681: \"rent amount (R$)\", 10530: \"rent amount (R$)\", 4025: \"rent amount (R$)\", 6457: \"rooms\", 1491: \"rent amount (R$)\", \n",
    "                 676: \"parking spaces\", 2624: \"rent amount (R$)\", 680: \"rent amount (R$)\", 9977: \"rent amount (R$)\",\n",
    "                 4952: \"rent amount (R$)\", 6328: \"rent amount (R$)\", 2087: \"rent amount (R$)\", 5105: \"rent amount (R$)\", 3071: \"parking spaces\",\n",
    "                 6185: \"rent amount (R$)\", 2859: \"rent amount (R$)\", 595: \"rooms\", 2709: \"rent amount (R$)\", \n",
    "                 5763: \"rent amount (R$)\", 5904: \"rent amount (R$)\"}"
   ]
  },
  {
   "cell_type": "code",
   "execution_count": 81,
   "metadata": {
    "papermill": {
     "duration": 0.107578,
     "end_time": "2021-06-27T10:55:13.375781",
     "exception": false,
     "start_time": "2021-06-27T10:55:13.268203",
     "status": "completed"
    },
    "tags": []
   },
   "outputs": [],
   "source": [
    "training_dataset.drop(remove_instantly, inplace=True)\n",
    "X_train.drop(remove_instantly, inplace=True)\n",
    "y_train.drop(remove_instantly, inplace=True)"
   ]
  },
  {
   "cell_type": "code",
   "execution_count": 82,
   "metadata": {
    "papermill": {
     "duration": 0.584447,
     "end_time": "2021-06-27T10:55:14.056810",
     "exception": false,
     "start_time": "2021-06-27T10:55:13.472363",
     "status": "completed"
    },
    "tags": []
   },
   "outputs": [],
   "source": [
    "# .loc()\n",
    "k = 1.5\n",
    "to_remove = []\n",
    "for row_key, off_column in outliers_dict.items():\n",
    "    row_area = mahalanobis_outliers.loc[row_key][\"area\"]\n",
    "    off_value = mahalanobis_outliers.loc[row_key][off_column]\n",
    "    neighborhood = training_dataset[(training_dataset[\"area\"] > max(0, row_area-50)) & \\\n",
    "                                    (training_dataset[\"area\"] < row_area+50)].drop(row_key)\n",
    "    quantiles = neighborhood[off_column].quantile([0.25, 0.75])\n",
    "    q1 = quantiles.iloc[0]\n",
    "    q3 = quantiles.iloc[1]\n",
    "    iqr = q3 - q1\n",
    "    upper_bound = q3 + k*iqr\n",
    "    lower_bound = q1 - k*iqr\n",
    "    if off_value < lower_bound or off_value > upper_bound:\n",
    "        to_remove.append(row_key)\n",
    "        training_dataset.drop(row_key, inplace=True)"
   ]
  },
  {
   "cell_type": "code",
   "execution_count": 83,
   "metadata": {
    "papermill": {
     "duration": 0.103897,
     "end_time": "2021-06-27T10:55:14.257363",
     "exception": false,
     "start_time": "2021-06-27T10:55:14.153466",
     "status": "completed"
    },
    "tags": []
   },
   "outputs": [
    {
     "data": {
      "text/plain": [
       "53"
      ]
     },
     "execution_count": 83,
     "metadata": {},
     "output_type": "execute_result"
    }
   ],
   "source": [
    "len(to_remove)"
   ]
  },
  {
   "cell_type": "code",
   "execution_count": 84,
   "metadata": {
    "papermill": {
     "duration": 0.105187,
     "end_time": "2021-06-27T10:55:14.459995",
     "exception": false,
     "start_time": "2021-06-27T10:55:14.354808",
     "status": "completed"
    },
    "tags": []
   },
   "outputs": [],
   "source": [
    "X_train.drop(to_remove, inplace=True)\n",
    "y_train.drop(to_remove, inplace=True)"
   ]
  },
  {
   "cell_type": "markdown",
   "metadata": {
    "papermill": {
     "duration": 0.095514,
     "end_time": "2021-06-27T10:55:14.651013",
     "exception": false,
     "start_time": "2021-06-27T10:55:14.555499",
     "status": "completed"
    },
    "tags": []
   },
   "source": [
    "We have removed 53 observations from our training datasets. Let's now take a look at our test dataset. We will be using the same method and use the same Mahalanobis Threshold, mean, and covariance matrix in order to avoid data leakage. "
   ]
  },
  {
   "cell_type": "code",
   "execution_count": 85,
   "metadata": {
    "papermill": {
     "duration": 0.106789,
     "end_time": "2021-06-27T10:55:14.853232",
     "exception": false,
     "start_time": "2021-06-27T10:55:14.746443",
     "status": "completed"
    },
    "tags": []
   },
   "outputs": [],
   "source": [
    "test_dataset = X_test.merge(y_test, left_index=True, right_index=True)\n",
    "test_dataset[\"mahalanobis_distance\"] = np.NaN"
   ]
  },
  {
   "cell_type": "code",
   "execution_count": 86,
   "metadata": {
    "papermill": {
     "duration": 0.118214,
     "end_time": "2021-06-27T10:55:15.067788",
     "exception": false,
     "start_time": "2021-06-27T10:55:14.949574",
     "status": "completed"
    },
    "tags": []
   },
   "outputs": [
    {
     "data": {
      "text/html": [
       "<div>\n",
       "<style scoped>\n",
       "    .dataframe tbody tr th:only-of-type {\n",
       "        vertical-align: middle;\n",
       "    }\n",
       "\n",
       "    .dataframe tbody tr th {\n",
       "        vertical-align: top;\n",
       "    }\n",
       "\n",
       "    .dataframe thead th {\n",
       "        text-align: right;\n",
       "    }\n",
       "</style>\n",
       "<table border=\"1\" class=\"dataframe\">\n",
       "  <thead>\n",
       "    <tr style=\"text-align: right;\">\n",
       "      <th></th>\n",
       "      <th>area</th>\n",
       "      <th>rooms</th>\n",
       "      <th>bathroom</th>\n",
       "      <th>parking spaces</th>\n",
       "      <th>floor</th>\n",
       "      <th>animal</th>\n",
       "      <th>furniture</th>\n",
       "      <th>0</th>\n",
       "      <th>1</th>\n",
       "      <th>2</th>\n",
       "      <th>3</th>\n",
       "      <th>4</th>\n",
       "      <th>rent amount (R$)</th>\n",
       "      <th>mahalanobis_distance</th>\n",
       "    </tr>\n",
       "  </thead>\n",
       "  <tbody>\n",
       "    <tr>\n",
       "      <th>358</th>\n",
       "      <td>95</td>\n",
       "      <td>3</td>\n",
       "      <td>2</td>\n",
       "      <td>2</td>\n",
       "      <td>7</td>\n",
       "      <td>1</td>\n",
       "      <td>0</td>\n",
       "      <td>0.0</td>\n",
       "      <td>0.0</td>\n",
       "      <td>0.0</td>\n",
       "      <td>1.0</td>\n",
       "      <td>0.0</td>\n",
       "      <td>2300</td>\n",
       "      <td>NaN</td>\n",
       "    </tr>\n",
       "    <tr>\n",
       "      <th>5191</th>\n",
       "      <td>104</td>\n",
       "      <td>3</td>\n",
       "      <td>2</td>\n",
       "      <td>2</td>\n",
       "      <td>1</td>\n",
       "      <td>0</td>\n",
       "      <td>0</td>\n",
       "      <td>0.0</td>\n",
       "      <td>0.0</td>\n",
       "      <td>0.0</td>\n",
       "      <td>0.0</td>\n",
       "      <td>1.0</td>\n",
       "      <td>3800</td>\n",
       "      <td>NaN</td>\n",
       "    </tr>\n",
       "    <tr>\n",
       "      <th>4501</th>\n",
       "      <td>55</td>\n",
       "      <td>1</td>\n",
       "      <td>1</td>\n",
       "      <td>1</td>\n",
       "      <td>9</td>\n",
       "      <td>0</td>\n",
       "      <td>1</td>\n",
       "      <td>0.0</td>\n",
       "      <td>0.0</td>\n",
       "      <td>0.0</td>\n",
       "      <td>0.0</td>\n",
       "      <td>1.0</td>\n",
       "      <td>2860</td>\n",
       "      <td>NaN</td>\n",
       "    </tr>\n",
       "    <tr>\n",
       "      <th>7555</th>\n",
       "      <td>80</td>\n",
       "      <td>2</td>\n",
       "      <td>2</td>\n",
       "      <td>0</td>\n",
       "      <td>4</td>\n",
       "      <td>1</td>\n",
       "      <td>0</td>\n",
       "      <td>0.0</td>\n",
       "      <td>0.0</td>\n",
       "      <td>0.0</td>\n",
       "      <td>1.0</td>\n",
       "      <td>0.0</td>\n",
       "      <td>4100</td>\n",
       "      <td>NaN</td>\n",
       "    </tr>\n",
       "    <tr>\n",
       "      <th>62</th>\n",
       "      <td>70</td>\n",
       "      <td>2</td>\n",
       "      <td>1</td>\n",
       "      <td>1</td>\n",
       "      <td>13</td>\n",
       "      <td>1</td>\n",
       "      <td>0</td>\n",
       "      <td>0.0</td>\n",
       "      <td>0.0</td>\n",
       "      <td>0.0</td>\n",
       "      <td>0.0</td>\n",
       "      <td>1.0</td>\n",
       "      <td>2150</td>\n",
       "      <td>NaN</td>\n",
       "    </tr>\n",
       "  </tbody>\n",
       "</table>\n",
       "</div>"
      ],
      "text/plain": [
       "      area  rooms  bathroom  parking spaces  floor  animal  furniture    0  \\\n",
       "358     95      3         2               2      7       1          0  0.0   \n",
       "5191   104      3         2               2      1       0          0  0.0   \n",
       "4501    55      1         1               1      9       0          1  0.0   \n",
       "7555    80      2         2               0      4       1          0  0.0   \n",
       "62      70      2         1               1     13       1          0  0.0   \n",
       "\n",
       "        1    2    3    4  rent amount (R$)  mahalanobis_distance  \n",
       "358   0.0  0.0  1.0  0.0              2300                   NaN  \n",
       "5191  0.0  0.0  0.0  1.0              3800                   NaN  \n",
       "4501  0.0  0.0  0.0  1.0              2860                   NaN  \n",
       "7555  0.0  0.0  1.0  0.0              4100                   NaN  \n",
       "62    0.0  0.0  0.0  1.0              2150                   NaN  "
      ]
     },
     "execution_count": 86,
     "metadata": {},
     "output_type": "execute_result"
    }
   ],
   "source": [
    "test_dataset.head()"
   ]
  },
  {
   "cell_type": "code",
   "execution_count": 87,
   "metadata": {
    "papermill": {
     "duration": 0.99723,
     "end_time": "2021-06-27T10:55:16.162741",
     "exception": false,
     "start_time": "2021-06-27T10:55:15.165511",
     "status": "completed"
    },
    "tags": []
   },
   "outputs": [],
   "source": [
    "for index, row in test_dataset.iterrows():\n",
    "    values = row[0:13]\n",
    "    test_dataset.loc[index, \"mahalanobis_distance\"] = mahalanobis(values, mean, inv_cov)**2"
   ]
  },
  {
   "cell_type": "code",
   "execution_count": 88,
   "metadata": {
    "papermill": {
     "duration": 0.106548,
     "end_time": "2021-06-27T10:55:16.366197",
     "exception": false,
     "start_time": "2021-06-27T10:55:16.259649",
     "status": "completed"
    },
    "tags": []
   },
   "outputs": [
    {
     "data": {
      "text/plain": [
       "55"
      ]
     },
     "execution_count": 88,
     "metadata": {},
     "output_type": "execute_result"
    }
   ],
   "source": [
    "test_mahalanobis_outliers = test_dataset[test_dataset[\"mahalanobis_distance\"] > mahalanobis_threshold]\n",
    "len(test_mahalanobis_outliers)"
   ]
  },
  {
   "cell_type": "markdown",
   "metadata": {
    "papermill": {
     "duration": 0.096108,
     "end_time": "2021-06-27T10:55:16.559544",
     "exception": false,
     "start_time": "2021-06-27T10:55:16.463436",
     "status": "completed"
    },
    "tags": []
   },
   "source": [
    "We have identified 53 outliers, but we will now check how many of them we should remove by conducting the same analysis as previously."
   ]
  },
  {
   "cell_type": "code",
   "execution_count": 89,
   "metadata": {
    "papermill": {
     "duration": 0.115029,
     "end_time": "2021-06-27T10:55:16.771532",
     "exception": false,
     "start_time": "2021-06-27T10:55:16.656503",
     "status": "completed"
    },
    "tags": []
   },
   "outputs": [
    {
     "data": {
      "text/html": [
       "<div>\n",
       "<style scoped>\n",
       "    .dataframe tbody tr th:only-of-type {\n",
       "        vertical-align: middle;\n",
       "    }\n",
       "\n",
       "    .dataframe tbody tr th {\n",
       "        vertical-align: top;\n",
       "    }\n",
       "\n",
       "    .dataframe thead th {\n",
       "        text-align: right;\n",
       "    }\n",
       "</style>\n",
       "<table border=\"1\" class=\"dataframe\">\n",
       "  <thead>\n",
       "    <tr style=\"text-align: right;\">\n",
       "      <th></th>\n",
       "      <th>area</th>\n",
       "      <th>rooms</th>\n",
       "      <th>bathroom</th>\n",
       "      <th>parking spaces</th>\n",
       "      <th>floor</th>\n",
       "      <th>animal</th>\n",
       "      <th>furniture</th>\n",
       "      <th>0</th>\n",
       "      <th>1</th>\n",
       "      <th>2</th>\n",
       "      <th>3</th>\n",
       "      <th>4</th>\n",
       "      <th>rent amount (R$)</th>\n",
       "      <th>mahalanobis_distance</th>\n",
       "    </tr>\n",
       "  </thead>\n",
       "  <tbody>\n",
       "    <tr>\n",
       "      <th>7835</th>\n",
       "      <td>439</td>\n",
       "      <td>13</td>\n",
       "      <td>4</td>\n",
       "      <td>3</td>\n",
       "      <td>0</td>\n",
       "      <td>1</td>\n",
       "      <td>0</td>\n",
       "      <td>0.0</td>\n",
       "      <td>0.0</td>\n",
       "      <td>0.0</td>\n",
       "      <td>1.0</td>\n",
       "      <td>0.0</td>\n",
       "      <td>15000</td>\n",
       "      <td>177.605001</td>\n",
       "    </tr>\n",
       "    <tr>\n",
       "      <th>7748</th>\n",
       "      <td>350</td>\n",
       "      <td>3</td>\n",
       "      <td>3</td>\n",
       "      <td>3</td>\n",
       "      <td>0</td>\n",
       "      <td>1</td>\n",
       "      <td>0</td>\n",
       "      <td>0.0</td>\n",
       "      <td>0.0</td>\n",
       "      <td>0.0</td>\n",
       "      <td>0.0</td>\n",
       "      <td>1.0</td>\n",
       "      <td>30000</td>\n",
       "      <td>114.540670</td>\n",
       "    </tr>\n",
       "    <tr>\n",
       "      <th>5694</th>\n",
       "      <td>64</td>\n",
       "      <td>2</td>\n",
       "      <td>2</td>\n",
       "      <td>2</td>\n",
       "      <td>51</td>\n",
       "      <td>1</td>\n",
       "      <td>0</td>\n",
       "      <td>0.0</td>\n",
       "      <td>1.0</td>\n",
       "      <td>0.0</td>\n",
       "      <td>0.0</td>\n",
       "      <td>0.0</td>\n",
       "      <td>1900</td>\n",
       "      <td>69.623445</td>\n",
       "    </tr>\n",
       "    <tr>\n",
       "      <th>9021</th>\n",
       "      <td>458</td>\n",
       "      <td>8</td>\n",
       "      <td>10</td>\n",
       "      <td>4</td>\n",
       "      <td>0</td>\n",
       "      <td>1</td>\n",
       "      <td>0</td>\n",
       "      <td>1.0</td>\n",
       "      <td>0.0</td>\n",
       "      <td>0.0</td>\n",
       "      <td>0.0</td>\n",
       "      <td>0.0</td>\n",
       "      <td>7000</td>\n",
       "      <td>64.029299</td>\n",
       "    </tr>\n",
       "    <tr>\n",
       "      <th>7826</th>\n",
       "      <td>83</td>\n",
       "      <td>2</td>\n",
       "      <td>1</td>\n",
       "      <td>8</td>\n",
       "      <td>0</td>\n",
       "      <td>1</td>\n",
       "      <td>0</td>\n",
       "      <td>0.0</td>\n",
       "      <td>1.0</td>\n",
       "      <td>0.0</td>\n",
       "      <td>0.0</td>\n",
       "      <td>0.0</td>\n",
       "      <td>4550</td>\n",
       "      <td>59.664620</td>\n",
       "    </tr>\n",
       "  </tbody>\n",
       "</table>\n",
       "</div>"
      ],
      "text/plain": [
       "      area  rooms  bathroom  parking spaces  floor  animal  furniture    0  \\\n",
       "7835   439     13         4               3      0       1          0  0.0   \n",
       "7748   350      3         3               3      0       1          0  0.0   \n",
       "5694    64      2         2               2     51       1          0  0.0   \n",
       "9021   458      8        10               4      0       1          0  1.0   \n",
       "7826    83      2         1               8      0       1          0  0.0   \n",
       "\n",
       "        1    2    3    4  rent amount (R$)  mahalanobis_distance  \n",
       "7835  0.0  0.0  1.0  0.0             15000            177.605001  \n",
       "7748  0.0  0.0  0.0  1.0             30000            114.540670  \n",
       "5694  1.0  0.0  0.0  0.0              1900             69.623445  \n",
       "9021  0.0  0.0  0.0  0.0              7000             64.029299  \n",
       "7826  1.0  0.0  0.0  0.0              4550             59.664620  "
      ]
     },
     "execution_count": 89,
     "metadata": {},
     "output_type": "execute_result"
    }
   ],
   "source": [
    "test_mahalanobis_outliers.sort_values(\"mahalanobis_distance\", ascending=False).head()"
   ]
  },
  {
   "cell_type": "code",
   "execution_count": 90,
   "metadata": {
    "papermill": {
     "duration": 0.106942,
     "end_time": "2021-06-27T10:55:16.977648",
     "exception": false,
     "start_time": "2021-06-27T10:55:16.870706",
     "status": "completed"
    },
    "tags": []
   },
   "outputs": [],
   "source": [
    "test_outliers_dict = {7835: \"rooms\", 7748: \"rent amount (R$)\", 3772: \"parking spaces\", 3559: \"parking spaces\", 3772: \"parking spaces\", \n",
    "                      7826: \"parking spaces\",  10472: \"rooms\", 8628: \"rent amount (R$)\", 9914: \"bathroom\", 143: \"rent amount (R$)\", \n",
    "                      9021: \"rent amount (R$)\", 421: \"rent amount (R$)\", 1528: \"rent amount (R$)\", 5660: \"rent amount (R$)\", 3251: \"parking spaces\", \n",
    "                      8312: \"parking spaces\", 6101: \"parking spaces\", 3863: \"parking spaces\", 2456: \"rooms\", 628: \"rent amount (R$)\", \n",
    "                      8307: \"parking spaces\", 10587: \"rent amount (R$)\", 7742: \"rent amount (R$)\", 2576: \"rent amount (R$)\", 2338: \"rent amount (R$)\", \n",
    "                      4217: \"rooms\", 6138: \"parking spaces\", 1500: \"bathroom\", 2495: \"rooms\", 4224: \"rent amount (R$)\", 8966: \"rent amount (R$)\", \n",
    "                      1426: \"rent amount (R$)\", 1676: \"parking spaces\", 5945: \"parking spaces\", 5564: \"rooms\", 4037: \"rent amount (R$)\", \n",
    "                      9204: \"bathroom\", 4993: \"rent amount (R$)\", 8874: \"parking spaces\",  7802: \"rent amount (R$)\", 1976: \"rent amount (R$)\", \n",
    "                      6777: \"rent amount (R$)\", 4913: \"rent amount (R$)\", 7474: \"rent amount (R$)\", 9797: \"rent amount (R$)\", 2998: \"rent amount (R$)\", \n",
    "                      8362: \"rent amount (R$)\", 2315: \"rent amount (R$)\", 2337: \"rent amount (R$)\",}"
   ]
  },
  {
   "cell_type": "code",
   "execution_count": 91,
   "metadata": {
    "papermill": {
     "duration": 0.218512,
     "end_time": "2021-06-27T10:55:17.296738",
     "exception": false,
     "start_time": "2021-06-27T10:55:17.078226",
     "status": "completed"
    },
    "tags": []
   },
   "outputs": [],
   "source": [
    "k = 1.5\n",
    "to_remove_test = []\n",
    "for row_key, off_column in test_outliers_dict.items():\n",
    "    row_area = test_mahalanobis_outliers.loc[row_key][\"area\"]\n",
    "    off_value = test_mahalanobis_outliers.loc[row_key][off_column]\n",
    "    neighborhood = training_dataset[(training_dataset[\"area\"] > max(0, row_area-50)) & \\\n",
    "                                    (training_dataset[\"area\"] < row_area+50)]\n",
    "    quantiles = neighborhood[off_column].quantile([0.25, 0.75])\n",
    "    q1 = quantiles.iloc[0]\n",
    "    q3 = quantiles.iloc[1]\n",
    "    iqr = q3 - q1\n",
    "    upper_bound = q3 + k*iqr\n",
    "    lower_bound = q1 - k*iqr\n",
    "    if off_value < lower_bound or off_value > upper_bound:\n",
    "        to_remove_test.append(row_key)"
   ]
  },
  {
   "cell_type": "code",
   "execution_count": 92,
   "metadata": {
    "papermill": {
     "duration": 0.106238,
     "end_time": "2021-06-27T10:55:17.500568",
     "exception": false,
     "start_time": "2021-06-27T10:55:17.394330",
     "status": "completed"
    },
    "tags": []
   },
   "outputs": [
    {
     "data": {
      "text/plain": [
       "14"
      ]
     },
     "execution_count": 92,
     "metadata": {},
     "output_type": "execute_result"
    }
   ],
   "source": [
    "len(to_remove_test)"
   ]
  },
  {
   "cell_type": "code",
   "execution_count": 93,
   "metadata": {
    "papermill": {
     "duration": 0.106602,
     "end_time": "2021-06-27T10:55:17.705818",
     "exception": false,
     "start_time": "2021-06-27T10:55:17.599216",
     "status": "completed"
    },
    "tags": []
   },
   "outputs": [],
   "source": [
    "X_test.drop(to_remove_test, inplace=True)\n",
    "y_test.drop(to_remove_test, inplace=True)"
   ]
  },
  {
   "cell_type": "markdown",
   "metadata": {
    "papermill": {
     "duration": 0.09728,
     "end_time": "2021-06-27T10:55:17.900407",
     "exception": false,
     "start_time": "2021-06-27T10:55:17.803127",
     "status": "completed"
    },
    "tags": []
   },
   "source": [
    "We have removed 14 observations from our training dataset. It is impossible to guarantee whether we have removed observations with data-entry errors; however, based on the method used here, we can conclude that those observations were most likely data-entry errors or incredibly rare outliers, which are simply not noteworthy enough in order to be considered in our model due to their distance from majority of the data and their rarity."
   ]
  },
  {
   "cell_type": "markdown",
   "metadata": {
    "papermill": {
     "duration": 0.09783,
     "end_time": "2021-06-27T10:55:18.139974",
     "exception": false,
     "start_time": "2021-06-27T10:55:18.042144",
     "status": "completed"
    },
    "tags": []
   },
   "source": [
    "#### Feature Selection\n",
    "\n",
    "We will now select the best features for our model by seeing whether the potential features have any effect on the target variable"
   ]
  },
  {
   "cell_type": "code",
   "execution_count": 94,
   "metadata": {
    "papermill": {
     "duration": 0.106508,
     "end_time": "2021-06-27T10:55:18.342935",
     "exception": false,
     "start_time": "2021-06-27T10:55:18.236427",
     "status": "completed"
    },
    "tags": []
   },
   "outputs": [],
   "source": [
    "training_dataset = X_train.merge(y_train, left_index=True, right_index=True)"
   ]
  },
  {
   "cell_type": "markdown",
   "metadata": {
    "papermill": {
     "duration": 0.095977,
     "end_time": "2021-06-27T10:55:18.535850",
     "exception": false,
     "start_time": "2021-06-27T10:55:18.439873",
     "status": "completed"
    },
    "tags": []
   },
   "source": [
    "**The 'area' column:**\n",
    "\n",
    "The 'area' column indicates how big an apartment or a house is. Intuitively, the area variable should have a positive correlation with the rent amount column, since a bigger apartment would have a higher price. Let's take a closer look at our observations and make sure that the same rule applies to our data."
   ]
  },
  {
   "cell_type": "code",
   "execution_count": 95,
   "metadata": {
    "papermill": {
     "duration": 0.31722,
     "end_time": "2021-06-27T10:55:18.949366",
     "exception": false,
     "start_time": "2021-06-27T10:55:18.632146",
     "status": "completed"
    },
    "tags": []
   },
   "outputs": [
    {
     "data": {
      "text/plain": [
       "<AxesSubplot:xlabel='area', ylabel='rent amount (R$)'>"
      ]
     },
     "execution_count": 95,
     "metadata": {},
     "output_type": "execute_result"
    },
    {
     "data": {
      "image/png": "[encoded data removed]",
      "text/plain": [
       "<Figure size 432x288 with 1 Axes>"
      ]
     },
     "metadata": {},
     "output_type": "display_data"
    }
   ],
   "source": [
    "sns.scatterplot(data=training_dataset, x=\"area\", y=\"rent amount (R$)\")"
   ]
  },
  {
   "cell_type": "markdown",
   "metadata": {
    "papermill": {
     "duration": 0.100372,
     "end_time": "2021-06-27T10:55:19.148278",
     "exception": false,
     "start_time": "2021-06-27T10:55:19.047906",
     "status": "completed"
    },
    "tags": []
   },
   "source": [
    "Based on this scatterplot, we can see that there' a moderately strong positive correlation. There are several points, though, that do not strictly follow this relationship, weaking the correlation between the potential feature and the target variable. This suggests that we should not necessarily use linear regression as our model. Additionally, there's a point which is incredibly far from the rest of the data. Surprisingly, our outlier detection technique did not catch this point. Let's take a closer look at this observation"
   ]
  },
  {
   "cell_type": "code",
   "execution_count": 96,
   "metadata": {
    "papermill": {
     "duration": 0.110508,
     "end_time": "2021-06-27T10:55:19.363382",
     "exception": false,
     "start_time": "2021-06-27T10:55:19.252874",
     "status": "completed"
    },
    "tags": []
   },
   "outputs": [
    {
     "data": {
      "text/plain": [
       "False"
      ]
     },
     "execution_count": 96,
     "metadata": {},
     "output_type": "execute_result"
    }
   ],
   "source": [
    "outlier_index = training_dataset[training_dataset[\"area\"] > 12000].index[0]\n",
    "outlier_index in mahalanobis_outliers"
   ]
  },
  {
   "cell_type": "markdown",
   "metadata": {
    "papermill": {
     "duration": 0.09756,
     "end_time": "2021-06-27T10:55:19.558830",
     "exception": false,
     "start_time": "2021-06-27T10:55:19.461270",
     "status": "completed"
    },
    "tags": []
   },
   "source": [
    "Indeed, this point was not deemed an outlier by Mahalanobis Distance; however, as the scatterplot shows, this point is quite far from the rest of our data and is most-likely a data-entry error. Let's remove it from our training dataset."
   ]
  },
  {
   "cell_type": "code",
   "execution_count": 97,
   "metadata": {
    "papermill": {
     "duration": 0.107437,
     "end_time": "2021-06-27T10:55:19.764169",
     "exception": false,
     "start_time": "2021-06-27T10:55:19.656732",
     "status": "completed"
    },
    "tags": []
   },
   "outputs": [],
   "source": [
    "training_dataset.drop(outlier_index, inplace=True)\n",
    "X_train.drop(outlier_index, inplace=True)"
   ]
  },
  {
   "cell_type": "code",
   "execution_count": 98,
   "metadata": {
    "papermill": {
     "duration": 0.108181,
     "end_time": "2021-06-27T10:55:19.971517",
     "exception": false,
     "start_time": "2021-06-27T10:55:19.863336",
     "status": "completed"
    },
    "tags": []
   },
   "outputs": [],
   "source": [
    "y_train.drop(outlier_index, inplace=True)"
   ]
  },
  {
   "cell_type": "markdown",
   "metadata": {
    "papermill": {
     "duration": 0.099936,
     "end_time": "2021-06-27T10:55:20.171623",
     "exception": false,
     "start_time": "2021-06-27T10:55:20.071687",
     "status": "completed"
    },
    "tags": []
   },
   "source": [
    "Let's now quantify the relationship between 'area' and the target variable to confirm that the columns are related to each other. "
   ]
  },
  {
   "cell_type": "code",
   "execution_count": 99,
   "metadata": {
    "papermill": {
     "duration": 0.111279,
     "end_time": "2021-06-27T10:55:20.381882",
     "exception": false,
     "start_time": "2021-06-27T10:55:20.270603",
     "status": "completed"
    },
    "tags": []
   },
   "outputs": [
    {
     "data": {
      "text/html": [
       "<div>\n",
       "<style scoped>\n",
       "    .dataframe tbody tr th:only-of-type {\n",
       "        vertical-align: middle;\n",
       "    }\n",
       "\n",
       "    .dataframe tbody tr th {\n",
       "        vertical-align: top;\n",
       "    }\n",
       "\n",
       "    .dataframe thead th {\n",
       "        text-align: right;\n",
       "    }\n",
       "</style>\n",
       "<table border=\"1\" class=\"dataframe\">\n",
       "  <thead>\n",
       "    <tr style=\"text-align: right;\">\n",
       "      <th></th>\n",
       "      <th>area</th>\n",
       "      <th>rent amount (R$)</th>\n",
       "    </tr>\n",
       "  </thead>\n",
       "  <tbody>\n",
       "    <tr>\n",
       "      <th>area</th>\n",
       "      <td>1.000000</td>\n",
       "      <td>0.674866</td>\n",
       "    </tr>\n",
       "    <tr>\n",
       "      <th>rent amount (R$)</th>\n",
       "      <td>0.674866</td>\n",
       "      <td>1.000000</td>\n",
       "    </tr>\n",
       "  </tbody>\n",
       "</table>\n",
       "</div>"
      ],
      "text/plain": [
       "                      area  rent amount (R$)\n",
       "area              1.000000          0.674866\n",
       "rent amount (R$)  0.674866          1.000000"
      ]
     },
     "execution_count": 99,
     "metadata": {},
     "output_type": "execute_result"
    }
   ],
   "source": [
    "training_dataset[[\"area\", \"rent amount (R$)\"]].corr()"
   ]
  },
  {
   "cell_type": "markdown",
   "metadata": {
    "papermill": {
     "duration": 0.097878,
     "end_time": "2021-06-27T10:55:20.578048",
     "exception": false,
     "start_time": "2021-06-27T10:55:20.480170",
     "status": "completed"
    },
    "tags": []
   },
   "source": [
    "The above table confirms that the relationship is somewhat strong and positive. I think the Pearson correlation is high enough in order for the variable to be used in the model. As such, we are going to keep it."
   ]
  },
  {
   "cell_type": "markdown",
   "metadata": {
    "papermill": {
     "duration": 0.098413,
     "end_time": "2021-06-27T10:55:20.774251",
     "exception": false,
     "start_time": "2021-06-27T10:55:20.675838",
     "status": "completed"
    },
    "tags": []
   },
   "source": [
    "**The 'city' column:**\n",
    "\n",
    "The second column we will check is the 'city' column, which indicates where the apartment/house is located. \n",
    "\n",
    "Intuitively, it would make sense that apartments/cities in certain cities would be more expensive, as certain cities could have more attractive prospects, causing the population to shift towards those cities, driving up the real estate prices there. Let's check whether this is true for the houses in our dataset. Earlier, we have one hot encoded this variable. For convinience, we are going to use the original city column.\n",
    "\n",
    "We are going to determine whether the mean rent amount in a particular city is higher when compared to other cities in order to understand if there are is a relationship between the two variables."
   ]
  },
  {
   "cell_type": "code",
   "execution_count": 100,
   "metadata": {
    "papermill": {
     "duration": 0.109651,
     "end_time": "2021-06-27T10:55:20.982305",
     "exception": false,
     "start_time": "2021-06-27T10:55:20.872654",
     "status": "completed"
    },
    "tags": []
   },
   "outputs": [],
   "source": [
    "training_dataset = training_dataset.merge(houses[\"city\"], how=\"inner\", left_index=True, right_index=True)"
   ]
  },
  {
   "cell_type": "code",
   "execution_count": 101,
   "metadata": {
    "papermill": {
     "duration": 0.24353,
     "end_time": "2021-06-27T10:55:21.325943",
     "exception": false,
     "start_time": "2021-06-27T10:55:21.082413",
     "status": "completed"
    },
    "tags": []
   },
   "outputs": [
    {
     "data": {
      "text/plain": [
       "<AxesSubplot:xlabel='city', ylabel='rent amount (R$)'>"
      ]
     },
     "execution_count": 101,
     "metadata": {},
     "output_type": "execute_result"
    },
    {
     "data": {
      "image/png": "[encoded data removed]",
      "text/plain": [
       "<Figure size 432x288 with 1 Axes>"
      ]
     },
     "metadata": {},
     "output_type": "display_data"
    }
   ],
   "source": [
    "city_mean_rent = training_dataset.groupby(\"city\")[[\"rent amount (R$)\"]].mean()\n",
    "sns.barplot(data=city_mean_rent, x=city_mean_rent.index, y=\"rent amount (R$)\")"
   ]
  },
  {
   "cell_type": "markdown",
   "metadata": {
    "papermill": {
     "duration": 0.098997,
     "end_time": "2021-06-27T10:55:21.527066",
     "exception": false,
     "start_time": "2021-06-27T10:55:21.428069",
     "status": "completed"
    },
    "tags": []
   },
   "source": [
    "The above plot shows the clear difference in the average rent costs in each of the cities. However, without further analysis, it could be argued that the difference is potentially to area differences in the cities. To ensure this is not the case, let's also plot the average area next to the above plot."
   ]
  },
  {
   "cell_type": "code",
   "execution_count": 102,
   "metadata": {
    "papermill": {
     "duration": 0.109526,
     "end_time": "2021-06-27T10:55:21.735958",
     "exception": false,
     "start_time": "2021-06-27T10:55:21.626432",
     "status": "completed"
    },
    "tags": []
   },
   "outputs": [],
   "source": [
    "city_mean_area = training_dataset.groupby(\"city\")[[\"area\"]].mean()"
   ]
  },
  {
   "cell_type": "code",
   "execution_count": 103,
   "metadata": {
    "papermill": {
     "duration": 0.400102,
     "end_time": "2021-06-27T10:55:22.236204",
     "exception": false,
     "start_time": "2021-06-27T10:55:21.836102",
     "status": "completed"
    },
    "tags": []
   },
   "outputs": [
    {
     "data": {
      "text/plain": [
       "[Text(0.5, 1.0, 'Average Area of Apartments/Houses in Brazilian Cities')]"
      ]
     },
     "execution_count": 103,
     "metadata": {},
     "output_type": "execute_result"
    },
    {
     "data": {
      "image/png": "[encoded data removed]",
      "text/plain": [
       "<Figure size 864x360 with 2 Axes>"
      ]
     },
     "metadata": {},
     "output_type": "display_data"
    }
   ],
   "source": [
    "fig, axs = plt.subplots(1, 2, figsize=(12,5))\n",
    "mean_cities = training_dataset.groupby(\"city\")[[\"rent amount (R$)\", \"area\"]].mean()\n",
    "sns.barplot(data=city_mean_rent, x=city_mean_rent.index, y=\"rent amount (R$)\", ax=axs[0]).set(title=\"Average Rent Amount in Brazilian Cities\")\n",
    "sns.barplot(data=city_mean_area, x=city_mean_area.index, y=\"area\", ax=axs[1]).set(title=\"Average Area of Apartments/Houses in Brazilian Cities\")"
   ]
  },
  {
   "cell_type": "markdown",
   "metadata": {
    "papermill": {
     "duration": 0.103225,
     "end_time": "2021-06-27T10:55:22.472902",
     "exception": false,
     "start_time": "2021-06-27T10:55:22.369677",
     "status": "completed"
    },
    "tags": []
   },
   "source": [
    "When looking at the two plots side by side, we can confidently conclude that the 'city' variable affects the target variable. For instance, let's take a closer look at Belo Horizonte and Sao Paulo bar plots. Although the real estate is bigger on average in Belo Horizonte than in Sao Paulo, the rent is still higher in Sao Paulo, which contradicts the positive relationship between the 'area' column and the target variable that we found earlier. As such, it is most-likely that the 'city' variable does affect the target variable, and we should use it within our model.\n",
    "\n",
    "**The 'rooms' column:**\n",
    "\n",
    "The 'rooms' column indicates how many rooms the apartment has. It is hard to intutively determine whether this variable should be a feature or not. On the one hand, more rooms can indicate more living space, which can drive up the price of an apartment. On the other hand, more rooms can simply indicate more area within the apartment, meaning that the 'rooms' variable could just be a proxy for the 'area' variable, which is not worth including in our model. \n",
    "\n",
    "However, apartments/houses with similar areas can have different amount of rooms, suggesting that the 'rooms' variable does not always act like a proxy variable. So, the real question now is whether the amount of rooms for apartments/houses with similar areas affects the target variable. We will answer this question by looking at apartments/houses with similar 'area' values, but different 'rooms' values and seeing whether the price is affected or not. \n",
    "\n",
    "We will do this by taking segments of the training dataset with similar area but different amount of rooms and measuring the difference in average rent amounts. "
   ]
  },
  {
   "cell_type": "code",
   "execution_count": 104,
   "metadata": {
    "papermill": {
     "duration": 0.29469,
     "end_time": "2021-06-27T10:55:22.870405",
     "exception": false,
     "start_time": "2021-06-27T10:55:22.575715",
     "status": "completed"
    },
    "tags": []
   },
   "outputs": [],
   "source": [
    "counter = 100\n",
    "counters = []\n",
    "rent_diffs_2_3 = []\n",
    "rent_diffs_3_4 = []\n",
    "area_diffs = []\n",
    "while counter < 400:\n",
    "    counters.append(counter)\n",
    "    training_segment = training_dataset[(training_dataset[\"area\"] < counter+5) & (training_dataset[\"area\"] >= counter)]\n",
    "    rooms_2 = training_segment[training_segment[\"rooms\"] == 2]\n",
    "    rooms_3 = training_segment[training_segment[\"rooms\"] == 3]\n",
    "    rooms_4 = training_segment[training_segment[\"rooms\"] == 4]\n",
    "    rooms_2_rent = rooms_2[\"rent amount (R$)\"].mean()\n",
    "    rooms_3_rent = rooms_3[\"rent amount (R$)\"].mean()\n",
    "    rooms_4_rent = rooms_4[\"rent amount (R$)\"].mean()\n",
    "    rent_diffs_2_3.append(rooms_2_rent - rooms_3_rent)\n",
    "    rent_diffs_3_4.append(rooms_3_rent - rooms_4_rent)\n",
    "    counter += 5"
   ]
  },
  {
   "cell_type": "code",
   "execution_count": 105,
   "metadata": {
    "papermill": {
     "duration": 0.129564,
     "end_time": "2021-06-27T10:55:23.116308",
     "exception": false,
     "start_time": "2021-06-27T10:55:22.986744",
     "status": "completed"
    },
    "tags": []
   },
   "outputs": [],
   "source": [
    "to_plot_2_3 = pd.DataFrame({\"area\": counters, \"diffs\": rent_diffs_2_3}, columns=[\"area\", \"diffs\"])\n",
    "to_plot_2_3[\"label\"] = \"Differences in Rent between 2 and 3 rooms\"\n",
    "to_plot_3_4 = pd.DataFrame({\"area\": counters, \"diffs\": rent_diffs_3_4}, columns=[\"area\", \"diffs\"])\n",
    "to_plot_3_4[\"label\"] = \"Differences in Rent between 3 and 4 rooms\"\n",
    "to_plot = pd.concat([to_plot_2_3, to_plot_3_4], ignore_index=True)"
   ]
  },
  {
   "cell_type": "code",
   "execution_count": 106,
   "metadata": {
    "papermill": {
     "duration": 0.369874,
     "end_time": "2021-06-27T10:55:23.590427",
     "exception": false,
     "start_time": "2021-06-27T10:55:23.220553",
     "status": "completed"
    },
    "tags": []
   },
   "outputs": [
    {
     "data": {
      "text/plain": [
       "<AxesSubplot:xlabel='area', ylabel='diffs'>"
      ]
     },
     "execution_count": 106,
     "metadata": {},
     "output_type": "execute_result"
    },
    {
     "data": {
      "image/png": "[encoded data removed]",
      "text/plain": [
       "<Figure size 864x720 with 1 Axes>"
      ]
     },
     "metadata": {},
     "output_type": "display_data"
    }
   ],
   "source": [
    "fig, ax = plt.subplots(1, 1, figsize=(12, 10))\n",
    "sns.lineplot(x=\"area\", y=\"diffs\", hue=\"label\", data=to_plot, ax=ax)"
   ]
  },
  {
   "cell_type": "markdown",
   "metadata": {
    "papermill": {
     "duration": 0.105428,
     "end_time": "2021-06-27T10:55:23.802725",
     "exception": false,
     "start_time": "2021-06-27T10:55:23.697297",
     "status": "completed"
    },
    "tags": []
   },
   "source": [
    "As you can see, even with lower areas, the difference between apartments with different amount of rooms reaches as high as 2000 BRL. The difference becomes even larger as the area increases. Based on the y-axis, the difference can be quite high at certain point, so our results are most likely statistically signifcant and are not there due to randomness solely. As such, we can conclude that the 'rooms' variable is a useful feature for our dataset and is not solely a proxy variable for the 'area' column.\n",
    "\n",
    "**The 'bathroom' column:**\n",
    "\n",
    "The 'bathroom' column indicates the amount of bathroom in an apartment/house. Similarly to the 'rooms' column, it is unclear whether this column truly affects the target variable or whether it acts as a proxy variable to the 'area' and the 'rooms' columns. As such, we will conduct a similar experiment with this column as we did with the \"rooms column\""
   ]
  },
  {
   "cell_type": "code",
   "execution_count": 107,
   "metadata": {
    "papermill": {
     "duration": 0.159279,
     "end_time": "2021-06-27T10:55:24.068787",
     "exception": false,
     "start_time": "2021-06-27T10:55:23.909508",
     "status": "completed"
    },
    "tags": []
   },
   "outputs": [],
   "source": [
    "counter = 100\n",
    "counters = []\n",
    "rent_diffs = []\n",
    "room_diffs = []\n",
    "while counter < 250:\n",
    "    counters.append(counter)\n",
    "    training_segment = training_dataset[(training_dataset[\"area\"] < counter+10) & (training_dataset[\"area\"] >= counter)]\n",
    "    bathroom_2 = training_segment[training_segment[\"bathroom\"] == 2]\n",
    "    bathroom_3 = training_segment[training_segment[\"bathroom\"] == 3]\n",
    "    bathroom_2_rooms = bathroom_2[\"rooms\"].mean()\n",
    "    bathroom_3_rooms = bathroom_3[\"rooms\"].mean()\n",
    "    room_diffs.append(bathroom_2_rooms - bathroom_3_rooms)\n",
    "    bathroom_2_rent = bathroom_2[\"rent amount (R$)\"].mean()\n",
    "    bathroom_3_rent = bathroom_3[\"rent amount (R$)\"].mean()\n",
    "    rent_diffs.append(bathroom_2_rent - bathroom_3_rent)\n",
    "    counter += 10"
   ]
  },
  {
   "cell_type": "code",
   "execution_count": 108,
   "metadata": {
    "papermill": {
     "duration": 0.512671,
     "end_time": "2021-06-27T10:55:24.689538",
     "exception": false,
     "start_time": "2021-06-27T10:55:24.176867",
     "status": "completed"
    },
    "tags": []
   },
   "outputs": [
    {
     "data": {
      "text/plain": [
       "[Text(0.5, 0, 'Area'), Text(0, 0.5, 'Room Differences')]"
      ]
     },
     "execution_count": 108,
     "metadata": {},
     "output_type": "execute_result"
    },
    {
     "data": {
      "image/png": "[encoded data removed]",
      "text/plain": [
       "<Figure size 864x504 with 2 Axes>"
      ]
     },
     "metadata": {},
     "output_type": "display_data"
    }
   ],
   "source": [
    "fig, axs = plt.subplots(1, 2, figsize=(12, 7))\n",
    "sns.lineplot(x=counters, y=rent_diffs, ax=axs[0]).set(xlabel=\"Area\", ylabel=\"Rent Differences\")\n",
    "sns.lineplot(x=counters, y=room_diffs, ax=axs[1]).set(xlabel=\"Area\", ylabel=\"Room Differences\")"
   ]
  },
  {
   "cell_type": "markdown",
   "metadata": {
    "papermill": {
     "duration": 0.111124,
     "end_time": "2021-06-27T10:55:24.911123",
     "exception": false,
     "start_time": "2021-06-27T10:55:24.799999",
     "status": "completed"
    },
    "tags": []
   },
   "source": [
    "Similarly to the 'rooms' column, the 'bathroom' column seems to have a real effect on the price, because even when the area and the amount of rooms is similar, we can see a vast difference in the rent amount average. As such, we will keep this column as part of our model.\n",
    "\n",
    "**The 'parking spaces' column**\n",
    "\n",
    "The 'parking spaces' column indicates the amount of parking spaces that the potential tenant will have available to them. Although it may seem that the 'parking spaces' column is simply indicative of the 'rooms' variable and has no real effect on the target variable, it is possible to argue the opposite. More parking spaces suggest that there's more space for cars, suggesting that higher-class households will be interested in such apartments; this kind of demographic will push the price up. \n",
    "\n",
    "To determine whether the 'parking spaces' variable affects the target variable, we are going to be using the same method as before."
   ]
  },
  {
   "cell_type": "code",
   "execution_count": 109,
   "metadata": {
    "papermill": {
     "duration": 0.149208,
     "end_time": "2021-06-27T10:55:25.169947",
     "exception": false,
     "start_time": "2021-06-27T10:55:25.020739",
     "status": "completed"
    },
    "tags": []
   },
   "outputs": [],
   "source": [
    "counter = 100\n",
    "counters = []\n",
    "rent_diffs = []\n",
    "room_diffs = []\n",
    "while counter < 200:\n",
    "    counters.append(counter)\n",
    "    training_segment = training_dataset[(training_dataset[\"area\"] < counter+10) & (training_dataset[\"area\"] >= counter)]\n",
    "    parking_2 = training_segment[training_segment[\"parking spaces\"] == 2]\n",
    "    parking_3 = training_segment[training_segment[\"parking spaces\"] == 3]\n",
    "    parking_2_rooms = parking_2[\"rooms\"].mean()\n",
    "    parking_3_rooms = parking_3[\"rooms\"].mean()\n",
    "    room_diffs.append(parking_2_rooms - parking_3_rooms)\n",
    "    parking_2_rent = parking_2[\"rent amount (R$)\"].mean()\n",
    "    parking_3_rent = parking_3[\"rent amount (R$)\"].mean()\n",
    "    rent_diffs.append(parking_2_rent - parking_3_rent)\n",
    "    counter += 10"
   ]
  },
  {
   "cell_type": "code",
   "execution_count": 110,
   "metadata": {
    "papermill": {
     "duration": 0.437035,
     "end_time": "2021-06-27T10:55:25.714048",
     "exception": false,
     "start_time": "2021-06-27T10:55:25.277013",
     "status": "completed"
    },
    "tags": []
   },
   "outputs": [
    {
     "data": {
      "text/plain": [
       "[Text(0.5, 0, 'Area'), Text(0, 0.5, 'Room Differences')]"
      ]
     },
     "execution_count": 110,
     "metadata": {},
     "output_type": "execute_result"
    },
    {
     "data": {
      "image/png": "[encoded data removed]",
      "text/plain": [
       "<Figure size 864x720 with 2 Axes>"
      ]
     },
     "metadata": {},
     "output_type": "display_data"
    }
   ],
   "source": [
    "fig, axs = plt.subplots(1, 2, figsize=(12, 10))\n",
    "sns.lineplot(x=counters, y=rent_diffs, ax=axs[0]).set(xlabel=\"Area\", ylabel=\"Rent Differences\")\n",
    "sns.lineplot(x=counters, y=room_diffs, ax=axs[1]).set(xlabel=\"Area\", ylabel=\"Room Differences\")"
   ]
  },
  {
   "cell_type": "markdown",
   "metadata": {
    "papermill": {
     "duration": 0.107761,
     "end_time": "2021-06-27T10:55:25.929005",
     "exception": false,
     "start_time": "2021-06-27T10:55:25.821244",
     "status": "completed"
    },
    "tags": []
   },
   "source": [
    "The 'parking spaces' column does affect the area, even when the amount of rooms and area stays relatively consistent throughout. As such, we should keep this feature in our model. Interestingly, though, at first, the apartments/houses with less parking spaces cost more relative to apartments/houses with more parking spaces. As area increases, this trend changes, however. This is an interesting observation. I think people who go for smaller apartments are looking for less expensive options, and so, it is probable that they do not own as many cars as the people looking for larger apartments. As such, the people, who are in the market for smaller housing, are more likely to pass up on apartments/houses with more parking spaces, driving up the prices of apartments with less parking spaces.\n",
    "\n",
    "**The 'floor' column:**\n",
    "\n",
    "The floor column indicates on which floor the apartment is. As mentioned previously, if the observation is on the 0th floor, then that observation is a house. Unlike our previous columns, this column is unlikely to have any connection with other potential features. As such, we only need to check whether this column has a relationship with the target variable."
   ]
  },
  {
   "cell_type": "code",
   "execution_count": 111,
   "metadata": {
    "papermill": {
     "duration": 0.123771,
     "end_time": "2021-06-27T10:55:26.161762",
     "exception": false,
     "start_time": "2021-06-27T10:55:26.037991",
     "status": "completed"
    },
    "tags": []
   },
   "outputs": [
    {
     "data": {
      "text/html": [
       "<div>\n",
       "<style scoped>\n",
       "    .dataframe tbody tr th:only-of-type {\n",
       "        vertical-align: middle;\n",
       "    }\n",
       "\n",
       "    .dataframe tbody tr th {\n",
       "        vertical-align: top;\n",
       "    }\n",
       "\n",
       "    .dataframe thead th {\n",
       "        text-align: right;\n",
       "    }\n",
       "</style>\n",
       "<table border=\"1\" class=\"dataframe\">\n",
       "  <thead>\n",
       "    <tr style=\"text-align: right;\">\n",
       "      <th></th>\n",
       "      <th>floor</th>\n",
       "      <th>rent amount (R$)</th>\n",
       "    </tr>\n",
       "  </thead>\n",
       "  <tbody>\n",
       "    <tr>\n",
       "      <th>floor</th>\n",
       "      <td>1.000000</td>\n",
       "      <td>0.102099</td>\n",
       "    </tr>\n",
       "    <tr>\n",
       "      <th>rent amount (R$)</th>\n",
       "      <td>0.102099</td>\n",
       "      <td>1.000000</td>\n",
       "    </tr>\n",
       "  </tbody>\n",
       "</table>\n",
       "</div>"
      ],
      "text/plain": [
       "                     floor  rent amount (R$)\n",
       "floor             1.000000          0.102099\n",
       "rent amount (R$)  0.102099          1.000000"
      ]
     },
     "execution_count": 111,
     "metadata": {},
     "output_type": "execute_result"
    }
   ],
   "source": [
    "training_dataset[[\"floor\", \"rent amount (R$)\"]].corr()"
   ]
  },
  {
   "cell_type": "markdown",
   "metadata": {
    "papermill": {
     "duration": 0.108183,
     "end_time": "2021-06-27T10:55:26.377506",
     "exception": false,
     "start_time": "2021-06-27T10:55:26.269323",
     "status": "completed"
    },
    "tags": []
   },
   "source": [
    "The linear correlation with the 'rent amount (R$)' column is incredibly weak. It is possible, though, that the houses are on average more expensive than apartments. As such, let's check whether this is the case with our dataset. "
   ]
  },
  {
   "cell_type": "code",
   "execution_count": 112,
   "metadata": {
    "papermill": {
     "duration": 0.119232,
     "end_time": "2021-06-27T10:55:26.604176",
     "exception": false,
     "start_time": "2021-06-27T10:55:26.484944",
     "status": "completed"
    },
    "tags": []
   },
   "outputs": [
    {
     "data": {
      "text/plain": [
       "area                 224.598166\n",
       "rent amount (R$)    4768.480583\n",
       "dtype: float64"
      ]
     },
     "execution_count": 112,
     "metadata": {},
     "output_type": "execute_result"
    }
   ],
   "source": [
    "training_dataset[training_dataset[\"floor\"] == 0][[\"area\", \"rent amount (R$)\"]].mean()"
   ]
  },
  {
   "cell_type": "code",
   "execution_count": 113,
   "metadata": {
    "papermill": {
     "duration": 0.118341,
     "end_time": "2021-06-27T10:55:26.830166",
     "exception": false,
     "start_time": "2021-06-27T10:55:26.711825",
     "status": "completed"
    },
    "tags": []
   },
   "outputs": [
    {
     "data": {
      "text/plain": [
       "area                 113.647732\n",
       "rent amount (R$)    3550.870209\n",
       "dtype: float64"
      ]
     },
     "execution_count": 113,
     "metadata": {},
     "output_type": "execute_result"
    }
   ],
   "source": [
    "training_dataset[training_dataset[\"floor\"] > 0][[\"area\", \"rent amount (R$)\"]].mean()"
   ]
  },
  {
   "cell_type": "markdown",
   "metadata": {
    "papermill": {
     "duration": 0.111662,
     "end_time": "2021-06-27T10:55:27.049076",
     "exception": false,
     "start_time": "2021-06-27T10:55:26.937414",
     "status": "completed"
    },
    "tags": []
   },
   "source": [
    "Based on the above tables, we can see that, on average, houses are more expensive to rent than apartments; however, we must also pay attention to the average area, which is larger for houses. This factor could be influencing the average rent values. So, to get valid results, we shall remove the largest houses from the dataframe with houses until we are within 1% of the average area value for apartments. We will then measure average rent and see if we get similar results."
   ]
  },
  {
   "cell_type": "code",
   "execution_count": 114,
   "metadata": {
    "papermill": {
     "duration": 0.595324,
     "end_time": "2021-06-27T10:55:27.752533",
     "exception": false,
     "start_time": "2021-06-27T10:55:27.157209",
     "status": "completed"
    },
    "tags": []
   },
   "outputs": [
    {
     "name": "stdout",
     "output_type": "stream",
     "text": [
      "Difference in area 1.0344315116153382\n",
      "Difference in rent -675.6673351432155\n"
     ]
    }
   ],
   "source": [
    "houses_df = training_dataset[training_dataset[\"floor\"] == 0].sort_values(\"area\", ascending=False)\n",
    "avg_houses_area = houses_df[\"area\"].mean()\n",
    "aps_df = training_dataset[training_dataset[\"floor\"] > 0]\n",
    "avg_aps_area = aps_df[\"area\"].mean()\n",
    "avg_aps_rent = aps_df[\"rent amount (R$)\"].mean()\n",
    "\n",
    "one_perc = 1.01 * avg_aps_area\n",
    "while avg_houses_area > one_perc:\n",
    "    first_index = houses_df.index[0]\n",
    "    houses_df.drop(first_index, inplace=True)\n",
    "    avg_houses_area = houses_df[\"area\"].mean()\n",
    "avg_houses_rent = houses_df[\"rent amount (R$)\"].mean()\n",
    "print(f\"Difference in area {avg_houses_area - avg_aps_area}\")\n",
    "rent_diff = avg_houses_rent - avg_aps_rent\n",
    "print(f\"Difference in rent {rent_diff}\")"
   ]
  },
  {
   "cell_type": "markdown",
   "metadata": {
    "execution": {
     "iopub.execute_input": "2021-06-23T19:10:07.517861Z",
     "iopub.status.busy": "2021-06-23T19:10:07.517425Z",
     "iopub.status.idle": "2021-06-23T19:10:07.523914Z",
     "shell.execute_reply": "2021-06-23T19:10:07.523037Z",
     "shell.execute_reply.started": "2021-06-23T19:10:07.517826Z"
    },
    "papermill": {
     "duration": 0.111104,
     "end_time": "2021-06-27T10:55:27.971756",
     "exception": false,
     "start_time": "2021-06-27T10:55:27.860652",
     "status": "completed"
    },
    "tags": []
   },
   "source": [
    "As you can see, despite having similar average areas, the difference between houses and apartments is quite large. Let's check whether this value is statistically significant or not by conducting a two-tailed hypothesis test. Since we haven't specifically used the 'floor' column, we will make a custom one which will denote whether the observation is an apartment or a house. 1 is going to denote if an observation is an apartment, and 0 if the observation is a house."
   ]
  },
  {
   "cell_type": "code",
   "execution_count": 115,
   "metadata": {
    "papermill": {
     "duration": 0.119549,
     "end_time": "2021-06-27T10:55:28.202027",
     "exception": false,
     "start_time": "2021-06-27T10:55:28.082478",
     "status": "completed"
    },
    "tags": []
   },
   "outputs": [],
   "source": [
    "floor_df = pd.concat([houses_df, aps_df])\n",
    "floor_df[\"floor_bool\"] = floor_df[\"floor\"] > 0\n",
    "floor_df[\"floor_bool\"] = floor_df[\"floor_bool\"].astype(int)"
   ]
  },
  {
   "cell_type": "code",
   "execution_count": 116,
   "metadata": {
    "papermill": {
     "duration": 7.940416,
     "end_time": "2021-06-27T10:55:36.250430",
     "exception": false,
     "start_time": "2021-06-27T10:55:28.310014",
     "status": "completed"
    },
    "tags": []
   },
   "outputs": [],
   "source": [
    "np.random.seed(10)\n",
    "n = 1000\n",
    "sim_stats = []\n",
    "for i in range(n):\n",
    "    floor_copy = floor_df.copy()\n",
    "    shuffled_labels =  pd.DataFrame(floor_copy[\"floor_bool\"].values, index=np.random.permutation(floor_copy.index), columns=[\"shuffled_floor_bool\"])\n",
    "    floor_copy = floor_copy.merge(shuffled_labels, left_index=True, right_index=True)\n",
    "    means = floor_copy.groupby(\"shuffled_floor_bool\").mean()[\"rent amount (R$)\"].values.tolist()\n",
    "    sim_stats.append(means[0] - means[1])"
   ]
  },
  {
   "cell_type": "code",
   "execution_count": 117,
   "metadata": {
    "papermill": {
     "duration": 0.116518,
     "end_time": "2021-06-27T10:55:36.474315",
     "exception": false,
     "start_time": "2021-06-27T10:55:36.357797",
     "status": "completed"
    },
    "tags": []
   },
   "outputs": [
    {
     "data": {
      "text/plain": [
       "0.0"
      ]
     },
     "execution_count": 117,
     "metadata": {},
     "output_type": "execute_result"
    }
   ],
   "source": [
    "counter = 0\n",
    "for sim in sim_stats:\n",
    "    if abs(rent_diff) <= abs(sim):\n",
    "        counter += 1\n",
    "counter / n"
   ]
  },
  {
   "cell_type": "markdown",
   "metadata": {
    "papermill": {
     "duration": 0.111367,
     "end_time": "2021-06-27T10:55:36.696971",
     "exception": false,
     "start_time": "2021-06-27T10:55:36.585604",
     "status": "completed"
    },
    "tags": []
   },
   "source": [
    "As you can see, our p-value is 0, meaning that we have strong evidence that the type of the observation does affect the rent amount. As such, we will keep the feature \"floor_bool\" in our training dataset and use it when training our model.\n",
    "\n",
    "We are almost done with this column. Another thing I am curious about is whether the floor value affects the rent amount in apartments **only**. The reason why there could possibly be a positive correlation is because a higher floor could lead towards better views, making the apartment more attractive for potential tenants. Let's check for this using our dataset."
   ]
  },
  {
   "cell_type": "code",
   "execution_count": 118,
   "metadata": {
    "papermill": {
     "duration": 0.125028,
     "end_time": "2021-06-27T10:55:36.930437",
     "exception": false,
     "start_time": "2021-06-27T10:55:36.805409",
     "status": "completed"
    },
    "tags": []
   },
   "outputs": [
    {
     "data": {
      "text/html": [
       "<div>\n",
       "<style scoped>\n",
       "    .dataframe tbody tr th:only-of-type {\n",
       "        vertical-align: middle;\n",
       "    }\n",
       "\n",
       "    .dataframe tbody tr th {\n",
       "        vertical-align: top;\n",
       "    }\n",
       "\n",
       "    .dataframe thead th {\n",
       "        text-align: right;\n",
       "    }\n",
       "</style>\n",
       "<table border=\"1\" class=\"dataframe\">\n",
       "  <thead>\n",
       "    <tr style=\"text-align: right;\">\n",
       "      <th></th>\n",
       "      <th>floor</th>\n",
       "      <th>rent amount (R$)</th>\n",
       "    </tr>\n",
       "  </thead>\n",
       "  <tbody>\n",
       "    <tr>\n",
       "      <th>floor</th>\n",
       "      <td>1.000000</td>\n",
       "      <td>0.251611</td>\n",
       "    </tr>\n",
       "    <tr>\n",
       "      <th>rent amount (R$)</th>\n",
       "      <td>0.251611</td>\n",
       "      <td>1.000000</td>\n",
       "    </tr>\n",
       "  </tbody>\n",
       "</table>\n",
       "</div>"
      ],
      "text/plain": [
       "                     floor  rent amount (R$)\n",
       "floor             1.000000          0.251611\n",
       "rent amount (R$)  0.251611          1.000000"
      ]
     },
     "execution_count": 118,
     "metadata": {},
     "output_type": "execute_result"
    }
   ],
   "source": [
    "aps_df = training_dataset[training_dataset[\"floor\"] > 0]\n",
    "aps_df[[\"floor\", \"rent amount (R$)\"]].corr()"
   ]
  },
  {
   "cell_type": "code",
   "execution_count": 119,
   "metadata": {
    "papermill": {
     "duration": 0.320749,
     "end_time": "2021-06-27T10:55:37.362420",
     "exception": false,
     "start_time": "2021-06-27T10:55:37.041671",
     "status": "completed"
    },
    "tags": []
   },
   "outputs": [
    {
     "data": {
      "text/plain": [
       "<AxesSubplot:xlabel='floor', ylabel='rent amount (R$)'>"
      ]
     },
     "execution_count": 119,
     "metadata": {},
     "output_type": "execute_result"
    },
    {
     "data": {
      "image/png": "[encoded data removed]",
      "text/plain": [
       "<Figure size 432x288 with 1 Axes>"
      ]
     },
     "metadata": {},
     "output_type": "display_data"
    }
   ],
   "source": [
    "sns.scatterplot(x=\"floor\", y=\"rent amount (R$)\", data=aps_df)"
   ]
  },
  {
   "cell_type": "markdown",
   "metadata": {
    "papermill": {
     "duration": 0.110785,
     "end_time": "2021-06-27T10:55:37.582495",
     "exception": false,
     "start_time": "2021-06-27T10:55:37.471710",
     "status": "completed"
    },
    "tags": []
   },
   "source": [
    "Based on the above scatterplot and table, we can see that the correlation between the 'floor' column and 'rent amount (R$)' is quite weak and is not worth including into our model. As such, we will drop the 'floor' column and only include the new 'floor_bool' feature."
   ]
  },
  {
   "cell_type": "code",
   "execution_count": 120,
   "metadata": {
    "papermill": {
     "duration": 0.123566,
     "end_time": "2021-06-27T10:55:37.820106",
     "exception": false,
     "start_time": "2021-06-27T10:55:37.696540",
     "status": "completed"
    },
    "tags": []
   },
   "outputs": [],
   "source": [
    "X_train[\"floor_bool\"] = X_train[\"floor\"] > 0\n",
    "X_train[\"floor_bool\"] = X_train[\"floor_bool\"].astype(int)\n",
    "X_test[\"floor_bool\"] = X_test[\"floor\"] > 0\n",
    "X_test[\"floor_bool\"] = X_test[\"floor_bool\"].astype(int)"
   ]
  },
  {
   "cell_type": "code",
   "execution_count": 121,
   "metadata": {
    "papermill": {
     "duration": 0.123318,
     "end_time": "2021-06-27T10:55:38.053886",
     "exception": false,
     "start_time": "2021-06-27T10:55:37.930568",
     "status": "completed"
    },
    "tags": []
   },
   "outputs": [],
   "source": [
    "X_train.drop(\"floor\", axis=1, inplace=True)\n",
    "X_test.drop(\"floor\", axis=1, inplace=True)"
   ]
  },
  {
   "cell_type": "markdown",
   "metadata": {
    "papermill": {
     "duration": 0.112474,
     "end_time": "2021-06-27T10:55:38.277890",
     "exception": false,
     "start_time": "2021-06-27T10:55:38.165416",
     "status": "completed"
    },
    "tags": []
   },
   "source": [
    "**The 'animal' column**:\n",
    "\n",
    "The 'animal' column indicates whether the potential tenant can bring an animal into the house/apartment. It is not immediately clear whether this column will have a strong effect on the rent column, because not everyone owns pets or plans to in the future. As such, let's take a close look at the data to determine whether this column needs to be a feature in our model."
   ]
  },
  {
   "cell_type": "code",
   "execution_count": 122,
   "metadata": {
    "papermill": {
     "duration": 0.346147,
     "end_time": "2021-06-27T10:55:38.734953",
     "exception": false,
     "start_time": "2021-06-27T10:55:38.388806",
     "status": "completed"
    },
    "tags": []
   },
   "outputs": [
    {
     "data": {
      "image/png": "[encoded data removed]",
      "text/plain": [
       "<Figure size 864x432 with 2 Axes>"
      ]
     },
     "metadata": {},
     "output_type": "display_data"
    }
   ],
   "source": [
    "fig, axs = plt.subplots(1, 2, figsize=(12,6))\n",
    "sns.barplot(data=training_dataset[[\"animal\", \"rent amount (R$)\"]].groupby(\"animal\").mean().reset_index(), y=\"rent amount (R$)\", x=\"animal\", ax=axs[0])\n",
    "axs[0].set_title(\"Average rent for apartments which allow/disallow animals\")\n",
    "sns.countplot(data=training_dataset, x=\"animal\", ax=axs[1])\n",
    "axs[1].set_title(\"No. animal-friendly/unfriendly apartments in the dataset\")\n",
    "plt.show()"
   ]
  },
  {
   "cell_type": "code",
   "execution_count": 123,
   "metadata": {
    "papermill": {
     "duration": 0.128565,
     "end_time": "2021-06-27T10:55:38.975417",
     "exception": false,
     "start_time": "2021-06-27T10:55:38.846852",
     "status": "completed"
    },
    "tags": []
   },
   "outputs": [
    {
     "data": {
      "text/html": [
       "<div>\n",
       "<style scoped>\n",
       "    .dataframe tbody tr th:only-of-type {\n",
       "        vertical-align: middle;\n",
       "    }\n",
       "\n",
       "    .dataframe tbody tr th {\n",
       "        vertical-align: top;\n",
       "    }\n",
       "\n",
       "    .dataframe thead th {\n",
       "        text-align: right;\n",
       "    }\n",
       "</style>\n",
       "<table border=\"1\" class=\"dataframe\">\n",
       "  <thead>\n",
       "    <tr style=\"text-align: right;\">\n",
       "      <th></th>\n",
       "      <th>area</th>\n",
       "      <th>rooms</th>\n",
       "      <th>rent amount (R$)</th>\n",
       "    </tr>\n",
       "    <tr>\n",
       "      <th>animal</th>\n",
       "      <th></th>\n",
       "      <th></th>\n",
       "      <th></th>\n",
       "    </tr>\n",
       "  </thead>\n",
       "  <tbody>\n",
       "    <tr>\n",
       "      <th>0</th>\n",
       "      <td>107.528451</td>\n",
       "      <td>2.099579</td>\n",
       "      <td>3362.410432</td>\n",
       "    </tr>\n",
       "    <tr>\n",
       "      <th>1</th>\n",
       "      <td>147.055342</td>\n",
       "      <td>2.571099</td>\n",
       "      <td>3952.891161</td>\n",
       "    </tr>\n",
       "  </tbody>\n",
       "</table>\n",
       "</div>"
      ],
      "text/plain": [
       "              area     rooms  rent amount (R$)\n",
       "animal                                        \n",
       "0       107.528451  2.099579       3362.410432\n",
       "1       147.055342  2.571099       3952.891161"
      ]
     },
     "execution_count": 123,
     "metadata": {},
     "output_type": "execute_result"
    }
   ],
   "source": [
    "training_dataset[[\"area\", \"rooms\", \"rent amount (R$)\", \"animal\"]].groupby(\"animal\").mean()"
   ]
  },
  {
   "cell_type": "markdown",
   "metadata": {
    "papermill": {
     "duration": 0.112398,
     "end_time": "2021-06-27T10:55:39.202478",
     "exception": false,
     "start_time": "2021-06-27T10:55:39.090080",
     "status": "completed"
    },
    "tags": []
   },
   "source": [
    "The price difference is confirmed by both the plot and the table above; however, there's also a large difference in the mean 'area' measurements for the two categories, which could be the reason the prices are so different. As such, we will complete a similar investigation as previously and attempt to get similar areas for the two categories and measuring the difference in rent only then."
   ]
  },
  {
   "cell_type": "code",
   "execution_count": 124,
   "metadata": {
    "papermill": {
     "duration": 0.284172,
     "end_time": "2021-06-27T10:55:39.604316",
     "exception": false,
     "start_time": "2021-06-27T10:55:39.320144",
     "status": "completed"
    },
    "tags": []
   },
   "outputs": [],
   "source": [
    "animal_group = training_dataset[[\"area\", \"rooms\", \"rent amount (R$)\", \"animal\"]].groupby(\"animal\").get_group(1)\n",
    "animal_group.sort_values(\"area\", ascending=False, inplace=True)\n",
    "area_mean = animal_group[\"area\"].mean()\n",
    "while area_mean > 105:\n",
    "    animal_group = animal_group.iloc[1:]\n",
    "    area_mean = animal_group[\"area\"].mean()"
   ]
  },
  {
   "cell_type": "code",
   "execution_count": 125,
   "metadata": {
    "papermill": {
     "duration": 0.127382,
     "end_time": "2021-06-27T10:55:39.844272",
     "exception": false,
     "start_time": "2021-06-27T10:55:39.716890",
     "status": "completed"
    },
    "tags": []
   },
   "outputs": [
    {
     "name": "stdout",
     "output_type": "stream",
     "text": [
      "Difference in Area: 2.541625293380605\n"
     ]
    }
   ],
   "source": [
    "animal_table = training_dataset[[\"area\", \"rooms\", \"rent amount (R$)\", \"animal\"]].groupby(\"animal\").mean()\n",
    "no_animal_area = animal_table.loc[0, \"area\"]\n",
    "animal_area = animal_group[\"area\"].mean()\n",
    "print(f\"Difference in Area: {no_animal_area - animal_area}\")"
   ]
  },
  {
   "cell_type": "code",
   "execution_count": 126,
   "metadata": {
    "papermill": {
     "duration": 0.122951,
     "end_time": "2021-06-27T10:55:40.080861",
     "exception": false,
     "start_time": "2021-06-27T10:55:39.957910",
     "status": "completed"
    },
    "tags": []
   },
   "outputs": [
    {
     "name": "stdout",
     "output_type": "stream",
     "text": [
      "Difference in Rooms: -0.24865008808687605\n"
     ]
    }
   ],
   "source": [
    "no_animal_room = animal_table.loc[0, \"rooms\"]\n",
    "animal_room = animal_group[\"rooms\"].mean()\n",
    "print(f\"Difference in Rooms: {no_animal_room - animal_room}\")"
   ]
  },
  {
   "cell_type": "code",
   "execution_count": 127,
   "metadata": {
    "papermill": {
     "duration": 0.121495,
     "end_time": "2021-06-27T10:55:40.359978",
     "exception": false,
     "start_time": "2021-06-27T10:55:40.238483",
     "status": "completed"
    },
    "tags": []
   },
   "outputs": [
    {
     "name": "stdout",
     "output_type": "stream",
     "text": [
      "Difference in Rent: 133.8875550531252\n"
     ]
    }
   ],
   "source": [
    "no_animal_rent = animal_table.loc[0, \"rent amount (R$)\"]\n",
    "animal_rent = animal_group[\"rent amount (R$)\"].mean()\n",
    "animal_test_statistic = no_animal_rent - animal_rent\n",
    "print(f\"Difference in Rent: {animal_test_statistic}\")"
   ]
  },
  {
   "cell_type": "markdown",
   "metadata": {
    "papermill": {
     "duration": 0.112262,
     "end_time": "2021-06-27T10:55:40.587048",
     "exception": false,
     "start_time": "2021-06-27T10:55:40.474786",
     "status": "completed"
    },
    "tags": []
   },
   "source": [
    "As you can see, the difference has reduced by quite a bit; however, it is unclear whether this difference is statistically significant or not. To check for statistical signifiance, we will conduct another two-tailed hypothesis test. "
   ]
  },
  {
   "cell_type": "code",
   "execution_count": 128,
   "metadata": {
    "papermill": {
     "duration": 0.122288,
     "end_time": "2021-06-27T10:55:40.822206",
     "exception": false,
     "start_time": "2021-06-27T10:55:40.699918",
     "status": "completed"
    },
    "tags": []
   },
   "outputs": [],
   "source": [
    "no_animal_group = training_dataset[[\"area\", \"rooms\", \"rent amount (R$)\", \"animal\"]].groupby(\"animal\").get_group(0)\n",
    "total_animal = pd.concat([animal_group, no_animal_group])"
   ]
  },
  {
   "cell_type": "code",
   "execution_count": 129,
   "metadata": {
    "papermill": {
     "duration": 3.777506,
     "end_time": "2021-06-27T10:55:44.713153",
     "exception": false,
     "start_time": "2021-06-27T10:55:40.935647",
     "status": "completed"
    },
    "tags": []
   },
   "outputs": [],
   "source": [
    "np.random.seed(22)\n",
    "sim_data = []\n",
    "repetitions = 1000\n",
    "for i in range(repetitions):\n",
    "    animal_copy = total_animal.copy()\n",
    "    animal_copy[\"shuffled_labels\"] = pd.DataFrame(animal_copy[\"animal\"].values, index=np.random.permutation(animal_copy.index))\n",
    "    means = animal_copy.groupby(\"shuffled_labels\").mean()[\"rent amount (R$)\"].values.tolist()\n",
    "    diff = means[0] - means[1]\n",
    "    sim_data.append(diff)"
   ]
  },
  {
   "cell_type": "code",
   "execution_count": 130,
   "metadata": {
    "papermill": {
     "duration": 0.121289,
     "end_time": "2021-06-27T10:55:44.949942",
     "exception": false,
     "start_time": "2021-06-27T10:55:44.828653",
     "status": "completed"
    },
    "tags": []
   },
   "outputs": [
    {
     "data": {
      "text/plain": [
       "0.075"
      ]
     },
     "execution_count": 130,
     "metadata": {},
     "output_type": "execute_result"
    }
   ],
   "source": [
    "total = 0\n",
    "for sim in sim_data:\n",
    "    if abs(sim) > animal_test_statistic:\n",
    "        total += 1\n",
    "total / repetitions "
   ]
  },
  {
   "cell_type": "markdown",
   "metadata": {
    "papermill": {
     "duration": 0.113956,
     "end_time": "2021-06-27T10:55:45.180913",
     "exception": false,
     "start_time": "2021-06-27T10:55:45.066957",
     "status": "completed"
    },
    "tags": []
   },
   "source": [
    "The p-value that we obtained from our statistical experiment suggests that we have weak evidence for the hypothesis that our difference is statistically signifiance. In turn, this suggests that the 'animal' column should not be considered as a feature in our model, because it does not affect the target variable strongly."
   ]
  },
  {
   "cell_type": "code",
   "execution_count": 131,
   "metadata": {
    "papermill": {
     "duration": 0.122688,
     "end_time": "2021-06-27T10:55:45.421108",
     "exception": false,
     "start_time": "2021-06-27T10:55:45.298420",
     "status": "completed"
    },
    "tags": []
   },
   "outputs": [],
   "source": [
    "X_train.drop(\"animal\", axis=1, inplace=True)\n",
    "X_test.drop(\"animal\", axis=1, inplace=True)"
   ]
  },
  {
   "cell_type": "markdown",
   "metadata": {
    "papermill": {
     "duration": 0.112417,
     "end_time": "2021-06-27T10:55:45.646106",
     "exception": false,
     "start_time": "2021-06-27T10:55:45.533689",
     "status": "completed"
    },
    "tags": []
   },
   "source": [
    "**The 'furniture' column:**\n",
    "\n",
    "The furniture column indicates whether a partcular apartment is furnished or not. Logically, this column would positively correlate with the target variable, since an unfurnished apartment would require a potential tenant to purchase their own furniture, driving their total cost up. As such, they would not be willing to pay as much for an unfurnished apartment. On the other hand, though, an unfurnished apartment means that the tenant can design it to their liking, which might be more attractive to certain people. So, let's check whether this feature has any influence on the target variable."
   ]
  },
  {
   "cell_type": "code",
   "execution_count": 132,
   "metadata": {
    "papermill": {
     "duration": 0.237378,
     "end_time": "2021-06-27T10:55:45.996381",
     "exception": false,
     "start_time": "2021-06-27T10:55:45.759003",
     "status": "completed"
    },
    "tags": []
   },
   "outputs": [
    {
     "data": {
      "image/png": "[encoded data removed]",
      "text/plain": [
       "<Figure size 576x360 with 1 Axes>"
      ]
     },
     "metadata": {},
     "output_type": "display_data"
    }
   ],
   "source": [
    "fig, ax = plt.subplots(1, 1, figsize=(8,5))\n",
    "sns.barplot(data=training_dataset[[\"furniture\", \"rent amount (R$)\"]].groupby(\"furniture\").mean().reset_index(), y=\"rent amount (R$)\", x=\"furniture\") \n",
    "ax.set_title(\"Average rent for unfurnished/furnished apartments\")\n",
    "plt.show()"
   ]
  },
  {
   "cell_type": "code",
   "execution_count": 133,
   "metadata": {
    "papermill": {
     "duration": 0.130646,
     "end_time": "2021-06-27T10:55:46.241898",
     "exception": false,
     "start_time": "2021-06-27T10:55:46.111252",
     "status": "completed"
    },
    "tags": []
   },
   "outputs": [
    {
     "data": {
      "text/html": [
       "<div>\n",
       "<style scoped>\n",
       "    .dataframe tbody tr th:only-of-type {\n",
       "        vertical-align: middle;\n",
       "    }\n",
       "\n",
       "    .dataframe tbody tr th {\n",
       "        vertical-align: top;\n",
       "    }\n",
       "\n",
       "    .dataframe thead th {\n",
       "        text-align: right;\n",
       "    }\n",
       "</style>\n",
       "<table border=\"1\" class=\"dataframe\">\n",
       "  <thead>\n",
       "    <tr style=\"text-align: right;\">\n",
       "      <th></th>\n",
       "      <th>area</th>\n",
       "      <th>rooms</th>\n",
       "      <th>rent amount (R$)</th>\n",
       "    </tr>\n",
       "    <tr>\n",
       "      <th>furniture</th>\n",
       "      <th></th>\n",
       "      <th></th>\n",
       "      <th></th>\n",
       "    </tr>\n",
       "  </thead>\n",
       "  <tbody>\n",
       "    <tr>\n",
       "      <th>0</th>\n",
       "      <td>138.379332</td>\n",
       "      <td>2.509767</td>\n",
       "      <td>3487.079238</td>\n",
       "    </tr>\n",
       "    <tr>\n",
       "      <th>1</th>\n",
       "      <td>137.348905</td>\n",
       "      <td>2.325061</td>\n",
       "      <td>4846.439416</td>\n",
       "    </tr>\n",
       "  </tbody>\n",
       "</table>\n",
       "</div>"
      ],
      "text/plain": [
       "                 area     rooms  rent amount (R$)\n",
       "furniture                                        \n",
       "0          138.379332  2.509767       3487.079238\n",
       "1          137.348905  2.325061       4846.439416"
      ]
     },
     "execution_count": 133,
     "metadata": {},
     "output_type": "execute_result"
    }
   ],
   "source": [
    "training_dataset[[\"area\", \"rooms\", \"rent amount (R$)\", \"furniture\"]].groupby(\"furniture\").mean()"
   ]
  },
  {
   "cell_type": "markdown",
   "metadata": {
    "papermill": {
     "duration": 0.113073,
     "end_time": "2021-06-27T10:55:46.468347",
     "exception": false,
     "start_time": "2021-06-27T10:55:46.355274",
     "status": "completed"
    },
    "tags": []
   },
   "source": [
    "As you can see, there's a significant difference in the average rent amount between unfurnished and furnished apartments, even when the size of the apartments/houses is quite similar. Let's check whether this difference is statistically significant or not by conducting a two-tailed hypothesis test."
   ]
  },
  {
   "cell_type": "code",
   "execution_count": 134,
   "metadata": {
    "papermill": {
     "duration": 0.124749,
     "end_time": "2021-06-27T10:55:46.706241",
     "exception": false,
     "start_time": "2021-06-27T10:55:46.581492",
     "status": "completed"
    },
    "tags": []
   },
   "outputs": [],
   "source": [
    "furniture_means = training_dataset.groupby(\"furniture\").mean()[\"rent amount (R$)\"].values.tolist()\n",
    "test_statistic = furniture_means[0] - furniture_means[1]"
   ]
  },
  {
   "cell_type": "markdown",
   "metadata": {
    "papermill": {
     "duration": 0.114767,
     "end_time": "2021-06-27T10:55:46.935989",
     "exception": false,
     "start_time": "2021-06-27T10:55:46.821222",
     "status": "completed"
    },
    "tags": []
   },
   "source": [
    "Let's now simulate test statistics, assuming that furniture does not affect the price of a house/apartment, and compare our test statistic to the estimated sampling distribution."
   ]
  },
  {
   "cell_type": "code",
   "execution_count": 135,
   "metadata": {
    "papermill": {
     "duration": 4.923997,
     "end_time": "2021-06-27T10:55:51.974954",
     "exception": false,
     "start_time": "2021-06-27T10:55:47.050957",
     "status": "completed"
    },
    "tags": []
   },
   "outputs": [],
   "source": [
    "np.random.seed(33)\n",
    "sim_data = []\n",
    "repetitions = 1000\n",
    "for i in range(repetitions):\n",
    "    furniture_copy = training_dataset.copy()\n",
    "    furniture_copy[\"shuffled_labels\"] = pd.DataFrame(furniture_copy[\"furniture\"].values, index=np.random.permutation(furniture_copy.index))\n",
    "    means = furniture_copy.groupby(\"shuffled_labels\").mean()[\"rent amount (R$)\"].values.tolist()\n",
    "    diff = means[0] - means[1]\n",
    "    sim_data.append(diff)"
   ]
  },
  {
   "cell_type": "code",
   "execution_count": 136,
   "metadata": {
    "papermill": {
     "duration": 0.131117,
     "end_time": "2021-06-27T10:55:52.223536",
     "exception": false,
     "start_time": "2021-06-27T10:55:52.092419",
     "status": "completed"
    },
    "tags": []
   },
   "outputs": [
    {
     "data": {
      "text/plain": [
       "0.0"
      ]
     },
     "execution_count": 136,
     "metadata": {},
     "output_type": "execute_result"
    }
   ],
   "source": [
    "total = 0\n",
    "for sim in sim_data:\n",
    "    if sim > abs(test_statistic) or sim < test_statistic:\n",
    "        total += 1\n",
    "total / 1000"
   ]
  },
  {
   "cell_type": "markdown",
   "metadata": {
    "papermill": {
     "duration": 0.113829,
     "end_time": "2021-06-27T10:55:52.453295",
     "exception": false,
     "start_time": "2021-06-27T10:55:52.339466",
     "status": "completed"
    },
    "tags": []
   },
   "source": [
    "After conducting the experiment, we received a p-value of 0, which means that our initial difference is statistically significant. From this, we can conclude that the 'furniture' column affects the target variable and should become a feature in our model.\n",
    "\n",
    "### Model-Building\n",
    "\n",
    "Now, we will begin building our model. In order to build this model, we are going to be using the Random Forest Regressor. I think the RFR model is the most appropriate in this case, because the relationships that we saw in our model aren't linear and are quite spread out, and the RFR model will best adapt to this. It is also an ensemble of Random Tree models, which will drive up our accuracy, since it will have a wide range of models making the predictions. Let's begin by training the model.\n",
    "\n",
    "At first, we are going to use the default parameters of the model; however, we will optimize it later in order to obtain better results."
   ]
  },
  {
   "cell_type": "code",
   "execution_count": 137,
   "metadata": {
    "papermill": {
     "duration": 1.476118,
     "end_time": "2021-06-27T10:55:54.043840",
     "exception": false,
     "start_time": "2021-06-27T10:55:52.567722",
     "status": "completed"
    },
    "tags": []
   },
   "outputs": [
    {
     "data": {
      "text/plain": [
       "RandomForestRegressor(random_state=15)"
      ]
     },
     "execution_count": 137,
     "metadata": {},
     "output_type": "execute_result"
    }
   ],
   "source": [
    "init_model = RandomForestRegressor(random_state=15)\n",
    "init_model.fit(X_train, y_train)"
   ]
  },
  {
   "cell_type": "code",
   "execution_count": 138,
   "metadata": {
    "papermill": {
     "duration": 0.187838,
     "end_time": "2021-06-27T10:55:54.346947",
     "exception": false,
     "start_time": "2021-06-27T10:55:54.159109",
     "status": "completed"
    },
    "tags": []
   },
   "outputs": [
    {
     "data": {
      "text/plain": [
       "1379.4263137377511"
      ]
     },
     "execution_count": 138,
     "metadata": {},
     "output_type": "execute_result"
    }
   ],
   "source": [
    "init_predictions = init_model.predict(X_test)\n",
    "mean_absolute_error(init_predictions, y_test)"
   ]
  },
  {
   "cell_type": "code",
   "execution_count": 139,
   "metadata": {
    "papermill": {
     "duration": 0.123814,
     "end_time": "2021-06-27T10:55:54.584688",
     "exception": false,
     "start_time": "2021-06-27T10:55:54.460874",
     "status": "completed"
    },
    "tags": []
   },
   "outputs": [
    {
     "data": {
      "text/plain": [
       "3819.5182672854935"
      ]
     },
     "execution_count": 139,
     "metadata": {},
     "output_type": "execute_result"
    }
   ],
   "source": [
    "y_train[\"rent amount (R$)\"].mean()"
   ]
  },
  {
   "cell_type": "markdown",
   "metadata": {
    "papermill": {
     "duration": 0.115687,
     "end_time": "2021-06-27T10:55:54.814170",
     "exception": false,
     "start_time": "2021-06-27T10:55:54.698483",
     "status": "completed"
    },
    "tags": []
   },
   "source": [
    "Our initial model with default parameters has a mean absolute error of about 1380 BRL, which is quite a lot, especially considering that the mean of the target variable in our training data is only abour 3820 BRL. Let's try optimizing the model in order to obtain better results.\n",
    "\n",
    "We will begin optimizing the model by changing the main parameter, the number of estimators. We will increment the number of estimators by 10 starting from 10 estimators and go up to 500 estimators. We will measure the accuracy of the model with different amount of estimators and see the optimal amount of estimators for our model. "
   ]
  },
  {
   "cell_type": "code",
   "execution_count": 140,
   "metadata": {
    "papermill": {
     "duration": 180.024665,
     "end_time": "2021-06-27T10:58:54.955175",
     "exception": false,
     "start_time": "2021-06-27T10:55:54.930510",
     "status": "completed"
    },
    "tags": []
   },
   "outputs": [],
   "source": [
    "n_estimators = 10\n",
    "estimators_list = []\n",
    "accuracy_list = []\n",
    "while n_estimators <= 500:\n",
    "    rfr_model = RandomForestRegressor(n_estimators=n_estimators, random_state=15)\n",
    "    rfr_model.fit(X_train, y_train)\n",
    "    predictions = rfr_model.predict(X_test)\n",
    "    accuracy_list.append(mean_absolute_error(predictions, y_test))\n",
    "    estimators_list.append(n_estimators)\n",
    "    n_estimators += 10"
   ]
  },
  {
   "cell_type": "code",
   "execution_count": 141,
   "metadata": {
    "papermill": {
     "duration": 0.290325,
     "end_time": "2021-06-27T10:58:55.364164",
     "exception": false,
     "start_time": "2021-06-27T10:58:55.073839",
     "status": "completed"
    },
    "tags": []
   },
   "outputs": [
    {
     "data": {
      "text/plain": [
       "[Text(0.5, 1.0, 'Accuracy of RFR with Different Amount of Estimators')]"
      ]
     },
     "execution_count": 141,
     "metadata": {},
     "output_type": "execute_result"
    },
    {
     "data": {
      "image/png": "[encoded data removed]",
      "text/plain": [
       "<Figure size 432x288 with 1 Axes>"
      ]
     },
     "metadata": {},
     "output_type": "display_data"
    }
   ],
   "source": [
    "sns.lineplot(x=estimators_list, y=accuracy_list).set(title=\"Accuracy of RFR with Different Amount of Estimators\")"
   ]
  },
  {
   "cell_type": "markdown",
   "metadata": {
    "papermill": {
     "duration": 0.115763,
     "end_time": "2021-06-27T10:58:55.596117",
     "exception": false,
     "start_time": "2021-06-27T10:58:55.480354",
     "status": "completed"
    },
    "tags": []
   },
   "source": [
    "As you can see on the above plot, the inaccuracy of the model decreases as we increase the number of estimators; however, closer to the 400 mark, it dips and we get the most accurate model. Let's find the number of estimators where the inaccuracy is the least in our model."
   ]
  },
  {
   "cell_type": "code",
   "execution_count": 142,
   "metadata": {
    "papermill": {
     "duration": 0.123269,
     "end_time": "2021-06-27T10:58:55.834915",
     "exception": false,
     "start_time": "2021-06-27T10:58:55.711646",
     "status": "completed"
    },
    "tags": []
   },
   "outputs": [
    {
     "data": {
      "text/plain": [
       "1372.1614016404744"
      ]
     },
     "execution_count": 142,
     "metadata": {},
     "output_type": "execute_result"
    }
   ],
   "source": [
    "min_accuracy = accuracy_list[0]\n",
    "min_index = 0\n",
    "for index, accuracy in enumerate(accuracy_list):\n",
    "    if accuracy < min_accuracy:\n",
    "        min_index = index\n",
    "        min_accuracy = accuracy\n",
    "min_accuracy"
   ]
  },
  {
   "cell_type": "code",
   "execution_count": 143,
   "metadata": {
    "papermill": {
     "duration": 0.125581,
     "end_time": "2021-06-27T10:58:56.079779",
     "exception": false,
     "start_time": "2021-06-27T10:58:55.954198",
     "status": "completed"
    },
    "tags": []
   },
   "outputs": [
    {
     "data": {
      "text/plain": [
       "390"
      ]
     },
     "execution_count": 143,
     "metadata": {},
     "output_type": "execute_result"
    }
   ],
   "source": [
    "n_estimators_optimal = estimators_list[min_index]\n",
    "n_estimators_optimal"
   ]
  },
  {
   "cell_type": "markdown",
   "metadata": {
    "papermill": {
     "duration": 0.116356,
     "end_time": "2021-06-27T10:58:56.312489",
     "exception": false,
     "start_time": "2021-06-27T10:58:56.196133",
     "status": "completed"
    },
    "tags": []
   },
   "source": [
    "Now that we determined the optimal amount of estimators, we can also optimize the maximum depth of a tree. We are going to start with maximum depth of 10 and increase it by 10 until we reach 200. Throughout this process, we are going to continue using 400 number of estimators."
   ]
  },
  {
   "cell_type": "code",
   "execution_count": 144,
   "metadata": {
    "papermill": {
     "duration": 105.962414,
     "end_time": "2021-06-27T11:00:42.390945",
     "exception": false,
     "start_time": "2021-06-27T10:58:56.428531",
     "status": "completed"
    },
    "tags": []
   },
   "outputs": [],
   "source": [
    "max_depth_list = []\n",
    "accuracy_list = []\n",
    "max_depth = 10\n",
    "while max_depth <= 200:\n",
    "    rfr_model = RandomForestRegressor(n_estimators=n_estimators_optimal, max_depth=max_depth, random_state=15)\n",
    "    rfr_model.fit(X_train, y_train)\n",
    "    predictions = rfr_model.predict(X_test)\n",
    "    accuracy_list.append(mean_absolute_error(predictions, y_test))\n",
    "    max_depth_list.append(max_depth)\n",
    "    max_depth += 10"
   ]
  },
  {
   "cell_type": "code",
   "execution_count": 145,
   "metadata": {
    "papermill": {
     "duration": 0.29819,
     "end_time": "2021-06-27T11:00:42.805961",
     "exception": false,
     "start_time": "2021-06-27T11:00:42.507771",
     "status": "completed"
    },
    "tags": []
   },
   "outputs": [
    {
     "data": {
      "text/plain": [
       "<AxesSubplot:>"
      ]
     },
     "execution_count": 145,
     "metadata": {},
     "output_type": "execute_result"
    },
    {
     "data": {
      "image/png": "[encoded data removed]",
      "text/plain": [
       "<Figure size 432x288 with 1 Axes>"
      ]
     },
     "metadata": {},
     "output_type": "display_data"
    }
   ],
   "source": [
    "sns.lineplot(x=max_depth_list, y=accuracy_list)"
   ]
  },
  {
   "cell_type": "markdown",
   "metadata": {
    "papermill": {
     "duration": 0.116124,
     "end_time": "2021-06-27T11:00:43.037800",
     "exception": false,
     "start_time": "2021-06-27T11:00:42.921676",
     "status": "completed"
    },
    "tags": []
   },
   "source": [
    "As you can see, we are better off having a relatively low value for maximum depth, because as soon as we increase it beyond around 10 or 15, the inaccuracy of our model greatly increases. Let's find what our maximum depth should be in order to ensure the best results for the model."
   ]
  },
  {
   "cell_type": "code",
   "execution_count": 146,
   "metadata": {
    "papermill": {
     "duration": 0.125824,
     "end_time": "2021-06-27T11:00:43.279432",
     "exception": false,
     "start_time": "2021-06-27T11:00:43.153608",
     "status": "completed"
    },
    "tags": []
   },
   "outputs": [
    {
     "data": {
      "text/plain": [
       "1295.679563058977"
      ]
     },
     "execution_count": 146,
     "metadata": {},
     "output_type": "execute_result"
    }
   ],
   "source": [
    "min_accuracy = accuracy_list[0]\n",
    "min_index = 0\n",
    "for index, accuracy in enumerate(accuracy_list):\n",
    "    if accuracy < min_accuracy:\n",
    "        min_index = index\n",
    "        min_accuracy = accuracy\n",
    "min_accuracy"
   ]
  },
  {
   "cell_type": "code",
   "execution_count": 147,
   "metadata": {
    "papermill": {
     "duration": 0.124857,
     "end_time": "2021-06-27T11:00:43.521548",
     "exception": false,
     "start_time": "2021-06-27T11:00:43.396691",
     "status": "completed"
    },
    "tags": []
   },
   "outputs": [
    {
     "data": {
      "text/plain": [
       "10"
      ]
     },
     "execution_count": 147,
     "metadata": {},
     "output_type": "execute_result"
    }
   ],
   "source": [
    "max_depth_optimal = max_depth_list[min_index]\n",
    "max_depth_optimal"
   ]
  },
  {
   "cell_type": "markdown",
   "metadata": {
    "papermill": {
     "duration": 0.117642,
     "end_time": "2021-06-27T11:00:43.757483",
     "exception": false,
     "start_time": "2021-06-27T11:00:43.639841",
     "status": "completed"
    },
    "tags": []
   },
   "source": [
    "The optmal maximum depth of the trees in our Random Forest model is 10. By having this maximum depth, we have improved our model by a substantial amount, showing the importance of this parameter and optimization in general. Let's now build our final model and get our set of predictions for the test dataset with it."
   ]
  },
  {
   "cell_type": "code",
   "execution_count": 148,
   "metadata": {
    "papermill": {
     "duration": 3.607827,
     "end_time": "2021-06-27T11:00:47.483748",
     "exception": false,
     "start_time": "2021-06-27T11:00:43.875921",
     "status": "completed"
    },
    "tags": []
   },
   "outputs": [
    {
     "data": {
      "text/plain": [
       "RandomForestRegressor(max_depth=10, n_estimators=390, random_state=15)"
      ]
     },
     "execution_count": 148,
     "metadata": {},
     "output_type": "execute_result"
    }
   ],
   "source": [
    "final_model = RandomForestRegressor(n_estimators=n_estimators_optimal, max_depth=max_depth_optimal, random_state=15)\n",
    "final_model.fit(X_train, y_train)"
   ]
  },
  {
   "cell_type": "code",
   "execution_count": 149,
   "metadata": {
    "papermill": {
     "duration": 0.255031,
     "end_time": "2021-06-27T11:00:47.864107",
     "exception": false,
     "start_time": "2021-06-27T11:00:47.609076",
     "status": "completed"
    },
    "tags": []
   },
   "outputs": [
    {
     "data": {
      "text/plain": [
       "1295.679563058977"
      ]
     },
     "execution_count": 149,
     "metadata": {},
     "output_type": "execute_result"
    }
   ],
   "source": [
    "final_predictions = final_model.predict(X_test)\n",
    "mean_absolute_error(final_predictions, y_test)"
   ]
  },
  {
   "cell_type": "markdown",
   "metadata": {
    "papermill": {
     "duration": 0.121073,
     "end_time": "2021-06-27T11:00:48.105023",
     "exception": false,
     "start_time": "2021-06-27T11:00:47.983950",
     "status": "completed"
    },
    "tags": []
   },
   "source": [
    "### Looking at Accuracy in More Detail\n",
    "\n",
    "As we saw previously during our analysis, our data's distribution is quite wide, and our dataset contains houses/apartments which range from low-class to high-class housing. As such, perhaps our model performs differently across these different classes and is better at predicting the rent of particular apartments. Let's check whether this is true by using a clustering algorithm to classify the observations and  the accuracy of our model for each of these clusters individually. \n",
    "\n",
    "We are going to be using the KMeans algorithm to cluster our data. We will split the observations into three groups: low-class housing, medium-class housing, and, finally, high-class housing. Let's start by initializing the clustering model and training it on our data."
   ]
  },
  {
   "cell_type": "code",
   "execution_count": 150,
   "metadata": {
    "papermill": {
     "duration": 1.401979,
     "end_time": "2021-06-27T11:00:49.626576",
     "exception": false,
     "start_time": "2021-06-27T11:00:48.224597",
     "status": "completed"
    },
    "tags": []
   },
   "outputs": [
    {
     "data": {
      "text/plain": [
       "KMeans(n_clusters=3, random_state=33)"
      ]
     },
     "execution_count": 150,
     "metadata": {},
     "output_type": "execute_result"
    }
   ],
   "source": [
    "k_means = KMeans(n_clusters=3, random_state=33)\n",
    "training_dataset = X_train.merge(y_train, left_index=True, right_index=True)\n",
    "k_means.fit(training_dataset)"
   ]
  },
  {
   "cell_type": "markdown",
   "metadata": {
    "papermill": {
     "duration": 0.118149,
     "end_time": "2021-06-27T11:00:49.863825",
     "exception": false,
     "start_time": "2021-06-27T11:00:49.745676",
     "status": "completed"
    },
    "tags": []
   },
   "source": [
    "We will now analyze the clusters that were created to see if we can gain insight into the data and ensure that the algorithm worked as we planned."
   ]
  },
  {
   "cell_type": "code",
   "execution_count": 151,
   "metadata": {
    "papermill": {
     "duration": 0.128999,
     "end_time": "2021-06-27T11:00:50.112146",
     "exception": false,
     "start_time": "2021-06-27T11:00:49.983147",
     "status": "completed"
    },
    "tags": []
   },
   "outputs": [],
   "source": [
    "training_dataset[\"labels\"] = pd.DataFrame(k_means.labels_, index=training_dataset.index)"
   ]
  },
  {
   "cell_type": "code",
   "execution_count": 152,
   "metadata": {
    "papermill": {
     "duration": 0.133974,
     "end_time": "2021-06-27T11:00:50.365194",
     "exception": false,
     "start_time": "2021-06-27T11:00:50.231220",
     "status": "completed"
    },
    "tags": []
   },
   "outputs": [],
   "source": [
    "area_table = training_dataset.groupby(\"labels\").mean()[\"area\"]\n",
    "rent_table = training_dataset.groupby(\"labels\").mean()[\"rent amount (R$)\"]"
   ]
  },
  {
   "cell_type": "code",
   "execution_count": 153,
   "metadata": {
    "papermill": {
     "duration": 0.488945,
     "end_time": "2021-06-27T11:00:50.972401",
     "exception": false,
     "start_time": "2021-06-27T11:00:50.483456",
     "status": "completed"
    },
    "tags": []
   },
   "outputs": [
    {
     "data": {
      "image/png": "[encoded data removed]",
      "text/plain": [
       "<Figure size 1440x576 with 3 Axes>"
      ]
     },
     "metadata": {},
     "output_type": "display_data"
    }
   ],
   "source": [
    "fig, axs = plt.subplots(1, 3, figsize=(20, 8))\n",
    "sns.countplot(x=\"labels\", data=training_dataset, ax=axs[0]).set(title=\"Count of Each Cluster\")\n",
    "sns.barplot(x=area_table.index, y=area_table.values, ax=axs[1]).set(title=\"Average Area of Each Cluster\", xlabel=\"cluster\", ylabel=\"Area\")\n",
    "sns.barplot(x=rent_table.index, y=rent_table.values, ax=axs[2]).set(title=\"Average Rent of Each Cluster\", xlabel=\"cluster\", ylabel=\"Rent\")\n",
    "plt.suptitle(\"Cluster Analysis\")\n",
    "plt.show()"
   ]
  },
  {
   "cell_type": "markdown",
   "metadata": {
    "papermill": {
     "duration": 0.130976,
     "end_time": "2021-06-27T11:00:51.233238",
     "exception": false,
     "start_time": "2021-06-27T11:00:51.102262",
     "status": "completed"
    },
    "tags": []
   },
   "source": [
    "Based on the plots above, we can see that most of the data is located in the 1st cluster, which also contains the smallest and least expensive apartments. This support our earlier distributions, where we saw that a majority of apartments were relatively small and inexpensive. Clearly, the 1 cluster represents the low-class housing on the Brazilian market. The houses/apartments in the 2nd cluster are on average bigger and more expensive than the houses/apartments in the 1st cluster. This cluster represents medium-class housing. Finally, we have the 0th cluster, which contains the largest and most expensive apartments/houses of our dataset; logically, the 2nd cluster contains high-class housing. These clear distinctions between the clusters indicate that the clustering algorithm worked as intended, and we can continue with our analysis.\n",
    "\n",
    "We will now use the clustering algorithm to classify the testing dataset and use the predictions from earlier in order to measure the accuracy of each cluster individually. "
   ]
  },
  {
   "cell_type": "code",
   "execution_count": 154,
   "metadata": {
    "papermill": {
     "duration": 0.148549,
     "end_time": "2021-06-27T11:00:51.504017",
     "exception": false,
     "start_time": "2021-06-27T11:00:51.355468",
     "status": "completed"
    },
    "tags": []
   },
   "outputs": [],
   "source": [
    "testing_dataset = X_test.merge(y_test, left_index=True, right_index=True)\n",
    "test_labels = k_means.predict(testing_dataset)\n",
    "testing_dataset[\"labels\"] = pd.DataFrame(test_labels, index=testing_dataset.index)\n",
    "testing_dataset[\"predictions\"] = pd.DataFrame(final_predictions, index=testing_dataset.index)\n",
    "testing_dataset[\"inaccuracy\"] = abs(testing_dataset[\"rent amount (R$)\"] - testing_dataset[\"predictions\"])"
   ]
  },
  {
   "cell_type": "code",
   "execution_count": 155,
   "metadata": {
    "papermill": {
     "duration": 0.135755,
     "end_time": "2021-06-27T11:00:51.763115",
     "exception": false,
     "start_time": "2021-06-27T11:00:51.627360",
     "status": "completed"
    },
    "tags": []
   },
   "outputs": [],
   "source": [
    "inaccuracy_table = testing_dataset.groupby(\"labels\").mean()[\"inaccuracy\"]"
   ]
  },
  {
   "cell_type": "code",
   "execution_count": 156,
   "metadata": {
    "papermill": {
     "duration": 0.311791,
     "end_time": "2021-06-27T11:00:52.196177",
     "exception": false,
     "start_time": "2021-06-27T11:00:51.884386",
     "status": "completed"
    },
    "tags": []
   },
   "outputs": [
    {
     "data": {
      "text/plain": [
       "[Text(0.5, 1.0, 'Average Inaccuracy in Each Cluster'),\n",
       " Text(0.5, 0, 'Cluster'),\n",
       " Text(0, 0.5, 'Inaccuracy')]"
      ]
     },
     "execution_count": 156,
     "metadata": {},
     "output_type": "execute_result"
    },
    {
     "data": {
      "image/png": "[encoded data removed]",
      "text/plain": [
       "<Figure size 432x288 with 1 Axes>"
      ]
     },
     "metadata": {},
     "output_type": "display_data"
    }
   ],
   "source": [
    "sns.barplot(x=inaccuracy_table.index, y=inaccuracy_table.values).set(title=\"Average Inaccuracy in Each Cluster\", xlabel=\"Cluster\", ylabel=\"Inaccuracy\")"
   ]
  },
  {
   "cell_type": "markdown",
   "metadata": {
    "papermill": {
     "duration": 0.122127,
     "end_time": "2021-06-27T11:00:52.478376",
     "exception": false,
     "start_time": "2021-06-27T11:00:52.356249",
     "status": "completed"
    },
    "tags": []
   },
   "source": [
    "The above barplot shows that the low-class housing cluster is the most accurate out of the three, with the medium-class housing cluster being the second most accurate, and the high-class hosing cluster being the least accurate. So, does that mean our model works best for low-class houses? Well, not exactly. \n",
    "\n",
    "If we consider the average rent amount for each of the clusters, then low-class housing cluster no longer seems to be the most accurate. In order to understand how 'truly' accurate each cluster is, we need to consider the average inaccuracy that we just measured in terms of the average rent of each cluster."
   ]
  },
  {
   "cell_type": "code",
   "execution_count": 157,
   "metadata": {
    "papermill": {
     "duration": 0.133555,
     "end_time": "2021-06-27T11:00:52.734762",
     "exception": false,
     "start_time": "2021-06-27T11:00:52.601207",
     "status": "completed"
    },
    "tags": []
   },
   "outputs": [],
   "source": [
    "inaccuracy_adjusted_table = rent_table.to_frame().merge(inaccuracy_table, left_index=True, right_index=True) "
   ]
  },
  {
   "cell_type": "code",
   "execution_count": 158,
   "metadata": {
    "papermill": {
     "duration": 0.134904,
     "end_time": "2021-06-27T11:00:52.990420",
     "exception": false,
     "start_time": "2021-06-27T11:00:52.855516",
     "status": "completed"
    },
    "tags": []
   },
   "outputs": [
    {
     "data": {
      "text/html": [
       "<div>\n",
       "<style scoped>\n",
       "    .dataframe tbody tr th:only-of-type {\n",
       "        vertical-align: middle;\n",
       "    }\n",
       "\n",
       "    .dataframe tbody tr th {\n",
       "        vertical-align: top;\n",
       "    }\n",
       "\n",
       "    .dataframe thead th {\n",
       "        text-align: right;\n",
       "    }\n",
       "</style>\n",
       "<table border=\"1\" class=\"dataframe\">\n",
       "  <thead>\n",
       "    <tr style=\"text-align: right;\">\n",
       "      <th></th>\n",
       "      <th>rent amount (R$)</th>\n",
       "      <th>inaccuracy</th>\n",
       "      <th>proportion</th>\n",
       "    </tr>\n",
       "    <tr>\n",
       "      <th>labels</th>\n",
       "      <th></th>\n",
       "      <th></th>\n",
       "      <th></th>\n",
       "    </tr>\n",
       "  </thead>\n",
       "  <tbody>\n",
       "    <tr>\n",
       "      <th>0</th>\n",
       "      <td>12376.124128</td>\n",
       "      <td>3950.628675</td>\n",
       "      <td>31.921372</td>\n",
       "    </tr>\n",
       "    <tr>\n",
       "      <th>1</th>\n",
       "      <td>2053.741306</td>\n",
       "      <td>843.719308</td>\n",
       "      <td>41.082064</td>\n",
       "    </tr>\n",
       "    <tr>\n",
       "      <th>2</th>\n",
       "      <td>6205.988833</td>\n",
       "      <td>1682.289339</td>\n",
       "      <td>27.107515</td>\n",
       "    </tr>\n",
       "  </tbody>\n",
       "</table>\n",
       "</div>"
      ],
      "text/plain": [
       "        rent amount (R$)   inaccuracy  proportion\n",
       "labels                                           \n",
       "0           12376.124128  3950.628675   31.921372\n",
       "1            2053.741306   843.719308   41.082064\n",
       "2            6205.988833  1682.289339   27.107515"
      ]
     },
     "execution_count": 158,
     "metadata": {},
     "output_type": "execute_result"
    }
   ],
   "source": [
    "inaccuracy_adjusted_table[\"proportion\"] = inaccuracy_adjusted_table[\"inaccuracy\"] / inaccuracy_adjusted_table[\"rent amount (R$)\"] * 100\n",
    "inaccuracy_adjusted_table"
   ]
  },
  {
   "cell_type": "code",
   "execution_count": 159,
   "metadata": {
    "papermill": {
     "duration": 0.131448,
     "end_time": "2021-06-27T11:00:53.245793",
     "exception": false,
     "start_time": "2021-06-27T11:00:53.114345",
     "status": "completed"
    },
    "tags": []
   },
   "outputs": [
    {
     "data": {
      "text/plain": [
       "33.370316899886326"
      ]
     },
     "execution_count": 159,
     "metadata": {},
     "output_type": "execute_result"
    }
   ],
   "source": [
    "inaccuracy_adjusted_table[\"proportion\"].mean()"
   ]
  },
  {
   "cell_type": "markdown",
   "metadata": {
    "papermill": {
     "duration": 0.123288,
     "end_time": "2021-06-27T11:00:53.493269",
     "exception": false,
     "start_time": "2021-06-27T11:00:53.369981",
     "status": "completed"
    },
    "tags": []
   },
   "source": [
    "As you can see, despite our initial belief that the low-class housing cluster was the most accurate, it is actually the least accurate out of the three clusters. On average, our model is off by about 41% for this cluster. Our most accurate cluster is actually the medium-class housing cluster; our model, on average, is off by about 27%, which is a stark improvement compared to the 0th cluster. Finally, for the high-class housing cluster, our model is off by about 32%. Overall, our model is off by about 33%. I am somewhat happy with this result; however, we should always try to improve the model further and I have a couple of ideas and how we can possibly do that.\n",
    "\n",
    "### How can we improve our model? / Why wasn't our model more accurate?\n",
    "\n",
    "Although the two questions in the subheading sound similar, I am going to be answering them very differently. When answering the first question of the subheading, I will be focusing on my own method and my own analysis and how I can improve it. On the other hand, when answering the second question of the subheading, I will be focusing on the dataset itself, and the real estate market in general.\n",
    "\n",
    "Let's begin by answering the first question of our subheading: how can we improve our model? There are a couple of things we could incorporate into our method to improve the performance of our model.\n",
    "\n",
    "Firstly, as we saw previously, this model contains quite a few outliers, which stem from inconsistencies in the data. For instance, certain large houses/apartments had no parking, which is an unrealistic scenario. We tackled this by using a multivariate outlier detection technique, Mahalanobis Distance; however, we used a large cutoff-value, which we obtained from the Chi-Square distribution and a low significance value of 0.01. Perhaps, if we increased this significance value, to 0.05 for instance, we would identify more outliers, and then possibly remove more extremely unlikely observations, which currently decrease the performance of our model. There would be two downsides to this. Firstly, if we continued to use my method, we would have to go through more observations and check them by hand to see which value was 'strange'. This would take considerably more time, and there's no guarantee that this would substantially improve the performance of our model. Secondly, removing more values from the data isn't always the best solution to improving the model. Those observations could possibly be legitimate and pointing towards a particular trend in our data. This is not something we have to worry about too much when we have a really low significance value, because those identified outliers are incredibly far from the general data and are truly outliers. However, as we increase our significance value, this becomes a larger issue, because we begin removing observations which are not as far from the data and are less likely to be \"extreme\" observations. Additionally, in regards to outliers, we could also have used another method to identify outliers, in addition to Mahalanobis Distance, such as the Density-Based Spatial Clustering algorithm (DBSCAN), which is capable of identifying outliers; however, as we saw in [my previous notebook](https://www.kaggle.com/karimzakir02/outlier-detection-techniques), DBSCAN requires a lot of setup to work well.\n",
    "\n",
    "Secondly, when selecting features, we could have checked the effect of our potential features on the target variable by using more advanced statistical methods, such as ANOVA, or we could have used sklearn's inbuilt function for feature selection. The reason why I have not used these methods in this notebook is because I wanted to stick to more simple and traditional methods, like correlation. However, later, I will make sure to use these methods with this dataset or another one, because not only will I see if they improve the model, but also to learn them and understand better how to work with them. \n",
    "\n",
    "I am sure that my method in this notebook could be improved in infinitely more ways. So, if you have any more suggestions, I would really appreciate you commenting them below!\n",
    "\n",
    "Now, let's move on to the second question: why wasn't our model more accurate? As mentioned previously, now I will be talking more about the dataset itself. \n",
    "\n",
    "I think this dataset lacks some features that could have been useful in our analysis. Don't get me wrong, this dataset contains a good amount of features that are quite useful for our model, but there is definitely more data that could be scraped about the real estate in Brazil. For instance, does the building where the apartment is have a gym or a pool or any other extra benefits that could interest the tenants? Or how close is the nearest public transport point to the apartment? All of these potential features, which are hard to obtain, could have greatly improved our model and analysis in general.\n",
    "\n",
    "Additionally, I had the opportunity to talk to a data scientist who closely works with real estate data, but mostly focuses on predicting prices of real estate offered for sale, not rent. He said that in his personal experience, he found that predicting the rent price is much harder than predicting the sale price, because a huge factor that comes into play for tenants is the \"coziness\" factor. This factor is extremely difficult to quantify, perhaps even impossible, and it's also incredibly subjective to each tenant, so this shows that there are certain features that we can't even create or use in our model, because they are so hard to obtain.\n",
    "\n",
    "Again, the dataset could be improved in infinitely many ways, like almost anything in the world, so if you have any ideas/suggestions on what else could be added to the dataset, comment them down below. I would love to hear your insight!\n",
    "\n",
    "### Conclusion\n",
    "\n",
    "In conclusion, the model that we have developed is off by about 33% on average. This isn't too bad, but it's obviously not perfect either. Above, I have spoken about how this model can be improved and it's definitely something I will explore later in the future. If you have any ideas/suggestions, make sure to comment them in the [Kaggle Version](https://www.kaggle.com/karimzakir02/brazilian-houses-model) of this notebook or by even opening an issue on Github!\n",
    "\n",
    "Thank you for taking your time to read this notebook! I hope you enjoyed it or even learnt from it!"
   ]
  }
 ],
 "metadata": {
  "kernelspec": {
   "display_name": "venv",
   "language": "python",
   "name": "venv"
  },
  "language_info": {
   "codemirror_mode": {
    "name": "ipython",
    "version": 3
   },
   "file_extension": ".py",
   "mimetype": "text/x-python",
   "name": "python",
   "nbconvert_exporter": "python",
   "pygments_lexer": "ipython3",
   "version": "3.9.0"
  },
  "papermill": {
   "default_parameters": {},
   "duration": 464.288666,
   "end_time": "2021-06-27T11:00:56.362555",
   "environment_variables": {},
   "exception": null,
   "input_path": "__notebook__.ipynb",
   "output_path": "__notebook__.ipynb",
   "parameters": {},
   "start_time": "2021-06-27T10:53:12.073889",
   "version": "2.3.3"
  }
 },
 "nbformat": 4,
 "nbformat_minor": 5
}
